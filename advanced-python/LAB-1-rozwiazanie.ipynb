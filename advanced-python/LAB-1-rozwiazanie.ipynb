{
 "cells": [
  {
   "cell_type": "markdown",
   "id": "7dee4829",
   "metadata": {},
   "source": [
    "# Laboratorium 1: Szybkie przypomnienie podstaw języka Python"
   ]
  },
  {
   "cell_type": "markdown",
   "id": "6a7d9e43",
   "metadata": {},
   "source": [
    "### 1. Programy w Pythonie zazwyczaj zajmują mniej linii kodu\n",
    "\n",
    "**Przykład programu \"Witaj Świecie\" w języku C++:**\n",
    "\n",
    "<pre>\n",
    "#include <iostream>\n",
    "\n",
    "using namesapce std;\n",
    "\n",
    "int main(){\n",
    "    \n",
    "    cout << \"Witaj Świecie!\" << endl;\n",
    "    \n",
    "    return 0;\n",
    "}\n",
    "\n",
    "</pre>\n",
    "\n",
    "\n",
    "**Przykład programu \"Witaj Świecie\" w języku Python:**\n",
    "\n",
    "<pre>\n",
    "\n",
    "print(\"Witaj Świecie!\")\n",
    "\n",
    "</pre>\n",
    "\n"
   ]
  },
  {
   "cell_type": "markdown",
   "id": "afd4ad84",
   "metadata": {},
   "source": [
    "---\n",
    "### Zadanie 1\n",
    "Korzystając z języka Python utwórz program, który wyswietli w konsoli tekst \"Witaj Świecie!\"."
   ]
  },
  {
   "cell_type": "markdown",
   "id": "8bfa8cf0",
   "metadata": {},
   "source": [
    "### Przykładowe rozwiązanie"
   ]
  },
  {
   "cell_type": "code",
   "execution_count": 1,
   "id": "b37b7e27",
   "metadata": {},
   "outputs": [
    {
     "name": "stdout",
     "output_type": "stream",
     "text": [
      "Witaj Świecie!\n"
     ]
    }
   ],
   "source": [
    "print(\"Witaj Świecie!\")"
   ]
  },
  {
   "cell_type": "markdown",
   "id": "86836d24",
   "metadata": {},
   "source": [
    "### 2. Python jest typowany dynamicznie (typy danych są dobierane automatycznie)\n",
    "\n",
    "**Przykład deklaracji zmiennych w języku C++:**\n",
    "\n",
    "<pre>\n",
    "int a=1;\n",
    "double x;\n",
    "x=10.5\n",
    "</pre>\n",
    "\n",
    "**Przykład deklaracji zmiennych w języku Python:**\n",
    "\n",
    "<pre>\n",
    "a=1\n",
    "x=10.5\n",
    "\n",
    "type(a) # ta linia wyświetla typ zmiennej \"a\" \n",
    "type(x) # ta linia wyświetla typ zmiennej \"x\"\n",
    "</pre>"
   ]
  },
  {
   "cell_type": "markdown",
   "id": "38d2c825",
   "metadata": {},
   "source": [
    "---\n",
    "### Zadanie 2\n",
    "\n",
    "Utwórz trzy zmienne (np. a=1, b=1.2, c=\"1.3\"). Za pomocą instrukcji type() sprawdź ich typ. Dokonaj zmiany typu danych (rzutowanie) korzystając z instrukcji int(), float() oraz str()."
   ]
  },
  {
   "cell_type": "markdown",
   "id": "880f477e",
   "metadata": {},
   "source": [
    "### Przykładowe rozwiązanie"
   ]
  },
  {
   "cell_type": "code",
   "execution_count": 2,
   "id": "4c51e290",
   "metadata": {},
   "outputs": [
    {
     "name": "stdout",
     "output_type": "stream",
     "text": [
      "typy przed rzutowaniem: a: <class 'int'>, b: <class 'float'>, c: <class 'str'>\n",
      "typ po rzutowaniu: <class 'float'>\n"
     ]
    }
   ],
   "source": [
    "a=1\n",
    "b=1.2\n",
    "c=\"1.3\"\n",
    "\n",
    "print(f\"typy przed rzutowaniem: a: {type(a)}, b: {type(b)}, c: {type(c)}\")\n",
    "\n",
    "c=float(c)\n",
    "print(f\"typ po rzutowaniu: {type(c)}\")"
   ]
  },
  {
   "cell_type": "markdown",
   "id": "02e51896",
   "metadata": {},
   "source": [
    "### 3. W Pythonie na końcach linii nie ma średników. \n",
    "\n",
    "**Przykład linii kodu w C++**\n",
    "\n",
    "<pre>\n",
    "x=10;\n",
    "</pre>\n",
    "\n",
    "**Przykład linii kodu w Python:**\n",
    "\n",
    "<pre>\n",
    "x=10\n",
    "</pre>"
   ]
  },
  {
   "cell_type": "markdown",
   "id": "2e5cf856",
   "metadata": {},
   "source": [
    "### 4. Komentarze w języku C++ tworzymy za pomocą symbolu // lub bloków /* */, a w języku Python za pomocą symbolu # lub za pomocą bloków \"\"\" \"\"\".\n",
    "\n",
    "**Przykład komentarza w języku C++:**\n",
    "\n",
    "<pre>\n",
    "// to jest komentarz jednoliniowy\n",
    "\n",
    "/*\n",
    "to \n",
    "jest \n",
    "komentarz\n",
    "wieloliniowy\n",
    "*/\n",
    "</pre>\n",
    "\n",
    "**Przykład komentarza w języku Python:**\n",
    "\n",
    "<pre>\n",
    "# to jest komentarz jednolinowy\n",
    "\n",
    "\"\"\"\n",
    "to\n",
    "jest\n",
    "komentarz\n",
    "wieloliniowy\n",
    "\"\"\"\n",
    "</pre>"
   ]
  },
  {
   "cell_type": "markdown",
   "id": "aab615f0",
   "metadata": {},
   "source": [
    "### 5. W języku C++ przynależność do bloków funkcyjnych jest warunkowana klamrami, a w języku Python wcięciem (1 tabulator lub 4 spacje).\n",
    "\n",
    "**Przykład bloku kodu w języku C++:**\n",
    "\n",
    "<pre>\n",
    "if (x>0){\n",
    "\n",
    "count << \"Liczba jest dodatnia\" << endl;\n",
    "\n",
    "}\n",
    "</pre>\n",
    "\n",
    "**Przykład bloku kodu w języku Python:**\n",
    "\n",
    "<pre>\n",
    "if (x>0):\n",
    "    print(\"Liczba jest dodatnia\")\n",
    "\n",
    "</pre>"
   ]
  },
  {
   "cell_type": "markdown",
   "id": "bbda5b3e",
   "metadata": {},
   "source": [
    "### 6. Instrukcje warunkowe wykonujemy korzystając z klauzul if, elif, else:\n",
    "\n",
    "<pre>\n",
    "a=1\n",
    "if(a>0):\n",
    "    print(\"a jest dodatnie\")\n",
    "elif (a=0):\n",
    "    print(\"a wynosi zero\")\n",
    "else:\n",
    "    print(\"a jest ujemne\")\n",
    "</pre>"
   ]
  },
  {
   "cell_type": "markdown",
   "id": "aef62fd1",
   "metadata": {},
   "source": [
    "---\n",
    "### Zadanie 3\n",
    "Korzystając z instrukcji warunkowych utwórz program, który będzie sprawdzać, czy zadana liczba jest większa, mniejsza lub równa zeru."
   ]
  },
  {
   "cell_type": "markdown",
   "id": "7ddc5945",
   "metadata": {},
   "source": [
    "### Przykładowe rozwiązanie"
   ]
  },
  {
   "cell_type": "code",
   "execution_count": 3,
   "id": "3d188420",
   "metadata": {},
   "outputs": [
    {
     "name": "stdout",
     "output_type": "stream",
     "text": [
      "liczba 1 jest dodatnia\n"
     ]
    }
   ],
   "source": [
    "a = 1\n",
    "if(a > 0):\n",
    "    print(f\"liczba {a} jest dodatnia\")\n",
    "elif (a == 0):\n",
    "    print(f\"liczba {a} wynosi zero\")\n",
    "else:\n",
    "    print(f\"liczba {a} jest ujemna\")"
   ]
  },
  {
   "cell_type": "markdown",
   "id": "2a3d80be",
   "metadata": {},
   "source": [
    "### 7. W Pythonie zamiast tablic często korzystamy z list. Lista może przechowywać dane różnego typu (w odróżnieniu od tablic w C++).\n",
    "\n",
    "<pre>\n",
    "lista = []\n",
    "lista.append(2)\n",
    "lista.append(4)\n",
    "lista.append(\"a\")\n",
    "lista.append([3, 5, 7])\n",
    "print(lista)\n",
    "</pre>"
   ]
  },
  {
   "cell_type": "markdown",
   "id": "769fcc9c",
   "metadata": {},
   "source": [
    "---\n",
    "### Zadanie 4\n",
    "Utwórz listę zawierającą 7 elementów. Na koniec dodaj jeszcze jeden element równy 100 za pomocą metody append(). Następnie wywołaj pierwszy element, ostatni element oraz przekrój od drugiego do piątego elementu."
   ]
  },
  {
   "cell_type": "markdown",
   "id": "e537995c",
   "metadata": {},
   "source": [
    "### Przykładowe rozwiązanie"
   ]
  },
  {
   "cell_type": "code",
   "execution_count": 4,
   "id": "004a433b",
   "metadata": {},
   "outputs": [
    {
     "name": "stdout",
     "output_type": "stream",
     "text": [
      "pierwszy element: 1\n",
      "ostatni element: 100\n",
      "przekrój od 2 do 5: ['5', [1, 2, 3], 3.0]\n"
     ]
    }
   ],
   "source": [
    "lista = [1, 2.0, \"5\", [1, 2, 3], 3.0, \"txt\", 5]\n",
    "lista.append(100)\n",
    "print(f\"pierwszy element: {lista[0]}\")\n",
    "print(f\"ostatni element: {lista[-1]}\")\n",
    "print(f\"przekrój od 2 do 5: {lista[2:5]}\")"
   ]
  },
  {
   "cell_type": "markdown",
   "id": "5ef3a98b",
   "metadata": {},
   "source": [
    "### 8. W Pythonie oprócz list często korzysta się z:\n",
    "- krotek (listy o niezmiennych elementach)\n",
    "<pre>\n",
    "krotka = (1, 2, 3)\n",
    "</pre>\n",
    "- słowników (nieuporządkowane zbiory par klucz-wartość)\n",
    "<pre>\n",
    "slownik = {\"styczeń\":1, \"luty\":2, \"marzec\":3}\n",
    "</pre>\n",
    "- łańcuchów znaków\n",
    "<pre>\n",
    "slowo = \"Politechnika Poznańska\"\n",
    "</pre>\n",
    "- zbiorów (kolekcje nieuporządkowanych, unikatowych elementów)\n",
    "<pre>\n",
    "zbior_1 = {1, 2, 3, 4, 4, 4}\n",
    "zbior_2 = {3, 4, 5, 6}\n",
    "zbior_1.union(zbior_2)\n",
    "</pre>"
   ]
  },
  {
   "cell_type": "markdown",
   "id": "fc7d6bf7",
   "metadata": {},
   "source": [
    "---\n",
    "### Zadanie 5\n",
    "Utwórz krotkę złożoną z elementóe 1, 2, 3, a następnie spróbuj zmienić pierwszy element w krotce na 10."
   ]
  },
  {
   "cell_type": "markdown",
   "id": "05d098d9",
   "metadata": {},
   "source": [
    "### Przykładowe rozwiązanie"
   ]
  },
  {
   "cell_type": "markdown",
   "id": "af21f84d",
   "metadata": {},
   "source": [
    "krotka = (1, 2, 3)\n",
    "krotka[0] = 10"
   ]
  },
  {
   "cell_type": "markdown",
   "id": "ec01cca1",
   "metadata": {},
   "source": [
    "---\n",
    "### Zadanie 6\n",
    "Utwórz słownik tłumaczący nazwy tekstowe miesięcy na ich numery porządkowe, a następnie wywołaj wartość dla klucza \"luty\", \"sierpień\" i \"listopad\"."
   ]
  },
  {
   "cell_type": "markdown",
   "id": "0a5a88c1",
   "metadata": {},
   "source": [
    "### Przykładowe rozwiązanie"
   ]
  },
  {
   "cell_type": "code",
   "execution_count": 5,
   "id": "c2046f08",
   "metadata": {},
   "outputs": [
    {
     "name": "stdout",
     "output_type": "stream",
     "text": [
      "wartość dla klucza luty wynosi 2\n",
      "wartość dla klucza sierpień wynosi 8\n",
      "wartość dla klucza listopad wynosi 11\n"
     ]
    }
   ],
   "source": [
    "slownik = {\"styczeń\":1, \"luty\":2, \"marzec\":3, \"kwiecień\":4, \"maj\":5, \"czerwiec\": 6, \"lipiec\":7, \\\n",
    "          \"sierpień\":8, \"wrzesień\":9, \"październik\":10, \"listopad\":11, \"grudzień\":12}\n",
    "\n",
    "miesiac = \"luty\"\n",
    "print(f\"wartość dla klucza {miesiac} wynosi {slownik[miesiac]}\")\n",
    "miesiac = \"sierpień\"\n",
    "print(f\"wartość dla klucza {miesiac} wynosi {slownik[miesiac]}\")\n",
    "miesiac = \"listopad\"\n",
    "print(f\"wartość dla klucza {miesiac} wynosi {slownik[miesiac]}\")"
   ]
  },
  {
   "cell_type": "markdown",
   "id": "305124bf",
   "metadata": {},
   "source": [
    "---\n",
    "### Zadanie 7\n",
    "\n",
    "Utwórz łańcuch znaków (np. \"Collegium da Vinci\"), a następnie wywołaj pierwszy element, ostatni element oraz przekrój od drugiego do piątego elementu. "
   ]
  },
  {
   "cell_type": "markdown",
   "id": "d42b9f82",
   "metadata": {},
   "source": [
    "### Przykładowe rozwiązanie"
   ]
  },
  {
   "cell_type": "code",
   "execution_count": 7,
   "id": "9195d71e",
   "metadata": {},
   "outputs": [
    {
     "name": "stdout",
     "output_type": "stream",
     "text": [
      "Pierwszy element: C\n",
      "Ostatni element: i\n",
      "Przekrój od 2 do 5: lle\n"
     ]
    }
   ],
   "source": [
    "lancuch = \"Collegium da Vinci\"\n",
    "\n",
    "print(f\"Pierwszy element: {lancuch[0]}\")\n",
    "print(f\"Ostatni element: {lancuch[-1]}\")\n",
    "print(f\"Przekrój od 2 do 5: {lancuch[2:5]}\")"
   ]
  },
  {
   "cell_type": "markdown",
   "id": "ff58bc5b",
   "metadata": {},
   "source": [
    "---\n",
    "### Zadanie 8\n",
    "Utwórz dwa zbiory dowolnych elementów, a następnie wyświetl ich sumę."
   ]
  },
  {
   "cell_type": "markdown",
   "id": "4047d782",
   "metadata": {},
   "source": [
    "### Przykładowe rozwiązanie"
   ]
  },
  {
   "cell_type": "code",
   "execution_count": 8,
   "id": "a51de061",
   "metadata": {},
   "outputs": [
    {
     "name": "stdout",
     "output_type": "stream",
     "text": [
      "Suma zniorów {1, 2, 3, 4} i {3, 4, 5, 6} wynosi: {1, 2, 3, 4, 5, 6}\n"
     ]
    }
   ],
   "source": [
    "zbior_A = {1, 2, 3, 4, 4, 4}\n",
    "zbior_B = {3, 4, 5, 6}\n",
    "print(f\"Suma zniorów {zbior_A} i {zbior_B} wynosi: {zbior_A.union(zbior_B)}\")"
   ]
  },
  {
   "cell_type": "markdown",
   "id": "2d3e77f4",
   "metadata": {},
   "source": [
    "### 9. W Pythonie pętla \"for\" z ustalonym licznikiem ma następującą składnię:\n",
    "<pre>\n",
    "for i in range(3, 10, 2):\n",
    "    print(i)\n",
    "</pre>\n",
    "W funkcji range(a, b, c): a-start, b-koniec, c-krok."
   ]
  },
  {
   "cell_type": "markdown",
   "id": "cb18b6c6",
   "metadata": {},
   "source": [
    "---\n",
    "### Zadanie 9\n",
    "Korzystając z pętli for z ustalonym licznikiem wyświetl wartości licznika od 2 do 17 ze zmianą wartości licznika co 3."
   ]
  },
  {
   "cell_type": "markdown",
   "id": "06c5f2e5",
   "metadata": {},
   "source": [
    "### Przykładowe rozwiązanie"
   ]
  },
  {
   "cell_type": "code",
   "execution_count": 9,
   "id": "912f53f1",
   "metadata": {},
   "outputs": [
    {
     "name": "stdout",
     "output_type": "stream",
     "text": [
      "2\n",
      "5\n",
      "8\n",
      "11\n",
      "14\n"
     ]
    }
   ],
   "source": [
    "for i in range(2, 17, 3):\n",
    "    print(i)"
   ]
  },
  {
   "cell_type": "markdown",
   "id": "b8f36c6a",
   "metadata": {},
   "source": [
    "### 10. W Pythonie pętla \"for\" dla typów wyliczeniowych ma postać:\n",
    "<pre>\n",
    "lista = [2, 4, 'a', [3, 5, 7]]\n",
    "\n",
    "for item in lista:\n",
    "    print(item)\n",
    "</pre>\n",
    "\n",
    "lub \n",
    "\n",
    "<pre>\n",
    "for index, item in enumerate(lista):\n",
    "    print(index, item)\n",
    "</pre>\n",
    "\n",
    "Powyższy schemat zapewnia indeksowanie wybieranych elementów."
   ]
  },
  {
   "cell_type": "markdown",
   "id": "b6990096",
   "metadata": {},
   "source": [
    "### Zadanie 10\n",
    "Wyświetl elementy następującej listy: lista = [2, 4, 'a', [3, 5, 7]]. W pierwszej wersji wyświetl tylko wszystkie elementy przechowywane przez listę, a w drugiej (korzystając z polecenia enumerate()) wyświetl elementy listy wraz z przypisanymi im indeksami."
   ]
  },
  {
   "cell_type": "markdown",
   "id": "98017922",
   "metadata": {},
   "source": [
    "### Przykładowe rozwiązanie"
   ]
  },
  {
   "cell_type": "code",
   "execution_count": 10,
   "id": "f47b767e",
   "metadata": {},
   "outputs": [
    {
     "name": "stdout",
     "output_type": "stream",
     "text": [
      "Warianr nr 1 (tylko elementy):\n",
      "2\n",
      "4\n",
      "a\n",
      "[3, 5, 7]\n",
      "\n",
      "Warianr nr 2 (indeksy i elementy listy):\n",
      "0 2\n",
      "1 4\n",
      "2 a\n",
      "3 [3, 5, 7]\n"
     ]
    }
   ],
   "source": [
    "lista = [2, 4, 'a', [3, 5, 7]]\n",
    "\n",
    "print(\"Warianr nr 1 (tylko elementy):\")\n",
    "for item in lista:\n",
    "    print(item)\n",
    "\n",
    "print(\"\\nWarianr nr 2 (indeksy i elementy listy):\")\n",
    "for index, item in enumerate(lista):\n",
    "    print(index, item)"
   ]
  },
  {
   "cell_type": "markdown",
   "id": "33f61ddc",
   "metadata": {},
   "source": [
    "### 11. W Pythonie pętla \"while\" ma składnię:\n",
    "\n",
    "<pre>\n",
    "a=0\n",
    "while(a < 10):\n",
    "    print(a)\n",
    "    a=a+1\n",
    "</pre>\n",
    "\n",
    "Każdą pętlę można wzbogacić o instrukcje \"break\" i \"continue\". Instrukcja \"break\" przerywa działanie pętli, instrukcja \"continue\" wywołuje pominięcie aktualnego kroku i przejście do kolejnego kroku pętli.\n",
    "\n",
    "<pre>\n",
    "a=0\n",
    "while(a < 10):\n",
    "    if a==3:\n",
    "        break\n",
    "    print(a)\n",
    "    a=a+1\n",
    "</pre>\n",
    "\n",
    "Powyższa pętla zostaje przerwana.\n",
    "\n",
    "<pre>\n",
    "\n",
    "a=0\n",
    "while(a < 10):\n",
    "    if a==3:\n",
    "        a=a+1\n",
    "        continue\n",
    "    print(a)\n",
    "    a=a+1\n",
    "\n",
    "</pre>\n",
    "\n",
    "Wskazany krok w pętli zostaje pominięty i pętla przechodzi do kolejnego kroku."
   ]
  },
  {
   "cell_type": "markdown",
   "id": "74d158ef",
   "metadata": {},
   "source": [
    "---\n",
    "### Zadanie 11\n",
    "Utwórz pętlę while, która wyświetli liczby od 0 do 10. Następnie wprowadź do utworzonej pętli instrukcje continue (pominięcie danego kroku) oraz instrukcę break (przerwanie działania pętli)."
   ]
  },
  {
   "cell_type": "markdown",
   "id": "ba5e9702",
   "metadata": {},
   "source": [
    "### Przykładowe rozwiązanie"
   ]
  },
  {
   "cell_type": "code",
   "execution_count": 11,
   "id": "c4e2867e",
   "metadata": {},
   "outputs": [
    {
     "name": "stdout",
     "output_type": "stream",
     "text": [
      "Pętla while: \n",
      "0\n",
      "1\n",
      "2\n",
      "3\n",
      "4\n",
      "5\n",
      "6\n",
      "7\n",
      "8\n",
      "9\n",
      "10\n",
      "\n",
      "Pętla while z zastosowaniem continue i break: \n",
      "0\n",
      "1\n",
      "2\n",
      "4\n",
      "5\n",
      "6\n"
     ]
    }
   ],
   "source": [
    "print(\"Pętla while: \")\n",
    "\n",
    "a=0\n",
    "while(a<11):\n",
    "    print(a)\n",
    "    a=a+1\n",
    "    \n",
    "print(\"\\nPętla while z zastosowaniem continue i break: \")\n",
    "\n",
    "a=0\n",
    "while(a<11):\n",
    "    if a==3:\n",
    "        a=a+1\n",
    "        continue\n",
    "        \n",
    "    if a==7:\n",
    "        break\n",
    "    print(a)\n",
    "    a=a+1"
   ]
  },
  {
   "cell_type": "markdown",
   "id": "b2c43c07",
   "metadata": {},
   "source": [
    "### 12. Funkcje w Pythonie mają następującą składnię:\n",
    "\n",
    "<pre>\n",
    "def powitanie(a, b):\n",
    "    print(\"Witaj Świecie\")\n",
    "    return a+b, a, b #opcjonalnie\n",
    "</pre>\n",
    "\n",
    "Funkcja może posiadać argumenty o wartościach domyślnych oraz może zawierać w sobie komentarze:\n",
    "\n",
    "<pre>\n",
    "def jakas_funkcja(a, b, c=1):\n",
    "    \n",
    "    \"\"\"To jest komentarz do działania tej funkcji\"\"\"\n",
    "    \n",
    "    d=a+b\n",
    "    e=b*c\n",
    "    return d, e\n",
    "</pre>"
   ]
  },
  {
   "cell_type": "markdown",
   "id": "8f74bc16",
   "metadata": {},
   "source": [
    "---\n",
    "### Zadanie 12\n",
    "Utwórz funkcję, która wyświetli w konsoli komunikat \"Witaj Świecie!\"."
   ]
  },
  {
   "cell_type": "markdown",
   "id": "45484b00",
   "metadata": {},
   "source": [
    "### Przykładowe rozwiązanie"
   ]
  },
  {
   "cell_type": "code",
   "execution_count": 12,
   "id": "7b26f98f",
   "metadata": {},
   "outputs": [
    {
     "name": "stdout",
     "output_type": "stream",
     "text": [
      "Witaj Świecie\n"
     ]
    }
   ],
   "source": [
    "def powitanie():\n",
    "    print(\"Witaj Świecie\")\n",
    "\n",
    "powitanie()"
   ]
  },
  {
   "cell_type": "markdown",
   "id": "92e7504c",
   "metadata": {},
   "source": [
    "---\n",
    "### Zadanie 13\n",
    "Utwórz funkcję, która przyjmie trzy argumenty: a, b i c, a następnie zwróci a+b oraz b*c. Niech argument c ma wartość domyślną 1. Dodatkowo utwórz w obrębie funkcji tekst pomocy."
   ]
  },
  {
   "cell_type": "code",
   "execution_count": 13,
   "id": "2bc1de42",
   "metadata": {},
   "outputs": [],
   "source": [
    "### Przykładowe rozwiązanie:\n",
    "def funkcja(a, b, c=1):\n",
    "    \n",
    "    \"\"\"To jest tekst pomocy.\"\"\"\n",
    "    \n",
    "    d=a+b\n",
    "    e=b*c\n",
    "    return d, e"
   ]
  },
  {
   "cell_type": "markdown",
   "id": "981c2b16",
   "metadata": {},
   "source": [
    "### 13. Składnia tworzenia klas jest następująca:\n",
    "\n",
    "<pre>\n",
    "class Student:\n",
    "    def __init__(self, imie, nazwisko):\n",
    "        self.imie = imie\n",
    "        self.nazwisko = nazwisko\n",
    "        self.__pin = 1234 \n",
    "    \n",
    "    def przedstaw_sie(self):\n",
    "        print(\"Dzień dobry\")\n",
    "        \n",
    "    def __zdradz_haslo(self):\n",
    "        print(\"admin1\")\n",
    "        \n",
    "\n",
    "s1 = Student(\"Jan\", \"Nowak\")\n",
    "s1.imie\n",
    "\n",
    "</pre>\n",
    "\n",
    "Prywatność atrybutów lub metod wskazujemy za pomocą podwójnego podkreślenia."
   ]
  },
  {
   "cell_type": "markdown",
   "id": "adc97622",
   "metadata": {},
   "source": [
    "---\n",
    "### Zadanie 14\n",
    "Utwórz klasę Student. Klasa niech posiada pola publiczne \"imie\" i \"nazwisko\" oraz pole prywatne \"pin\". Klasa niech posiada konstruktor, publiczną metodę \"przedstaw_sie\" która wyświetli komunikat \"Dzień dobry!\" oraz prywatną metodę \"zdradz_haslo\".  "
   ]
  },
  {
   "cell_type": "markdown",
   "id": "307f5682",
   "metadata": {},
   "source": [
    "### Przykładowe rozwiązanie"
   ]
  },
  {
   "cell_type": "code",
   "execution_count": 14,
   "id": "2d4c36c2",
   "metadata": {},
   "outputs": [
    {
     "name": "stdout",
     "output_type": "stream",
     "text": [
      "imię: Adam\n",
      "nazwisko: Kowalski\n",
      "Dzień dobry\n"
     ]
    }
   ],
   "source": [
    "class Student:\n",
    "    def __init__(self, imie, nazwisko):\n",
    "        self.imie = imie\n",
    "        self.nazwisko = nazwisko\n",
    "        self.__pin = 1234 \n",
    "    \n",
    "    def przedstaw_sie(self):\n",
    "        print(\"Dzień dobry\")\n",
    "        \n",
    "    def __zdradz_haslo(self):\n",
    "        print(\"admin1\")\n",
    "        \n",
    "student_1 = Student(\"Adam\", \"Kowalski\")\n",
    "print(f\"imię: {student_1.imie}\")\n",
    "print(f\"nazwisko: {student_1.nazwisko}\")\n",
    "student_1.przedstaw_sie()"
   ]
  },
  {
   "cell_type": "markdown",
   "id": "49093507",
   "metadata": {},
   "source": [
    "### 14. Dziedziczenie jest realizowane poprzez wskazanie klasy bazowej w nawiasie podczas tworzenia nowej klasy:\n",
    "\n",
    "<pre>\n",
    "class Samorzadowiec(Student):\n",
    "    pass\n",
    "    \n",
    "s1 = Samorzadowiec(\"Jan\", \"Nowak\")\n",
    "s1.imie\n",
    "</pre>"
   ]
  },
  {
   "cell_type": "markdown",
   "id": "f46d9c39",
   "metadata": {},
   "source": [
    "---\n",
    "### Zadanie 15\n",
    "Utwórz klasę Samorzadowiec dziedziczącą całą implementację po klasie Student."
   ]
  },
  {
   "cell_type": "markdown",
   "id": "92781841",
   "metadata": {},
   "source": [
    "### Przykładowe rozwiązanie"
   ]
  },
  {
   "cell_type": "code",
   "execution_count": 15,
   "id": "e9de9a2d",
   "metadata": {},
   "outputs": [
    {
     "name": "stdout",
     "output_type": "stream",
     "text": [
      "imię: Jan\n",
      "nazwisko: Nowak\n",
      "Dzień dobry\n"
     ]
    }
   ],
   "source": [
    "class Student:\n",
    "    def __init__(self, imie, nazwisko):\n",
    "        self.imie = imie\n",
    "        self.nazwisko = nazwisko\n",
    "        self.__pin = 1234 \n",
    "    \n",
    "    def przedstaw_sie(self):\n",
    "        print(\"Dzień dobry\")\n",
    "        \n",
    "    def __zdradz_haslo(self):\n",
    "        print(\"admin1\")\n",
    "\n",
    "class Samorzadowiec(Student):\n",
    "    pass\n",
    "\n",
    "student_2 = Samorzadowiec(\"Jan\", \"Nowak\")\n",
    "print(f\"imię: {student_2.imie}\")\n",
    "print(f\"nazwisko: {student_2.nazwisko}\")\n",
    "student_2.przedstaw_sie()"
   ]
  },
  {
   "cell_type": "markdown",
   "id": "9aa69942",
   "metadata": {},
   "source": [
    "### 15. Do analizy danych warto zwrócić uwagę na następujące biblioteki:\n",
    "\n",
    "- numpy (obliczenia numeryczne)\n",
    "- pandas (działania na tabelach)\n",
    "- matplotlib (wykresy)\n",
    "- seaborn (wykresy)\n",
    "\n",
    "Przykład wykresu:\n",
    "<pre>\n",
    "import matplotlib.pyplot as plt\n",
    "\n",
    "t = [0, 1, 2, 3, 4, 5, 6, 7, 8]\n",
    "x = [1, 2, 3, 4, 5, 4, 3, 2, 1]\n",
    "y = [3, 3, 3, 3, 3, 3, 3, 3, 3]\n",
    "\n",
    "plt.plot(t, x, '.-r', t, y, 'd-b')\n",
    "plt.xlabel(\"argument [jednostka]\", fontsize = 15, font = \"Times New Roman\")\n",
    "plt.ylabel(\"wartość [jednostka]\", fontsize = 15, font = \"Times New Roman\")\n",
    "plt.xlim(0, 8)\n",
    "plt.ylim(1, 5)\n",
    "plt.title(\"Jakiś Wykres\", fontsize = 20, font = \"Times New Roman\")\n",
    "plt.legend([\"linia-A\", \"linia-B\"])\n",
    "plt.grid(True, color=\"0.9\")\n",
    "plt.show()\n",
    "</pre>"
   ]
  },
  {
   "cell_type": "markdown",
   "id": "6703d02b",
   "metadata": {},
   "source": [
    "---\n",
    "### Zadanie 16\n",
    "Korzystając z biblioteki matplotlib sporządź na jednym wykresie obrazy funkcji x(t) oraz y(t). Niech obie zależności będą przedstawione liniami o różnych kolorach i stylach. Opisz osie, dodaj tytuł, legendę oraz siatkę pomocniczą wykresu."
   ]
  },
  {
   "cell_type": "markdown",
   "id": "41efc6af",
   "metadata": {},
   "source": [
    "### Przykładowe rozwiązanie"
   ]
  },
  {
   "cell_type": "code",
   "execution_count": 148,
   "id": "63fa4937",
   "metadata": {
    "scrolled": true
   },
   "outputs": [
    {
     "data": {
      "image/png": "[encoded data removed]",
      "text/plain": [
       "<Figure size 432x288 with 1 Axes>"
      ]
     },
     "metadata": {
      "needs_background": "light"
     },
     "output_type": "display_data"
    }
   ],
   "source": [
    "import matplotlib.pyplot as plt\n",
    "\n",
    "t = [0, 1, 2, 3, 4, 5, 6, 7, 8]\n",
    "x = [1, 2, 3, 4, 5, 4, 3, 2, 1]\n",
    "y = [3, 3, 3, 3, 3, 3, 3, 3, 3]\n",
    "\n",
    "plt.plot(t, x, '.-r', t, y, 'd-b')\n",
    "plt.xlabel(\"argument [jednostka]\", fontsize = 15, font = \"Times New Roman\")\n",
    "plt.ylabel(\"wartość [jednostka]\", fontsize = 15, font = \"Times New Roman\")\n",
    "plt.xlim(0, 8)\n",
    "plt.ylim(1, 5)\n",
    "plt.title(\"Tytuł wykresu\", fontsize = 20, font = \"Times New Roman\")\n",
    "plt.legend([\"linia-A\", \"linia-B\"])\n",
    "plt.grid(True, color=\"0.9\")\n",
    "plt.show()"
   ]
  },
  {
   "cell_type": "markdown",
   "id": "50465d7b",
   "metadata": {},
   "source": [
    "### Zadanie 17\n",
    "Utwórz funkcje generujące dane i wyświetlające wykresy następujących funkcji:\n",
    "- $a \\cdot sin(b \\cdot x)$\n",
    "- $a \\cdot cos(b \\cdot x)$\n",
    "- $a \\cdot tan(b \\cdot x)$\n",
    "- $a \\cdot ctan(b \\cdot x)$\n",
    "- $ax^2 + bx + c$\n",
    "Jako argument funkcja przyjmuje zakres osi X i Y w których ma wyświetlić wykres. Zadbaj o atrakcyjny format generowanych wykresów."
   ]
  },
  {
   "cell_type": "code",
   "execution_count": null,
   "id": "b08dee17",
   "metadata": {},
   "outputs": [],
   "source": []
  }
 ],
 "metadata": {
  "kernelspec": {
   "display_name": "Python 3",
   "language": "python",
   "name": "python3"
  },
  "language_info": {
   "codemirror_mode": {
    "name": "ipython",
    "version": 3
   },
   "file_extension": ".py",
   "mimetype": "text/x-python",
   "name": "python",
   "nbconvert_exporter": "python",
   "pygments_lexer": "ipython3",
   "version": "3.8.5"
  }
 },
 "nbformat": 4,
 "nbformat_minor": 5
}
