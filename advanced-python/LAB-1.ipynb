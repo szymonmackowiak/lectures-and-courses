{
 "cells": [
  {
   "cell_type": "markdown",
   "id": "ba42f056",
   "metadata": {},
   "source": [
    "# Laboratorium 1: Szybkie przypomnienie podstaw języka Python"
   ]
  },
  {
   "cell_type": "markdown",
   "id": "c88adef7",
   "metadata": {},
   "source": [
    "### 1. Programy w Pythonie zazwyczaj zajmują mniej linii kodu\n",
    "\n",
    "**Przykład programu \"Witaj Świecie\" w języku C++:**\n",
    "\n",
    "<pre>\n",
    "#include <iostream>\n",
    "\n",
    "using namesapce std;\n",
    "\n",
    "int main(){\n",
    "    \n",
    "    cout << \"Witaj Świecie!\" << endl;\n",
    "    \n",
    "    return 0;\n",
    "}\n",
    "\n",
    "</pre>\n",
    "\n",
    "\n",
    "**Przykład programu \"Witaj Świecie\" w języku Python:**\n",
    "\n",
    "<pre>\n",
    "\n",
    "print(\"Witaj Świecie!\")\n",
    "\n",
    "</pre>\n",
    "\n"
   ]
  },
  {
   "cell_type": "markdown",
   "id": "d341a3c1",
   "metadata": {},
   "source": [
    "---\n",
    "### Zadanie 1\n",
    "Korzystając z języka Python utwórz program, który wyswietli w konsoli tekst \"Witaj Świecie!\"."
   ]
  },
  {
   "cell_type": "markdown",
   "id": "fe8fa3d5",
   "metadata": {},
   "source": [
    "### 2. Python jest typowany dynamicznie (typy danych są dobierane automatycznie)\n",
    "\n",
    "**Przykład deklaracji zmiennych w języku C++:**\n",
    "\n",
    "<pre>\n",
    "int a=1;\n",
    "double x;\n",
    "x=10.5\n",
    "</pre>\n",
    "\n",
    "**Przykład deklaracji zmiennych w języku Python:**\n",
    "\n",
    "<pre>\n",
    "a=1\n",
    "x=10.5\n",
    "\n",
    "type(a) # ta linia wyświetla typ zmiennej \"a\" \n",
    "type(x) # ta linia wyświetla typ zmiennej \"x\"\n",
    "</pre>"
   ]
  },
  {
   "cell_type": "markdown",
   "id": "65f56364",
   "metadata": {},
   "source": [
    "---\n",
    "### Zadanie 2\n",
    "\n",
    "Utwórz trzy zmienne (np. a=1, b=1.2, c=\"1.3\"). Za pomocą instrukcji type() sprawdź ich typ. Dokonaj zmiany typu danych (rzutowanie) korzystając z instrukcji int(), float() oraz str()."
   ]
  },
  {
   "cell_type": "markdown",
   "id": "5128c4cd",
   "metadata": {},
   "source": [
    "### 3. W Pythonie na końcach linii nie ma średników. \n",
    "\n",
    "**Przykład linii kodu w C++**\n",
    "\n",
    "<pre>\n",
    "x=10;\n",
    "</pre>\n",
    "\n",
    "**Przykład linii kodu w Python:**\n",
    "\n",
    "<pre>\n",
    "x=10\n",
    "</pre>"
   ]
  },
  {
   "cell_type": "markdown",
   "id": "c8a30211",
   "metadata": {},
   "source": [
    "### 4. Komentarze w języku C++ tworzymy za pomocą symbolu // lub bloków /* */, a w języku Python za pomocą symbolu # lub za pomocą bloków \"\"\" \"\"\".\n",
    "\n",
    "**Przykład komentarza w języku C++:**\n",
    "\n",
    "<pre>\n",
    "// to jest komentarz jednoliniowy\n",
    "\n",
    "/*\n",
    "to \n",
    "jest \n",
    "komentarz\n",
    "wieloliniowy\n",
    "*/\n",
    "</pre>\n",
    "\n",
    "**Przykład komentarza w języku Python:**\n",
    "\n",
    "<pre>\n",
    "# to jest komentarz jednolinowy\n",
    "\n",
    "\"\"\"\n",
    "to\n",
    "jest\n",
    "komentarz\n",
    "wieloliniowy\n",
    "\"\"\"\n",
    "</pre>"
   ]
  },
  {
   "cell_type": "markdown",
   "id": "4a8aa0e5",
   "metadata": {},
   "source": [
    "### 5. W języku C++ przynależność do bloków funkcyjnych jest warunkowana klamrami, a w języku Python wcięciem (1 tabulator lub 4 spacje).\n",
    "\n",
    "**Przykład bloku kodu w języku C++:**\n",
    "\n",
    "<pre>\n",
    "if (x>0){\n",
    "\n",
    "count << \"Liczba jest dodatnia\" << endl;\n",
    "\n",
    "}\n",
    "</pre>\n",
    "\n",
    "**Przykład bloku kodu w języku Python:**\n",
    "\n",
    "<pre>\n",
    "if (x>0):\n",
    "    print(\"Liczba jest dodatnia\")\n",
    "\n",
    "</pre>"
   ]
  },
  {
   "cell_type": "markdown",
   "id": "62c6dcaf",
   "metadata": {},
   "source": [
    "### 6. Instrukcje warunkowe wykonujemy korzystając z klauzul if, elif, else:\n",
    "\n",
    "<pre>\n",
    "a=1\n",
    "if(a>0):\n",
    "    print(\"a jest dodatnie\")\n",
    "elif (a=0):\n",
    "    print(\"a wynosi zero\")\n",
    "else:\n",
    "    print(\"a jest ujemne\")\n",
    "</pre>"
   ]
  },
  {
   "cell_type": "markdown",
   "id": "1f97ffb7",
   "metadata": {},
   "source": [
    "---\n",
    "### Zadanie 3\n",
    "Korzystając z instrukcji warunkowych utwórz program, który będzie sprawdzać, czy zadana liczba jest większa, mniejsza lub równa zeru."
   ]
  },
  {
   "cell_type": "code",
   "execution_count": 3,
   "id": "d0386cbf",
   "metadata": {},
   "outputs": [
    {
     "name": "stdout",
     "output_type": "stream",
     "text": [
      "Podaj wartość: -3\n",
      "Liczba jest ujemna\n"
     ]
    }
   ],
   "source": [
    "value = int(input(\"Podaj wartość: \"))\n",
    "if value > 0:\n",
    "    print(\"Liczba jest dodatnia\")\n",
    "elif value < 0: \n",
    "    print(\"Liczba jest ujemna\")\n",
    "else:\n",
    "    print(\"Liczba jest rówana zeru!\")"
   ]
  },
  {
   "cell_type": "markdown",
   "id": "868b49fb",
   "metadata": {},
   "source": [
    "### 7. W Pythonie zamiast tablic często korzystamy z list. Lista może przechowywać dane różnego typu (w odróżnieniu od tablic w C++).\n",
    "\n",
    "<pre>\n",
    "lista = []\n",
    "lista.append(2)\n",
    "lista.append(4)\n",
    "lista.append(\"a\")\n",
    "lista.append([3, 5, 7])\n",
    "print(lista)\n",
    "</pre>"
   ]
  },
  {
   "cell_type": "markdown",
   "id": "edf322ba",
   "metadata": {},
   "source": [
    "---\n",
    "### Zadanie 4\n",
    "Utwórz listę zawierającą 7 elementów. Na koniec dodaj jeszcze jeden element równy 100 za pomocą metody append(). Następnie wywołaj pierwszy element, ostatni element oraz przekrój od drugiego do piątego elementu."
   ]
  },
  {
   "cell_type": "markdown",
   "id": "8522ce9f",
   "metadata": {},
   "source": [
    "### 8. W Pythonie oprócz list często korzysta się z:\n",
    "- krotek (listy o niezmiennych elementach)\n",
    "<pre>\n",
    "krotka = (1, 2, 3)\n",
    "</pre>\n",
    "- słowników (nieuporządkowane zbiory par klucz-wartość)\n",
    "<pre>\n",
    "slownik = {\"styczeń\":1, \"luty\":2, \"marzec\":3}\n",
    "</pre>\n",
    "- łańcuchów znaków\n",
    "<pre>\n",
    "slowo = \"Politechnika Poznańska\"\n",
    "</pre>\n",
    "- zbiorów (kolekcje nieuporządkowanych, unikatowych elementów)\n",
    "<pre>\n",
    "zbior_1 = {1, 2, 3, 4, 4, 4}\n",
    "zbior_2 = {3, 4, 5, 6}\n",
    "zbior_1.union(zbior_2)\n",
    "</pre>"
   ]
  },
  {
   "cell_type": "markdown",
   "id": "468366b3",
   "metadata": {},
   "source": [
    "---\n",
    "### Zadanie 5\n",
    "Utwórz krotkę złożoną z elementóe 1, 2, 3, a następnie spróbuj zmienić pierwszy element w krotce na 10."
   ]
  },
  {
   "cell_type": "markdown",
   "id": "931d6d93",
   "metadata": {},
   "source": [
    "---\n",
    "### Zadanie 6\n",
    "Utwórz słownik tłumaczący nazwy tekstowe miesięcy na ich numery porządkowe, a następnie wywołaj wartość dla klucza \"luty\", \"sierpień\" i \"listopad\"."
   ]
  },
  {
   "cell_type": "markdown",
   "id": "fef2d22f",
   "metadata": {},
   "source": [
    "---\n",
    "### Zadanie 7\n",
    "\n",
    "Utwórz łańcuch znaków (np. \"Collegium da Vinci\"), a następnie wywołaj pierwszy element, ostatni element oraz przekrój od drugiego do piątego elementu. "
   ]
  },
  {
   "cell_type": "markdown",
   "id": "560fe4ed",
   "metadata": {},
   "source": [
    "---\n",
    "### Zadanie 8\n",
    "Utwórz dwa zbiory dowolnych elementów, a następnie wyświetl ich sumę."
   ]
  },
  {
   "cell_type": "markdown",
   "id": "9656d636",
   "metadata": {},
   "source": [
    "### 9. W Pythonie pętla \"for\" z ustalonym licznikiem ma następującą składnię:\n",
    "<pre>\n",
    "for i in range(3, 10, 2):\n",
    "    print(i)\n",
    "</pre>\n",
    "W funkcji range(a, b, c): a-start, b-koniec, c-krok."
   ]
  },
  {
   "cell_type": "markdown",
   "id": "5d593502",
   "metadata": {},
   "source": [
    "---\n",
    "### Zadanie 9\n",
    "Korzystając z pętli for z ustalonym licznikiem wyświetl wartości licznika od 2 do 17 ze zmianą wartości licznika co 3."
   ]
  },
  {
   "cell_type": "markdown",
   "id": "8895d1c8",
   "metadata": {},
   "source": [
    "### 10. W Pythonie pętla \"for\" dla typów wyliczeniowych ma postać:\n",
    "<pre>\n",
    "lista = [2, 4, 'a', [3, 5, 7]]\n",
    "\n",
    "for item in lista:\n",
    "    print(item)\n",
    "</pre>\n",
    "\n",
    "lub \n",
    "\n",
    "<pre>\n",
    "for index, item in enumerate(lista):\n",
    "    print(index, item)\n",
    "</pre>\n",
    "\n",
    "Powyższy schemat zapewnia indeksowanie wybieranych elementów."
   ]
  },
  {
   "cell_type": "markdown",
   "id": "e0551188",
   "metadata": {},
   "source": [
    "### Zadanie 10\n",
    "Wyświetl elementy następującej listy: lista = [2, 4, 'a', [3, 5, 7]]. W pierwszej wersji wyświetl tylko wszystkie elementy przechowywane przez listę, a w drugiej (korzystając z polecenia enumerate()) wyświetl elementy listy wraz z przypisanymi im indeksami."
   ]
  },
  {
   "cell_type": "markdown",
   "id": "2071b017",
   "metadata": {},
   "source": [
    "### 11. W Pythonie pętla \"while\" ma składnię:\n",
    "\n",
    "<pre>\n",
    "a=0\n",
    "while(a < 10):\n",
    "    print(a)\n",
    "    a=a+1\n",
    "</pre>\n",
    "\n",
    "Każdą pętlę można wzbogacić o instrukcje \"break\" i \"continue\". Instrukcja \"break\" przerywa działanie pętli, instrukcja \"continue\" wywołuje pominięcie aktualnego kroku i przejście do kolejnego kroku pętli.\n",
    "\n",
    "<pre>\n",
    "a=0\n",
    "while(a < 10):\n",
    "    if a==3:\n",
    "        break\n",
    "    print(a)\n",
    "    a=a+1\n",
    "</pre>\n",
    "\n",
    "Powyższa pętla zostaje przerwana.\n",
    "\n",
    "<pre>\n",
    "\n",
    "a=0\n",
    "while(a < 10):\n",
    "    if a==3:\n",
    "        a=a+1\n",
    "        continue\n",
    "    print(a)\n",
    "    a=a+1\n",
    "\n",
    "</pre>\n",
    "\n",
    "Wskazany krok w pętli zostaje pominięty i pętla przechodzi do kolejnego kroku."
   ]
  },
  {
   "cell_type": "markdown",
   "id": "5b0b5877",
   "metadata": {},
   "source": [
    "---\n",
    "### Zadanie 11\n",
    "Utwórz pętlę while, która wyświetli liczby od 0 do 10. Następnie wprowadź do utworzonej pętli instrukcje continue (pominięcie danego kroku) oraz instrukcę break (przerwanie działania pętli)."
   ]
  },
  {
   "cell_type": "markdown",
   "id": "2079795b",
   "metadata": {},
   "source": [
    "### 12. Funkcje w Pythonie mają następującą składnię:\n",
    "\n",
    "<pre>\n",
    "def powitanie(a, b):\n",
    "    print(\"Witaj Świecie\")\n",
    "    return a+b, a, b #opcjonalnie\n",
    "</pre>\n",
    "\n",
    "Funkcja może posiadać argumenty o wartościach domyślnych oraz może zawierać w sobie komentarze:\n",
    "\n",
    "<pre>\n",
    "def jakas_funkcja(a, b, c=1):\n",
    "    \n",
    "    \"\"\"To jest komentarz do działania tej funkcji\"\"\"\n",
    "    \n",
    "    d=a+b\n",
    "    e=b*c\n",
    "    return d, e\n",
    "</pre>"
   ]
  },
  {
   "cell_type": "markdown",
   "id": "3337cb8f",
   "metadata": {},
   "source": [
    "---\n",
    "### Zadanie 12\n",
    "Utwórz funkcję, która wyświetli w konsoli komunikat \"Witaj Świecie!\"."
   ]
  },
  {
   "cell_type": "markdown",
   "id": "2633ec18",
   "metadata": {},
   "source": [
    "---\n",
    "### Zadanie 13\n",
    "Utwórz funkcję, która przyjmie trzy argumenty: a, b i c, a następnie zwróci a+b oraz b*c. Niech argument c ma wartość domyślną 1. Dodatkowo utwórz w obrębie funkcji tekst pomocy."
   ]
  },
  {
   "cell_type": "markdown",
   "id": "eaa24449",
   "metadata": {},
   "source": [
    "### 13. Składnia tworzenia klas jest następująca:\n",
    "\n",
    "<pre>\n",
    "class Student:\n",
    "    def __init__(self, imie, nazwisko):\n",
    "        self.imie = imie\n",
    "        self.nazwisko = nazwisko\n",
    "        self.__pin = 1234 \n",
    "    \n",
    "    def przedstaw_sie(self):\n",
    "        print(\"Dzień dobry\")\n",
    "        \n",
    "    def __zdradz_haslo(self):\n",
    "        print(\"admin1\")\n",
    "        \n",
    "\n",
    "s1 = Student(\"Jan\", \"Nowak\")\n",
    "s1.imie\n",
    "\n",
    "</pre>\n",
    "\n",
    "Prywatność atrybutów lub metod wskazujemy za pomocą podwójnego podkreślenia."
   ]
  },
  {
   "cell_type": "markdown",
   "id": "84552935",
   "metadata": {},
   "source": [
    "---\n",
    "### Zadanie 14\n",
    "Utwórz klasę Student. Klasa niech posiada pola publiczne \"imie\" i \"nazwisko\" oraz pole prywatne \"pin\". Klasa niech posiada konstruktor, publiczną metodę \"przedstaw_sie\" która wyświetli komunikat \"Dzień dobry!\" oraz prywatną metodę \"zdradz_haslo\".  "
   ]
  },
  {
   "cell_type": "markdown",
   "id": "63a08ae4",
   "metadata": {},
   "source": [
    "### 14. Dziedziczenie jest realizowane poprzez wskazanie klasy bazowej w nawiasie podczas tworzenia nowej klasy:\n",
    "\n",
    "<pre>\n",
    "class Samorzadowiec(Student):\n",
    "    pass\n",
    "    \n",
    "s1 = Samorzadowiec(\"Jan\", \"Nowak\")\n",
    "s1.imie\n",
    "</pre>"
   ]
  },
  {
   "cell_type": "markdown",
   "id": "575a2341",
   "metadata": {},
   "source": [
    "---\n",
    "### Zadanie 15\n",
    "Utwórz klasę Samorzadowiec dziedziczącą całą implementację po klasie Student."
   ]
  },
  {
   "cell_type": "markdown",
   "id": "393b8ceb",
   "metadata": {},
   "source": [
    "### 15. Do analizy danych warto zwrócić uwagę na następujące biblioteki:\n",
    "\n",
    "- numpy (obliczenia numeryczne)\n",
    "- pandas (działania na tabelach)\n",
    "- matplotlib (wykresy)\n",
    "- seaborn (wykresy)\n",
    "\n",
    "Przykład wykresu:\n",
    "<pre>\n",
    "import matplotlib.pyplot as plt\n",
    "\n",
    "t = [0, 1, 2, 3, 4, 5, 6, 7, 8]\n",
    "x = [1, 2, 3, 4, 5, 4, 3, 2, 1]\n",
    "y = [3, 3, 3, 3, 3, 3, 3, 3, 3]\n",
    "\n",
    "plt.plot(t, x, '.-r', t, y, 'd-b')\n",
    "plt.xlabel(\"argument [jednostka]\", fontsize = 15, font = \"Times New Roman\")\n",
    "plt.ylabel(\"wartość [jednostka]\", fontsize = 15, font = \"Times New Roman\")\n",
    "plt.xlim(0, 8)\n",
    "plt.ylim(1, 5)\n",
    "plt.title(\"Jakiś Wykres\", fontsize = 20, font = \"Times New Roman\")\n",
    "plt.legend([\"linia-A\", \"linia-B\"])\n",
    "plt.grid(True, color=\"0.9\")\n",
    "plt.show()\n",
    "</pre>"
   ]
  },
  {
   "cell_type": "markdown",
   "id": "cac75964",
   "metadata": {},
   "source": [
    "---\n",
    "### Zadanie 16\n",
    "Korzystając z biblioteki matplotlib sporządź na jednym wykresie obrazy funkcji x(t) oraz y(t). Niech obie zależności będą przedstawione liniami o różnych kolorach i stylach. Opisz osie, dodaj tytuł, legendę oraz siatkę pomocniczą wykresu."
   ]
  },
  {
   "cell_type": "markdown",
   "id": "b7ab2600",
   "metadata": {},
   "source": [
    "### Zadanie 17\n",
    "Utwórz funkcje generujące dane i wyświetlające wykresy następujących funkcji:\n",
    "- $a \\cdot sin(b \\cdot x)$\n",
    "- $a \\cdot cos(b \\cdot x)$\n",
    "- $a \\cdot tan(b \\cdot x)$\n",
    "- $a \\cdot ctan(b \\cdot x)$\n",
    "- $ax^2 + bx + c$\n",
    "Jako argument funkcja przyjmuje zakres osi X i Y w których ma wyświetlić wykres. Zadbaj o atrakcyjny format generowanych wykresów."
   ]
  },
  {
   "cell_type": "code",
   "execution_count": null,
   "id": "08c188b2",
   "metadata": {},
   "outputs": [],
   "source": []
  }
 ],
 "metadata": {
  "kernelspec": {
   "display_name": "Python 3",
   "language": "python",
   "name": "python3"
  },
  "language_info": {
   "codemirror_mode": {
    "name": "ipython",
    "version": 3
   },
   "file_extension": ".py",
   "mimetype": "text/x-python",
   "name": "python",
   "nbconvert_exporter": "python",
   "pygments_lexer": "ipython3",
   "version": "3.8.5"
  }
 },
 "nbformat": 4,
 "nbformat_minor": 5
}
