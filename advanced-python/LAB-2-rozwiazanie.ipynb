{
 "cells": [
  {
   "cell_type": "markdown",
   "metadata": {},
   "source": [
    "# Pakiety i moduły\n",
    "\n",
    "### Wyszukiwanie lokalizacji interpretera\n",
    "\n",
    "Korzystając z języków skryptowych (takich jak Python) niejednokrotnie będziemy musieli skorzystać z programu powłoki (terminal, konsola). W systemie Windows będzie to cmd, w systemie Linux - bash, w systemie macOS - zsh. Jeżeli interpreter Pythona jest poprawnie zainstalowany w systemie operacyjnym, możemy sprawdzić jego wersję korzystając z polecenia powłoki: python -V. Jeżeli polecenie python -V zwróci wersję Pythona, to znaczy, że ścieżka do programu interpretera jest dołączona do zmiennej środowiskowej Path. W takim wypadku możemy sprawdzić gdzie znajduje się instalacja interpretera z poziomu Pythona za pomocą instrukcji: "
   ]
  },
  {
   "cell_type": "markdown",
   "metadata": {},
   "source": [
    "<pre>import sys\n",
    "locate_python = sys.exec_prefix\n",
    "print(locate_python)</pre>"
   ]
  },
  {
   "cell_type": "code",
   "execution_count": 22,
   "metadata": {},
   "outputs": [
    {
     "name": "stdout",
     "output_type": "stream",
     "text": [
      "/Users/szymonmackowiak/opt/anaconda3\n"
     ]
    }
   ],
   "source": [
    "import sys\n",
    "print(sys.exec_prefix)"
   ]
  },
  {
   "cell_type": "markdown",
   "metadata": {},
   "source": [
    "Interpreter wskaże ścieżkę do aktualnie uruchomionej instancji Pythona (jeżeli interpreter został uruchomiony w środowisku izolowanym, polecenie sys.exec_prefix wskaże miejsce w którym znajduje się środowisko izolowane).\n",
    "\n",
    "Instrukcje interpretera można wykonywać również z linii poleceń powłoki, korzystając ze składni:\n",
    "- w Windows: python -c \"import nazwa_modulu; instrukcje\" \n",
    "- w macOS: python3 -c \"import nazwa_modulu; instrukcje\"\n",
    "\n",
    "Warto pamiętać, że wykonując dowolne polecenie w powłoce systemu, możemy zapoznać się z jego składnią i opcjonalnymi argumentami korzystając z polecenia: komenda -h, lub --help. Wyświetlą one dokument \"pomocy\"."
   ]
  },
  {
   "cell_type": "markdown",
   "metadata": {},
   "source": [
    "### Sprawdzanie ścieżki do aktualnego katalogu roboczego\n",
    "\n",
    "Aby sprawdzić ścieżkę do aktualnego katalogu roboczego (Current Working Directory) możemy skorzystać z modułu os:"
   ]
  },
  {
   "cell_type": "markdown",
   "metadata": {},
   "source": [
    "<pre>import os\n",
    "cwd = os.getcwd()\n",
    "print(cwd)</pre>"
   ]
  },
  {
   "cell_type": "code",
   "execution_count": 23,
   "metadata": {},
   "outputs": [
    {
     "name": "stdout",
     "output_type": "stream",
     "text": [
      "/Users/szymonmackowiak/GIT/Podstawy-programowania-w-Pythonie/NOS_grupa_3\n"
     ]
    }
   ],
   "source": [
    "import sys\n",
    "print(sys.exec_prefix)\n",
    "\n",
    "import os\n",
    "print(os.getcwd())"
   ]
  },
  {
   "cell_type": "markdown",
   "metadata": {},
   "source": [
    "Aby zmienić aktualną lokalizację katalogu roboczego, możemy skorzystać z polecenia z modułu os: os.chdir(sciezka). Należy pamiętać, że w przypadku pracy z systemem operacyjnym możemy natrafić okoliczności, w ramach których niemożliwa będzie zmiana ścieżki katalogu roboczego (katalog wskazywany przez ścieżkę nie istnieje, nie posiadamy uprawnień do pracy w katalogu wskazywanym przez ścieżkę, ścieżka wzkazuje na obiekt, który nie jest katalogiem). Obsługa wymienionych sytuacji jest możliwa dzięki zdefiniowanym wyjątkom Pythona:\n",
    "- katalog pod wskazaną nie istnieje: FileNotFoundError\n",
    "- obiekt pod wskazaną ścieżką nie jest katalogiem: NotADirectoryError\n",
    "- brak uprawnień: PermissionError\n",
    "Poniższy przykład prezentuje sposób zmiany lokalizacji aktualnego katalogu roboczego:"
   ]
  },
  {
   "cell_type": "code",
   "execution_count": 24,
   "metadata": {},
   "outputs": [
    {
     "name": "stdout",
     "output_type": "stream",
     "text": [
      "/Users/szymonmackowiak/GIT/Podstawy-programowania-w-Pythonie/NOS_grupa_3\n"
     ]
    }
   ],
   "source": [
    "import os\n",
    "\n",
    "print(os.getcwd())"
   ]
  },
  {
   "cell_type": "code",
   "execution_count": 27,
   "metadata": {},
   "outputs": [],
   "source": [
    "os.chdir(r'/Users/szymonmackowiak/GIT/Podstawy-programowania-w-Pythonie/NOS_grupa_3')"
   ]
  },
  {
   "cell_type": "code",
   "execution_count": 28,
   "metadata": {},
   "outputs": [
    {
     "name": "stdout",
     "output_type": "stream",
     "text": [
      "/Users/szymonmackowiak/GIT/Podstawy-programowania-w-Pythonie/NOS_grupa_3\n"
     ]
    }
   ],
   "source": [
    "print(os.getcwd())"
   ]
  },
  {
   "cell_type": "markdown",
   "metadata": {},
   "source": [
    "<pre>import os\n",
    "\n",
    "path = '/projekt/app'\n",
    "\n",
    "try:\n",
    "    os.chdir(path)\n",
    "    print(f\"Aktualny katalog roboczy: {os.getcwd()}\")\n",
    "except FileNotFoundError:\n",
    "    print(f\"Katalog: {path} nie istnieje\")\n",
    "except NotADirectoryError:\n",
    "    print(f\"{path} nie jest katalogiem\")\n",
    "except PermissionError:\n",
    "    print(f\"Nie masz uprawnień do zmian w {path}\")</pre>"
   ]
  },
  {
   "cell_type": "markdown",
   "metadata": {},
   "source": [
    "### Ścieżki w Pythonie\n",
    "\n",
    "Przez ścieżkę rozumiemy łańcuch znaków, który reprezentuje lokalizację danego zasobu w drzewie katalogów systemu. W zależności od systemu operacyjnego (Windows, macOS, Linux) ścieżki te mają różną strukturę oraz korzystają z różnych symboli (np. do rozdzielania ścieżek w systemach macOS i Linux służy symbol \"/\", tymczasem w systemach Windows jest to \"\\\"). Aby skrypty w Pythonie były niezależne od systemu, na którym zostaną uruchomione, korzystamy z biblioteki pathlib, a w szczególności z jej klasy Path. Jeżeli ścieżkę umieścimy w konstruktorze klasy Path() zostatnie utworzony obiekt ścieżki. Co ciekawe, do tak powstałego obiektu możemy dostawiać kolejne elementy ścieżki za pomocą ukośników i łańcuchów znaków, a dopóki skrajny lewy element instrukcji będzie obiektem typu ścieżki - wynik całej linii będzie obiektem typu ścieżki. \n",
    "\n",
    "Przykład:\n",
    "<pre>\n",
    "from pathlib import Path\n",
    "\n",
    "print(Path('app'))\n",
    "print(type(Path('app')))\n",
    "\n",
    "print(Path('app')/'dir')\n",
    "print(type(Path('app')/'dir'))\n",
    "\n",
    "print(Path('app', 'dir'))\n",
    "print(type(Path('app', 'dir')))\n",
    "</pre>\n",
    "\n",
    "Klasa Path umośliwia również na oczytanie lokalizacji bieżącego katalogu roboczego (cwd) oraz na jago zmianę. \n",
    "\n",
    "Przykład:\n",
    "<pre>\n",
    "from pathlib import Path\n",
    "import os\n",
    "\n",
    "print(Path.cwd())\n",
    "os.chdir('/Users')\n",
    "print(Path.cwd())\n",
    "\n",
    "</pre>"
   ]
  },
  {
   "cell_type": "markdown",
   "metadata": {},
   "source": [
    "### Instalacja i lokalizacja pakietów i modułów\n",
    "\n",
    "Instalacja bibliotek - biblioteki instalujemy za pomocą managerów pakietów. Najczęściej za pomocą mamagerów:\n",
    "- pip\n",
    "- conda\n",
    "\n",
    "Powyższe managery uruchamiamy z poziomu wiersza poleceń powłoki, za pomocą komend:\n",
    "\n",
    "Windows:\n",
    "- py -m pip install nazwa_pakietu \n",
    "- conda install nazwa_pakietu\n",
    "\n",
    "macOS:\n",
    "- pip install nazwa_pakietu \n",
    "- conda install nazwa_pakietu\n",
    "\n",
    "Manager pakietów pip:\n",
    "Maganer pip jest podstawowym instalatorem pakietów w Pythonie. Pozwala na instalację pakietów z repozytorium Python Package Index oraz z innych repozytoriów. Więcej na temat pip i PyPI (instalacja, szczegóły techniczne) można znaleźć pod adresem https://pypi.org/project/pip/. Dokumentację pip można znaleźć pod adresem: https://pip.pypa.io/en/stable/cli/pip_install/.\n",
    "\n",
    "Ze szczegółami obsługi managera pip można zapoznać się pod adresem: https://pip.pypa.io/en/stable/cli/\n",
    "W szczególności warto zwrócić uwagę na najczęściej wykorzystywane polecenia:\n",
    "- wyświetlanie pomocy managera pip: <pre>pip -h</pre> lub <pre>pip --help</pre>\n",
    "- wyświetlanie listy zainstalowanych pakietów: <pre>pip list</pre>\n",
    "- instalacja pakietu: <pre>pip install nazwa_pakietu</pre>\n",
    "- deinstalacja pakietu: <pre>pip uninstall nazwa_pakietu</pre>\n",
    "- instalacja listy pakietów z pliku tekstowego: <pre>pip install -r lista_pakietow.txt</pre>\n",
    "- aktualizacja managera pip: <pre>pip install --upgrade pip</pre>\n",
    "\n",
    "Pakiet a moduł:\n",
    "- moduł - w praktyce oznacza plik z rozszerzeniem .py, który zawiera/wystawia zmienne, funkcje, klasy itd.\n",
    "- pakiet - folder z modułami\n",
    "\n",
    "Aby znaleźć ścieżkę, w której znajduje się pakiet lub moduł można skorzystać z instrukcji z poziomu interpretera:\n",
    "- dla pakietów: korzystając z pola nazwa_pakietu.__path__\n",
    "- dla konkretnego modułu: korzystając z pola nazwa_pakietu__file__\n",
    "\n",
    "lub z poziomu linii poleceń powłoki:\n",
    "- pip show nazwa_pakietu\n",
    "\n",
    "Moduły i pakiety, które doinstalowujemy za pomocą managera pip najczęściej są instalowane w katalogu site-packages.\n",
    "\n",
    "Kiedy importujemy biblioteki, interpreter Pythona najpierw sprawdza, czy dany zasób znajduje się w katalogu projektu. Jeżeli nie, wówczas przeszukuje katalog bibliotek zainstalowanych w środowisku interpretera. W związku z tym tworzone przez nas moduły lub pakiety możemy umieszczać w:\n",
    "- katalogu projektu\n",
    "- katalogu lib/PythonXX.XX/site-packages"
   ]
  },
  {
   "cell_type": "code",
   "execution_count": 35,
   "metadata": {},
   "outputs": [],
   "source": [
    "import biblioteka_globalna"
   ]
  },
  {
   "cell_type": "code",
   "execution_count": 36,
   "metadata": {},
   "outputs": [
    {
     "data": {
      "text/plain": [
       "340"
      ]
     },
     "execution_count": 36,
     "metadata": {},
     "output_type": "execute_result"
    }
   ],
   "source": [
    "biblioteka_globalna.v"
   ]
  },
  {
   "cell_type": "markdown",
   "metadata": {},
   "source": [
    "### Zadanie\n",
    "Utwórz moduł stale_fizyczne zawierający następujące stałe:\n",
    "- pi = 3.1415\n",
    "- c = $3 \\cdot 10^8$\n",
    "- vd = 340\n",
    "- G = $6.67 \\cdot 10^{-11}$\n",
    "\n",
    "Następnie zapisz plik pod dwiema nazwami:\n",
    "- stale_fizyczne_local.py, który umieścisz w aktualnym katalogu roboczym\n",
    "- stale_fizyczne_global.py, który umieścisz w katalogu site-packages (najpierw trzeba znaleźć jego położenie)\n",
    "\n",
    "Utwórz program, w którym zaimportujesz oba moduły i zaprezentujesz ich działanie."
   ]
  },
  {
   "cell_type": "markdown",
   "metadata": {},
   "source": [
    "### Zadanie \n",
    "\n",
    "Utwórz moduł zawierający następujące funkcje statystyczne:\n",
    "- obliczanie średniej arytmentycznej z listy\n",
    "- obliczanie odchylenia standardowego z listy\n",
    "- obliczanie współczynników regresji liniowej z dwóch list\n",
    "- obliczanie współczynnika korelacji Pearsona z dwóch list\n",
    "\n",
    "Następnie zapisz plik pod dwiema nazwami:\n",
    "- statystyka.py, który umieścisz w aktualnym katalogu roboczym\n",
    "- statystyka_global.py, który umieścisz w katalogu site-packages (najpierw trzeba znaleźć jego położenie)\n",
    "\n",
    "Utwórz program, w którym zaimportujesz oba moduły i zaprezentujesz ich działanie."
   ]
  },
  {
   "cell_type": "markdown",
   "metadata": {},
   "source": [
    "# Środowisko izolowane\n",
    "\n",
    "Tworząc projekt w Pythonie możemy natknąć się na problem związany z wersjami bibliotek lib środowiska. Przykładowo - na jednym komputerze projekt działa, na drugim nie ze względu na różnice w wersjach bibliotek i środowiska. W związku z tym dobrym pomysłem jest dołączenie do skryptu środowiska, w którym projekt będzie działać poprawnie. Takie środowisko nazywamy środowiskiem izolowanym, a najpopularniejszymni rozwiązaniami dla Pythona są:\n",
    "- Veritual Env (venv)\n",
    "- Conda Create\n",
    "\n",
    "### Virtual Env\n",
    "\n",
    "MacOS:\n",
    "1. instalacja: <pre>pip3 install virtualenv</pre>\n",
    "2. Tworzenie środowiska: <pre>python3 -m venv nazwa_srodowiska</pre>\n",
    "3. Aktywacja środowiska: <pre>source nazwa_srodowiska/bin/activate</pre>\n",
    "4. Dezaktywacja środowiska: <pre>deactivate</pre>\n",
    "\n",
    "Windows:\n",
    "1. instalacja: <pre>pip -m install virtualenv</pre> lub <pre>pip install venv</pre>\n",
    "2. Tworzenie środowiska: <pre>python -m venv nazwa_srodowiska</pre>\n",
    "3. Aktywacja środowiska: <pre>.\\nazwa_srodowiska\\Scripts\\activate</pre>\n",
    "4. Dezaktywacja środowiska: <pre>deactivate</pre>\n",
    "\n",
    "### Conda Create\n",
    "\n",
    "Alternatywnym sposobem tworzenia środowiska izolowanego jest skorzystanie z polecenia conda create. Warunkiem koniecznym jest posiadanie managera conda.\n",
    "\n",
    "Windows/macOS\n",
    "1. Tworzenie środowiska: <pre>conda create -n nazwa_srodowiska python=wersja_pythona</pre>\n",
    "2. Aktywacja środowiska: <pre>conda activate nazwa_srodowiska</pre>\n",
    "3. Dezaktywacja środowiska: <pre>deactivate</pre>"
   ]
  },
  {
   "cell_type": "markdown",
   "metadata": {},
   "source": [
    "### Zadanie\n",
    "\n",
    "Utwórz katalog projektu, w którym założysz środowisko izolowane, a następie aktywuj je i zainstaluj w nim (za pomocą maganera pakietów pip) wybrane biblioteki (np. numpy, jupyter, matplotlib, pandas). Następnie utwórz skrypt Pythona i zademonstruj (za pomocą polecenia sys.exec_prefix) w jakim środowisku pracuje. "
   ]
  },
  {
   "cell_type": "markdown",
   "metadata": {},
   "source": [
    "# Zaawansowane edytory kodu\n",
    "\n",
    "Tworzenie kodu programu nieuchronnie wiąże się z popełnianiem błędów. Z kolei - kiedy tworzymy większy projekt lub aplikację, w jej skład zaczyna wchodzić więcej niż jeden plik. Nasza aplikacja dodatkowo może odnosić się lub korzystać z zasobów komputera, na której jest uruchamiana i wymaga od nas częstej pracy w programie powłoki systemowej (bash, cmd, zsh). W takiej sytuacji coraz większe znaczenie przy wytwarzaniu oprogramowania ma środowisko programistyczne. Na obecnym etapie nauki najważniejszymi cechami/funkcjonalnościami środowiska są:\n",
    "- uzupełnianie składni (wpisując nazwy instrukcji z przestrzeni nazw, po naciśnięciu klawisza tab uzupełniana jest wprowadzana instrukcja lub pojawia się lista dostępnych instrukcji)\n",
    "- linter (aplikacja analizująca cały nasz kod i wskazująca potencjalne błędy)\n",
    "- połączenie z powłoką systemową\n",
    "- podgląd zasobów w katalogu projektu\n",
    "\n",
    "Do takich środowisk należą:\n",
    "- Spyder: https://www.spyder-ide.org\n",
    "- PyCharm: https://www.jetbrains.com/pycharm/\n",
    "- Visual Studio Code: https://code.visualstudio.com"
   ]
  }
 ],
 "metadata": {
  "kernelspec": {
   "display_name": "Python 3",
   "language": "python",
   "name": "python3"
  },
  "language_info": {
   "codemirror_mode": {
    "name": "ipython",
    "version": 3
   },
   "file_extension": ".py",
   "mimetype": "text/x-python",
   "name": "python",
   "nbconvert_exporter": "python",
   "pygments_lexer": "ipython3",
   "version": "3.8.5"
  }
 },
 "nbformat": 4,
 "nbformat_minor": 4
}
