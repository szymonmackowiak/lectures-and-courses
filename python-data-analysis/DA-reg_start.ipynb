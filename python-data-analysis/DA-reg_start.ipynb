{
 "cells": [
  {
   "cell_type": "code",
   "execution_count": 2,
   "id": "db1843a5-5878-4134-8257-2345e21df87b",
   "metadata": {},
   "outputs": [],
   "source": [
    "import numpy as np\n",
    "import matplotlib.pyplot as plt\n",
    "%matplotlib inline"
   ]
  },
  {
   "cell_type": "code",
   "execution_count": 7,
   "id": "f91ee41b-64e7-40ee-aa36-67f6a373f8a5",
   "metadata": {},
   "outputs": [],
   "source": [
    "def regression_coef(X, y):\n",
    "    xmean = np.mean(X)\n",
    "    ymean = np.mean(y)\n",
    "    \n",
    "    xycov = (X-xmean)*(y-ymean)\n",
    "    xvar = (X-xmean)**2\n",
    "    \n",
    "    a = xycov.sum() / xvar.sum()\n",
    "    b = ymean - alfa*xmean\n",
    "    \n",
    "    return a,b"
   ]
  },
  {
   "cell_type": "code",
   "execution_count": null,
   "id": "64f4ff1a-2632-4701-a96f-da2758fa1349",
   "metadata": {},
   "outputs": [],
   "source": [
    "def regresssion_linear_plot(X, y, factors):\n",
    "    plt.figure(figsize=(10,6))\n",
    "    plt.scatter(X, y, color='r', marker='o' , s=30)\n",
    "    \n",
    "    y_pred = factors[0]*X + factors[1]\n",
    "    plt.plot(X, y_pred, color='g')\n",
    "    \n",
    "    plt.xlabel('X')\n",
    "    plt.ylabel('y')\n",
    "    plt.show()"
   ]
  }
 ],
 "metadata": {
  "kernelspec": {
   "display_name": "Python 3 (ipykernel)",
   "language": "python",
   "name": "python3"
  },
  "language_info": {
   "codemirror_mode": {
    "name": "ipython",
    "version": 3
   },
   "file_extension": ".py",
   "mimetype": "text/x-python",
   "name": "python",
   "nbconvert_exporter": "python",
   "pygments_lexer": "ipython3",
   "version": "3.12.4"
  }
 },
 "nbformat": 4,
 "nbformat_minor": 5
}
