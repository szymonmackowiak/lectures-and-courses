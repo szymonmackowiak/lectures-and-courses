{
 "cells": [
  {
   "cell_type": "markdown",
   "id": "43141525",
   "metadata": {},
   "source": [
    "# Pandas\n",
    "\n",
    "### 1. Wstęp \n",
    "Nazwa Pandas odnosi się do wyrażenia \"Panel Data\" lub do \"Python Data Analysis\". Autorem biblioteki jest Wes McKinney, który utworzył ją w 2008 roku. Stronę projektu można znaleźć pod adresem: https://github.com/pandas-dev/pandas.\n",
    "\n",
    "Biblioteka Pandas służy do pracy z danymi - posiada wiele użytecznych rozwiązań umożliwiających bądź ułatwiająych wykonywanie rutynowych działań na danych. Posiada m. in. funkcje do:\n",
    "- oczyszczania danych, \n",
    "- analizy danych, \n",
    "- eksplorowania danych, \n",
    "- przetwarzania danych. \n",
    "Pandas pozwala również na pracę z dużymi zbiorami danych (tzw. Big Data) oraz posiada bogaty zbiór funkcji statystycznych. Do najważniejszych możliwości pakietu Pandas możemy zaliczyć:\n",
    "- wyznaczanie wartości mimimalnych i maksymalnych, \n",
    "- wyznaczanie wartości średnich,\n",
    "- wyznaczanie korelacji między kolumnami\n",
    "- usuwanie niepotrzebnych wierszy lub poprawianie uszkodzonych"
   ]
  },
  {
   "cell_type": "markdown",
   "id": "6904b692",
   "metadata": {},
   "source": [
    "### 2. Instalacja\n",
    "\n",
    "Bibliotekę można zainstalować za pomocą managera pakietów pip korzystając z polecenia w programie powłoki: \n",
    "- pip install pandas (system Windows)\n",
    "- pip3 install pandas (system macOS)"
   ]
  },
  {
   "cell_type": "markdown",
   "id": "dbcc7de1",
   "metadata": {},
   "source": [
    "### 3. Import\n",
    "\n",
    "Bibliotekę możemy zaimportować w całości za pomocą jej nazwy, nadać jej alias lub zaimportować wyłącznie wybrany moduł/klasę:\n",
    "- import pandas\n",
    "- import pansad as pd\n",
    "- from pandas import DataFrame\n",
    "\n",
    "W trakcie pracy z pakietem może okazać się, że musimy sprawdzić jego wersję. Wersję pakietu można znaleźć w polu __version__ pakietu pandas.\n",
    "\n",
    "#### Przykład - sprawdzanie wersji biblioteki Pandas"
   ]
  },
  {
   "cell_type": "markdown",
   "id": "699010dc",
   "metadata": {},
   "source": [
    "<pre>import pandas\n",
    "pandas.__version__</pre>"
   ]
  },
  {
   "cell_type": "markdown",
   "id": "383bac21",
   "metadata": {},
   "source": [
    "### 4. Szeregi (obiet typu Series)\n",
    "\n",
    "Szeregi (obiety typu Series) w bibliotece Pandas są odpowiednikiem kolumny w tabeli. Można je określić jako jednowymiarowe tablice, bądź listy przechowujące dane dowolnego typu.\n",
    "\n",
    "#### Przykład - tworzenie szeregu"
   ]
  },
  {
   "cell_type": "markdown",
   "id": "9a1e09ec",
   "metadata": {},
   "source": [
    "<pre>import pandas as pd\n",
    "\n",
    "lista = [1, 2, [3, 3], \"cztery\", 5]\n",
    "\n",
    "szereg = pd.Series(lista)\n",
    "\n",
    "print(szereg)</pre>"
   ]
  },
  {
   "cell_type": "code",
   "execution_count": 1,
   "id": "b97c6f29",
   "metadata": {},
   "outputs": [
    {
     "name": "stdout",
     "output_type": "stream",
     "text": [
      "0         1\n",
      "1         2\n",
      "2    [3, 3]\n",
      "3    cztery\n",
      "4         5\n",
      "dtype: object\n"
     ]
    }
   ],
   "source": [
    "import pandas as pd\n",
    "\n",
    "lista = [1, 2, [3, 3], \"cztery\", 5]\n",
    "\n",
    "szereg = pd.Series(lista)\n",
    "\n",
    "print(szereg)"
   ]
  },
  {
   "cell_type": "markdown",
   "id": "b1566a0a",
   "metadata": {},
   "source": [
    "Powyższy przykład pokazuje, że elementy szeregu posiadają etykiety (wartości po lewej stronie kolumny). Domyślnie etykiety przyjmują wartości indeksu w liście (liczone od 0). "
   ]
  },
  {
   "cell_type": "markdown",
   "id": "eb841133",
   "metadata": {},
   "source": [
    "### Etykietowanie elementów szeregu\n",
    "\n",
    "Poprzedni przykład ilustrował, że domyślnie etykiety przyjmują wartość indeksu w liście (liczone od 0). Aby nadać kolejnym elementom szeregu etykiety należy skorzystać z argumentu index, a po znaku równości podać listę (w nawiasach kwadratowych) z kolejnymi nazwami w postaci tekstowej, rozdzielone przecinkami. \n",
    "\n",
    "#### Przykład - etykietowanie"
   ]
  },
  {
   "cell_type": "markdown",
   "id": "812bc0fb",
   "metadata": {},
   "source": [
    "<pre>\n",
    "import pandas as pd\n",
    "\n",
    "lista = [5000, 6000, 4500, 3000]\n",
    "\n",
    "wynagrodzenia = pd.Series(lista, index=[\"Kowalski\", \"Nowak\", \"Matysik\", \"Molęda\"])\n",
    "\n",
    "print(wynagrodzenia)\n",
    "</pre>\n",
    "\n",
    "Po utworzeniu etykiet zyskujemy możliwość odnoszenia się do elementów szeregu poprzez etykietę, np.:\n",
    "\n",
    "<pre>\n",
    "print(wynagrodzenia['Nowak'])\n",
    "</pre>"
   ]
  },
  {
   "cell_type": "markdown",
   "id": "819191e9",
   "metadata": {},
   "source": [
    "### Obiekty klucz-wartość jako szeregi\n",
    "\n",
    "Szeregi możemy tworzyć również z obiektów przechowujących pary klucz-wartość, czyli ze słowników. Wówczas klucz par staje się etykietą. \n",
    "\n",
    "Przykład:\n",
    "\n",
    "<pre>\n",
    "import pandas as pd\n",
    "\n",
    "miesiace = {\"styczeń\": 1, \"luty\": 2, \"marzec\": 3, \"kwiecień\": 4}\n",
    "\n",
    "kalendarz = pd.Series(miesiace)\n",
    "\n",
    "print(kalendarz)\n",
    "</pre>"
   ]
  },
  {
   "cell_type": "markdown",
   "id": "37920f3f",
   "metadata": {},
   "source": [
    "W tym przypadku za pomocą argumentu index możemy wskazać, które elementy słownika mają zostać wstawione do szeregu. Przykład:\n",
    "\n",
    "<pre>\n",
    "import pandas as pd\n",
    "\n",
    "miesiace = {\"styczeń\": 1, \"luty\": 2, \"marzec\": 3, \"kwiecień\": 4}\n",
    "\n",
    "kalendarz = pd.Series(miesiace, index=[\"luty\", \"kwiecień\"])\n",
    "\n",
    "print(kalendarz)\n",
    "</pre>"
   ]
  },
  {
   "cell_type": "markdown",
   "id": "5bea0a8f",
   "metadata": {},
   "source": [
    "### Ramki danych\n",
    "Dane są zazwyczaj przechowywane w wielokolumnowych tabelach (lub wielowymiarowych macierzach). Do pracy z takimi obiektami służą ramki danych (z agn. data frame). W porównaniu do ramek danych można powiedzieć, że szereg może odpowiadać pojedyńczej kolumnie z ramki. \n",
    "\n",
    "Przykład - tworzymy ramkę danych z dwóch szeregów:\n",
    "\n",
    "<pre>\n",
    "import pandas as pd\n",
    "\n",
    "wynagrodzenia = {\n",
    "  \"styczeń\": [5000, 6000, 7000, 8000],\n",
    "  \"luty\": [5200, 6200, 7200, 8200]\n",
    "}\n",
    "\n",
    "df = pd.DataFrame(wynagrodzenia)\n",
    "\n",
    "print(df)\n",
    "</pre>"
   ]
  },
  {
   "cell_type": "code",
   "execution_count": 2,
   "id": "099ebe7b",
   "metadata": {},
   "outputs": [
    {
     "name": "stdout",
     "output_type": "stream",
     "text": [
      "   styczeń  luty\n",
      "0     5000  5200\n",
      "1     6000  6200\n",
      "2     7000  7200\n",
      "3     8000  8200\n"
     ]
    }
   ],
   "source": [
    "import pandas as pd\n",
    "\n",
    "wynagrodzenia = {\n",
    "  \"styczeń\": [5000, 6000, 7000, 8000],\n",
    "  \"luty\": [5200, 6200, 7200, 8200]\n",
    "}\n",
    "\n",
    "df = pd.DataFrame(wynagrodzenia)\n",
    "\n",
    "print(df)"
   ]
  },
  {
   "cell_type": "markdown",
   "id": "db02f25d",
   "metadata": {},
   "source": [
    "### Zwracanie wierszy z ramki danych\n",
    "Ramki danych to zazwyczaj struktury dwuwymiarowe - posiadają kolumny i wiersze. Aby zwrócić wiersz z ramki danych należy skorzystać z polecenia loc[nr_wiersza].\n",
    "\n",
    "Przykłady:"
   ]
  },
  {
   "cell_type": "markdown",
   "id": "6da3dfcf",
   "metadata": {},
   "source": [
    "<pre>import pandas as pd\n",
    "\n",
    "wynagrodzenia = {\n",
    "  \"styczeń\": [5000, 6000, 7000, 8000],\n",
    "  \"luty\": [5200, 6200, 7200, 8200]\n",
    "}\n",
    "\n",
    "df = pd.DataFrame(wynagrodzenia)\n",
    "</pre>\n",
    "\n",
    "- zwracanie pierwszego wiersza: \n",
    "\n",
    "<pre>\n",
    "print(df.loc[0])\n",
    "</pre>\n",
    "\n",
    "- zwracanie pierwszego i drugiego wiersza:\n",
    "<pre>\n",
    "print(df.loc[[0, 1]])\n",
    "</pre>\n",
    "\n",
    "- zwracanie wierszy od pierwszego do trzeciego:\n",
    "<pre>\n",
    "print(df.loc[0:2]])\n",
    "</pre>\n",
    "\n",
    "Aby zwrócić całą ramkę danych można skorzystać z instrukcji: print(df.to_string())"
   ]
  },
  {
   "cell_type": "markdown",
   "id": "146bd996",
   "metadata": {},
   "source": [
    "### Etykietowanie wierszy \n",
    "\n",
    "Aby nadać nazwy poszczególnym wierszom w ramce danych, możemy skorzystać (ponownie) z argumentu index, do którego po znaku równości przypiszemy listę nazw kolejnych wierszy rozdzielone przecinkami. \n",
    "\n",
    "Przykład - etykietowanie wierszy\n",
    "\n",
    "<pre>\n",
    "import pandas as pd\n",
    "\n",
    "wynagrodzenia = {\n",
    "  \"styczeń\": [5000, 6000, 7000, 8000],\n",
    "  \"luty\": [5200, 6200, 7200, 8200]\n",
    "}\n",
    "\n",
    "df = pd.DataFrame(wynagrodzenia, index = [\"Kowalski\", \"Nowak\", \"Cieślak\", \"Stasik\"])\n",
    "\n",
    "print(df)\n",
    "</pre>\n",
    "\n",
    "Indeks wiersza może posłużyć do wskazania danego wiersza:\n",
    "\n",
    "<pre>\n",
    "print(df.loc[\"Nowak\"])\n",
    "</pre>"
   ]
  },
  {
   "cell_type": "markdown",
   "id": "f8d28111",
   "metadata": {},
   "source": [
    "### Wczytywanie danych\n",
    "\n",
    "Zazwyczaj korzystamy z biblioteki Pandas do analizowania danych przechowywanych w zasobach komputera np. w postaci plików tekstowych. Często stosowanymi formatami dla plików z danymi są formaty: \n",
    "- csv (plik tekstowy z danymi rozdzielonymi ustalonym separatorem)\n",
    "- json (pliki zawierające ustrukturalizowane dane w postaci zbliżonej do słowników)\n",
    "- xlsx (pliki w formacie programu MS Excel)\n",
    "\n",
    "Pliki w poszczególnych formatach możemy importować korzystając z następujących instrukcji:\n",
    "- wczytywanie danych w formacie csv: df = pd.read_csv('plik_z_danymi.csv')\n",
    "- wczytywanie danych w formacie json: df = pd.read_json('plik_z_danymi.json')\n",
    "- wczytywanie danych w formacie xlsx: df = pd.read_excel('plik_z_danymi.xlsx')"
   ]
  },
  {
   "cell_type": "markdown",
   "id": "ef02be94",
   "metadata": {},
   "source": [
    "### Wyświetlanie i analiza danych\n",
    "\n",
    "Domyślnie wywołując zapełnioną ramkę danych zostanie zwrócone 5 pierwszych i 5 ostatnich wierszy. Wyświetlanie w innych formach odbywa się przy zastosowaniu metod:\n",
    "\n",
    "- head(n) - zwraca pierwsze n wierszy, domyślnie n=5\n",
    "- tail(n) - zwraca ostatnie n wierszy, domyślnie n=5\n",
    "\n",
    "Ramka danych posiada również metodę info(), która zwraca najważniejsze informacje dotyczące zbioru - wraz z informacją na temat występowania wartości typu null oraz non-null."
   ]
  },
  {
   "cell_type": "markdown",
   "id": "29624bcc",
   "metadata": {},
   "source": [
    "### Czyszczenie danych\n",
    "\n",
    "Przez czyszczenie danych rozumiemy naprawianie źle wprowadzonych (wadliwych) danych. Do wadliwych danych możemy zaliczyć m.in. puste komórki, dane w złym formacie, złe dane, duplikaty."
   ]
  },
  {
   "cell_type": "markdown",
   "id": "277920f4",
   "metadata": {},
   "source": [
    "#### Puste komórki\n",
    "\n",
    "Powszechnym problemem wielu zbiorów danych są puste komórki. Nieobsłużone puste komówki mogą być przyczyną błędów w wyliczanych statystykach (np. przy wyliczaniu średniej, suma elementów będzie dzielona przez złą wartość). \n",
    "\n",
    "Jednym ze sposobów radzenia sobie z problemem pustych komórek jest ich usuwanie. Jeżeli zbiór danych jest duży - to rozwiązanie jest do zaakceptowania. \n",
    "\n",
    "Usuwanie pustych komórek wykonujemy poleceniem dropna(). Domyślnie - zawsze zwraca nową ramkę danych nie zmieniająć oryginału. \n",
    "\n",
    "Jeżeli chcemy podmienić oryginał, możemy skorzystać z argumentu inplace i nadać mu wartość True: dropna(inplace = True).\n",
    "\n",
    "Przykład:\n",
    "\n",
    "<pre>\n",
    "new_df = df.dropna()\n",
    "df.dropna(inplace = True)\n",
    "</pre>\n",
    "\n",
    "Komórki zawieracjące wartości NULL możemy również naprawić korzystając z metody dropna().\n",
    "\n",
    "Problem brakujących wartości możemy również rozwiązać poprzez zastępowanie pustych komórek. Ta metoda polega na wypełnieniu uszkodzonych komórek za pomocą polecenia fillna(), która jako pierwszy argument przyjmuje wartość do wstawienia. \n",
    "\n",
    "Argumentem metody fillna() może w szczególności być średnia, mediana lub dominanta. \n",
    "\n",
    "Przykład - usuwanie brakujących rekordów:\n",
    "\n",
    "<pre>\n",
    "import pandas as pd\n",
    "\n",
    "df = pd.read_csv('plik_z_danymi.csv')\n",
    "\n",
    "new_df = df.dropna()\n",
    "\n",
    "print(new_df.to_string())\n",
    "</pre>\n",
    "\n",
    "Przykład - usuwanie brakujących rekordów (nadpisywanie oryginalnej ramki):\n",
    "\n",
    "<pre>\n",
    "import pandas as pd\n",
    "\n",
    "df = pd.read_csv('plik_z_danymi.csv')\n",
    "\n",
    "df.dropna(inplace = True)\n",
    "\n",
    "print(df.to_string())\n",
    "</pre>\n",
    "\n",
    "Przykład - zastępowanie wartości NULL wartością 111:\n",
    "\n",
    "<pre>\n",
    "import pandas as pd\n",
    "\n",
    "df = pd.read_csv('plik_z_danymi.csv')\n",
    "\n",
    "df.fillna(130, inplace = True)\n",
    "</pre>\n",
    "\n",
    "Przykład - zastąpienie wartości NULL na wartość 111 tylko w zadanej kolumnie:\n",
    "\n",
    "<pre>\n",
    "import pandas as pd\n",
    "\n",
    "df = pd.read_csv('plik_z_danymi.csv')\n",
    "\n",
    "df[\"nazwa kolumny\"].fillna(111, inplace = True)\n",
    "</pre>\n",
    "\n",
    "Przykład - zastępowanie brakujących wartości w zadanej kolumnie z wykorzystaniem średniej:\n",
    "\n",
    "<pre>\n",
    "import pandas as pd\n",
    "\n",
    "df = pd.read_csv('plik_z_danymi.csv')\n",
    "\n",
    "x = df[\"nazwa kolumny\"].mean()\n",
    "\n",
    "df[\"nazwa kolumny\"].fillna(x, inplace = True)\n",
    "\n",
    "</pre>\n",
    "\n",
    "Przykład - zastępowanie brakujących wartości w zadanej kolumnie z wykorzystaniem mediany:\n",
    "\n",
    "<pre>\n",
    "import pandas as pd\n",
    "\n",
    "df = pd.read_csv('plik_z_danymi.csv')\n",
    "\n",
    "x = df[\"nazwa kolumny\"].median()\n",
    "\n",
    "df[\"nazwa kolumny\"].fillna(x, inplace = True)\n",
    "</pre>\n",
    "\n",
    "Przykład - zastępowanie brakujących wartości w zadanej kolumnie z wykorzystaniem dominanty (mody):\n",
    "\n",
    "<pre>\n",
    "import pandas as pd\n",
    "\n",
    "df = pd.read_csv('plik_z_danymi.csv')\n",
    "\n",
    "x = df[\"nazwa kolumny\"].mode()[0]\n",
    "\n",
    "df[\"nazwa kolumny\"].fillna(x, inplace = True)\n",
    "</pre>"
   ]
  },
  {
   "cell_type": "markdown",
   "id": "e4b36434",
   "metadata": {},
   "source": [
    "#### Błędny format danych\n",
    " \n",
    "Analiza danych zawierających komórki z błędami formatu może być bardzo kłopotliwa albo nawet niemożliwa. Poradzić sobie z tym problemem można na dwa sposoby: usunąć wiersze zawierające błędne formaty lub dokonać konwersji wszystkich komórek (np. w kolejnych kolumnach) na jednakowy format. \n",
    "\n",
    "Przykład - konwersja formatu (na format daty) w zadanej kolumnie za pomocą metody to_datetime():\n",
    "\n",
    "<pre>\n",
    "import pandas as pd\n",
    "\n",
    "df = pd.read_csv('plik_z_danymi.csv')\n",
    "\n",
    "df['Data'] = pd.to_datetime(df['Data'])\n",
    "\n",
    "print(df.to_string())\n",
    "</pre>\n",
    "\n",
    "Przykład - usuwanie wierszy zawierające dane nieokreślone (NaN, NaT, ...) za pomocą metody dropna():\n",
    "\n",
    "<pre>\n",
    "df.dropna(subset=['Date'], inplace = True)\n",
    "</pre>"
   ]
  },
  {
   "cell_type": "markdown",
   "id": "0eafe5fb",
   "metadata": {},
   "source": [
    "#### Złe dane\n",
    "\n",
    "Zdarza się, że tabela zawiera nie tyle braki czy dane w złym formacie, ale błędne wyniki. Dla przykładu - w momencie zbierania danych rejestrator pomylił miejsca po przecinku (tzw. błędy grube). Tego typu usterki naprawiamy wykonując podstawienia błędnych danych lub poprzez usuwanie wierszy.\n",
    "\n",
    "Przykład - podstawianie poprawionych danych do zlokalizowanej komórki z błędem:\n",
    "\n",
    "<pre>\n",
    "df.loc[7, 'Duration'] = 45\n",
    "for x in df.index: \n",
    "  if df.loc[x, \"Duration\"] > 120:\n",
    "    df.loc[x, \"Duration\"] = 120\n",
    "</pre>\n",
    "\n",
    "Przykład - usuwanie wierszy:\n",
    "\n",
    "<pre>\n",
    "for x in df.index: \n",
    "  if df.loc[x, \"Duration\"] > 120:\n",
    "    df.drop(x, inplace = True)\n",
    "</pre>"
   ]
  },
  {
   "cell_type": "markdown",
   "id": "7d7a3556",
   "metadata": {},
   "source": [
    "#### Duplikaty\n",
    "Przez duplikat rozumiemy powtórzenie rekordu w tabeli. Pandas posiada metody zarówno do wyświetlania duplikatów jak również do ich usuwania.\n",
    "\n",
    "Przykład - wyszukiwanie duplikatów:\n",
    "<pre>\n",
    "print(df.duplicated())\n",
    "</pre>\n",
    "\n",
    "Przykład - usuwanie duplikatów:\n",
    "<pre>\n",
    "df.drop_duplicates(inplace = True)\n",
    "</pre>"
   ]
  },
  {
   "cell_type": "markdown",
   "id": "33213c64",
   "metadata": {},
   "source": [
    "### Przegląd przydatnych instrukcji\n",
    "\n",
    "Poniżej zostały wymienione wybrane instrukcje przydatne w trakcie pracy z danymi za pomocą pakietu pandas w postaci ramki danych (tutaj przypisanej do zmiennej df):\n",
    "- df.info() - opis danych, zwraca opis zawartości poszczególnych kolumn\n",
    "- list(df) - zwraca listę kolumn w ramce danych\n",
    "- df.rename(columns={\"old name 1\" : \"new name 1\", \"old name 2\" : \"new name 2\"}) - zmiana nazw kolumn, nazwy do zamiany podawane są w postaci słownika\n",
    "- df.corr() - zwraca tablicę korelacji pomiędzy kolumnami w ramce danych\n",
    "- df[\"col1_name\"].corr(df[\"col2_name\"]) - zwraca współczynnik korelacji pomiędzy zadanymi kolumnami\n",
    "- df[\"col_name\"].unique() - zwraca unikatowe wartości w kolumnie\n",
    "- df.replace(to_replace=value_1, value=value_2, inplace=True) - podmienia wskazaną wartość w całej ramce danych\n",
    "- df.hist() - zwraca histogram ze wszystkich kolumn\n",
    "- df.insert(loc, column, value) - wstawia kolumnę do ramki danych\n",
    "- df.drop(columns = [\"col_1\", \"col_2\", \"col_3\"]) - usuwa z ramki danych wskazane kolumny\n",
    "\n",
    "Bogatym źródłem informacji dot. wszystkich dostępnych instrukcji jest strona internetowa biblioteki pandas: https://pandas.pydata.org/docs/reference/frame.html\n",
    "\n",
    "W czasie pracy z pandas (w szczególności na początku) warto wspierać się arkuszem informacyjnym przygotowanym przez twórców pakietu: https://pandas.pydata.org/Pandas_Cheat_Sheet.pdf"
   ]
  },
  {
   "cell_type": "markdown",
   "id": "8bafc510",
   "metadata": {},
   "source": [
    "### Dobre praktyki - tworzenie czystego kodu\n",
    "\n",
    "Tworząc program staramy się zastępować powtarzalne sekwencje (czasem skomplikowanego i niezrozumiałego) kodu - funkcjami, które wywołujemy w potrzebnych miejscach. "
   ]
  },
  {
   "cell_type": "markdown",
   "id": "a72460cb",
   "metadata": {},
   "source": [
    "### Wyrażenia lambda i funkcja map()\n",
    "\n",
    "Wyrażenia lambda to funkcje anonimowe - nie posiadają nazwy. Służą one do wykorzystania w \"miejscu\", ale możemy je przypisać do zmiennych i jedno wyrażenie lambda wykorzystywać wielokrotnie.\n",
    "<pre>\n",
    "lambda x: x**2\n",
    "\n",
    "lambda x, y: x**2 + 2*x*y + y**2\n",
    "</pre>\n",
    "\n",
    "Fukcja map() zwraca listę/tablicę/mapę wyrażeń, na których wykonano zadaną operację. Jako artument może przyjmować m. in. wyrażenie lambda.\n",
    "\n",
    "<pre>\n",
    "map(lambda x: x*x, list)\n",
    "</pre>"
   ]
  },
  {
   "cell_type": "markdown",
   "id": "03bbbf16",
   "metadata": {},
   "source": [
    "### Regresja liniowa\n",
    "\n",
    "Jeżeli między danymi istnieje trend (zmienna niezależna i zmienna zależna są skorelowane) możemy go przedstawić w postaci funkcji liniowej, \"najlepiej\" przechodzącej pomiędzy punktami reprezentującymi dane. Narzędziem do znajdowania parametrów tej funkcji liniowej jest regresja liniowa. \n",
    "\n",
    "Instalacja:\n",
    "<pre>\n",
    "pip install scikit-learn\n",
    "</pre>\n",
    "\n",
    "Zastosowanie:\n",
    "<pre>\n",
    "import numpy as np\n",
    "from sklearn.linear_model import LinearRegression\n",
    "\n",
    "model = LinearRegression(fit_intercept=True).fit(X, y)\n",
    "model\n",
    "</pre>"
   ]
  },
  {
   "cell_type": "markdown",
   "id": "3728989e",
   "metadata": {},
   "source": [
    "# Zadania"
   ]
  },
  {
   "cell_type": "markdown",
   "id": "2c841fb3",
   "metadata": {},
   "source": [
    "### Zadanie 1\n",
    "Wczytaj dane z pliku \"tablice_trygonometryczne.csv\" jako Float, wyczyścić błędy (wpisać zamiast nich NaN) i wykreśl sin(a) oraz ctg(a) przez matplotlib.pyplot i bezpośrednio z pandas."
   ]
  },
  {
   "cell_type": "markdown",
   "id": "0852fcdb",
   "metadata": {},
   "source": [
    "### Zadanie 2\n",
    "Wczytaj dane z pliku Excela tablice_trygonometryczne_i_szumy.xlsx z arkusza szumy i wykreśl dane z poszczególnych kolumn. Przedstaw dane w jak najbardziej przejrzysty sposób. Wykonaj regresję liniową dla kolumn przechowujących szum i wykreśl uzyskane linie trendu."
   ]
  },
  {
   "cell_type": "markdown",
   "id": "8512773d-f4a9-49d3-b811-35016b27c7f9",
   "metadata": {},
   "source": [
    "### Zadanie 3\n",
    "Wczytaj pliki births.xlsx oraz geonames.xlsx i wyświetl korzystając z biblioteki Pandas. Jeżeli dane zawierają wady utrudniające ich odczyt - usuń je korzystając z poznanych mechanizmów. Zapoznaj się z danymi zawartymi w plikach."
   ]
  },
  {
   "cell_type": "code",
   "execution_count": null,
   "id": "cce2db04-9edc-4b33-b68e-02298c564b07",
   "metadata": {},
   "outputs": [],
   "source": []
  }
 ],
 "metadata": {
  "kernelspec": {
   "display_name": "Python 3 (ipykernel)",
   "language": "python",
   "name": "python3"
  },
  "language_info": {
   "codemirror_mode": {
    "name": "ipython",
    "version": 3
   },
   "file_extension": ".py",
   "mimetype": "text/x-python",
   "name": "python",
   "nbconvert_exporter": "python",
   "pygments_lexer": "ipython3",
   "version": "3.12.4"
  }
 },
 "nbformat": 4,
 "nbformat_minor": 5
}
