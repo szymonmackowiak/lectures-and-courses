{
 "cells": [
  {
   "cell_type": "markdown",
   "id": "ea87c5dc-dd0b-4740-84f3-83890077a0c7",
   "metadata": {},
   "source": [
    "# Zadania \n",
    "1. Utwórz funkcje generujące dane i wyświetlające wykresy następujących funkcji:\n",
    "- $a \\cdot sin(b \\cdot x)$\n",
    "- $a \\cdot cos(b \\cdot x)$\n",
    "- $a \\cdot tan(b \\cdot x)$\n",
    "- $a \\cdot ctan(b \\cdot x)$\n",
    "- $ax^2 + bx + c$\n",
    "\n",
    "Jako argument funkcja przyjmuje zakres osi X i Y w których ma wyświetlić wykres. Zadbaj o atrakcyjny format generowanych wykresów."
   ]
  },
  {
   "cell_type": "markdown",
   "id": "2328a5b5-1502-4103-9c21-9f3002ea7e58",
   "metadata": {},
   "source": [
    "# Operacje na plikach\n",
    "\n",
    "Pliki służą do trwałego przechowywania danych. W trakcie działania programu możemy otwierać i odczytywać lub zapisywać informacje w plikach tekstowych korzystająć m. in. z funkcji open(\"nazwa_pliku.txt\", \"tryb\").\n",
    "\n",
    "Aby przeprowadzić odczyt pliku tworzymy zmienną, do której przypisujemy wynik działania fukcji open(). Poniżej przegląd najważniejszych instrukcji:\n",
    "\n",
    "plik = open(\"plik.txt\", \"r\") - otwarcie pliku\n",
    "plik.close() - zamknięcie pliku\n",
    "linia = plik.readline() - odczytywanie pojedynczo linii zapisanych w pliku\n",
    "linie = plik.readlines() - odczytanie wszystkich linii zapisanych w pliku\n",
    "plik.write(\"Wiadomość testowa\\n\") - zapis do pliku zwykłej wiadomości.\n",
    "plik.writelines(linie) - zapis do pliku listy\n",
    "Tryby dostępu do pliku tekstowego\n",
    "\n",
    "Instrukcja open() posiada kilka trybów dostępu do pliku. Dla przypomnienia, aby dokonać odczytu zawartości pliku, warto wynik działania funckji open() przypisać do zmiennej. Funkcja open() ma składnię:\n",
    "\n",
    "plik = open(\"nazwa_plik.rozszerzenie\", \"tryb\") - otwarcie pliku\n",
    "\n",
    "Poniżej opis najważniejszych trybów funkcji open():\n",
    "\n",
    "„r” - tryb odczytu danych. Jeśli plik nie istnieje, zostaje zasygnalizowany błąd.\n",
    "„w” - tryb zapisu danych. Wybrany plik zostaje nadpisany nowymi danymi. Jeśli plik nie istnieje, zostanie utworzony.\n",
    "„a” - tryb zapisu danych. Do wybranego pliku zostają dopisane nowe dane. Jeśli plik nie istnieje, zostanie utworzony.\n",
    "\n",
    "### Zadanie 1\n",
    "\n",
    "Stwórz plik tekstowy z kilkoma wierszami danych, a następnie napisz program, który wypisze zawartość utworzonego pliku do konsoli.\n",
    "\n",
    "### Zadanie 2\n",
    "\n",
    "Napisz program, który tworzy plik i wpisuje liczby od 0-10, każdą w następnej linii, następnie zamyka i otwiera ponownie plik i dopisuje litery alfabetu, każdą następną w nowej linii.\n",
    "\n",
    "### Zadanie 3\n",
    "\n",
    "Napisz program, który wygenerujące dane i zapisze do pliku csv. \n",
    "- $a \\cdot sin(b \\cdot x)$\n",
    "- $a \\cdot cos(b \\cdot x)$\n",
    "- $a \\cdot tan(b \\cdot x)$\n",
    "- $a \\cdot ctan(b \\cdot x)$\n",
    "- $ax^2 + bx + c$\n",
    "\n",
    "### Zadanie 4\n",
    "\n",
    "Napisz program, który wczyta utworzony w poprzednim zadaniu plik csv i wygeneruje na jego podstawie wykrey danych.\n"
   ]
  },
  {
   "cell_type": "markdown",
   "id": "840f74ef-842c-47ee-a513-c00614086fbd",
   "metadata": {},
   "source": [
    "# Numpy\n",
    "\n",
    "Numpy to biblioteka do wykonywania operacji na listach i macierzach. Aby \"szybko\" zapoznać się z jej możliwościami, warto zapoznać się z dokumentem:\n",
    "\n",
    "https://assets.datacamp.com/blog_assets/Numpy_Python_Cheat_Sheet.pdf\n",
    "\n"
   ]
  },
  {
   "cell_type": "markdown",
   "id": "dcc72d58-38e2-4717-ab18-ba27bc8f002d",
   "metadata": {},
   "source": [
    "### Zadanie 5\n",
    "\n",
    "Utworzyć dwie macierze 4x4 i wykonać ich mnożenie.\n",
    "\n",
    "### Zadanie 6\n",
    "\n",
    "Utworzyć dwa wektory 3D i wykonać ich iloczyn skalarni i iloczyn wektorowy.\n",
    "\n",
    "### Zadanie 7\n",
    "\n",
    "Korzystając z biblioteki numpy i matplotlib wykonać wykres 3D powierzchni sin(x)*cos(y)"
   ]
  },
  {
   "cell_type": "code",
   "execution_count": null,
   "id": "3d44e18d-b44c-4d8f-866a-a98736a47ecd",
   "metadata": {},
   "outputs": [],
   "source": []
  }
 ],
 "metadata": {
  "kernelspec": {
   "display_name": "Python 3 (ipykernel)",
   "language": "python",
   "name": "python3"
  },
  "language_info": {
   "codemirror_mode": {
    "name": "ipython",
    "version": 3
   },
   "file_extension": ".py",
   "mimetype": "text/x-python",
   "name": "python",
   "nbconvert_exporter": "python",
   "pygments_lexer": "ipython3",
   "version": "3.12.4"
  }
 },
 "nbformat": 4,
 "nbformat_minor": 5
}
