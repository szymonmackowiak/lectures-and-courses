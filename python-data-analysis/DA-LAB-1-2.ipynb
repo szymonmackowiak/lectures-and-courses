{
 "cells": [
  {
   "cell_type": "markdown",
   "id": "c88adef7",
   "metadata": {},
   "source": [
    "### 1. Programy w Pythonie zazwyczaj zajmują mniej linii kodu\n",
    "\n",
    "**Przykład programu \"Witaj Świecie\" w języku C++:**\n",
    "\n",
    "<pre>\n",
    "#include <iostream>\n",
    "\n",
    "using namesapce std;\n",
    "\n",
    "int main(){\n",
    "    \n",
    "    cout << \"Witaj Świecie!\" << endl;\n",
    "    \n",
    "    return 0;\n",
    "}\n",
    "\n",
    "</pre>\n",
    "\n",
    "\n",
    "**Przykład programu \"Witaj Świecie\" w języku Python:**\n",
    "\n",
    "<pre>\n",
    "\n",
    "print(\"Witaj Świecie!\")\n",
    "\n",
    "</pre>\n",
    "\n"
   ]
  },
  {
   "cell_type": "markdown",
   "id": "ba42f056",
   "metadata": {},
   "source": [
    "# Laboratorium 1: Szybkie przypomnienie podstaw języka Python"
   ]
  },
  {
   "cell_type": "markdown",
   "id": "d341a3c1",
   "metadata": {},
   "source": [
    "---\n",
    "### Zadanie 1\n",
    "Korzystając z języka Python utwórz program, który wyswietli w konsoli tekst \"Witaj Świecie!\"."
   ]
  },
  {
   "cell_type": "markdown",
   "id": "fe8fa3d5",
   "metadata": {},
   "source": [
    "### 2. Python jest typowany dynamicznie (typy danych są dobierane automatycznie)\n",
    "\n",
    "**Przykład deklaracji zmiennych w języku C++:**\n",
    "\n",
    "<pre>\n",
    "int a=1;\n",
    "double x;\n",
    "x=10.5\n",
    "</pre>\n",
    "\n",
    "**Przykład deklaracji zmiennych w języku Python:**\n",
    "\n",
    "<pre>\n",
    "a=1\n",
    "x=10.5\n",
    "\n",
    "type(a) # ta linia wyświetla typ zmiennej \"a\" \n",
    "type(x) # ta linia wyświetla typ zmiennej \"x\"\n",
    "</pre>"
   ]
  },
  {
   "cell_type": "code",
   "execution_count": 10,
   "id": "d7919b97-1500-445f-8bf4-4b78f42ff9ba",
   "metadata": {},
   "outputs": [],
   "source": [
    "a = 1"
   ]
  },
  {
   "cell_type": "code",
   "execution_count": 12,
   "id": "8efd4fa1-b736-4691-8d64-ac7ba2dbe1c3",
   "metadata": {},
   "outputs": [],
   "source": [
    "x = 10.5"
   ]
  },
  {
   "cell_type": "code",
   "execution_count": 36,
   "id": "18d6f14f-3f0e-4e85-95f2-9462e392aae5",
   "metadata": {
    "scrolled": true
   },
   "outputs": [],
   "source": [
    "x = int(x)"
   ]
  },
  {
   "cell_type": "code",
   "execution_count": 32,
   "id": "f2e5c80a-f49d-41d0-aa45-7fb4f8f7f2e8",
   "metadata": {},
   "outputs": [
    {
     "data": {
      "text/plain": [
       "10"
      ]
     },
     "execution_count": 32,
     "metadata": {},
     "output_type": "execute_result"
    }
   ],
   "source": [
    "x"
   ]
  },
  {
   "cell_type": "markdown",
   "id": "65f56364",
   "metadata": {},
   "source": [
    "---\n",
    "### Zadanie 2\n",
    "\n",
    "Utwórz trzy zmienne (np. a=1, b=1.2, c=\"1.3\"). Za pomocą instrukcji type() sprawdź ich typ. Dokonaj zmiany typu danych (rzutowanie) korzystając z instrukcji int(), float() oraz str()."
   ]
  },
  {
   "cell_type": "markdown",
   "id": "5128c4cd",
   "metadata": {},
   "source": [
    "### 3. W Pythonie na końcach linii nie ma średników. \n",
    "\n",
    "**Przykład linii kodu w C++**\n",
    "\n",
    "<pre>\n",
    "x=10;\n",
    "</pre>\n",
    "\n",
    "**Przykład linii kodu w Python:**\n",
    "\n",
    "<pre>\n",
    "x=10\n",
    "</pre>"
   ]
  },
  {
   "cell_type": "markdown",
   "id": "c8a30211",
   "metadata": {},
   "source": [
    "### 4. Komentarze w języku C++ tworzymy za pomocą symbolu // lub bloków /* */, a w języku Python za pomocą symbolu # lub za pomocą bloków \"\"\" \"\"\".\n",
    "\n",
    "**Przykład komentarza w języku C++:**\n",
    "\n",
    "<pre>\n",
    "// to jest komentarz jednoliniowy\n",
    "\n",
    "/*\n",
    "to \n",
    "jest \n",
    "komentarz\n",
    "wieloliniowy\n",
    "*/\n",
    "</pre>\n",
    "\n",
    "**Przykład komentarza w języku Python:**\n",
    "\n",
    "<pre>\n",
    "# to jest komentarz jednolinowy\n",
    "\n",
    "\"\"\"\n",
    "to\n",
    "jest\n",
    "komentarz\n",
    "wieloliniowy\n",
    "\"\"\"\n",
    "</pre>"
   ]
  },
  {
   "cell_type": "markdown",
   "id": "4a8aa0e5",
   "metadata": {},
   "source": [
    "### 5. W języku C++ przynależność do bloków funkcyjnych jest warunkowana klamrami, a w języku Python wcięciem (1 tabulator lub 4 spacje).\n",
    "\n",
    "**Przykład bloku kodu w języku C++:**\n",
    "\n",
    "<pre>\n",
    "if (x>0){\n",
    "\n",
    "count << \"Liczba jest dodatnia\" << endl;\n",
    "\n",
    "}\n",
    "</pre>\n",
    "\n",
    "**Przykład bloku kodu w języku Python:**\n",
    "\n",
    "<pre>\n",
    "if (x>0):\n",
    "    print(\"Liczba jest dodatnia\")\n",
    "\n",
    "</pre>"
   ]
  },
  {
   "cell_type": "markdown",
   "id": "62c6dcaf",
   "metadata": {},
   "source": [
    "### 6. Instrukcje warunkowe wykonujemy korzystając z klauzul if, elif, else:\n",
    "\n",
    "<pre>\n",
    "a=1\n",
    "if(a>0):\n",
    "    print(\"a jest dodatnie\")\n",
    "elif (a=0):\n",
    "    print(\"a wynosi zero\")\n",
    "else:\n",
    "    print(\"a jest ujemne\")\n",
    "</pre>"
   ]
  },
  {
   "cell_type": "markdown",
   "id": "1f97ffb7",
   "metadata": {},
   "source": [
    "---\n",
    "### Zadanie 3\n",
    "Korzystając z instrukcji warunkowych utwórz program, który będzie sprawdzać, czy zadana liczba jest większa, mniejsza lub równa zeru."
   ]
  },
  {
   "cell_type": "code",
   "execution_count": 3,
   "id": "d0386cbf",
   "metadata": {},
   "outputs": [
    {
     "name": "stdout",
     "output_type": "stream",
     "text": [
      "Podaj wartość: -3\n",
      "Liczba jest ujemna\n"
     ]
    }
   ],
   "source": [
    "value = int(input(\"Podaj wartość: \"))\n",
    "if value > 0:\n",
    "    print(\"Liczba jest dodatnia\")\n",
    "elif value < 0: \n",
    "    print(\"Liczba jest ujemna\")\n",
    "else:\n",
    "    print(\"Liczba jest rówana zeru!\")"
   ]
  },
  {
   "cell_type": "markdown",
   "id": "868b49fb",
   "metadata": {},
   "source": [
    "### 7. W Pythonie zamiast tablic często korzystamy z list. Lista może przechowywać dane różnego typu (w odróżnieniu od tablic w C++).\n",
    "\n",
    "<pre>\n",
    "lista = []\n",
    "lista.append(2)\n",
    "lista.append(4)\n",
    "lista.append(\"a\")\n",
    "lista.append([3, 5, 7])\n",
    "print(lista)\n",
    "</pre>"
   ]
  },
  {
   "cell_type": "code",
   "execution_count": 46,
   "id": "e424bc43-1ba2-4481-9fd7-409cc52a14f1",
   "metadata": {},
   "outputs": [],
   "source": [
    "lista = [4, 8, 12, 43, 56, 112]"
   ]
  },
  {
   "cell_type": "code",
   "execution_count": 84,
   "id": "6f01adc1-784b-4d4c-976d-8a3e788a1762",
   "metadata": {},
   "outputs": [
    {
     "data": {
      "text/plain": [
       "'B'"
      ]
     },
     "execution_count": 84,
     "metadata": {},
     "output_type": "execute_result"
    }
   ],
   "source": [
    "lista.pop(0)"
   ]
  },
  {
   "cell_type": "code",
   "execution_count": 88,
   "id": "d6e0ebbf-ebe0-4105-99f4-41dc53b1bfdc",
   "metadata": {},
   "outputs": [
    {
     "data": {
      "text/plain": [
       "['A', 8, 12, 43, 56, 112, 1000, 'Witaj Świecie!', [1, 2, 3]]"
      ]
     },
     "execution_count": 88,
     "metadata": {},
     "output_type": "execute_result"
    }
   ],
   "source": [
    "lista"
   ]
  },
  {
   "cell_type": "code",
   "execution_count": 124,
   "id": "6bb66493-9d62-42d4-a5aa-e6b9aceaa26b",
   "metadata": {},
   "outputs": [],
   "source": [
    "lista_3 = lista[0:2]"
   ]
  },
  {
   "cell_type": "code",
   "execution_count": 132,
   "id": "22564612-35c1-4435-93ec-2dae6372a3d3",
   "metadata": {},
   "outputs": [],
   "source": [
    "wynik = lista.index(56)"
   ]
  },
  {
   "cell_type": "code",
   "execution_count": 136,
   "id": "a64d1e31-83d1-4ac4-8d5f-f54c47f822ac",
   "metadata": {},
   "outputs": [],
   "source": [
    "wynik1, wynik2 = 5, 6"
   ]
  },
  {
   "cell_type": "code",
   "execution_count": 140,
   "id": "c53cc9f1-80e5-4f05-aa89-368e42cf89e6",
   "metadata": {},
   "outputs": [
    {
     "data": {
      "text/plain": [
       "6"
      ]
     },
     "execution_count": 140,
     "metadata": {},
     "output_type": "execute_result"
    }
   ],
   "source": [
    "wynik2"
   ]
  },
  {
   "cell_type": "markdown",
   "id": "edf322ba",
   "metadata": {},
   "source": [
    "---\n",
    "### Zadanie 4\n",
    "Utwórz listę zawierającą 7 elementów. Na koniec dodaj jeszcze jeden element równy 100 za pomocą metody append(). Następnie wywołaj pierwszy element, ostatni element oraz przekrój od drugiego do piątego elementu."
   ]
  },
  {
   "cell_type": "markdown",
   "id": "8522ce9f",
   "metadata": {},
   "source": [
    "### 8. W Pythonie oprócz list często korzysta się z:\n",
    "- krotek (listy o niezmiennych elementach)\n",
    "<pre>\n",
    "krotka = (1, 2, 3)\n",
    "</pre>\n",
    "- słowników (nieuporządkowane zbiory par klucz-wartość)\n",
    "<pre>\n",
    "slownik = {\"styczeń\":1, \"luty\":2, \"marzec\":3}\n",
    "</pre>\n",
    "- łańcuchów znaków\n",
    "<pre>\n",
    "slowo = \"Politechnika Poznańska\"\n",
    "</pre>\n",
    "- zbiorów (kolekcje nieuporządkowanych, unikatowych elementów)\n",
    "<pre>\n",
    "zbior_1 = {1, 2, 3, 4, 4, 4}\n",
    "zbior_2 = {3, 4, 5, 6}\n",
    "zbior_1.union(zbior_2)\n",
    "</pre>"
   ]
  },
  {
   "cell_type": "code",
   "execution_count": 152,
   "id": "5beb32d3-5035-4f52-abe2-f51f45d483a7",
   "metadata": {},
   "outputs": [],
   "source": [
    "krotka = (4, 2, 3)"
   ]
  },
  {
   "cell_type": "code",
   "execution_count": 150,
   "id": "91704cf7-5cf3-47ac-9485-541d2310cf62",
   "metadata": {},
   "outputs": [
    {
     "ename": "AttributeError",
     "evalue": "'tuple' object has no attribute 'copy'",
     "output_type": "error",
     "traceback": [
      "\u001b[0;31m---------------------------------------------------------------------------\u001b[0m",
      "\u001b[0;31mAttributeError\u001b[0m                            Traceback (most recent call last)",
      "Cell \u001b[0;32mIn[150], line 1\u001b[0m\n\u001b[0;32m----> 1\u001b[0m krotka2 \u001b[38;5;241m=\u001b[39m krotka\u001b[38;5;241m.\u001b[39mcopy()\n",
      "\u001b[0;31mAttributeError\u001b[0m: 'tuple' object has no attribute 'copy'"
     ]
    }
   ],
   "source": [
    "krotka2 = krotka.copy()"
   ]
  },
  {
   "cell_type": "code",
   "execution_count": 166,
   "id": "45a585fc-d931-4c81-b10d-ee64180de86b",
   "metadata": {},
   "outputs": [],
   "source": [
    "slownik = {100:\"styczeń\", 200:\"luty\", 300:\"marzec\"}"
   ]
  },
  {
   "cell_type": "code",
   "execution_count": 170,
   "id": "97c855c8-bc9b-4cd4-aa72-7514aaee4742",
   "metadata": {},
   "outputs": [
    {
     "data": {
      "text/plain": [
       "'marzec'"
      ]
     },
     "execution_count": 170,
     "metadata": {},
     "output_type": "execute_result"
    }
   ],
   "source": [
    "slownik[300]"
   ]
  },
  {
   "cell_type": "code",
   "execution_count": 172,
   "id": "2578ff16-4cf7-4dfd-88b9-0e8376c2b284",
   "metadata": {},
   "outputs": [],
   "source": [
    "slowo = \"Politechnika\""
   ]
  },
  {
   "cell_type": "code",
   "execution_count": 176,
   "id": "70327cbc-e0b7-4418-99c5-18e78d2b98a7",
   "metadata": {},
   "outputs": [
    {
     "data": {
      "text/plain": [
       "'o'"
      ]
     },
     "execution_count": 176,
     "metadata": {},
     "output_type": "execute_result"
    }
   ],
   "source": [
    "slowo[1]"
   ]
  },
  {
   "cell_type": "markdown",
   "id": "468366b3",
   "metadata": {},
   "source": [
    "---\n",
    "### Zadanie 5\n",
    "Utwórz krotkę złożoną z elementóe 1, 2, 3, a następnie spróbuj zmienić pierwszy element w krotce na 10."
   ]
  },
  {
   "cell_type": "markdown",
   "id": "931d6d93",
   "metadata": {},
   "source": [
    "---\n",
    "### Zadanie 6\n",
    "Utwórz słownik tłumaczący nazwy tekstowe miesięcy na ich numery porządkowe, a następnie wywołaj wartość dla klucza \"luty\", \"sierpień\" i \"listopad\"."
   ]
  },
  {
   "cell_type": "markdown",
   "id": "fef2d22f",
   "metadata": {},
   "source": [
    "---\n",
    "### Zadanie 7\n",
    "\n",
    "Utwórz łańcuch znaków (np. \"Politechnika Poznańska\"), a następnie wywołaj pierwszy element, ostatni element oraz przekrój od drugiego do piątego elementu. "
   ]
  },
  {
   "cell_type": "markdown",
   "id": "560fe4ed",
   "metadata": {},
   "source": [
    "---\n",
    "### Zadanie 8\n",
    "Utwórz dwa zbiory dowolnych elementów, a następnie wyświetl ich sumę."
   ]
  },
  {
   "cell_type": "markdown",
   "id": "9656d636",
   "metadata": {},
   "source": [
    "### 9. W Pythonie pętla \"for\" z ustalonym licznikiem ma następującą składnię:\n",
    "<pre>\n",
    "for i in range(3, 10, 2):\n",
    "    print(i)\n",
    "</pre>\n",
    "W funkcji range(a, b, c): a-start, b-koniec, c-krok."
   ]
  },
  {
   "cell_type": "code",
   "execution_count": 192,
   "id": "12fcc6b1-b9ea-4296-821b-a7d36023af94",
   "metadata": {},
   "outputs": [
    {
     "name": "stdout",
     "output_type": "stream",
     "text": [
      "3\n",
      "4\n",
      "5\n",
      "6\n",
      "7\n",
      "8\n",
      "9\n",
      "10\n"
     ]
    }
   ],
   "source": [
    "for i in range(3, 11):\n",
    "    print(i)"
   ]
  },
  {
   "cell_type": "code",
   "execution_count": 182,
   "id": "b131f398-fc4c-4af8-8600-43890291d44a",
   "metadata": {},
   "outputs": [],
   "source": [
    "lista = [100, 300, 281, 332, 123, 134]"
   ]
  },
  {
   "cell_type": "code",
   "execution_count": 188,
   "id": "5f006a08-ff0a-459d-92a4-13ababd6214c",
   "metadata": {},
   "outputs": [
    {
     "name": "stdout",
     "output_type": "stream",
     "text": [
      "0 100\n",
      "1 300\n",
      "2 281\n",
      "3 332\n",
      "4 123\n",
      "5 134\n"
     ]
    }
   ],
   "source": [
    "for index, item in enumerate(lista):\n",
    "    print(index, item)"
   ]
  },
  {
   "cell_type": "markdown",
   "id": "5d593502",
   "metadata": {},
   "source": [
    "---\n",
    "### Zadanie 9\n",
    "Korzystając z pętli for z ustalonym licznikiem wyświetl wartości licznika od 2 do 17 ze zmianą wartości licznika co 3."
   ]
  },
  {
   "cell_type": "markdown",
   "id": "8895d1c8",
   "metadata": {},
   "source": [
    "### 10. W Pythonie pętla \"for\" dla typów wyliczeniowych ma postać:\n",
    "<pre>\n",
    "lista = [2, 4, 'a', [3, 5, 7]]\n",
    "\n",
    "for item in lista:\n",
    "    print(item)\n",
    "</pre>\n",
    "\n",
    "lub \n",
    "\n",
    "<pre>\n",
    "for index, item in enumerate(lista):\n",
    "    print(index, item)\n",
    "</pre>\n",
    "\n",
    "Powyższy schemat zapewnia indeksowanie wybieranych elementów."
   ]
  },
  {
   "cell_type": "markdown",
   "id": "e0551188",
   "metadata": {},
   "source": [
    "### Zadanie 10\n",
    "Wyświetl elementy następującej listy: lista = [2, 4, 'a', [3, 5, 7]]. W pierwszej wersji wyświetl tylko wszystkie elementy przechowywane przez listę, a w drugiej (korzystając z polecenia enumerate()) wyświetl elementy listy wraz z przypisanymi im indeksami."
   ]
  },
  {
   "cell_type": "markdown",
   "id": "2071b017",
   "metadata": {},
   "source": [
    "### 11. W Pythonie pętla \"while\" ma składnię:\n",
    "\n",
    "<pre>\n",
    "a=0\n",
    "while(a < 10):\n",
    "    print(a)\n",
    "    a=a+1\n",
    "</pre>\n",
    "\n",
    "Każdą pętlę można wzbogacić o instrukcje \"break\" i \"continue\". Instrukcja \"break\" przerywa działanie pętli, instrukcja \"continue\" wywołuje pominięcie aktualnego kroku i przejście do kolejnego kroku pętli.\n",
    "\n",
    "<pre>\n",
    "a=0\n",
    "while(a < 10):\n",
    "    if a==3:\n",
    "        break\n",
    "    print(a)\n",
    "    a=a+1\n",
    "</pre>\n",
    "\n",
    "Powyższa pętla zostaje przerwana.\n",
    "\n",
    "<pre>\n",
    "\n",
    "a=0\n",
    "while(a < 10):\n",
    "    if a==3:\n",
    "        a=a+1\n",
    "        continue\n",
    "    print(a)\n",
    "    a=a+1\n",
    "\n",
    "</pre>\n",
    "\n",
    "Wskazany krok w pętli zostaje pominięty i pętla przechodzi do kolejnego kroku."
   ]
  },
  {
   "cell_type": "markdown",
   "id": "5b0b5877",
   "metadata": {},
   "source": [
    "---\n",
    "### Zadanie 11\n",
    "Utwórz pętlę while, która wyświetli liczby od 0 do 10. Następnie wprowadź do utworzonej pętli instrukcje continue (pominięcie danego kroku) oraz instrukcę break (przerwanie działania pętli)."
   ]
  },
  {
   "cell_type": "code",
   "execution_count": 230,
   "id": "b75e83f4-26f6-4507-849b-e2479b484b34",
   "metadata": {},
   "outputs": [],
   "source": [
    "def powitanie(imie=\"Szymon\"):\n",
    "    \"\"\"\n",
    "    Instrukcja jak używać tej funkcji....\n",
    "\n",
    "    \"\"\"\n",
    "    print(f\"Witaj {imie}\")\n",
    "    return f\"Witaj {imie}\", 10, 100"
   ]
  },
  {
   "cell_type": "code",
   "execution_count": 232,
   "id": "0e532221-c4dd-4a87-acef-0560589d1235",
   "metadata": {},
   "outputs": [
    {
     "name": "stdout",
     "output_type": "stream",
     "text": [
      "Help on function powitanie in module __main__:\n",
      "\n",
      "powitanie(imie='Szymon')\n",
      "    Instrukcja jak używać tej funkcji....\n",
      "\n"
     ]
    }
   ],
   "source": [
    "help(powitanie)"
   ]
  },
  {
   "cell_type": "code",
   "execution_count": 220,
   "id": "50913f2c-6b21-4a6e-8cc5-6e128828e6b9",
   "metadata": {},
   "outputs": [
    {
     "data": {
      "text/plain": [
       "100"
      ]
     },
     "execution_count": 220,
     "metadata": {},
     "output_type": "execute_result"
    }
   ],
   "source": [
    "c"
   ]
  },
  {
   "cell_type": "markdown",
   "id": "2079795b",
   "metadata": {},
   "source": [
    "### 12. Funkcje w Pythonie mają następującą składnię:\n",
    "\n",
    "<pre>\n",
    "def powitanie(a, b):\n",
    "    print(\"Witaj Świecie\")\n",
    "    return a+b, a, b #opcjonalnie\n",
    "</pre>\n",
    "\n",
    "Funkcja może posiadać argumenty o wartościach domyślnych oraz może zawierać w sobie komentarze:\n",
    "\n",
    "<pre>\n",
    "def jakas_funkcja(a, b, c=1):\n",
    "    \n",
    "    \"\"\"To jest komentarz do działania tej funkcji\"\"\"\n",
    "    \n",
    "    d=a+b\n",
    "    e=b*c\n",
    "    return d, e\n",
    "</pre>"
   ]
  },
  {
   "cell_type": "markdown",
   "id": "3337cb8f",
   "metadata": {},
   "source": [
    "---\n",
    "### Zadanie 12\n",
    "Utwórz funkcję, która wyświetli w konsoli komunikat \"Witaj Świecie!\"."
   ]
  },
  {
   "cell_type": "markdown",
   "id": "2633ec18",
   "metadata": {},
   "source": [
    "---\n",
    "### Zadanie 13\n",
    "Utwórz funkcję, która przyjmie trzy argumenty: a, b i c, a następnie zwróci a+b oraz b*c. Niech argument c ma wartość domyślną 1. Dodatkowo utwórz w obrębie funkcji tekst pomocy."
   ]
  },
  {
   "cell_type": "markdown",
   "id": "eaa24449",
   "metadata": {},
   "source": [
    "### 13. Składnia tworzenia klas jest następująca:\n",
    "\n",
    "<pre>\n",
    "class Student:\n",
    "    def __init__(self, imie, nazwisko):\n",
    "        self.imie = imie\n",
    "        self.nazwisko = nazwisko\n",
    "        self.__pin = 1234 \n",
    "    \n",
    "    def przedstaw_sie(self):\n",
    "        print(\"Dzień dobry\")\n",
    "        \n",
    "    def __zdradz_haslo(self):\n",
    "        print(\"admin1\")\n",
    "        \n",
    "\n",
    "s1 = Student(\"Jan\", \"Nowak\")\n",
    "s1.imie\n",
    "\n",
    "</pre>\n",
    "\n",
    "Prywatność atrybutów lub metod wskazujemy za pomocą podwójnego podkreślenia."
   ]
  },
  {
   "cell_type": "markdown",
   "id": "84552935",
   "metadata": {},
   "source": [
    "---\n",
    "### Zadanie 14\n",
    "Utwórz klasę Student. Klasa niech posiada pola publiczne \"imie\" i \"nazwisko\" oraz pole prywatne \"pin\". Klasa niech posiada konstruktor, publiczną metodę \"przedstaw_sie\" która wyświetli komunikat \"Dzień dobry!\" oraz prywatną metodę \"zdradz_haslo\".  "
   ]
  },
  {
   "cell_type": "markdown",
   "id": "63a08ae4",
   "metadata": {},
   "source": [
    "### 14. Dziedziczenie jest realizowane poprzez wskazanie klasy bazowej w nawiasie podczas tworzenia nowej klasy:\n",
    "\n",
    "<pre>\n",
    "class Samorzadowiec(Student):\n",
    "    pass\n",
    "    \n",
    "s1 = Samorzadowiec(\"Jan\", \"Nowak\")\n",
    "s1.imie\n",
    "</pre>"
   ]
  },
  {
   "cell_type": "markdown",
   "id": "575a2341",
   "metadata": {},
   "source": [
    "---\n",
    "### Zadanie 15\n",
    "Utwórz klasę Samorzadowiec dziedziczącą całą implementację po klasie Student."
   ]
  },
  {
   "cell_type": "markdown",
   "id": "393b8ceb",
   "metadata": {},
   "source": [
    "### 15. Do analizy danych warto zwrócić uwagę na następujące biblioteki:\n",
    "\n",
    "- numpy (obliczenia numeryczne)\n",
    "- pandas (działania na tabelach)\n",
    "- matplotlib (wykresy)\n",
    "- seaborn (wykresy)\n",
    "\n",
    "Przykład wykresu:\n",
    "<pre>\n",
    "import matplotlib.pyplot as plt\n",
    "\n",
    "t = [0, 1, 2, 3, 4, 5, 6, 7, 8]\n",
    "x = [1, 2, 3, 4, 5, 4, 3, 2, 1]\n",
    "y = [3, 3, 3, 3, 3, 3, 3, 3, 3]\n",
    "\n",
    "plt.plot(t, x, '.-r', t, y, 'd-b')\n",
    "plt.xlabel(\"argument [jednostka]\", fontsize = 15, font = \"Times New Roman\")\n",
    "plt.ylabel(\"wartość [jednostka]\", fontsize = 15, font = \"Times New Roman\")\n",
    "plt.xlim(0, 8)\n",
    "plt.ylim(1, 5)\n",
    "plt.title(\"Jakiś Wykres\", fontsize = 20, font = \"Times New Roman\")\n",
    "plt.legend([\"linia-A\", \"linia-B\"])\n",
    "plt.grid(True, color=\"0.9\")\n",
    "plt.show()\n",
    "</pre>"
   ]
  },
  {
   "cell_type": "code",
   "execution_count": 138,
   "id": "032077a7-f9e4-47d6-8f86-87078b6b50ec",
   "metadata": {},
   "outputs": [
    {
     "data": {
      "image/png": "[encoded data removed]",
      "text/plain": [
       "<Figure size 640x480 with 1 Axes>"
      ]
     },
     "metadata": {},
     "output_type": "display_data"
    }
   ],
   "source": [
    "t = [0, 1, 2, 3, 4, 5, 6, 7, 8]\n",
    "x = [1, 2, 3, 4, 5, 4, 3, 2, 1]\n",
    "y = [3, 3, 3, 3, 3, 3, 3, 3, 3]\n",
    "\n",
    "import matplotlib.pyplot as plt\n",
    "\n",
    "plt.plot(t, x, 'b--', t, y, 'r.-')\n",
    "plt.show()"
   ]
  },
  {
   "cell_type": "markdown",
   "id": "cac75964",
   "metadata": {},
   "source": [
    "---\n",
    "# Zadania do pracy samodzielnej\n",
    "\n",
    "1. Utwórz program do obliczania obwodu i pola prostokąta. Program przyjmuje od użytkownika z klawiatury dwie liczby (bok a i b), a następnie wyświetla w konsoli obliczone wartości obwodu i pola prostokąta.\n",
    "2. Utwórz program do sprawdzania, czy liczba jest pierwsza. Użytkownik podaje w konsoli liczbę, a program sprawdza czy wprowadzona liczba jest pierwsza i zwraca stosowny komunikat.\n",
    "3. Utwórz program do sprawdzania BMI. Użytkownik podaje swój wzrost i masę, a program oblicza BMI i zwraca informację, czy wprowadzone wartości wskazują na nadwagę, niedowagę, czy wagę prawidłową.\n",
    "4. Utwórz program do nauki tabliczki mnożenia. Program losuje dwie liczby i pyta użytkownika o wynik. Po przyjęciu odpowiedzi porównuje ją z prawdziwym wynikiem i zwraca stosowny komunikat oraz zalicza bądź odejmuje punkty. Program wykorzystuje pętle i oblicza statystyki gracza, które wyświetlają się na koniec działania programu.\n",
    "5. Utwórz funkcję do wyznaczania pierwiastków trójmianu kwadratowego. Funkcja przyjmuje czynniki a, b i c, a zwraca obliczone pierwiastki.\n",
    "6. Utwórz funkcję do wyznaczania średniej i odchylenia standardowego z listy.\n",
    "7. Utwórz klasę Ułamek. Klasa ma mieć metody umożliwiające dodawanie, odejmowanie, mnożenie i dzielenie ułamków.\n",
    "8. Utwórz klasę Wektor. Klasa ma mieć metody umożliwiające dodawanie, odejmowanie, mnożenie przez liczbę, iloczyn skalarny oraz obliczanie modułu z wektora. \n",
    "9. Korzystając z biblioteki matplotlib sporządź na jednym wykresie obrazy funkcji x(t) oraz y(t). Niech obie zależności będą przedstawione liniami o różnych kolorach i stylach. Opisz osie, dodaj tytuł, legendę oraz siatkę pomocniczą wykresu.\n",
    "10. Utwórz funkcje generujące dane i wyświetlające wykresy następujących funkcji:\n",
    "- $a \\cdot sin(b \\cdot x)$\n",
    "- $a \\cdot cos(b \\cdot x)$\n",
    "- $a \\cdot tan(b \\cdot x)$\n",
    "- $a \\cdot ctan(b \\cdot x)$\n",
    "- $ax^2 + bx + c$\n",
    "\n",
    "Jako argument funkcja przyjmuje zakres osi X i Y w których ma wyświetlić wykres. Zadbaj o atrakcyjny format generowanych wykresów."
   ]
  },
  {
   "cell_type": "markdown",
   "id": "e0539c1e-74b8-41e7-b0f5-aeb24d8a3363",
   "metadata": {},
   "source": [
    "### Zadanie 7"
   ]
  },
  {
   "cell_type": "code",
   "execution_count": 78,
   "id": "7d7e0c69-8766-4ee9-a5e4-7610db7882fb",
   "metadata": {},
   "outputs": [],
   "source": [
    "class Ulamek:\n",
    "    def __init__(self, licznik, mianownik):\n",
    "        self.licznik = licznik\n",
    "        self.mianownik = mianownik\n",
    "    def __str__(self):\n",
    "        return f\"{self.licznik}/{self.mianownik}\"\n",
    "    def zwieksz(self, other):\n",
    "        self.licznik = self.licznik*other.mianownik + self.mianownik*other.licznik\n",
    "        self.mianownik = self.mianownik*other.mianownik\n",
    "    def zwieksz(self, other):\n",
    "        self.licznik = self.licznik*other.mianownik - self.mianownik*other.licznik\n",
    "        self.mianownik = self.mianownik*other.mianownik\n",
    "    def __add__(self, other):\n",
    "        licznik = self.licznik*other.mianownik + self.mianownik*other.licznik\n",
    "        mianownik = self.mianownik*other.mianownik\n",
    "        return Ulamek(licznik, mianownik)\n",
    "\n",
    "# __sub__, __mul__, __truediv__\n",
    "    "
   ]
  },
  {
   "cell_type": "code",
   "execution_count": 80,
   "id": "80470573-cb4f-4b57-b23b-b8f55438b78e",
   "metadata": {},
   "outputs": [],
   "source": [
    "u1 = Ulamek(1, 2)\n",
    "u2 = Ulamek(3, 4)"
   ]
  },
  {
   "cell_type": "code",
   "execution_count": 82,
   "id": "47b65f7a-390c-4601-b71c-6e88ae3eeb80",
   "metadata": {},
   "outputs": [],
   "source": [
    "u1.zwieksz(u2)\n",
    "\n",
    "u1+u2"
   ]
  },
  {
   "cell_type": "code",
   "execution_count": 86,
   "id": "311959a3-03ec-48a8-ba36-3f4e5fb45808",
   "metadata": {},
   "outputs": [
    {
     "name": "stdout",
     "output_type": "stream",
     "text": [
      "10/8\n"
     ]
    }
   ],
   "source": [
    "print(u1+u2)"
   ]
  },
  {
   "cell_type": "code",
   "execution_count": 64,
   "id": "0b7ef1f4-0f75-4435-b315-fc7400e06a69",
   "metadata": {},
   "outputs": [
    {
     "name": "stdout",
     "output_type": "stream",
     "text": [
      "3/4\n"
     ]
    }
   ],
   "source": [
    "print(u2)"
   ]
  },
  {
   "cell_type": "markdown",
   "id": "23fd8c79-0bf4-4e79-a72c-3b2577134ad2",
   "metadata": {},
   "source": [
    "### Zadanie 8"
   ]
  },
  {
   "cell_type": "code",
   "execution_count": 90,
   "id": "4e2656ac-aee7-42bc-a713-c51fa2c0bb99",
   "metadata": {},
   "outputs": [],
   "source": [
    "class Vect2D:\n",
    "    def __init__(self, x, y):\n",
    "        self.x = x\n",
    "        self.y = y\n",
    "    def __str__(self):\n",
    "        return f\"[{self.x}, {self.y}]\"\n",
    "    def __add__(self, other):\n",
    "        new_x = self.x + other.x\n",
    "        new_y = self.y + other.y\n",
    "        return Vect2D(new_x, new_y)\n",
    "    def __sub__(self, other):\n",
    "        new_x = self.x - other.x\n",
    "        new_y = self.y - other.y\n",
    "        return Vect2D(new_x, new_y)\n",
    "    def mult(self, a):\n",
    "        self.licznik = self.licznik * a\n",
    "        self.mianownik = self.mianownik * a\n",
    "    def __mul__(self, other):\n",
    "        return self.x*other.x + self.y*other.y\n",
    "    def modul(self):\n",
    "        return (self.x**2 + self.y**2)**0.5"
   ]
  },
  {
   "cell_type": "code",
   "execution_count": null,
   "id": "46cd5fdb-58cc-4d19-bf1a-c95c59b2f437",
   "metadata": {},
   "outputs": [],
   "source": []
  }
 ],
 "metadata": {
  "kernelspec": {
   "display_name": "Python 3 (ipykernel)",
   "language": "python",
   "name": "python3"
  },
  "language_info": {
   "codemirror_mode": {
    "name": "ipython",
    "version": 3
   },
   "file_extension": ".py",
   "mimetype": "text/x-python",
   "name": "python",
   "nbconvert_exporter": "python",
   "pygments_lexer": "ipython3",
   "version": "3.12.4"
  }
 },
 "nbformat": 4,
 "nbformat_minor": 5
}
