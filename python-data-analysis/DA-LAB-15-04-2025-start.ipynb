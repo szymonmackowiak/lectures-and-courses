{
 "cells": [
  {
   "cell_type": "code",
   "execution_count": 2,
   "id": "50dfc576-6433-4f53-a618-345939a79e67",
   "metadata": {},
   "outputs": [],
   "source": [
    "def regresssion_linear_plot(X, y, coefs):\n",
    "    plt.figure(figsize=(10,6))\n",
    "    plt.scatter(X, y, color='r', marker='o' , s=30)\n",
    "    \n",
    "    y_pred = coefs[0]*X + coefs[1]\n",
    "    plt.plot(X, y_pred, color='b')\n",
    "\n",
    "    plt.title('Linear Regression')\n",
    "    plt.xlabel('X')\n",
    "    plt.ylabel('y')\n",
    "    plt.grid('on')\n",
    "    plt.show()"
   ]
  },
  {
   "cell_type": "code",
   "execution_count": 5,
   "id": "6bf7141f-95e6-4db3-a76b-dd3f021d3afd",
   "metadata": {},
   "outputs": [],
   "source": [
    "def scatter_line_plot(xs, ys, x, y):\n",
    "    plt.figure(figsize=(10,6))\n",
    "    plt.scatter(xs, ys, color='r', marker='o' , s=30)\n",
    "    plt.plot(x, y, color='b')\n",
    "    plt.xlabel('X')\n",
    "    plt.ylabel('y')\n",
    "    plt.grid('on')\n",
    "    plt.show()"
   ]
  },
  {
   "cell_type": "code",
   "execution_count": 8,
   "id": "edf222f7-2a30-4806-aded-047f7fed81d9",
   "metadata": {},
   "outputs": [],
   "source": [
    "def sort_points(x, y):\n",
    "    sorted_zip = sorted(zip(x, y))\n",
    "    x_, y_ = zip(*sorted_zip)\n",
    "    return x_, y_"
   ]
  },
  {
   "cell_type": "code",
   "execution_count": 11,
   "id": "e8a9359a-a6d8-434e-906b-a2015c7f1bce",
   "metadata": {},
   "outputs": [],
   "source": [
    "url = 'https://raw.githubusercontent.com/erkansirin78/datasets/refs/heads/master/Advertising.csv'"
   ]
  },
  {
   "cell_type": "markdown",
   "id": "4f01aa50-b11b-4fff-9608-d4771f355ba9",
   "metadata": {},
   "source": [
    "### Zadania\n",
    "\n",
    "1. Wczytaj dane zamieszczone pod adresem URL i wstaw je do ramki danych.\n",
    "2. Wyświetl ich nagłówek i wykonaj inne proste statystyki (korzystając z biblioteki Pandas).\n",
    "3. Korzystając z funkcji pearsonr z modułu scipy.stats zbadaj współczynniki korelacji pomiędzy kolumnami w ramce danych.\n",
    "4. Utwórz mapę korelacji i wybierz cechę (kolumnę) która wykazuje najwyższy współczynnik korelacji z kolumną celu ('Sales').\n",
    "5. Utwórz model regresji liniowej dla wybranych kolumn i oceń go za pomocą metryk R2, MSE, RMSE, MAE."
   ]
  },
  {
   "cell_type": "code",
   "execution_count": null,
   "id": "d2269ac6-e677-4fd5-b5ab-e5a9723d2067",
   "metadata": {},
   "outputs": [],
   "source": []
  }
 ],
 "metadata": {
  "kernelspec": {
   "display_name": "Python 3 (ipykernel)",
   "language": "python",
   "name": "python3"
  },
  "language_info": {
   "codemirror_mode": {
    "name": "ipython",
    "version": 3
   },
   "file_extension": ".py",
   "mimetype": "text/x-python",
   "name": "python",
   "nbconvert_exporter": "python",
   "pygments_lexer": "ipython3",
   "version": "3.12.4"
  }
 },
 "nbformat": 4,
 "nbformat_minor": 5
}
