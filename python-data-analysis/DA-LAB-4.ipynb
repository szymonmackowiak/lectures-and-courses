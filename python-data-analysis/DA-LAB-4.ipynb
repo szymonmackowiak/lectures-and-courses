{
 "cells": [
  {
   "cell_type": "markdown",
   "id": "5dbb2dbf-70ae-4599-9e71-1e097e5d0aed",
   "metadata": {},
   "source": [
    "# Zródła danych"
   ]
  },
  {
   "cell_type": "markdown",
   "id": "1344b944-2179-402c-838f-64ba30206848",
   "metadata": {},
   "source": [
    "Pośród różnych dostępnych źródeł, w szczególności warto zwrócić uwagę na:\n",
    "- https://www.kaggle.com\n",
    "- https://github.com\n",
    "- https://scikit-learn.org\n",
    "- https://dane.gov.pl/pl\n",
    "- https://stat.gov.pl/banki-i-bazy-danych/"
   ]
  },
  {
   "cell_type": "markdown",
   "id": "52b0021f-540f-40b8-a5a7-22b48287413a",
   "metadata": {},
   "source": [
    "# Zbiory danych"
   ]
  },
  {
   "cell_type": "markdown",
   "id": "5db25ed0-1efd-42b8-af5d-0bb794e26b72",
   "metadata": {},
   "source": [
    "W ramach naszych ćwiczeń z Pythonem, szczególną uwaglę poświęcimy następującym zbiorom danych:\n",
    "- Titanic Dataset https://github.com/datasciencedojo/datasets/blob/master/titanic.csv\n",
    "- Iris Dataset\n",
    "- Wine Quality Dataset\n",
    "- Diabetes Dataset\n",
    "- MNIST digits Dataset\n",
    "- Heart Disease Dataset\n",
    "- California Housing Dataset"
   ]
  },
  {
   "cell_type": "code",
   "execution_count": null,
   "id": "63ef2574-00c6-4eea-b155-56f6112000c8",
   "metadata": {},
   "outputs": [],
   "source": []
  }
 ],
 "metadata": {
  "kernelspec": {
   "display_name": "Python 3 (ipykernel)",
   "language": "python",
   "name": "python3"
  },
  "language_info": {
   "codemirror_mode": {
    "name": "ipython",
    "version": 3
   },
   "file_extension": ".py",
   "mimetype": "text/x-python",
   "name": "python",
   "nbconvert_exporter": "python",
   "pygments_lexer": "ipython3",
   "version": "3.12.4"
  }
 },
 "nbformat": 4,
 "nbformat_minor": 5
}
