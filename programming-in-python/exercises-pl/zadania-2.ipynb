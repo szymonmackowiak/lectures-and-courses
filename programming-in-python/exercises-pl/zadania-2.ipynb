{
 "cells": [
  {
   "cell_type": "markdown",
   "metadata": {},
   "source": [
    "# Typy sekwencyjne\n",
    "\n",
    "Typy sekwencyjne pozwalają na zapis w jednej zmiennej wielu wartości. Do najważniejszych typów sekwencyjnych należą:\n",
    "- listy\n",
    "- krotki\n",
    "- łańcuchy znaków\n",
    "- słowniki\n",
    "- zbiory\n",
    "\n",
    "Poszczególne typy sekwencyne różnią się szczegółami technicznymi oraz potencjalnymi zastosowaniami. Do najważniejszych różnic zaliczyć można:\n",
    "- różne sposoby dostępu do poszczególnych wartości (indeks lub klucz), \n",
    "- możliwość późniejszych modyfikacji przechowywaia wartości lub dodawania nowych (listy i słowniki są mutowalne, krotki, łańcuchy znaków i zbiory nie),\n",
    "- typami danych jakie przechowują (możliwość przechowywania danych o różnych lub o identycznych typach).\n",
    "\n",
    "# Listy\n",
    "\n",
    "Lista - przechowuje wiele wartości, do których posiadamy dostęp przez tzw. indeks.\n",
    "Przykład:\n",
    "a = [3, 7, 2, 8, 10]\n",
    "\n",
    "Pierwszy element ma indeks 0. Do ostatniego elementu tablicy możemy uzyskać dostęp wprowadzając jako indeks długość listy pomniejszoną o 1 (len(nazwa_listy)-1). Indeksy mogą mieć wartości ujemne - wówczas -1 odnosci się do ostatniego elementu tablicy. Zakres elementów (podzbiór z listy) wyświetlamy korzystając z dwukropka (składnia: nazwa_listy[0:3] - instrukcja zwróci pierwsze 3 wartości przechowywane w liście).\n",
    "\n",
    "Przegląd najważniejszych metod i funkcji działających na listach:\n",
    "\n",
    "- append() - dodawanie elementu do listy (składnia: nazwa_listy.append(wartosc))\n",
    "- del - usuwanie elementu listy (składnia: del nazwa_listy[indeks])\n",
    "- insert() - wstawianie elementu do listy przed wskazany indeks(składnia: nazwa_listy.insert(przed_który_indeks, wartosc)) \n",
    "- remove() - usuwanie wskazanej wartości (składnia: nazwa_listy.remove(wartosc))\n",
    "- count() - zliczanie wskazanej wartości (składnia: nazwa_listy.count(wartosc))\n",
    "- reverse() - odwracanie kolejności elementów (składnia: nazwa_listy.reverse())\n",
    "- pop() - wyciąganie, wyświetlanie i usuwanie z listy wskazanego elementu (składnia: nazwa_listy.pop(i))\n",
    "- len() - funkcja zwracająca długość listy (składnia: len(nazwa_listy))\n",
    "- sort() - sortowanie listy (składnia: nazwa_listy.sort())\n",
    "- in - instrukcja umożliwiająca sprawdzenie czy w liście znajduje się wskazana wartość. Zwrata w wyniku logiczną prawdę lub fałsz (składnia: wartosc in lista)\n",
    "- list() - funkcja konwertująca wskazaną sekwencję na listę (składnia: list(sekwencja)).\n",
    "\n",
    "Po utworzeniu i zainicjowaniu wartości listy nadal posiadamy możliwość zmiany wprowadzoych wartości oraz dodawania nowych wartości do listy. \n",
    "\n",
    "Dane w liście mogą być różnych typów, np. a = [1, '2', 3]\n",
    "\n",
    "Przydatne instrukcje:\n",
    "- tworzenie pustej listy: jakas_zmienna = []\n",
    "- wyświetlanie pozbioru listy: jakas_lista[indeks_poczatkowy:indeks_koncowy]"
   ]
  },
  {
   "cell_type": "markdown",
   "metadata": {},
   "source": [
    "### Zadanie 2.1\n",
    "\n",
    "Napisz program, który poprosi użytkownika o podanie swojego imienia 5 razy. Program zapisze odpowiedzi do listy, następnie wyświetli komunikat \"Cześć {imie}!!\"."
   ]
  },
  {
   "cell_type": "markdown",
   "metadata": {},
   "source": [
    "### Zadanie 2.2\n",
    "\n",
    "Napisz program, który przyjmie od użytkownika 5 wartości, wprowadzi je do listy, a następnie wyświetli pierwszy i ostatni element. Zaproponuj dwa sposoby wykonania tego zadania."
   ]
  },
  {
   "cell_type": "markdown",
   "metadata": {},
   "source": [
    "### Zadanie 2.3\n",
    "\n",
    "Utwórz program, który pobierze od użytkownika 5 wartości, zapisze je do listy, następnie obliczy ich sumę i średnią i wypisze je na ekranie."
   ]
  },
  {
   "cell_type": "markdown",
   "metadata": {},
   "source": [
    "### Zadanie 2.4\n",
    "\n",
    "Napisz program, w którym do listy przypisane zostaną 4 zmienne różnych typów, a następnie zostaną wyświetlone na ekranie."
   ]
  },
  {
   "cell_type": "markdown",
   "metadata": {},
   "source": [
    "### Zadanie 2.5 \n",
    "\n",
    "Rozważ następującą listę: \n",
    "\n",
    "dane = [1, 1, 3, 2, 4, 6, 5, 3, 2, 1, 6, 50, 2, 3]\n",
    "\n",
    "Napisz program, który:\n",
    "- wyświetli utworzoną listę\n",
    "- określi i wyświetli długość listy (liczbę przechowywanych elementów) (funkcja len()),\n",
    "- wyświetli 4 pierwsze wartości (operator :),\n",
    "- zliczy i wyświetli ile w liście znajduje się wartości 1, 2 i 3 (metoda count()),\n",
    "- sprawdzi czy lista zawiera wartość 6 (instrukcja in),\n",
    "- wstawi na miejsce po trzecim elemencie wartość -100 (metoda insert()) i wyświetli zaktualizowaną listę,\n",
    "- usunie ostatni element w liście (instrukcja del) i wyświetli zaktualizowaną listę,\n",
    "- usunie wartość 50 (metoda remove()) i wyświetli zaktualizowaną listę,\n",
    "- wyciągnie pierwszy element z listy (metoda pop()) i wyświetli zaktualizowaną listę,\n",
    "- utworzy kopię listy dane i odwróci ich kolejność (metoda reverse()) i wyświetli otrzymaną listę,\n",
    "- utworzy kopię listy dane i posortuje jej elementy (metoda sort()) i wyświetli otrzymaną listę."
   ]
  },
  {
   "cell_type": "markdown",
   "metadata": {},
   "source": [
    "# Krotki\n",
    "\n",
    "Krotki (tuples) to kolejny typ sekwencyjny - podobny do listy, posiadający jednak pewne istotne różnice:\n",
    "- krotkę tworzymy korzystając z nawiasów okrągłych (a nie kwadratowych jak w przypadku list),\n",
    "- zasadniczo wartości przechowywanych w krotkach nie można zmieniać. Nie można również dodawać elementów do ktorek,\n",
    "- krotki służą do przechowywania niezmiennych elementów \n",
    "\n",
    "Krotki mogą przydatne wówczas, gdy chcemy dzielić z innymi użytkownikami (lub procesami) dane, ale nie chcemy zezwolić na ich modyfikację. \n",
    "\n",
    "Mechanizm ochorony danych w krotkach można jednak obejść poprzez nadpisywanie na dotychczasowej krotce nowej krotki. \n",
    "\n",
    "Do elementów krotki mamy dostęp (tak jak w przypadku list) za pośrednictwem indeksu. \n",
    "\n",
    "Krotki mogą przechowywać dane różnych typów. \n",
    "\n",
    "Przegląd najważniejszych metod i funkcji działających na krotkach:\n",
    "- count() - zlicza wystąpienia wskazanej wartości w krotce\n",
    "- index() - zwraca indeks pierwszej wskazanej wartości w krotce"
   ]
  },
  {
   "cell_type": "markdown",
   "metadata": {},
   "source": [
    "### Zadanie 2.6 \n",
    "\n",
    "Napisz program, w którym utworzysz krotkę, przechowującą zestaw pięciu czteroznakowych kluczy dostępu. Wyświetl pierwszy i ostatni element. Spróbuj podmienić lub usunąć wartość dowolnego elementu w krotce (korzystając np. z instrukcji krotka[indeks] = inna_wartosc oraz z del krotka[indeks]).   "
   ]
  },
  {
   "cell_type": "markdown",
   "metadata": {},
   "source": [
    "### Zadanie 2.7\n",
    "\n",
    "Napisz program, w którym utworzysz krotkę:\n",
    "\n",
    "dane = (1, 1, 3, 2, 4, 6, 5, 3, 2, 1, 6, 50, 2, 3)\n",
    "\n",
    "Sprawdź:\n",
    "- jaka jest długość krotki,\n",
    "- ile razy występują w niej wartości 1, 2, 3,\n",
    "- czy krotka zawiera wartość 50.\n",
    "\n",
    "Zaproponuj sposób wstawienia do krotki dane po czwartym elemencie (liczba 2) kolejnych wartości 100, 200, 300."
   ]
  },
  {
   "cell_type": "markdown",
   "metadata": {},
   "source": [
    "# Typ napisowy (String)\n",
    "\n",
    "Napis (string) to sekwencja znaków alfanumerycznych. W odróżnieniu od poznanych wcześniej list i krotek - wszystkie elementy napisu mają ten sam typ - str. Do kolejnych elementów sekwencji mamy dostęp za pośrednictwem indeksu. Zasadniczo typ napisowy przechowuje teksty, a w języku Python mamy bogaty zasób metod edytujących tekst. Poszczególne elementy sekwencji jak i sama sekwencja mogą być zmieniane.\n",
    "\n",
    "Typ napisowy inicjalizujemy korzystając z cudzysłowu. \n",
    "Przykład:\n",
    "napis = \"Ala ma kota\"\n",
    "\n",
    "Przgląd najważniejszych metod:\n",
    "- capitalize() - zmiana pierwszej litery sekwencji na wielką (składnia: napis.capitalize()),\n",
    "- islower() - sprawdzenie, czy wszystkie znaki w napisie to małe litery (składnia: napis.islower()),\n",
    "- isupper() - sprawdzenie, czy wszystkie znaki w napisie to wielkie litery (składnia: napis.isupper()),\n",
    "- count(podciag) - zliczanie wystąpień podciągu znaków w pierwotnym napisie (składnia napis.count()),\n",
    "- isdigit() - sprawdzenie, czy znaki w napisie są liczbami (składnia: napis.isdigit()),\n",
    "- replace(old_str, new_str) - podmiana starej sekwencji nową (składnia: napis.replace(stara_sek, nowa_sek)),\n",
    "- strip() - usuwanie początkowych i końcowych białych znaków,\n",
    "- len() - funkcja zwracająca długość (liczbę znaków) w napisie (składnia: len(napis))."
   ]
  },
  {
   "cell_type": "markdown",
   "metadata": {},
   "source": [
    "### Zadanie 2.8 \n",
    "\n",
    "Napisz program, którzy przyjmie od użytkownika dowolne zdanie. Następnie program wyświetli ile znaków zawiera wprowadzony tekst oraz ile zjaduje się w nim spacji."
   ]
  },
  {
   "cell_type": "markdown",
   "metadata": {},
   "source": [
    "### Zadanie 2.9\n",
    "\n",
    "Napisz program, który pobierze od użytkownika dowolny tekst, a następnie:\n",
    "- wyświetli informację, czy wszystkie litery w tekście są wielkie,\n",
    "- wyświetli informację, czy wszystkie litery w tekście są małe,\n",
    "- zastąpi pierwsze 3 znaki słowem \"ABC\"."
   ]
  },
  {
   "cell_type": "markdown",
   "metadata": {},
   "source": [
    "### Zadanie 2.10\n",
    "\n",
    "Napisz program, w którym do zmiennej napis przypiszesz tekst \"Dzisiaj znowu poznajemy Pythona!\". Następnie:\n",
    "- zamień słowo \"Pythona\" na \"interesujące techniki programowania\",\n",
    "- zlicz wystąpienia litery \"i\",\n",
    "- wyświetl długość nowego tekstu."
   ]
  },
  {
   "cell_type": "markdown",
   "metadata": {},
   "source": [
    "# Słowniki\n",
    "\n",
    "Słownik (dictionary) to struktura danych zawierająca przypisane do siebie pary klucz : wartość. W obrębie słownika do przechowywanych elementów mamy dostęp nie za pośrednictwem indeksu, ale za pośrednictwem tzw. klucza. Klucz w słowniku nie może się powtarzać. Elementy w słowniku nie są uporządkowane (nie są ułożone po kolei tak jak to było w listach, krotkach i napisach). Innymi słowy - kolejność nie ma znaczenia. Elementy słownika mogą mieć różne typy. Dotyczy to rówież klucza (wszystko może być kluczem bądź wartością). Słowniki możemy edytować - dodawać do nich elementy oraz je modyfikować. Słowniki inicjalizujemy korzystając ze znaku klamer {}, pary kluczy i wartości są łączone drukropkiem, kolejne elementy słownika rozdzielane przecinkiem.\n",
    "\n",
    "Przykład:\n",
    "\n",
    "slownik = {klucz1 : wartosc1, klucz2 : wartosc2, klucz3 : wartosc3}\n",
    "\n",
    "Kolejne elementy do słownika możemy prowadzać odnosząc się do nazwy słownika, w nawiasie kwadratowym wprowadzić nowy klucz a po operatorze przypisania podać wartość.\n",
    "\n",
    "Przykład:\n",
    "\n",
    "slownik[wartosc4] = klucz4\n",
    "\n",
    "Przegląd najważniejszych metod działających na słownikach:\n",
    "- clear() - usuwa wszystkie elementy ze słownika (składnia: slownik.clear()),\n",
    "- copy() - zwraca kopię słownika (składnia slownik.copy()),\n",
    "- fromkeys(keys, values) - zwraca słownik na postawie podanych zbiorów kluczy i wartości (składnia: slownik.fromkeys(klucze, wartosci)),\n",
    "- get() - zwraca wartość dla danego klucza (składnia: slownik.get()),\n",
    "- items() - zwraca listę krotek wszystkich par kluczy i wartości (składnia: slownik.items()),\n",
    "- pop(key) - wyciąga i usuwa wskazaną wartość (na podstawie klucza) (skladnia: slownik.pop(klucz)),\n",
    "- popitem() - wyciąga i usuwa ostatnią wprowadzoną parę klucz-wartość (składnia: slownik.popitem()),\n",
    "- setdefault(key) - zwraca wartość dla danego klucza. Jeżeli klucz nie istnieje - wstawia klucz (ten, który został wywołany) (składnia: slownik.setdefault(klucz)),\n",
    "- update(key: value) - pozwala na dodawanie do słownika kolejnych par klucz-wartość (składnia: slownik.update({klucz: wartość)}),\n",
    "- values() - zwraca wszystkie wartości ze słownika (składnia: słownik.values()).\n"
   ]
  },
  {
   "cell_type": "markdown",
   "metadata": {},
   "source": [
    "### Zadanie 2.11\n",
    "\n",
    "Utwórz program, który wykorzystując słownik, będzie pobierać od użytkownika numer miesiąca, a wyświetlać na ekranie będzie jego nazwę w formie tekstowej."
   ]
  },
  {
   "cell_type": "markdown",
   "metadata": {},
   "source": [
    "### Zadanie 2.12\n",
    "\n",
    "Utwórz program, który wykorzystując słownik, będzie tłumaczyć liczby 0-10 na słowa."
   ]
  },
  {
   "cell_type": "markdown",
   "metadata": {},
   "source": [
    "### Zadanie 2.13\n",
    "\n",
    "Korzystając z informacji zawartych na stronie: https://pl.wikipedia.org/wiki/Rzymski_system_zapisywania_liczb utwórz program, który zamieni cyfrę rzymską na arabską (do 1000)."
   ]
  },
  {
   "cell_type": "markdown",
   "metadata": {},
   "source": [
    "### Zadanie 2.14\n",
    "\n",
    "Napisz program, który wprowadzoną przez użytkownika liczbę 5-cyfrową wyświetli w formie słownej (np. 12345 - jeden dwa trzy cztery pięć)."
   ]
  },
  {
   "cell_type": "markdown",
   "metadata": {},
   "source": [
    "### Zadanie 2.15\n",
    "\n",
    "Napisz program, w którym zamieścisz następujący słownik:\n",
    "\n",
    "slownik = {\"m1\": \"Ford\", \"m2\": \"Fiat\", \"m3\": \"Opel\", \"m4\": \"Skoda\", \"m5\": \"Wołga\", \"m6\": \"Dacia\"}\n",
    "\n",
    "następnie:\n",
    "- wykonaj kopię słownika (metoda copy()),\n",
    "- zwróć listę krotek wszystkich par kluczy i wartości (metoda items()),\n",
    "- dodaj parę \"m7\": \"FSO\" (metoda update()),\n",
    "- wykonaj kolejną kopię słownika i wyczyść jego zawartość (metody copy() i clear())."
   ]
  },
  {
   "cell_type": "markdown",
   "metadata": {},
   "source": [
    "# Zbiory\n",
    "\n",
    "Zbiór to kolejny typ sekwencyjny. Posiada ważną własność - jego elementy nie mogą się powtarzać. Podobnie jak słowniki - są nieuporządkowane (kolejność elementów jest bez znaczenia). Zbiory są edytowalne - możemy dodawać bądź usuwać elementy ze zbioru. Zbiory inicjalizujemy z wykorzystaniem funkcji set() lub wprowadzająć zestaw danych otoczonych klamrami {}. Kolejne elementy zbioru są rozdzielone przecinkiem. Mogą przechowywać elementy dowolnych typów. Nie mamy możliwości wywoływania określonych elementów - zbiory nie posiadają ani indeksów ani kluczy. Możemy za to wykonywać działania na zbiorach. \n",
    "\n",
    "Przykład\n",
    "\n",
    "a = {1, 2, 3, 2.1, 2, 3, 4, \"4\"}\n",
    "\n",
    "Przegląd najważniejszych metod i funkcji działających na zbiorach:\n",
    "- add() - dodaje element do zbioru (składnia: zbior.add(element)),\n",
    "- clear() - usuwa wszystkie elementy ze zbioru (składnia: zbior.clear()),\n",
    "- copy() - zwraca kopię zbioru (składnia: zbior.copy()),\n",
    "- difference() - zwraca różnicę zbiorów (składnia: zbior1.difference(zbior2)),\n",
    "- difference_update() - usuwa elementy ze zbioru, które są obecne w drugim zbiorze (składnia: zbior1.difference_update(zbior2)),\n",
    "- discard() - usuwa wskazany element (składnia: zbior.discard(element))\n",
    "- intersection() - zwraca część wspólną zbiorów (składnia: zbior1.intersection(zbior2)),\n",
    "- intersection_update() - usuwa ze zbioru elementy nieobecne w drugim (składnia: zbior1.intersection_update(zbior2)),\n",
    "- isdisjoint() - zwraca informację czy zbiory posiadają część wspólną czy nie (składnia: zbior1.isdisjoint(zbior2)),\n",
    "- issubset() - zwraca informację czy zbiór jest podzbiorem drugiego (składnia: zbior1.issubset(zbior2)),\n",
    "- issuperset() - zwraca informację czy zbiór zawiera się w drugim (składnia: zbior1.issuperset(zbior2)),\n",
    "- pop() - zwraca i usuwa pewien element ze zbioru (składnia: zbior.pop()),\n",
    "- remove() - usuwa wskazany element ze zbioru (składnia: zbior.remove(element)),\n",
    "- symmetric_difference() - zwraca różnicę symetryczną zbiorów (składnia: zbior1.symmetric_difference(zbior2)),\n",
    "- symmetric_difference_update() - usuwa elementy obecne w obu zbiorach oraz wstawia elementy, które nie są obecne w obu zbiorach (składnia: zbior1.symmetric_difference_update(zbior2)),\n",
    "- union() - zwraca zbiór zawierający wszystkie elementy z pierwszego i drugiego zbioru(składnia: zbior1.union(zbior2)),\n",
    "- update() - wstawia elementy jednego zbioru do drugiego zbioru (składnia: zbior1.update(zbior2))."
   ]
  },
  {
   "cell_type": "markdown",
   "metadata": {},
   "source": [
    "### Zadanie 2.16\n",
    "\n",
    "Napisz program, w którym użytkownik poda po 4 elementy (liczby całkowite) do dwóch różnych zbiorów. Natępnie program wyświetli: \n",
    "- sumę zbiorów\n",
    "- różnicę zbiorów\n",
    "- część wspólną zbiorów."
   ]
  },
  {
   "cell_type": "markdown",
   "metadata": {},
   "source": [
    "# Konwersja typów sekwencyjnych\n",
    "\n",
    "Aby dokonać konwersji jednego typu sekwencyjnego na drugi korzystami z instrukcji:\n",
    "- konwersja na listę: list(krotka albo zbiór)\n",
    "- konwersja na zbiór: set(krotka albo lista)\n",
    "- konwersja na krotkę: tuple(lista albo zbiór)"
   ]
  },
  {
   "cell_type": "markdown",
   "metadata": {},
   "source": [
    "# Instrukcje warunkowe\n",
    "\n",
    "Instrukcje warunkowe umożliwiają podzielenie programu na bloki, których realizacja zależy od spełnienia tzw. warunków logicznych. Dzięki temu wynik działania programu może zależeć od wprowadzanych do niego wartości. Działanie instrukcji warunkowych można obrazowo porównać do zwrotnic na torach kolejowych - w zależności od ustawienia zwrotnicy pociąg (podobnie jak program) pojedzie \"w lewo\" lub \"w prawo\" na schemacie algorytmu naszego programu.\n",
    "\n",
    "Słowa kluczowe: \n",
    "- if - za pomocą tej instrukcji rozpoczynamy blok warunku\n",
    "- elif - pozwala uwzględnić alternatywne warunki do sprawdzenia\n",
    "- else - obsługuje sytuacje \"wszystkie inne\" niż te, zdefiniowane przy insktrukcjach if oraz elif.\n",
    "\n",
    "W języku Python składnia instrukcji warunkowych jest następująca:"
   ]
  },
  {
   "cell_type": "code",
   "execution_count": 53,
   "metadata": {},
   "outputs": [],
   "source": [
    "# Składnia instrukcji warunkowych:\n",
    "\n",
    "# if (warunki logiczne):\n",
    "#    <instrukcje>\n",
    "\n",
    "# --- lub ---\n",
    "\n",
    "# if (warunki logiczne):\n",
    "#    <instrukcje>\n",
    "# else:\n",
    "#     <instrukcje>\n",
    "\n",
    "# --- lub ---\n",
    "\n",
    "# if (warunki logiczne):\n",
    "#    <instrukcje>\n",
    "# elif (warunki logiczne):\n",
    "#     <instrukcje>\n",
    "# ......\n",
    "\n",
    "# --- lub ---\n",
    "\n",
    "# if (warunki logiczne):\n",
    "#    <instrukcje>\n",
    "# elif (warunki logiczne):\n",
    "#     <instrukcje>\n",
    "# ......\n",
    "# else:\n",
    "#     <instrukcje>"
   ]
  },
  {
   "cell_type": "markdown",
   "metadata": {},
   "source": [
    "### Zadanie 2.17\n",
    "\n",
    "Napisz program, który wczyta liczbę wprowadzoną przez użytkownika, a następnie dokona klasyfikacji: liczba ujemna, liczba dodatnia, liczba równa zeru."
   ]
  },
  {
   "cell_type": "markdown",
   "metadata": {},
   "source": [
    "### Zadanie 2.18\n",
    "\n",
    "Napisz program, który sprawdza, czy wprowadzona przez użytkownika liczba jest parzysta czy nie oraz wyświetla w konsoli stosowny komunikat. Podpowiedź: Parzystość można sprawdzić za pomocą operacji modulo, która zwraca resztę z dzielenia (symbol %)."
   ]
  },
  {
   "cell_type": "markdown",
   "metadata": {},
   "source": [
    "### Zadanie 2.19\n",
    "\n",
    "Trójmian kwadratowy wyraża się wzorem: $y=ax^2 + bx + c$. Napisz program, w którym użytkownik wprowadza współczynniki trójmianu kwadratowego (a, b, c), a następnie sprawdza, czy trójmian o podanych współczynnikach ma 2, 1 czy 0 rozwiązań w zbiorze liczb rzeczywistych. \n",
    "\n",
    "Uzupełnienie matematyczne: Należy sprawdzić znak delty: $\\Delta = b^2 - 4ac$. \n",
    "Jeżeli:\n",
    "- $\\Delta > 0$ - trójmian ma 2 pierwiastki, \n",
    "- $\\Delta = 0$ - trójmian ma 1 pierwiastek,\n",
    "- $\\Delta < 0$ - trójmian nie ma pierwiastków rzeczywistych.  "
   ]
  },
  {
   "cell_type": "markdown",
   "metadata": {},
   "source": [
    "### Zadanie 2.20\n",
    "\n",
    "Napisz program, który przyjmie od użytkownika dwie wartości, a następnie wskaże wartość większą. Do rozwiązania zadania wykorzystaj instrukcje warunkowe."
   ]
  },
  {
   "cell_type": "markdown",
   "metadata": {},
   "source": [
    "### Zadanie 2.21\n",
    "\n",
    "Napisz program, który przyjmie od użytkownika dwie wartości, a następnie wskaże wartość mniejszą. Do rozwiązania zadania wykorzystaj instrukcje warunkowe."
   ]
  },
  {
   "cell_type": "markdown",
   "metadata": {},
   "source": [
    "### Zadanie 2.22\n",
    "\n",
    "Napisz program, który przyjmie 3 wartości, a następnie wskaże wartość najmniejszą i największą. Do rozwiązania zadania wykorzystaj instrukcje warunkowe."
   ]
  },
  {
   "cell_type": "markdown",
   "metadata": {},
   "source": [
    "### Zadanie 2.23\n",
    "\n",
    "Napisz program, który przyjmie 6 wartości, a następnie wskaże wartość najmniejszą i największą. Do rozwiązania zadania wykorzystaj instrukcje warunkowe."
   ]
  },
  {
   "cell_type": "markdown",
   "metadata": {},
   "source": [
    "### Zadanie 2.24\n",
    "\n",
    "Napisz program, w którym utworzysz i nadasz dowolne wartości liczbowe trzem zmiennym, natomiast program wypisze te wartości od najmniejszej do największej (wykona sortowanie). Do rozwiązania zadania wykorzystaj instrukcje warunkowe."
   ]
  },
  {
   "cell_type": "markdown",
   "metadata": {},
   "source": [
    "### Zadanie 2.25\n",
    "\n",
    "Napisz program do obliczania współczynnika BMI. Użytkownik podaje swoją wagę (w kilogramach) i wzrost (w metrach). Następnie program wykonuje obliczenia współczynnika zgodnie ze wzorem: $BMI = \\frac{waga}{wzrost^2}$. Jeżeli wynik mieści się w przedziale (18.5-24.9) program wyświetla komunikat \"waga jest prawidłowa\". Jeżeli wynik jest poniżej wartości 18.5 to wyświetla komunikat \"niedowaga\". Jeżeli z kolei wynik jest powyżej wartości 24.9 to program wyświetla komunikat \"nadwaga\"."
   ]
  },
  {
   "cell_type": "markdown",
   "metadata": {},
   "source": [
    "### Zadanie 2.26\n",
    "\n",
    "Napisz program, który przyjmie od użytkownika długości trzech boków trójkąta, a następnie sprawdzi czy z podanych boków możliwe jest utworzenie jakiegokolwiek trójkąta. Wyświetl stosowny komunikat."
   ]
  },
  {
   "cell_type": "markdown",
   "metadata": {},
   "source": [
    "### Zadanie 2.27\n",
    "\n",
    "Napisz program, który przyjmie od użytkownika długości trzech boków trójkąta, a następnie wyświetli komunikat, czy z takich boków można zbudować trójkąt prostokątny."
   ]
  },
  {
   "cell_type": "markdown",
   "metadata": {},
   "source": [
    "### Zadanie 2.28\n",
    "\n",
    "Utwórz program, w którym użytkownik może dokonać wyboru czy chce obliczyć pole czy obwód koła. Następnie program pobierze od użytkownika długości promienia, wykona obliczenia i wyświetli wynik na ekranie."
   ]
  },
  {
   "cell_type": "markdown",
   "metadata": {},
   "source": [
    "### Zadanie 2.29\n",
    "\n",
    "Napisz program umożliwiający wykonywanie działań prostego kalkulatora. Program powinien pracować na zmiennych rzeczywistych. Użytkownik wprowadza pierwszą liczbę, znaku działania (+, -, *, /) i drugą liczbę, natomiast program oblicza i wyświetla wynik działania na ekranie (w konsoli)."
   ]
  },
  {
   "cell_type": "markdown",
   "metadata": {},
   "source": [
    "### Zadanie 2.30\n",
    "\n",
    "Napisz program do nauki tabliczki mnożenia. Program losuje liczbę z przedziału (1-10), wykonuje mnożenie i pyta użytkownika o wynik. Następnie użytkownik wprowadza wynik, a program udziela odpowiedzi czy jest poprawny czy nie. Podpowiedź: do losowania można wykorzystać funkcję randint z modułu random."
   ]
  },
  {
   "cell_type": "markdown",
   "metadata": {},
   "source": [
    "### Zadanie 2.31\n",
    "\n",
    "Napisz program, który będzie samodzielnie losować dwie liczby całkowite (0-100) i znak operacji (+, -, *), a następnie wyświetli utworzone równanie i zada pytanie o wynik. Użytkownik udziela odpowiedzi, a komputer ocenia czy odpowiedź jest dobra czy zła i wyświetla ją na ekranie (w konsoli)."
   ]
  },
  {
   "cell_type": "markdown",
   "metadata": {},
   "source": [
    "### Zadanie 2.32\n",
    "\n",
    "Napisz program, który będzie dokonywać oceny hałasu na podstawie wprowadzonej wartości poziomu natężenia dźwięku. Przyjmij następujące zakresy: poziomu natężenia dźwięku pomiędzy: 0 a 50 dB - niski hałas, 50 a 100 dB - średni hałas, powyżej 100 dB - wysoki hałas."
   ]
  },
  {
   "cell_type": "markdown",
   "metadata": {},
   "source": [
    "### Zadanie 2.33\n",
    "\n",
    "Napisz program do wystawiania ocen. Uczniowie pisali sprawdzian, na którym maksylanie można było zdobyć 50 pkt. Użytkownik wprowadza uzyskaną liczbę punktów, a program zwraca ocenę jaką pownien uzyskać. Progi ocen są następujące: 0-39% - ndst, 40-49% - dop, 50-69% -dst, 70-84% - db, 85-99% bdb, 100% - cel."
   ]
  },
  {
   "cell_type": "markdown",
   "metadata": {},
   "source": [
    "### Zadanie 2.34\n",
    "\n",
    "Napisz program do sprawdzania długości tekstu dla recenzentów prac dyplomowych. Recenzja musi składać się conajmniej z 500 znaków (bez spacji). Użytkownik podaje tekst, a pogram zwraca informację ile posiada znaków, ile posiada znaków bez spacji oraz czy spełnia wymogi formalne dotyczące liczby znaków bez spacji.  "
   ]
  },
  {
   "cell_type": "markdown",
   "metadata": {},
   "source": [
    "# Pętle\n",
    "\n",
    "Pętla umożliwia wykonanie danego fragmentu kodu więcej niż raz. Jeden cykl pętli jest nazywany iteracją. \n",
    "\n",
    "Najważniejsze pętle to:\n",
    "- pętla for - posiada wbudowany „licznik” (iterator)\n",
    "- pętla while - domyślnie nie posiada „licznika” ale można go dodać."
   ]
  },
  {
   "cell_type": "markdown",
   "metadata": {},
   "source": [
    "# Pętla for\n",
    "\n",
    "Pętla for - składnia dla dowolnych obiektów:"
   ]
  },
  {
   "cell_type": "code",
   "execution_count": 54,
   "metadata": {},
   "outputs": [],
   "source": [
    "# for i in range(liczba):\n",
    "#     <instrukcje>\n",
    "\n",
    "# for i in range(poczatek, koniec):\n",
    "#     <instrukcje>\n",
    "\n",
    "# for i in range(poczatek, koniec, skok):\n",
    "#     <instrukcje>"
   ]
  },
  {
   "cell_type": "markdown",
   "metadata": {},
   "source": [
    "Pętla for dla typów sekwencyjnych:\n"
   ]
  },
  {
   "cell_type": "code",
   "execution_count": 56,
   "metadata": {},
   "outputs": [],
   "source": [
    "# lista = [8, 3, 4, 6, 1]\n",
    "\n",
    "# for element in lista:\n",
    "#     <instrukcje>\n",
    "\n",
    "# for indeks, element in enumerate(lista):\n",
    "#     <instrukcje>\n",
    "\n",
    "# slownik = {\"k1\" : \"v1\", \"k2\" : \"v2\"}\n",
    "\n",
    "# for key in slownik:\n",
    "#     <instrukcje>"
   ]
  },
  {
   "cell_type": "markdown",
   "metadata": {},
   "source": [
    "### Zadanie 2.35\n",
    "\n",
    "Napisz program, który wyświetli 10 razy na ekranie numer wynonanej iteracji oraz napis: \"Ala ma kota\"."
   ]
  },
  {
   "cell_type": "markdown",
   "metadata": {},
   "source": [
    "### Zadanie 2.36\n",
    "\n",
    "Napisz program, który z przedziału liczb od 1-1000 wyświetli liczby podzielne przez 13. Podpowiedź: podzielność możemy sprawdzać korzystając z operacji modulo (obliczanie reszty z dzielenia, symbol %)."
   ]
  },
  {
   "cell_type": "markdown",
   "metadata": {},
   "source": [
    "### Zadanie 2.37\n",
    "\n",
    "Napisz program wykonujący odliczanie do wystrzału rakiety. Na koniec odliczania program powinien wyświetlić komunikat \"BUM!!!\". "
   ]
  },
  {
   "cell_type": "markdown",
   "metadata": {},
   "source": [
    "### Zadanie 2.38\n",
    "\n",
    "Napisz program, który przyjmie od użytkownika zdanie, a następnie przeliteruje je w domyślnej i odwróconej kolejności."
   ]
  },
  {
   "cell_type": "markdown",
   "metadata": {},
   "source": [
    "### Zadanie 2.39\n",
    "\n",
    "Napisz program obliczający dowolną potęgę zadanej liczby całkowitej (bez użycia operatora **). Użytkownik podaje liczbę całkowitą podnoszoną do potęgi oraz potęgę (liczba całkowita). Program wykonuje obliczenia i wyświetla odpowiedź."
   ]
  },
  {
   "cell_type": "markdown",
   "metadata": {},
   "source": [
    "### Zadanie 2.40\n",
    "\n",
    "Napisz program obliczający silnię z zadanej liczby. Użytkownik podaje liczbę całkowitą. Program wykonuje obliczenia i wyświetla odpowiedź. Uwzględnij przypadek 0!=1."
   ]
  },
  {
   "cell_type": "markdown",
   "metadata": {},
   "source": [
    "### Zadanie 2.41\n",
    "\n",
    "Napisz program obliczający zadany wyraz ciągu Fibonacciego. Użytkownik podaje numer wyrazu, program wykonuje obliczenia i wyświetla wynik."
   ]
  },
  {
   "cell_type": "markdown",
   "metadata": {},
   "source": [
    "### Zadanie 2.42\n",
    "\n",
    "Napisz program z wykorzystaniem pętli, w którym użytkownik poda ile liczb chce dodać do siebie, program pobierze od niego dokładnie tyle liczb, obliczy ich sumę i wyświetli ją na ekranie. "
   ]
  },
  {
   "cell_type": "markdown",
   "metadata": {},
   "source": [
    "### Zadanie 2.43\n",
    "\n",
    "Napisz program, który przyjmie liczbę o dowolnej liczbie cyfr i wyświetli na ekranie sekwencję jej cyfr w formie słownej (np. 112 powinno dać w wyniku: jeden jeden dwa). "
   ]
  },
  {
   "cell_type": "markdown",
   "metadata": {},
   "source": [
    "# Pętla while\n",
    "\n",
    "Pętla while opiera się na istnieniu i spełnieniu pewnego warunku logicznego. Pętla while(warunek) nie posiada licznika. Jest wykonywana tak długo, jak długo jest spełniony jej warunek. Jego obecność umożliwia wprowadzenie licznika, ale również pozwala na stworzenie pętli nieskończonej. \n",
    "\n",
    "Składnia pętli while: "
   ]
  },
  {
   "cell_type": "code",
   "execution_count": 57,
   "metadata": {},
   "outputs": [],
   "source": [
    "# while(warunek):\n",
    "#     <instrukcje>"
   ]
  },
  {
   "cell_type": "markdown",
   "metadata": {},
   "source": [
    "Dodatkowe instrukcje:\n",
    "- continue - pominięcie instrukcji i przejście do kolejnego cyklu pętli\n",
    "- break - przerwanie działania pętli (wyjście) "
   ]
  },
  {
   "cell_type": "markdown",
   "metadata": {},
   "source": [
    "### Zadanie 2.44\n",
    "\n",
    "Rozbuduj program do nauki tabliczki mnożenia o menu które pojawi się po każdej próbie i pozwoli użytkownikowi wybrać czy chce grać dalej czy nie, oraz będzie zliczać jego punkty (dodawać punkty za dobre odpowiedzi i odejmować za złe) a na końcu gry będzie zwrcać statystyki gracza (ile miał pytań, ile odpowiedzi było poprawnych a ile nie, ile zdobył punktów, jaki był procent poprawnych odpwiedzi a jaki procent odpwiedzi niepoprawnych)."
   ]
  },
  {
   "cell_type": "markdown",
   "metadata": {},
   "source": [
    "### Zadanie 2.45\n",
    "\n",
    "Napisz program, który będzie przyjmować od użytkownika liczby i będzie umieszczać je w liście. Etap wprowadzania liczb kończy się, kiedy użytkownik wprowadzi cyfrę 0. Następnie program obliczy i wyświetli sumę i średnią ze wprowadzonych liczb. "
   ]
  },
  {
   "cell_type": "markdown",
   "metadata": {},
   "source": [
    "### Zadanie 2.46\n",
    "\n",
    "Napisz program do organizacji bazy klientów. W programie użytkownik podaje imię, nazwisko i numer telefonu klienta. Dane są zapisywane do listy. Program powinien posiadać menu D-odaj, P-okaż, K-oniec."
   ]
  },
  {
   "cell_type": "markdown",
   "metadata": {},
   "source": [
    "### Zadanie 2.47\n",
    "\n",
    "Sito Erastotenesa:\n",
    "Utwórz program, który przyjmie liczbę naturalną i sprawdzi czy jest pierwsza czy nie."
   ]
  },
  {
   "cell_type": "markdown",
   "metadata": {},
   "source": [
    "### Zadanie 2.48\n",
    "\n",
    "Utwórz grę, w której komputer losuje liczby z przedziału 1-100. Gracz ma odgadnąć co to za liczba poprzez wprowadzanie kolejnych odpowiedzi. Jeżeli podana przez gracza liczba jest za mała, otrzymuje komunikat \"podałeś za małą liczbę\". Jeżeli za duża - \"podałeś za dużą liczbę\". Jeżeli równa wylosowanej liczbie - gracz otrzymuje komunikat \"Gratulacje\" i gra zostaje zakończona."
   ]
  },
  {
   "cell_type": "markdown",
   "metadata": {},
   "source": [
    "### Zadanie 2.49\n",
    "\n",
    "Rozbuduj program losujący dwie liczby i znak działania (+, -, *) tak aby po każdym cyklu użytkownik mógł podjąc decyzję, czy chce grać dalej, czy chce zakończyć. Program zbiera informacje na temat dobrych i złych odpowiedzi użytkownika. Na koniec gry wyświetla na ekranie wynik i statystyki gracza (liczba dobrych odpowiedzi, liczba złych odpowiedzi, procent dobrze udzielonych odpowiedzi). "
   ]
  },
  {
   "cell_type": "markdown",
   "metadata": {},
   "source": [
    "### Zadanie 2.50\n",
    "\n",
    "Napisz grę w kółko i krzyżyk człowieka z komputerem. W grze obowiązują klasyczne zasady. Układ planszy powinien być wymiaru 3x3. "
   ]
  },
  {
   "cell_type": "markdown",
   "metadata": {},
   "source": [
    "### Zadanie 2.51\n",
    "\n",
    "Napisz program, który przyjmie od użytkownika pewną ilość liczb (uzytkownik decyduje ile), a następnie dokona ich sortowania. Zadanie wykonać nie korzystając z metody sort (należy samodzielnie zaprojektować algorytm sortowania). "
   ]
  },
  {
   "cell_type": "markdown",
   "metadata": {},
   "source": [
    "# Wyrażenia listowe\n",
    "\n",
    "Lista składana - popularna funkcjonalność języka Python - umożliwia szybkie tworzenie i modyfikowanie list.\n",
    "\n",
    "Składnia: [wyrażenie + kontekst]\n",
    "\n",
    "Wyrażenie określa działanie jakie powinno być wykonane na każdym elemencie listy, kontekst określa które elementy listy należy wybrać (może zawierać dowolną liczbę słów kluczowych for, if, itd.). \n",
    "\n",
    "Przykład:\n",
    "Wyrażenie \n",
    "<pre>\n",
    "[x for x in range(10)]\n",
    "</pre>\n",
    "Utworzy nam listę elementów x o wartościach od 0 do 10."
   ]
  },
  {
   "cell_type": "markdown",
   "metadata": {},
   "source": [
    "### Zadanie 2.52\n",
    "\n",
    "Za pomocą listy składanej utwórz listę zawierającą elementy od 0 do 100."
   ]
  },
  {
   "cell_type": "markdown",
   "metadata": {},
   "source": [
    "### Zadanie 2.53\n",
    "Za pomocą listy składanej utwórz sekwencję krotek zawierających pary liczb x, y w przedziale od 0 do 10 (dot. zarówno zmiennej x i y)."
   ]
  },
  {
   "cell_type": "markdown",
   "metadata": {},
   "source": [
    "### Zadanie 2.53\n",
    "Korzystając z listy zarobków pracowników w firmie oraz z listy składane, zwróć tych pracowników, którzy zarabiają powyżej 5000 zł. \n",
    "<pre>\n",
    "pracownicy = [(\"Jan Kowalski\", 3200), (\"Mteusz Nowak\", 4500), (\"Anna Kubaczyk\", 5200), (\"Katarzyna Nowacka\", 5100), (\"Władysław Marciniak\", 4800)]\n",
    "</pre>"
   ]
  },
  {
   "cell_type": "markdown",
   "metadata": {},
   "source": [
    "### Zadanie 2.54\n",
    "Korzystając z listy składanej napisz program, która zwróci listę liczb parzystych od o do 100."
   ]
  },
  {
   "cell_type": "markdown",
   "metadata": {},
   "source": [
    "### Zadanie 2.55\n",
    "Korzystając z listy składanej napisz program, który zwróci listę kwadratów liczb od 1 do 10."
   ]
  },
  {
   "cell_type": "markdown",
   "metadata": {},
   "source": [
    "### Zadanie 2.56\n",
    "Korzystając z listy słów [\"ALA\", \"MA\", \"KOTA\"] i z konstrukcji listy składanej, zamienić wszystkie słowa w liscie na słowa zawierające małe litery."
   ]
  },
  {
   "cell_type": "markdown",
   "metadata": {},
   "source": [
    "# Grafika żółwia (turtle graphics)\n",
    "\n",
    "Grafika żółwia to interesujący moduł graficzny języka Python, który umożliwia w relatywnie prosty sposób wizualizować wyniki działań równań matematycznych i instrukcji programistycznych. \n",
    "\n",
    "Importu modułu dokonujemy tak samo jak w przypadku innych, Możemy skorzystać np. z instrukcji:\n",
    "- import turtle\n",
    "- from turtle import *\n",
    "\n",
    "Następnie musimy utworzyć obiekt Turtle(), którym dalej będziemy sterować za pomocą instrukcji języka Python.\n",
    "\n",
    "Przegląd najważniejszych instrukcji i metod:\n",
    "- Turtle() - konstruktor obiektu\n",
    "- speed() - szybkość rysowania\n",
    "- forward() / fd() - ruch do przodu\n",
    "- backward() / bk() - ruch do tyłu\n",
    "- right() / rt () - obrót w prawo\n",
    "- left() / lt() - obrót w lewo\n",
    "- goto() /setpos() / setposition() - przejście do pozycji\n",
    "- pendown() | pd() | down() - przyłóż pisak\n",
    "- penup() | pu() | up() - podnieś pisak\n",
    "- pensize() | width() - rozmiar pisaka\n",
    "- pencolor() - kolor pisaka\n",
    "- showturtle() | st() - pokaż żółwia\n",
    "- hideturtle() | ht() - ukryj żółwia\n",
    "- isvisible() - sprawdź czy żółw jest widoczny\n",
    "- shape() - zmień kształt żółwia\n",
    "- resizemode() - zmień rozmiar\n",
    "- shapesize() | turtlesize() - zmień rozmiar\n",
    "\n",
    "W notatnikach Jupyter oryginalna wersja modułu turtle bywa kłopotliwa w użuciu. Dlatego dalej będziemy korzystać z innych implementacji:\n",
    "- mobilechelonian: https://github.com/takluyver/mobilechelonian\n",
    "- iPyTurtle: https://github.com/gkvoelkl/ipython-turtle-widget\n",
    "\n",
    "Import klasy Turtle z wykorzystaniem wymienionych modułów mobilechelonian wykonujemy korzystając z instrukcji:\n",
    "- from mobilechelonian import Turtle (w przypadku modułu mobilechelonian),\n",
    "- from ipyturtle import Turtle (w przypadku modułu ipyturtle).\n",
    "\n",
    "W większości obiekty z modułów mobilechelonian oraz ipyturtle są kompatybilne z obiektami z modułu turtle. Spis dostępnych metod i fukcji możemy uzyskać korzystając z poleceń help(Turtle) (zarówno w przypadku modułu mobilechelonian jak i ipyturtle)."
   ]
  },
  {
   "cell_type": "markdown",
   "metadata": {},
   "source": [
    "### Zadanie 2.57\n",
    "\n",
    "Utwórz program, który narysuje kwadrat, którego każdy bok będzie posiadać inny kolor"
   ]
  },
  {
   "cell_type": "markdown",
   "metadata": {},
   "source": [
    "### Zadanie 2.58\n",
    "\n",
    "Utwórz program, w którym zainicjowane zostanie obiekt typu Turtle i wykona rysunki trzech figur (kwadrat, pięciokąt, sześciokąt) w różnych miejscach okna w różnych kolorach."
   ]
  },
  {
   "cell_type": "markdown",
   "metadata": {},
   "source": [
    "### Zadanie 2.59\n",
    "\n",
    "Utwórz program, w którym korzystając z metody „setpos” narysujesz funkcję sinus i cosinus."
   ]
  },
  {
   "cell_type": "markdown",
   "metadata": {},
   "source": [
    "### Zadanie 2.60\n",
    "\n",
    "Utwórz program, w którym korzystając z metody „setpos” narysujesz okrąg."
   ]
  },
  {
   "cell_type": "markdown",
   "metadata": {},
   "source": [
    "### Zadanie 2.61\n",
    "\n",
    "Błądzenie chaotyczne:\n",
    "Utwórz program, w którym obiekt typu Turtle() będzie wykonywać krok naprzód, a następnie obracać się o wylosowany kąt (0, 90, -90, 180) i w pętli wykonywać błądzenie chaotyczne."
   ]
  },
  {
   "cell_type": "markdown",
   "metadata": {},
   "source": [
    "<hr>\n",
    "\n",
    "### Licencja:\n",
    "\n",
    "- Teksty i ilustracje niniejszych materiałów są objęte licencją CC BY-NC-ND 4.0: https://creativecommons.org/licenses/by-nc-nd/4.0/deed.pl\n",
    "- Kody źródłowe zawarte w niniejszych materiałach są objęte licencją MIT: https://opensource.org/licenses/mit-license.php\n",
    "\n",
    "### License:\n",
    "\n",
    "- The text and illustrations of this material are licensed under CC BY-NC-ND 4.0: https://creativecommons.org/licenses/by-nc-nd/4.0/deed.en\n",
    "- Source codes included in these materials are licensed under the MIT license: https://opensource.org/licenses/mit-license.php"
   ]
  }
 ],
 "metadata": {
  "kernelspec": {
   "display_name": "Python 3",
   "language": "python",
   "name": "python3"
  },
  "language_info": {
   "codemirror_mode": {
    "name": "ipython",
    "version": 3
   },
   "file_extension": ".py",
   "mimetype": "text/x-python",
   "name": "python",
   "nbconvert_exporter": "python",
   "pygments_lexer": "ipython3",
   "version": "3.8.5"
  }
 },
 "nbformat": 4,
 "nbformat_minor": 4
}
