{
 "cells": [
  {
   "cell_type": "markdown",
   "metadata": {},
   "source": [
    "# Wyjątki\n",
    "\n",
    "Obsługa wyjątków pozwala zabezpieczyć program przed niespodziewanymi/niepożądanymi awariami na wypadek m.in.\n",
    "- wprowadzenia danych złego typu\n",
    "- wykroczenia poza zakres sekwencji\n",
    "- sytuacji dzielenia przez zero\n",
    "- … i wielu innych…\n",
    "\n",
    "Przykład:\n",
    "lista = [2, 5, 7]\n",
    "\n",
    "lista[3] - wyrzuci wyjątek\n",
    "\n",
    "Sposób 1:"
   ]
  },
  {
   "cell_type": "code",
   "execution_count": 6,
   "metadata": {},
   "outputs": [],
   "source": [
    "lista = [2, 7, 3]"
   ]
  },
  {
   "cell_type": "code",
   "execution_count": 7,
   "metadata": {},
   "outputs": [
    {
     "ename": "IndexError",
     "evalue": "list index out of range",
     "output_type": "error",
     "traceback": [
      "\u001b[0;31m---------------------------------------------------------------------------\u001b[0m",
      "\u001b[0;31mIndexError\u001b[0m                                Traceback (most recent call last)",
      "\u001b[0;32m<ipython-input-7-34a960744870>\u001b[0m in \u001b[0;36m<module>\u001b[0;34m\u001b[0m\n\u001b[0;32m----> 1\u001b[0;31m \u001b[0mlista\u001b[0m\u001b[0;34m[\u001b[0m\u001b[0;36m3\u001b[0m\u001b[0;34m]\u001b[0m\u001b[0;34m\u001b[0m\u001b[0;34m\u001b[0m\u001b[0m\n\u001b[0m",
      "\u001b[0;31mIndexError\u001b[0m: list index out of range"
     ]
    }
   ],
   "source": [
    "lista[3]"
   ]
  },
  {
   "cell_type": "code",
   "execution_count": 8,
   "metadata": {},
   "outputs": [],
   "source": [
    "# try:\n",
    "#     lista[3]\n",
    "# except:\n",
    "#     print(’’Poza zakresem listy’’)"
   ]
  },
  {
   "cell_type": "code",
   "execution_count": 8,
   "metadata": {},
   "outputs": [
    {
     "name": "stdout",
     "output_type": "stream",
     "text": [
      "Wykroczyłeś poza zakres listy\n"
     ]
    }
   ],
   "source": [
    "try:\n",
    "    lista[3]\n",
    "except:\n",
    "    print(\"Wykroczyłeś poza zakres listy\")"
   ]
  },
  {
   "cell_type": "markdown",
   "metadata": {},
   "source": [
    "Tym sposobem obsłużymy wszystkie wyjątki, ale nie wiemy jakiego typu wyjątek się pojawił.\n",
    "\n",
    "Sposób 2:"
   ]
  },
  {
   "cell_type": "code",
   "execution_count": null,
   "metadata": {},
   "outputs": [],
   "source": [
    "# try:\n",
    "#    lista[3]\n",
    "# except IndexError:\n",
    "#    print(\"Poza zakresem listy\")"
   ]
  },
  {
   "cell_type": "code",
   "execution_count": 11,
   "metadata": {},
   "outputs": [
    {
     "name": "stdout",
     "output_type": "stream",
     "text": [
      "Poza zakresem listy\n"
     ]
    }
   ],
   "source": [
    "try:\n",
    "    10/0\n",
    "except ZeroDivisionError:\n",
    "    print(\"Poza zakresem listy\")"
   ]
  },
  {
   "cell_type": "markdown",
   "metadata": {},
   "source": [
    "Korzystając z tej konstrukcji, ustawiliśmy program na wyłapanie konkretnego typu wyjątku.\n",
    "\n",
    "Sposób 3:"
   ]
  },
  {
   "cell_type": "code",
   "execution_count": 11,
   "metadata": {},
   "outputs": [],
   "source": [
    "# try:\n",
    "#     lista[3]\n",
    "# except IndexError:\n",
    "#     print(\"Poza zakresem listy\")\n",
    "# else:\n",
    "#     print(\"ta linia wykona się jeżeli blok try się powiedzie\")\n",
    "# finally:\n",
    "#     print(\"ta linia wykona się zawsze\")"
   ]
  },
  {
   "cell_type": "code",
   "execution_count": 15,
   "metadata": {},
   "outputs": [
    {
     "name": "stdout",
     "output_type": "stream",
     "text": [
      "Wykroczyłeś poza zakres listy\n",
      "ta linia wykona się zawsze\n"
     ]
    }
   ],
   "source": [
    "try:\n",
    "    lista[3]\n",
    "except:\n",
    "    print(\"Wykroczyłeś poza zakres listy\")\n",
    "else: \n",
    "    print(\"Try się powiodło\")\n",
    "finally:\n",
    "    print(\"ta linia wykona się zawsze\")"
   ]
  },
  {
   "cell_type": "markdown",
   "metadata": {},
   "source": [
    "Listę dostępnych wyjątków w języku Python można sprawdzić na stronie: https://docs.python.org/3/library/exceptions.html"
   ]
  },
  {
   "cell_type": "markdown",
   "metadata": {},
   "source": [
    "### Zadanie 3.1\n",
    "\n",
    "Stwórz kalkulator, który będzie odporny na niewłaściwe dane wprowadzane przez użytkownika. Program powinien pobierać pierwszą liczbę, drugą liczbę, znak operacji (+ - * /), wyświetlać wynik. Jeżeli użytkownik poda niepoprawną wartość, program pyta go ponownie o wpisanie właściwej informacji."
   ]
  },
  {
   "cell_type": "markdown",
   "metadata": {},
   "source": [
    "# Funkcje\n",
    "\n",
    "Funkcje umożliwiają wielokrotne wykorzystywanie raz napisanego już kodu i pomagają w porządkowaniu programu. Działanie funkcji można przyrównać do funkcji w matematyce, w której po dostarczeniu danych (argumenty) otrzymujemy pewien wynik (wartości). \n",
    "\n",
    "Przykładami funkcji z których korzystaliśmy do tej pory były m. in. print() oraz len(). Na ich przykładzie możemy zauważyć, że funkcja:\n",
    "- posiada nazwę,\n",
    "- może przyjmować argumenty,\n",
    "- może zwracać dane (wyniki operacji).\n",
    "\n",
    "Składnia funkcji w języku Python jest następująca:"
   ]
  },
  {
   "cell_type": "code",
   "execution_count": null,
   "metadata": {},
   "outputs": [],
   "source": [
    "# def nazwa_funkcji(argumenty):\n",
    "#     <instrukcje do wykonania>\n",
    "#     return dane"
   ]
  },
  {
   "cell_type": "markdown",
   "metadata": {},
   "source": [
    "Funkcja:\n",
    "- funkcja może przyjmować argumenty wybranego typu, jeśli podamy ich nazwy w nawiasie ( … ), ale nie jest to wymagane,\n",
    "- może wykonywać pewne operacje, łącznie z wyświetlaniem komunikatów w konsoli, zapisywaniem plików, tworzeniem wykresów czy wyświetlaniem obrazów,\n",
    "- może zwracać określoną wartość (lub wiele wartości) wybranego typu, przy użyciu instrukcji „return”, ale nie jest to wymagane.\n",
    "\n",
    "Przykład funkcji przyjmującej argumenty „a” i „b” i zwracającej wartość „c”:"
   ]
  },
  {
   "cell_type": "code",
   "execution_count": 1,
   "metadata": {},
   "outputs": [],
   "source": [
    "# def nazwa_funkcji(a, b):\n",
    "#     c = a + b\n",
    "#     return c"
   ]
  },
  {
   "cell_type": "markdown",
   "metadata": {},
   "source": [
    "Argumenty funkcji mogą posiadać początkowo ustalone wartości. Wówczas jeżeli użytkownik nie wprowadzi wartości argumentów do funkcji, funkcja skorzysta z wartości domyślnych."
   ]
  },
  {
   "cell_type": "code",
   "execution_count": 3,
   "metadata": {},
   "outputs": [],
   "source": [
    "# def nazwa_funkcji(a = wartosc_1, b = wartosc_2):\n",
    "#     c = a + b\n",
    "#     return c"
   ]
  },
  {
   "cell_type": "markdown",
   "metadata": {},
   "source": [
    "Funkcja może zwracać więcej niż jedną wartość w miejscu return"
   ]
  },
  {
   "cell_type": "code",
   "execution_count": 4,
   "metadata": {},
   "outputs": [],
   "source": [
    "# def nazwa_funkcji(a = wartosc_1, b = wartosc_2):\n",
    "#     c = a + b\n",
    "#     d = a - b \n",
    "#     return c, d"
   ]
  },
  {
   "cell_type": "markdown",
   "metadata": {},
   "source": [
    "# Korzystanie z dokumentacji i dokumentowanie kodu\n",
    "\n",
    "Język Python daje nam możliwość wygodnego, prostego i inticyjnego korzystania z dokumentacji funkcji i klas:\n",
    "\n",
    "- dla funkcji:\n",
    "<pre>\n",
    "help(nazwa_funkcji)\n",
    "</pre>\n",
    "\n",
    "- dla klas:\n",
    "<pre>\n",
    "help(nazwa_klasy)\n",
    "</pre>\n",
    "\n",
    "Aby samodzielnie utworzyć dokumentację funkcji (lub klasy) należy w linii po jej nazwie (pod nagłówkiem) wprowadzić tekst opisu w postaci komentarza (można korzystać z komentarzy wielowierszowych ograniczając blok tekstu symbolami \"\"\"...\"\"\" lub '''...''').\n",
    "\n",
    "Przykład:\n",
    "\n",
    "<pre>\n",
    "def parzystosc(liczba):\n",
    "    \"\"\"\n",
    "    Ta funkcja sprawdza czy liczba jest parzysta\n",
    "    \"\"\"\n",
    "    if (liczba%2 == 0):\n",
    "        return True\n",
    "    else:\n",
    "        return False\n",
    "</pre>"
   ]
  },
  {
   "cell_type": "code",
   "execution_count": 1,
   "metadata": {},
   "outputs": [],
   "source": [
    "def parzystosc(liczba):\n",
    "    \"\"\"\n",
    "    Ta funkcja sprawdza czy liczba jest parzysta\n",
    "    \"\"\"\n",
    "    if (liczba%2 == 0):\n",
    "        return True\n",
    "    else:\n",
    "        return False"
   ]
  },
  {
   "cell_type": "code",
   "execution_count": 3,
   "metadata": {},
   "outputs": [
    {
     "name": "stdout",
     "output_type": "stream",
     "text": [
      "Help on function parzystosc in module __main__:\n",
      "\n",
      "parzystosc(liczba)\n",
      "    Ta funkcja sprawdza czy liczba jest parzysta\n",
      "\n"
     ]
    }
   ],
   "source": [
    "help(parzystosc)"
   ]
  },
  {
   "cell_type": "markdown",
   "metadata": {},
   "source": [
    "### Zadanie 3.2\n",
    "\n",
    "Napisz funkcję bez argumetu, która wypisze w konsoli komunikat \"Witaj świecie!\""
   ]
  },
  {
   "cell_type": "markdown",
   "metadata": {},
   "source": [
    "### Zadanie 3.3\n",
    "\n",
    "Napisz funkcję, która przyjmie od użytkownika liczbę całkowitą i zwróci informację, czy jest parzysta, czy nie."
   ]
  },
  {
   "cell_type": "markdown",
   "metadata": {},
   "source": [
    "### Zadanie 3.4\n",
    "\n",
    "Napisz funkcję, która przyjmie od użytkownika dwie liczby i zwróci wynik ich dodawania, odejmowania, mnożenia i dzielenia."
   ]
  },
  {
   "cell_type": "markdown",
   "metadata": {},
   "source": [
    "### Zadanie 3.5\n",
    "\n",
    "Napisz funkcję, która przyjmie listę liczb i zwróci sumę z tych liczb."
   ]
  },
  {
   "cell_type": "markdown",
   "metadata": {},
   "source": [
    "### Zadanie 3.6\n",
    "\n",
    "Napisz program z funkcją, która pobierze od użytkownika jego imię oraz liczbę naturalną n, a następnie wyświetli na ekranie podane imię n razy. Jeżeli użytkownik nie poda żadnego imienia ani liczby, niech domyślnie funkcja ustawia wartości „Adam” oraz 7."
   ]
  },
  {
   "cell_type": "markdown",
   "metadata": {},
   "source": [
    "### Zadanie 3.7\n",
    "\n",
    "Związek między temperaturą w skali Celsjusza, a temperaturą w skali Fahrenheita ma postać:\n",
    "- C = (F-32)*(5/9) (przy przeliczaniu skali Fahrenheita na Celsjusza),\n",
    "- F = (C*(9/5)) + 32 (przy przeliczanniu skali Celsjusza na skalę Fahrenheita).\n",
    "Napisz dwie funkcje do przeliczania temperatur między poszczególnymi skalami.\n",
    "\n",
    "Sporządź dla powyższej funkcji dokumentację."
   ]
  },
  {
   "cell_type": "markdown",
   "metadata": {},
   "source": [
    "### Zadanie 3.8\n",
    "\n",
    "Trójmian kwadratowy wyraża się wzorem $y=ax^2 + bx + c$. Utwórz funkcję, która będzie przyjmować jako argumenty współczynniki $a, b, c$ trójmianu kwadratowego, a zwracać będzie miejsca zerowe oraz współrzędne wierzchołka funkcji. Funckja powinna obsługiwać sytucaję braku rozwiązań rzeczywistych. \n",
    "\n",
    "Uzupełnienie matematyczne: Obliczenia opierają się na wyróżniku funkcji kwadratowej, $\\Delta = b^2 - 4ac$. Wówczas kolejne pierwiastki wyrażają się wzorem: $x_{1, 2} = \\frac{- b \\pm \\sqrt{\\Delta}}{2a}$, natomiast współprzędne wierzchołka: $p=\\frac{-b}{2a}$, $q=\\frac{-\\Delta}{4a}$.\n",
    "\n",
    "Sporządź dla powyższej funkcji dokumentację."
   ]
  },
  {
   "cell_type": "markdown",
   "metadata": {},
   "source": [
    "### Zadanie 3.9\n",
    "\n",
    "Napisz funkcję, która jako argument przyjmie listę liczb, a zwróci ich średnią.\n",
    "\n",
    "Sporządź dla powyższej funkcji dokumentację."
   ]
  },
  {
   "cell_type": "markdown",
   "metadata": {},
   "source": [
    "### Zadanie 3.10\n",
    "\n",
    "Napisz funkcję, która jako argument przyjmie listę liczb, a zwróci odchylenie standardowe. Wzór na odchylenie standadrowe: $\\sigma = \\sum_{i=1}^{n} \\sqrt{\\frac{(x_i - \\bar{x})^2}{n}}$."
   ]
  },
  {
   "cell_type": "markdown",
   "metadata": {},
   "source": [
    "### Zadanie 3.11\n",
    "\n",
    "Napisz funkcję, która przyjmie jako argument dwie listy liczb rzeczywistych, a zwróci odpowiadający im współczynnik korelacji Pearsona. Wzór na współczynnik korelacji Pearsona: $r_{xy} = \\frac{\\sum_{i=1}^{n}(x_i - \\bar{x})(y_i - \\bar{y})}{\\sqrt{\\sum_{1}^{n}(x_i - \\bar{x})^2}\\sqrt{\\sum_{i=1}^{n}(y_i - \\bar{y})}}$."
   ]
  },
  {
   "cell_type": "markdown",
   "metadata": {},
   "source": [
    "### Zadanie 3.12\n",
    "\n",
    "Napisz funkcję, która przyjmie jako argument dwie listy liczb rzeczywistych, a zwróci odpowiadające im współczynniki regresji liniowej. Wzory na współczynniki regresji liniowej: $a=\\frac{\\sum_{i=1}^{n} (x_i - \\bar{x})(y_i - \\bar{y})}{\\sum_{i=1}^{n}(x_i - \\bar{x})^2}$, $b=\\bar{y}-a\\bar{x}$."
   ]
  },
  {
   "cell_type": "markdown",
   "metadata": {},
   "source": [
    "### Zadanie 3.13\n",
    "\n",
    "Utwórz program (z wykorzystaniem funkcji) do obliczania pól figur płaskich, który:\n",
    "- pozwoli użytkownikowi wybrać figurę, której pole chce obliczyć,\n",
    "- pobierze z klawiatury odpowiednie dane,\n",
    "- wyświetli właściwy wynik,\n",
    "- pozwoli użytkownikowi podjąć decyzję, czy chce uruchomić program ponownie, czy nie.\n",
    "\n",
    "Program powinien zawierać funkcje do obliczania pól następujących figur: trójkąt, prostokąt, koło, trapez, kwadrat, trójkąt równoboczny.\n"
   ]
  },
  {
   "cell_type": "markdown",
   "metadata": {},
   "source": [
    "### Zadanie 3.14\n",
    "\n",
    "Utwórz program (z wykorzystaniem funkcji) do obliczania objętości brył przestrzennych, który:\n",
    "- pozwoli użytkownikowi wybrać bryłę, której objętość chce obliczyć,\n",
    "- pobierze z klawiatury odpowiednie dane,\n",
    "- wyświetli właściwy wynik,\n",
    "- pozwoli użytkownikowi podjąć decyzję, czy chce uruchomić program ponownie, czy nie.\n",
    "\n",
    "Program powinien zawierać funkcje do obliczania objętości minimum trzech brył - kuli, graniastosłupa, stożka.\n"
   ]
  },
  {
   "cell_type": "markdown",
   "metadata": {},
   "source": [
    "### Zadanie 3.15\n",
    "\n",
    "Korzystając z biblioteki turtle utwórz funkcję, która będzie rysować:\n",
    "- trójkąt\n",
    "- kwadrat\n",
    "- prostokąt\n",
    "- pięciokąt\n",
    "- gwiazdę\n",
    "\n",
    "Argumentami powinna być pozycja obrazka, kolor linii oraz jej grubość i wielkość kształtu."
   ]
  },
  {
   "cell_type": "markdown",
   "metadata": {},
   "source": [
    "# Funkcje anonimowe (wyrażenia lamda)\n",
    "\n",
    "W języku Python mamy możliwość tworzenia funkcji anonimowych (nazywanych też wyrażeniami lambda), które nie są powiązane z identyfikatorem (czyli w pewnym sensie nie mają nazwy). Służą do tworzenia funkcjonalności, którym nie powinniśmy nadawać nazw i/lub są potrzebne na krótkotrwały użytek.\n",
    "\n",
    "W języku Python wyrażenia lambda mają następującą składnię:\n",
    "\n",
    "lambda <zestaw argumentów>: <wyrażenie zwrotne>\n",
    "\n",
    "Tak utworzone wyrażenie lambda wydaje się bezużyteczne, ponieważ nie widać w nim jak do utworzonego wyrażenia wstawić argumenty. W języku Python istnieje wiele sposobów wstawiania argumentów do wyrażenia lambda. My skupimy się na dwóch:\n",
    "- wywołanie wyrażenia od razu w tworzącej instrukcji: (lambda <zestaw argumentów>: <wyrażenie zwrotne>)(argumenty)\n",
    "- przypisanie wyrażenia lambda do zmiennej: wyrazenie = lambda <zestaw argumentów>: <wyrażenie zwrotne>, wyrazenie(argumenty)\n",
    "\n",
    "Przykład:"
   ]
  },
  {
   "cell_type": "code",
   "execution_count": 18,
   "metadata": {},
   "outputs": [
    {
     "name": "stdout",
     "output_type": "stream",
     "text": [
      "10\n",
      "10\n"
     ]
    }
   ],
   "source": [
    "zm1 = (lambda x, y: x+y)(7, 3)\n",
    "print(zm1)\n",
    "\n",
    "wyrazenie = lambda x, y: x+y\n",
    "zm2 = wyrazenie(7, 3)\n",
    "print(zm2)"
   ]
  },
  {
   "cell_type": "markdown",
   "metadata": {},
   "source": [
    "### Zadanie 3.16\n",
    "\n",
    "Utwórz wyrażenie lambda do potęgowania (wyrażenie przyjmuje dwie liczby - potęgowaną wartość i wykładnik)."
   ]
  },
  {
   "cell_type": "markdown",
   "metadata": {},
   "source": [
    "### Zadanie 3.17\n",
    "\n",
    "Utwórz wyrażenie lambda do składania dwóch łańcuchów znaków (wyrażenie przyjmuje dwa napisy i zwraca jeden będący sumą argumentów)."
   ]
  },
  {
   "cell_type": "markdown",
   "metadata": {},
   "source": [
    "### Zadanie 3.18\n",
    "\n",
    "Utwórz wyrażenie lambda zwiększające argument o liczbę 13."
   ]
  },
  {
   "cell_type": "markdown",
   "metadata": {},
   "source": [
    "### Zadanie 3.19\n",
    "\n",
    "Utwórz wyrażenie lambda przyjmujące dwa argumenty (liczby rzeczywiste) i wykonujące na nich kwadrat sumy."
   ]
  },
  {
   "cell_type": "markdown",
   "metadata": {},
   "source": [
    "### Zadanie 3.20\n",
    "\n",
    "Utwórz wyrażenie lambda przyjmujące dwa argumenty (liczby rzeczywiste) i wykonujące na nich kwadrat różnicy."
   ]
  },
  {
   "cell_type": "markdown",
   "metadata": {},
   "source": [
    "# Programowanie obiektowe\n",
    "\n",
    "Do tej pory dane na których pracowaliśmy miały określony typ:\n",
    "- liczby całkowite (int)\n",
    "- liczby rzeczywiste (float)\n",
    "- łańcuchy znaków (str)\n",
    "- itd.\n",
    "\n",
    "Typ determinuje jakie wartości mogą być przechowywane w danej zmiennej oraz jakie opracje można na niej wykonać (podobnie jak w matematyce - zbiory liczbowe były określone przez ich elementy oraz operacje jakie można na chych wykonywać). \n",
    "\n",
    "W praktycze programistycznej okazuje się jednak, że często podstawowe typy danych są niewystarczające i stoimy przed koniecznością tworzenia własnych \"typów\". Tak własne utworzone typy nazywamy klasami, a programowanie wykorzystujące takie podejście - programowaniem obiektowym. \n",
    "\n",
    "Każdy reprezentant (instancja) danej klasy to obiekt. Obiekty są opisywane pewnymi liczbami/wartościami (pola/atrybuty) i można wykonywać na nich konkretne działania (metody).\n",
    "\n",
    "Warto pamiętać, że:\n",
    "- programowanie obiektowe umożliwia tworzenie nowych typów danych,\n",
    "- każdy obiekt można (jego własności) opisać za pomocą liczb i funkcji jakie można na nich wykonać, są to tzw. pola i metody,\n",
    "- obiekty o tych samych własnościach nazywamy klasą.\n",
    "\n",
    "W podejściu obiektowym program stanowi zbiór obiektów, które komunikują się między sobą w celu wykonywania zadań. Takie podejście różni się znacznie od podejścia proceduralnego.\n",
    "\n",
    "Programowanie obiektowe opiera się na następujących paradygmatach:\n",
    "- Abstrakcja\n",
    "- Hermetyzacja\n",
    "- Dziedziczenie\n",
    "- Polimorfizm\n",
    "\n",
    "Najważniejsze pojęcia:\n",
    "- Klasa\n",
    "- Konstruktor\n",
    "- Pola (atrybuty)\n",
    "- Metody\n",
    "- Obiekty\n",
    "\n",
    "Składnia klasy:"
   ]
  },
  {
   "cell_type": "code",
   "execution_count": 19,
   "metadata": {},
   "outputs": [],
   "source": [
    "# class NazwaKlasy:\n",
    "#     <pola>\n",
    "#     ...\n",
    "#     <metody>\n",
    "#     ..."
   ]
  },
  {
   "cell_type": "markdown",
   "metadata": {},
   "source": [
    "Budowa obiektu:\n",
    "- zmienne przechowujące dane dotyczące obiektu to pola\n",
    "- funkcje związane z obiektem to metody\n",
    "\n",
    "Deklarowanie obiektu:"
   ]
  },
  {
   "cell_type": "code",
   "execution_count": 20,
   "metadata": {},
   "outputs": [],
   "source": [
    "# NazwaObiektu = NazwaKlasy(argumenty)"
   ]
  },
  {
   "cell_type": "markdown",
   "metadata": {},
   "source": [
    "Notacja obiektowa opiera się na wykorzystaniu operatora „.”\n",
    "\n",
    "dostęp do pól:\n",
    "nazwaObiektu.nazwaPola\n",
    "\n",
    "\n",
    "nazwaObiektu.nazwaMetody()\n",
    "nazwaObiektu.nazwaMetody(argumenty)"
   ]
  },
  {
   "cell_type": "code",
   "execution_count": null,
   "metadata": {},
   "outputs": [],
   "source": [
    "# nazwaObiektu.nazwaPola"
   ]
  },
  {
   "cell_type": "markdown",
   "metadata": {},
   "source": [
    "dostęp do metod:"
   ]
  },
  {
   "cell_type": "code",
   "execution_count": null,
   "metadata": {},
   "outputs": [],
   "source": [
    "# nazwaObiektu.nazwaMetody()\n",
    "\n",
    "# lub \n",
    "\n",
    "# nazwaObiektu.nazwaMetody(argumenty)"
   ]
  },
  {
   "cell_type": "markdown",
   "metadata": {},
   "source": [
    "Ważne słowa:\n",
    "\n",
    "- self - w obrębie metod self odnosi się do samego obiektu i posiadamy dostęp do pól i metod obiektu. Zasięg zmiennych obejmuje całą klasę.\n",
    "\n",
    "- init - ważna metoda, która umożliwia utworzenie konstruktora klasy. Jej zadaniem jest zainicjowanie nowego obiektu (m. in. najważniejszych lub wszystkich pól)\n",
    "\n",
    "- metody - definiujemy wewnątrz klasy:"
   ]
  },
  {
   "cell_type": "code",
   "execution_count": 21,
   "metadata": {},
   "outputs": [],
   "source": [
    "# class NazwaKlasy:\n",
    "#     def NazwaMetody(self, argumenty)\n",
    "#         cialo_metody"
   ]
  },
  {
   "cell_type": "markdown",
   "metadata": {},
   "source": [
    "Metoda __str__ - można ją wywołać przez wbudowane funkcje str() lub print(). Pozwala wygenerować informacje na temat obiektu."
   ]
  },
  {
   "cell_type": "code",
   "execution_count": 22,
   "metadata": {},
   "outputs": [],
   "source": [
    "# class Vector:\n",
    "#     def __str__(self):\n",
    "#     self.a = x\n",
    "#     self.b = y\n",
    "#     print(self.a, self.b)"
   ]
  },
  {
   "cell_type": "markdown",
   "metadata": {},
   "source": [
    "Konstruktor to metoda przypisująca początkowe wartości do pól nowo tworzonego obiektu. Konstruktor tworzymy za pomocą słowa kluczowego __init__. (zaczyna się i kończy podwójnym podkreśleniem).\n",
    "\n",
    "Przykład:"
   ]
  },
  {
   "cell_type": "code",
   "execution_count": 24,
   "metadata": {},
   "outputs": [],
   "source": [
    "# klasa Vector\n",
    "\n",
    "# class Vector:\n",
    "#     def __init__(self, x, y):\n",
    "#         self.a = x\n",
    "#         self.b = y\n",
    "#         print(„utworzono wektor”)\n",
    "\n",
    "#utworzenie obiektu    \n",
    "# w = Vector(2, 5) "
   ]
  },
  {
   "cell_type": "markdown",
   "metadata": {},
   "source": [
    "### Zadanie 3.21\n",
    "\n",
    "Utwórz klasę Ulamek - klasa powinna zawierać takie pola jak licznik i mianownik, metody zwracające wartość licznika i mianownika oraz metody umożliwiające dodawanie, odejmowanie, dzielenie i mnożenie obiektów klasy Ulamek."
   ]
  },
  {
   "cell_type": "markdown",
   "metadata": {},
   "source": [
    "### Zadanie 3.22\n",
    "\n",
    "Napisz program do obliczania BMI zawodnika. Program powinien zawierać klasę Zawodnik o polach imię, wzrost, waga oraz metodę do obliczania BMI. Utwórz obiekt reprezentujący zawodnika i wywołaj metodę, która obliczy i wyświetli wartość BMI."
   ]
  },
  {
   "cell_type": "markdown",
   "metadata": {},
   "source": [
    "### Zadanie 3.23\n",
    "\n",
    "Utwórz klasę Vector2D do reprezentowania i wykonywania działań na wektorach. Klasa powinna zawierać takie metody jak: \n",
    "- dodawanie (zwiększanie) wekotrów, \n",
    "- odejmowanie (zmniejszanie) wektorów, \n",
    "- skalowanie, \n",
    "- zwracanie modułu, \n",
    "- iloczyn skalarny, \n",
    "- wyświetlanie współrzędnych.\n",
    "\n",
    "Uzupełnienie matematyczne: \n",
    "\n",
    "przez wektor rozumiemy: $\\vec{a} = [a_x, a_y]$\n",
    "\n",
    "Poszczególne działania definiujemy:\n",
    "- dodawanie: $\\vec{a} + \\vec{b} = [a_x + b_x, a_y + b_y]$\n",
    "- odejmowanie: $\\vec{a} - \\vec{b} = [a_x - b_x, a_y - b_y]$\n",
    "- moduł: $|\\vec{a}| = \\sqrt{a_x^2 + a_y^2}$\n",
    "- skalowanie: $k \\cdot \\vec{a} = [k \\cdot a_x, k \\cdot a_y]$\n",
    "- iloczyn skalarny: $\\vec{a} \\cdot \\vec{b} = a_x \\cdot b_x + a_y \\cdot b_y$"
   ]
  },
  {
   "cell_type": "markdown",
   "metadata": {},
   "source": [
    "### Zadanie 3.24\n",
    "\n",
    "Utwórz klasę Prostokat, która będzie reprezentować współrzędne wierzchołków prostokąta oraz będzie umożliwiać wykonywanie na nim następujących operacji:\n",
    "- przesuwanie o wektor 2D (przesunięcie w kierunku x i kierunku y)\n",
    "- przesuwanie do środka układu współrzędnych\n",
    "- skalowanie (w kierunkach x i y)\n",
    "\n",
    "Klasa powinna posiadać konstruktor przyjmujący współrzędne lewego górnego wierzchołka oraz szerokość i wysokość prostokąta."
   ]
  },
  {
   "cell_type": "markdown",
   "metadata": {},
   "source": [
    "### Zadanie 3.25\n",
    "\n",
    "Utwórz program, który umożliwi dodawanie pracowników w postaci obiektów do listy w zakresie danych: imię, nazwisko, email, telefon. Następnie program wyświetli elementy listy obiektów wprowadzonych do listy. "
   ]
  },
  {
   "cell_type": "markdown",
   "metadata": {},
   "source": [
    "### Zadanie 3.26\n",
    "\n",
    "Utwórz program do przechowywania listy ocen studentów z egzaminu. Program powinien zawierać klasę Student o polach: imię, nazwisko, oceny; i metodach: dodajOcene, wypiszOceny, obliczSrednia. Program powinien posiadać menu. D-dodaj studenta, U-usuń studenta, O-dodaj ocenę studentowi, W-wypisz oceny studenta, S-średnia studenta."
   ]
  },
  {
   "cell_type": "markdown",
   "metadata": {},
   "source": [
    "### Zadanie 3.27\n",
    "\n",
    "Utwórz klasę Koszyk, która będzie stanowić podstawowy element aplikacji sklepu internetowego. Koszyk powinien posiadać pole zakupy, które będzie przechowywać słownik par produkt-ilość. Klasa powinna zawierać dwie metody: dodajProdukt i odejmijProdukt służące do dodawania i odejmowania produktów w koszyku w zadanej ilości. \n",
    "\n",
    "Przykład działania:\n",
    "<br>\n",
    "user = Koszyk() # tworzenie instancji klasy\n",
    "<br>\n",
    "user.dodajProdukt(\"chleb\", 2) # dodawanie do koszyka produktu chleb - 2 sztuki\n",
    "<br>\n",
    "user.odejmijProdukt(\"chleb\", 1) # odejmowanie z koszyka produktu chleb - 1 sztuka\n",
    "<br>\n",
    "user.zakupy # wyświetlanie zawartości koszyka"
   ]
  },
  {
   "cell_type": "markdown",
   "metadata": {},
   "source": [
    "### Enkapsulacja\n",
    "\n",
    "Dzięki enkapsulacji:\n",
    "- Szczegóły implementacji są ukryte\n",
    "- Nie można zmienić stanu wewnętrznego obiektu spoza niej\n",
    "- Tylko wewnętrzne metody obiektu mogą zmieniać stan obiektu\n",
    "\n",
    "Pola prywatne - ich nazwa posiada podwójne podkreślenie"
   ]
  },
  {
   "cell_type": "code",
   "execution_count": 27,
   "metadata": {},
   "outputs": [],
   "source": [
    "# class Informacje:\n",
    "#     def __init__(self):\n",
    "#         self.__nazwisko = „Kowalski”\n",
    "# \n",
    "# obiekt = Informacje()\n",
    "\n",
    "# print(obj.__nazwisko) # wywoła błąd"
   ]
  },
  {
   "cell_type": "markdown",
   "metadata": {},
   "source": [
    "Metody również mogą mieć charakter prywatny - nazwy takich metod posiadają dwa podkreślenia z przodu."
   ]
  },
  {
   "cell_type": "code",
   "execution_count": 28,
   "metadata": {},
   "outputs": [],
   "source": [
    "# class Informacje:\n",
    "#     def __drukuj(self):\n",
    "#         print(„Cześć!”)\n",
    "\n",
    "# obiekt = Informacje()\n",
    "# obj.__drukuj() # wywoła błąd"
   ]
  },
  {
   "cell_type": "markdown",
   "metadata": {},
   "source": [
    "Dostęp do prywatnych pól i metod odbywa się za pomocą interfejsu klasy - należy utworzyć metody które pozwolą na korzystanie z prywatnych pól i metod z zewnątrz (tzw. gettery i settery)."
   ]
  },
  {
   "cell_type": "code",
   "execution_count": null,
   "metadata": {},
   "outputs": [],
   "source": [
    "# class Informacje:\n",
    "#     def __init__(self):\n",
    "#         self.nazwisko = \"Kowalski\"\n",
    "#         self.__sekret = \"hasło\"\n",
    "#        \n",
    "#     def __drukuj(self):\n",
    "#         print(\"Hello!\")\n",
    "#        \n",
    "#     def getsekret(self):\n",
    "#         print(self.__sekret)\n",
    "#         \n",
    "#     def setsekret(self, n):\n",
    "#         self.__sekret = n\n",
    "        \n",
    "# obiekt = Informacje()"
   ]
  },
  {
   "cell_type": "markdown",
   "metadata": {},
   "source": [
    "### Polimorfizm\n",
    "\n"
   ]
  },
  {
   "cell_type": "markdown",
   "metadata": {},
   "source": [
    "Polimorfizm - wielopostaciowość (z greckiego). W programowaniu polega na korzystaniu z tych samych i funkcji dla różnych obiektów. \n",
    "\n",
    "Przykład - pies i kot to przedstawiciele dwóch różbych klas, przy czym każda z nich może posiadać metodę \"machajOgonem()\". \n",
    "\n",
    "Często zdarza się, że dla poszczególnych obiektów wykonanie danej metody znaczy coś zupełnie innego. Interpreter na szczęście nie ma z tym problemu. \n",
    "\n",
    "Z przykładami polimorfizmu w Pythonie mieliśmy już do czynienia wielokrotnie. Interpreter sam wiedział jak wykonać daną funkcję. Przykłady: \n",
    "- 2+2 oraz \"2\"+\"2\" (dodawanie liczb całkowitych oraz liter)\n",
    "- korzystanie z funkcji len() (możemy ją zastosować zarówno na listach, napisach, krotkach itd.)\n",
    "- korzystanie z funkcji print() (jako argument możemy wstawić zarówno napis, zmienne, listy itd.)\n",
    "\n",
    "Przykład - polimorficzna funkcja dodawania:"
   ]
  },
  {
   "cell_type": "code",
   "execution_count": 1,
   "metadata": {},
   "outputs": [
    {
     "name": "stdout",
     "output_type": "stream",
     "text": [
      "12\n",
      "7\n"
     ]
    }
   ],
   "source": [
    "def dodaj(x, y, z=0):\n",
    "    return x+y+z\n",
    "\n",
    "print(dodaj(3, 4, 5))\n",
    "print(dodaj(3, 4))"
   ]
  },
  {
   "cell_type": "markdown",
   "metadata": {},
   "source": [
    "Polimorfizm pozwala nam korzystać z różnych obiektów w ten sam sposób.\n",
    "\n",
    "Przykład - wywoływanie tej samej metody w pętli dla różnych obiektów:"
   ]
  },
  {
   "cell_type": "code",
   "execution_count": 6,
   "metadata": {},
   "outputs": [
    {
     "name": "stdout",
     "output_type": "stream",
     "text": [
      "nazwa: Polska\n",
      "Warszawa\n",
      "Polski\n",
      "Kraj już prawie rozwinięty\n",
      "\n",
      "nazwa: Niemcy\n",
      "Berlin\n",
      "Niemiecki\n",
      "Kraj rozwinięty\n",
      "\n",
      "nazwa: Francja\n",
      "Paryż\n",
      "Francuski\n",
      "Kraj rozwinięty\n",
      "\n"
     ]
    }
   ],
   "source": [
    "class Polska():\n",
    "    nazwa = \"Polska\"\n",
    "    \n",
    "    def stolica(self):\n",
    "        print(\"Warszawa\")\n",
    " \n",
    "    def jezyk(self):\n",
    "        print(\"Polski\")\n",
    " \n",
    "    def poziomRozwoju(self):\n",
    "        print(\"Kraj już prawie rozwinięty\")\n",
    "        \n",
    "class Niemcy():\n",
    "    nazwa = \"Niemcy\"\n",
    "    \n",
    "    def stolica(self):\n",
    "        print(\"Berlin\")\n",
    " \n",
    "    def jezyk(self):\n",
    "        print(\"Niemiecki\")\n",
    " \n",
    "    def poziomRozwoju(self):\n",
    "        print(\"Kraj rozwinięty\")\n",
    "\n",
    "class Francja():\n",
    "    nazwa = \"Francja\"\n",
    "    \n",
    "    def stolica(self):\n",
    "        print(\"Paryż\")\n",
    " \n",
    "    def jezyk(self):\n",
    "        print(\"Francuski\")\n",
    " \n",
    "    def poziomRozwoju(self):\n",
    "        print(\"Kraj rozwinięty\")\n",
    "\n",
    "obPl = Polska()\n",
    "obNm = Niemcy()\n",
    "obFr = Francja()\n",
    "\n",
    "kraje = [obPl, obNm, obFr]\n",
    "\n",
    "for kraj in kraje:\n",
    "    print(f\"nazwa: {kraj.nazwa}\")\n",
    "    kraj.stolica()\n",
    "    kraj.jezyk()\n",
    "    kraj.poziomRozwoju()\n",
    "    print(\"\")"
   ]
  },
  {
   "cell_type": "markdown",
   "metadata": {},
   "source": [
    "Polimorfizm pozwala również na definiowanie funkcji, których argumentami mogą być obiekty. \n",
    "\n",
    "Przykład:"
   ]
  },
  {
   "cell_type": "code",
   "execution_count": 8,
   "metadata": {},
   "outputs": [
    {
     "name": "stdout",
     "output_type": "stream",
     "text": [
      "nazwa: Polska\n",
      "Warszawa\n",
      "Polski\n",
      "Kraj już prawie rozwinięty\n",
      "\n",
      "nazwa: Niemcy\n",
      "Berlin\n",
      "Niemiecki\n",
      "Kraj rozwinięty\n",
      "\n",
      "nazwa: Francja\n",
      "Paryż\n",
      "Francuski\n",
      "Kraj rozwinięty\n",
      "\n"
     ]
    }
   ],
   "source": [
    "def funkcja(obiekt):\n",
    "    print(f\"nazwa: {obiekt.nazwa}\")\n",
    "    obiekt.stolica()\n",
    "    obiekt.jezyk()\n",
    "    obiekt.poziomRozwoju()\n",
    "    print(\"\")\n",
    "\n",
    "obPl = Polska()\n",
    "obNm = Niemcy()\n",
    "obFr = Francja()\n",
    "  \n",
    "funkcja(obPl)\n",
    "funkcja(obNm)\n",
    "funkcja(obFr)"
   ]
  },
  {
   "cell_type": "markdown",
   "metadata": {},
   "source": [
    "### Zadanie 3.28\n",
    "Utwórz 3 klasy opisujące figury geometryczne: trójkąt, prostokąt, sześciokat foremny. Każda z klas powinna posiadać atrybut \"wierzcholki\" przechowującą liczbę wierzchołków oraz metody \"wzor_na_pole\" oraz \"wzor_na_obwod\", które wyświetlają wzory na pola i obwody danej figury. Następnie utwórz 3 obiekty (po jednym dla każdej z utworzonych klas) i umieść je w liście. Zademonstruj działanie polimorfirmu, tzn:\n",
    "- wywołaj w pętli na wszystkich obiektach pole \"wierzcholki\" oraz metody \"wzor_na_pole\" i \"wzor_na_obwod\",\n",
    "- wykonaj funkcję, której argumentem będzie obiekt i która będzie wywoływać pole \"wierzcholki\" oraz metody \"wzor_na_pole\" i \"wzor_na_obwod\".\n"
   ]
  },
  {
   "cell_type": "markdown",
   "metadata": {},
   "source": [
    "### Dziedziczenie\n",
    "\n",
    "Dziedziczenie to mechanizm pozwalający jednej klasie (klasie \"dziecko\", klasa pochodna) przejmować atrybuty i metody drugiej klasy lub klas (klasa \"rodzic\", klasa bazowa). Jest to mechanizm współdzielenia funkcjonalności między klasami. Pozwala m. in. na sprawną rozbudowę funkcjonalności nowych klas. \n",
    "\n",
    "Ponieważ w takiej sytuacji między klasami zachodzi relacja przypominająca relacje rodzinne (i związane z nimi przejmowanie cech, ról, funkcji, stanu posiadania) mechanizm ten jest nazywany właśnie dziedziczeniem.\n",
    "\n",
    "Można powiedzieć, że dziedziczenie umożliwia tworzenie nowej klasy na bazie innej - już istniejącej. Do najważniejszych zalet mechanizmu dziedziczenia można zaliczyć: \n",
    "- oszczędność pracy, \n",
    "- możliwość ponownego wykorzystania wcześniej zbudowanych klas,\n",
    "- możliwość lepszej organizacji całej struktury projektu.  \n",
    "\n",
    "W języku Python istnieje możliwość tworzenia nowych klas na podstawie więcej niż jednej klasy - taki mechanizm nazywamy dziedziczeniem wielokrotnym albo wielodziedziczeniem.\n",
    "\n",
    "Będziemy wykorzystywać dziedziczenie do rozszerzania funkcjonalności wcześniej utworzonych klas.\n",
    "\n",
    "Składnia w języku Python: "
   ]
  },
  {
   "cell_type": "code",
   "execution_count": 1,
   "metadata": {},
   "outputs": [],
   "source": [
    "# class KlasaBazowa:\n",
    "#    <instrukcje>\n",
    "\n",
    "# class KlasaPochodna(KlasaBazowa):\n",
    "#    <instrukcje>   "
   ]
  },
  {
   "cell_type": "markdown",
   "metadata": {},
   "source": [
    "Tworząc nową klasę wykorzystując mechanizm <b>dziedziczenia</b> (oraz <b>polimorfizm</b>) możemy rozszerzyć działanie klasy bazowej poprzez dodawanie nowych metod do klasy pochodnej. Mamy również możliwość, aby przedefiniować działanie dziedziczonych metod (przesłanianie metod). Po wykonaniu przesłonienia metody, możemy nadal odnosić się do metod klasy bazowej wykorzystując instrukcję super(). Instrukcja super() pozwala wywoływać wszystkie metody klasy bazowej - łącznie z jej konstruktorem. Należy jednak pamiętać, że jeżeli w klasie bazowej konstruktor posiada parametry (argumenty), to w klasie potomnej wywołanie kostruktora klasy bazowej wymaga zastosowania instrukcji super().__init__(self, argumenty...) z odpowiednimi argumentami (konstruktora klasy bazowej.)\n",
    "\n",
    "Dziedziczenie nie wpływa na budowę i działanie klasy bazowej."
   ]
  },
  {
   "cell_type": "code",
   "execution_count": 6,
   "metadata": {},
   "outputs": [
    {
     "name": "stdout",
     "output_type": "stream",
     "text": [
      "ko, ko, ko...\n",
      "ćwir, ćwir...\n",
      "Jakiś odgłos\n"
     ]
    }
   ],
   "source": [
    "# Przykład - przesłanianie metod\n",
    "\n",
    "class Ptak:\n",
    "    def spiewaj(self):\n",
    "        print(\"Jakiś odgłos\")\n",
    "\n",
    "class Kura(Ptak):\n",
    "    def spiewaj(self): \n",
    "        print(\"ko, ko, ko...\")\n",
    "\n",
    "class Wrobel(Ptak):\n",
    "    def spiewaj(self): \n",
    "        print(\"ćwir, ćwir...\")\n",
    "    \n",
    "class Sowa(Ptak):\n",
    "    zdolnosc = \"widzenie w ciemności\"\n",
    "    \n",
    "obiektA = Kura()\n",
    "obiektA.spiewaj()\n",
    "\n",
    "obiektB = Wrobel()\n",
    "obiektB.spiewaj()\n",
    "\n",
    "obiektC = Sowa()\n",
    "obiektC.spiewaj()"
   ]
  },
  {
   "cell_type": "markdown",
   "metadata": {},
   "source": [
    "Jeżeli w klasie potomnej utworzymy konstruktor to przesłoni on konstruktor klasy bazowej. Aby temu zapobiec i najpierw skorzystać z konstruktora klasy bazowej możemy skorzystać z instrukcji super()."
   ]
  },
  {
   "cell_type": "code",
   "execution_count": 4,
   "metadata": {},
   "outputs": [
    {
     "name": "stdout",
     "output_type": "stream",
     "text": [
      "ko, ko, ko...\n",
      "ćwir, ćwir...\n",
      "Jakiś odgłos\n"
     ]
    }
   ],
   "source": [
    "# Przykład - wykorzystanie instrukcji super()\n",
    "\n",
    "class Ptak:\n",
    "    def spiew(self):\n",
    "        print(\"Jakiś odgłos\")\n",
    "\n",
    "class Kura(Ptak):\n",
    "    def spiew(self): \n",
    "        print(\"ko, ko, ko...\")\n",
    "\n",
    "class Wrobel(Ptak):\n",
    "    def spiew(self): \n",
    "        print(\"ćwir, ćwir...\")\n",
    "        super().spiew()\n",
    "    \n",
    "obiektA = Kura()\n",
    "obiektA.spiew()\n",
    "\n",
    "obiektB = Wrobel()\n",
    "obiektB.spiew()"
   ]
  },
  {
   "cell_type": "code",
   "execution_count": 8,
   "metadata": {},
   "outputs": [
    {
     "name": "stdout",
     "output_type": "stream",
     "text": [
      "Jakiś tekst\n",
      "ko, ko, ko...\n",
      "abcd\n",
      "ćwir, ćwir...\n"
     ]
    }
   ],
   "source": [
    "class Ptak:\n",
    "    def __init__(self, jakies_dane):\n",
    "        print(jakies_dane)\n",
    "    def spiewaj(self):\n",
    "        print(\"Jakiś odgłos\")\n",
    "\n",
    "class Kura(Ptak):\n",
    "    def __init__(self):\n",
    "        super().__init__(\"Jakiś tekst\")\n",
    "    def spiewaj(self): \n",
    "        print(\"ko, ko, ko...\")\n",
    "        \n",
    "class Wrobel(Ptak):\n",
    "    def __init__(self): \n",
    "        super().__init__(\"abcd\")\n",
    "    def spiewaj(self): \n",
    "        print(\"ćwir, ćwir...\")\n",
    "\n",
    "obiektA = Kura()\n",
    "obiektA.spiewaj()\n",
    "obiektB = Wrobel()\n",
    "obiektB.spiewaj()\n",
    "        "
   ]
  },
  {
   "cell_type": "markdown",
   "metadata": {},
   "source": [
    "### Zadanie 3.29\n",
    "\n",
    "Utwórz klasę bazową Ssak, po której dziedziczyć będą dwie klasy potomne - pies i krowa. Wszystkie klasy mają posiadać metodę dajGlos. Zastosuj w klasach pochodnych mechanizm przesłaniania."
   ]
  },
  {
   "cell_type": "markdown",
   "metadata": {},
   "source": [
    "### Zadanie 3.30\n",
    "\n",
    "Utwórz klasę bazową Ssak, po której dziedziczyć będą dwie klasy potomne - pies i krowa. Klasa bazowa ma posiadać konstruktor, w którym polu ile_konczyn zostanie przyporządkowana wartość 4, a ile_oczu wartość 2. Wszystkie klasy mają wywoływać konstruktor klasy bazowej. Pies ma dodatkowo otrzymać pole ogon z wartością True oraz pole rogi z wartością False, a krowa ma otrzymać pole ogon i pole rogi z wartością True."
   ]
  },
  {
   "cell_type": "markdown",
   "metadata": {},
   "source": [
    "### Wielodziedziczenie\n",
    "\n",
    "Klasa może dziedziczyć więcej niż po jednej klasie bazowej (więcej niż po jednym rodzicu). Wówczas klasa pochodna przejmuje wszystkie funkcjonalności obu \"rodziców\". Co jednak w sytuacji, kiedy klasy bazowe mają takie same nazwy atrybutów lub metod? W takim wypadku liczy się kolejność dziedziczenia (pozycja w nawiasie przy definicji klasy potomnej). Istnieje jednak możliwość odniesienia się do metody konkretnego \"rodzica\" poprzez wskazanie nazwy klasy z której dana metoda (lub atrybut) ma być pobrana (nazwa_klasy.nazwa_metody(self)).\n",
    "\n",
    "Wielodziedziczenie wprowadza w programie wiele komplikacji i dodatkowych zależności, dlatego często odradza się korzystania z tego mechanizmu na początkowym etapie nauki programowania. \n"
   ]
  },
  {
   "cell_type": "code",
   "execution_count": 15,
   "metadata": {},
   "outputs": [
    {
     "name": "stdout",
     "output_type": "stream",
     "text": [
      "Jakiś odgłos 1\n",
      "Jakiś odgłos 2\n"
     ]
    }
   ],
   "source": [
    "class Ptak1:\n",
    "    def spiewaj(self):\n",
    "        print(\"Jakiś odgłos 1\")\n",
    "\n",
    "class Ptak2:\n",
    "    def spiewaj(self):\n",
    "        print(\"Jakiś odgłos 2\")\n",
    "\n",
    "        \n",
    "class Kura(Ptak1, Ptak2):\n",
    "    pass\n",
    "    #def spiewaj(self):\n",
    "    #    Ptak2.spiewaj(self)\n",
    "        \n",
    "class Wrobel(Ptak2, Ptak1):\n",
    "    pass\n",
    "    #def spiewaj(self):\n",
    "    #    Ptak2.spiewaj(self)\n",
    "  \n",
    "\n",
    "    \n",
    "obiektA = Kura()\n",
    "obiektA.spiewaj()\n",
    "\n",
    "obiektB = Wrobel()\n",
    "obiektB.spiewaj()\n"
   ]
  },
  {
   "cell_type": "code",
   "execution_count": 14,
   "metadata": {},
   "outputs": [
    {
     "name": "stdout",
     "output_type": "stream",
     "text": [
      "Jakiś odgłos 2\n",
      "Jakiś odgłos 2\n"
     ]
    }
   ],
   "source": [
    "class Ptak1:\n",
    "    def spiewaj(self):\n",
    "        print(\"Jakiś odgłos 1\")\n",
    "\n",
    "class Ptak2:\n",
    "    def spiewaj(self):\n",
    "        print(\"Jakiś odgłos 2\")\n",
    "        \n",
    "class Kura(Ptak1, Ptak2):\n",
    "    def spiewaj(self):\n",
    "        Ptak2.spiewaj(self)\n",
    "        \n",
    "class Wrobel(Ptak2, Ptak1):\n",
    "    def spiewaj(self):\n",
    "        super().spiewaj()\n",
    "    \n",
    "obiektA = Kura()\n",
    "obiektA.spiewaj()\n",
    "\n",
    "obiektB = Wrobel()\n",
    "obiektB.spiewaj()"
   ]
  },
  {
   "cell_type": "markdown",
   "metadata": {},
   "source": [
    "### Zadanie 3.31\n",
    "\n",
    "Zbuduj dowolne dwie klasy bazowe, a następnie dwie dziedziczące po nich klasy potomne. Niech klasy bazowe posiadają po jednej, tak samo nazwanej metodzie (np. przedstawSie która będzie drukować w konsoli dowolny tekst). Sprawdź:\n",
    "- w jaki sposób przebiega dziedziczenie, w zależności od kolejności odwołania do klas bazowych\n",
    "- w jaki sposób działa instrukcja super()\n",
    "- w jaki sposób wymusić odwołanie do konkretnej metody konkretnej klasy bazowej (podpowiedź - należy wykorzystać nazwę klasy bazowej i operator \".\")."
   ]
  },
  {
   "cell_type": "markdown",
   "metadata": {},
   "source": [
    "### Zadanie 3.32\n",
    "\n",
    "Wykorzystując mechanizm dziedziczenia napisz program, który będzie zawierać:\n",
    "- bazową klasę Produkt z konstruktorem i polami: nazwa, cena\n",
    "- klasę SystemOperacyjny rozszerzającą klasę Produkt z konstruktorem i polami: dystrybucja, wersja\n",
    "- klasę Szkolenie rozszerzającą klasę SystemOperacyjny zawierającą konstruktor i pole: liczbaSpotkan"
   ]
  },
  {
   "cell_type": "markdown",
   "metadata": {},
   "source": [
    "### Wzorzec MVC \n",
    "\n",
    "Wzorzec MVC: Model-View-Controler zakłada budowę programu, w której trzy warstwy (model, widok, kontroler) są reprezentowane przez trzy różne i oddzielone od siebie klasy."
   ]
  },
  {
   "cell_type": "markdown",
   "metadata": {},
   "source": [
    "### Zadanie 3.33\n",
    "Utwórz program do zarządzania przedsiębiorstwem."
   ]
  },
  {
   "cell_type": "markdown",
   "metadata": {},
   "source": [
    "### Zadanie 3.34\n",
    "\n",
    "Utwórz model gry RPG, w której na podstawie klasy bazowej Bohater utworzone zostaną 4 klasy potomne (np. Barbarzynca, Czarodziejka, Zlodziej, Rycerz). Klasa bazowa powinna posiadać takie atrybuty jak: sila, inteligencja, zwinnosc, punty_zycia, punkty_ataku oraz metody: przedstaw_sie(), atakuj(), uciekaj(), rozmawiaj(). Zaproponuj po dwa atrybuty i dwie metody właściwe dla danych klas postaci. Wykorzystaj znane Ci mechanizmy programowania obiektowego (enkapsulacja, polimorfizm, dziedziczenie). "
   ]
  },
  {
   "cell_type": "markdown",
   "metadata": {},
   "source": [
    "### Processing i processing-py\n",
    "\n",
    "Processing to środowisko do tzw. programowania kreatywnego. Nurt programowania kreatywnego polega na ekspresji/prezentacji twórczego pomysłu za pomocą kodu komputerowego. Jest w szczególności wykorzystywane przez artystów i edukatorów. DOmyślnie Processing korzysta z języka Java, ale możliwe jest również korzystanie z innych języków (JS, Python, R). Z projekt Processing można bliżej się zapoznać na stronie: https://processing.org\n",
    "\n",
    "W przypadku Pythona istnieje możliwość instalacji biblioteki processing-py która umożliwia tworzenie projektów Processing wprost z poziomu skryptu Python. Przeanalizujmy poniższe przykłady korzystania z pakietu processing-py (ze strony pakietu: https://pypi.org/project/processing-py/):"
   ]
  },
  {
   "cell_type": "markdown",
   "metadata": {},
   "source": [
    "#### Instalacja"
   ]
  },
  {
   "cell_type": "code",
   "execution_count": null,
   "metadata": {},
   "outputs": [],
   "source": [
    "# instalacja\n",
    "# pip install processing-py --upgrade"
   ]
  },
  {
   "cell_type": "markdown",
   "metadata": {},
   "source": [
    "#### Uruchamianie"
   ]
  },
  {
   "cell_type": "code",
   "execution_count": 115,
   "metadata": {},
   "outputs": [
    {
     "name": "stdout",
     "output_type": "stream",
     "text": [
      "Downloading Processing.py & Java Runtime Environment 8u202 ... (~120MB)\n",
      "Extracting file ...\n"
     ]
    },
    {
     "name": "stderr",
     "output_type": "stream",
     "text": [
      "Starting App...\n",
      ">> [Jython] Created!\n",
      "\n"
     ]
    }
   ],
   "source": [
    "#Uruchamianie\n",
    "\n",
    "from processing_py import *\n",
    "\n",
    "app = App(600,400) \n",
    "app.background(255,0,0) \n",
    "app.redraw() \n",
    "\n",
    "#app.exit() # close the window"
   ]
  },
  {
   "cell_type": "code",
   "execution_count": 116,
   "metadata": {},
   "outputs": [],
   "source": [
    "app.exit()"
   ]
  },
  {
   "cell_type": "markdown",
   "metadata": {},
   "source": [
    "#### Rysowanie kształtów"
   ]
  },
  {
   "cell_type": "code",
   "execution_count": null,
   "metadata": {},
   "outputs": [],
   "source": [
    "# Rysowanie kształtów\n",
    "\n",
    "from processing_py import *\n",
    "\n",
    "app = App(600,400) # create window: width, height\n",
    "app.background(0,0,0) # set background:  red, green, blue\n",
    "app.fill(255,255,0) # set color for objects: red, green, blue\n",
    "app.rect(100,100,200,100) # draw a rectangle: x0, y0, size_x, size_y\n",
    "app.fill(0,0,255) # set color for objects: red, green, blue\n",
    "app.ellipse(300,200,50,50) # draw a circle: center_x, center_y, size_x, size_y\n",
    "app.redraw() # refresh the window"
   ]
  },
  {
   "cell_type": "markdown",
   "metadata": {},
   "source": [
    "#### Tworzenie animacji"
   ]
  },
  {
   "cell_type": "code",
   "execution_count": null,
   "metadata": {},
   "outputs": [],
   "source": [
    "# Tworzenie animacji:\n",
    "\n",
    "from processing_py import *\n",
    "app = App(600,400) # create window: width, height\n",
    "\n",
    "while(True):\n",
    "   app.background(0,0,0) # set background:  red, green, blue\n",
    "   app.fill(255,255,0) # set color for objects: red, green, blue\n",
    "   app.ellipse(app.mouseX,app.mouseY,50,50) # draw a circle: center_x, center_y, size_x, size_y\n",
    "   app.redraw() # refresh the window"
   ]
  },
  {
   "cell_type": "markdown",
   "metadata": {},
   "source": [
    "### Zadanie 3.35\n",
    "\n",
    "Korzystając z mechanizmów dziedziczenia i polimorfizmu oraz z biblioteki processing-py utwórz:\n",
    "- klasę bazową \"punkt\" (klasa posiada dwa pola odpowiadające pozycji oraz metodę do wyświetlenia punktu),\n",
    "- klasę \"koło\" rozszerzającą klasę punkt, która dodatkowo będzie posiadać atrybut \"promień\" oraz stosowną metodę do wyświetlania figury na ekranie,\n",
    "- klasę \"elipsa\" rozszerzającą klasę punkt, która dodatkowo będzie posiadać atrybuty \"szerokosc\" i \"wysokosc\" oraz stosowną metodę do wyświetlania figury na ekranie,\n",
    "- klasę \"kwadrat\" rozszerzającą klasę punkt, kóra będzie posiadać atrybut \"szerokosc\" oraz stosowną metodę do wyświetlania figury na ekranie,\n",
    "- klasę \"prostokąt\" rozszerzającą klasę punkt, kóra będzie posiadać atrybut \"szerokosc\" i \"wysokosc\" oraz stosowną metodę do wyświetlania figury na ekranie.\n"
   ]
  },
  {
   "cell_type": "markdown",
   "metadata": {},
   "source": [
    "<hr>\n",
    "\n",
    "### Licencja:\n",
    "\n",
    "- Teksty i ilustracje niniejszych materiałów są objęte licencją CC BY-NC-ND 4.0: https://creativecommons.org/licenses/by-nc-nd/4.0/deed.pl\n",
    "- Kody źródłowe zawarte w niniejszych materiałach są objęte licencją MIT: https://opensource.org/licenses/mit-license.php\n",
    "\n",
    "### License:\n",
    "\n",
    "- The text and illustrations of this material are licensed under CC BY-NC-ND 4.0: https://creativecommons.org/licenses/by-nc-nd/4.0/deed.en\n",
    "- Source codes included in these materials are licensed under the MIT license: https://opensource.org/licenses/mit-license.php"
   ]
  }
 ],
 "metadata": {
  "kernelspec": {
   "display_name": "Python 3",
   "language": "python",
   "name": "python3"
  },
  "language_info": {
   "codemirror_mode": {
    "name": "ipython",
    "version": 3
   },
   "file_extension": ".py",
   "mimetype": "text/x-python",
   "name": "python",
   "nbconvert_exporter": "python",
   "pygments_lexer": "ipython3",
   "version": "3.8.5"
  }
 },
 "nbformat": 4,
 "nbformat_minor": 4
}
