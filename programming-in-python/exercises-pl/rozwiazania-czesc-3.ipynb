{
 "cells": [
  {
   "cell_type": "markdown",
   "metadata": {},
   "source": [
    "# Wyjątki\n",
    "\n",
    "Obsługa wyjątków pozwala zabezpieczyć program przed niespodziewanymi/niepożądanymi awariami na wypadek m.in.\n",
    "- wprowadzenia danych złego typu\n",
    "- wykroczenia poza zakres sekwencji\n",
    "- sytuacji dzielenia przez zero\n",
    "- … i wielu innych…\n",
    "\n",
    "Przykład:\n",
    "lista = [2, 5, 7]\n",
    "\n",
    "lista[3] - wyrzuci wyjątek\n",
    "\n",
    "Sposób 1:"
   ]
  },
  {
   "cell_type": "code",
   "execution_count": 6,
   "metadata": {},
   "outputs": [],
   "source": [
    "lista = [2, 7, 3]"
   ]
  },
  {
   "cell_type": "code",
   "execution_count": 7,
   "metadata": {},
   "outputs": [
    {
     "ename": "IndexError",
     "evalue": "list index out of range",
     "output_type": "error",
     "traceback": [
      "\u001b[0;31m---------------------------------------------------------------------------\u001b[0m",
      "\u001b[0;31mIndexError\u001b[0m                                Traceback (most recent call last)",
      "\u001b[0;32m<ipython-input-7-34a960744870>\u001b[0m in \u001b[0;36m<module>\u001b[0;34m\u001b[0m\n\u001b[0;32m----> 1\u001b[0;31m \u001b[0mlista\u001b[0m\u001b[0;34m[\u001b[0m\u001b[0;36m3\u001b[0m\u001b[0;34m]\u001b[0m\u001b[0;34m\u001b[0m\u001b[0;34m\u001b[0m\u001b[0m\n\u001b[0m",
      "\u001b[0;31mIndexError\u001b[0m: list index out of range"
     ]
    }
   ],
   "source": [
    "lista[3]"
   ]
  },
  {
   "cell_type": "code",
   "execution_count": 8,
   "metadata": {},
   "outputs": [],
   "source": [
    "# try:\n",
    "#     lista[3]\n",
    "# except:\n",
    "#     print(’’Poza zakresem listy’’)"
   ]
  },
  {
   "cell_type": "code",
   "execution_count": 8,
   "metadata": {},
   "outputs": [
    {
     "name": "stdout",
     "output_type": "stream",
     "text": [
      "Wykroczyłeś poza zakres listy\n"
     ]
    }
   ],
   "source": [
    "try:\n",
    "    lista[3]\n",
    "except:\n",
    "    print(\"Wykroczyłeś poza zakres listy\")"
   ]
  },
  {
   "cell_type": "markdown",
   "metadata": {},
   "source": [
    "Tym sposobem obsłużymy wszystkie wyjątki, ale nie wiemy jakiego typu wyjątek się pojawił.\n",
    "\n",
    "Sposób 2:"
   ]
  },
  {
   "cell_type": "code",
   "execution_count": null,
   "metadata": {},
   "outputs": [],
   "source": [
    "# try:\n",
    "#    lista[3]\n",
    "# except IndexError:\n",
    "#    print(\"Poza zakresem listy\")"
   ]
  },
  {
   "cell_type": "code",
   "execution_count": 11,
   "metadata": {},
   "outputs": [
    {
     "name": "stdout",
     "output_type": "stream",
     "text": [
      "Poza zakresem listy\n"
     ]
    }
   ],
   "source": [
    "try:\n",
    "    10/0\n",
    "except ZeroDivisionError:\n",
    "    print(\"Poza zakresem listy\")"
   ]
  },
  {
   "cell_type": "markdown",
   "metadata": {},
   "source": [
    "Korzystając z tej konstrukcji, ustawiliśmy program na wyłapanie konkretnego typu wyjątku.\n",
    "\n",
    "Sposób 3:"
   ]
  },
  {
   "cell_type": "code",
   "execution_count": 11,
   "metadata": {},
   "outputs": [],
   "source": [
    "# try:\n",
    "#     lista[3]\n",
    "# except IndexError:\n",
    "#     print(\"Poza zakresem listy\")\n",
    "# else:\n",
    "#     print(\"ta linia wykona się jeżeli blok try się powiedzie\")\n",
    "# finally:\n",
    "#     print(\"ta linia wykona się zawsze\")"
   ]
  },
  {
   "cell_type": "code",
   "execution_count": 15,
   "metadata": {},
   "outputs": [
    {
     "name": "stdout",
     "output_type": "stream",
     "text": [
      "Wykroczyłeś poza zakres listy\n",
      "ta linia wykona się zawsze\n"
     ]
    }
   ],
   "source": [
    "try:\n",
    "    lista[3]\n",
    "except:\n",
    "    print(\"Wykroczyłeś poza zakres listy\")\n",
    "else: \n",
    "    print(\"Try się powiodło\")\n",
    "finally:\n",
    "    print(\"ta linia wykona się zawsze\")"
   ]
  },
  {
   "cell_type": "markdown",
   "metadata": {},
   "source": [
    "Listę dostępnych wyjątków w języku Python można sprawdzić na stronie: https://docs.python.org/3/library/exceptions.html"
   ]
  },
  {
   "cell_type": "markdown",
   "metadata": {},
   "source": [
    "### Zadanie 3.1\n",
    "\n",
    "Stwórz kalkulator, który będzie odporny na niewłaściwe dane wprowadzane przez użytkownika. Program powinien pobierać pierwszą liczbę, drugą liczbę, znak operacji (+ - * /), wyświetlać wynik. Jeżeli użytkownik poda niepoprawną wartość, program pyta go ponownie o wpisanie właściwej informacji."
   ]
  },
  {
   "cell_type": "markdown",
   "metadata": {},
   "source": [
    "### Przykładowe rozwiązanie:"
   ]
  },
  {
   "cell_type": "code",
   "execution_count": null,
   "metadata": {},
   "outputs": [],
   "source": [
    "while(True):\n",
    "    try:\n",
    "        zm1 = int(input(\"Podaj pierwszą liczbę: \"))\n",
    "    except:\n",
    "        print(\"Podana wartość nie jest liczbą!\")\n",
    "    else:\n",
    "        break\n",
    "\n",
    "while(True):\n",
    "    try:\n",
    "        zm2 = int(input(\"Podaj drugą liczbę: \"))\n",
    "    except:\n",
    "        print(\"Podana wartość nie jest liczbą!\")\n",
    "    else:\n",
    "        break\n",
    "\n",
    "wynik = 0\n",
    "\n",
    "while(True):\n",
    "    znak = input(\"podaj znak działania (+, -, *, /): \")\n",
    "\n",
    "    if(znak == '+'):\n",
    "        wynik = zm1 + zm2\n",
    "        print(f\"wynik: {wynik}\")\n",
    "        break\n",
    "\n",
    "    elif (znak == '-'):\n",
    "        wynik = zm1 - zm2\n",
    "        print(f\"wynik: {wynik}\")\n",
    "        break\n",
    "\n",
    "    elif (znak == '*'):\n",
    "        wynik = zm1 * zm2\n",
    "        print(f\"wynik: {wynik}\")\n",
    "        break\n",
    "\n",
    "    elif (znak == '/'):\n",
    "        try:\n",
    "            wynik = zm1 / zm2\n",
    "            print(f\"wynik: {wynik}\")\n",
    "            break\n",
    "        except ZeroDivisionError:\n",
    "            print(\"wynik: niedozwolone dzielenie przez 0 \")\n",
    "            break\n",
    "\n",
    "    else:\n",
    "        print(\"Nie ma takiej operacji!\")"
   ]
  },
  {
   "cell_type": "markdown",
   "metadata": {},
   "source": [
    "# Funkcje\n",
    "\n",
    "Funkcje umożliwiają wielokrotne wykorzystywanie raz napisanego już kodu i pomagają w porządkowaniu programu. Działanie funkcji można przyrównać do funkcji w matematyce, w której po dostarczeniu danych (argumenty) otrzymujemy pewien wynik (wartości). \n",
    "\n",
    "Przykładami funkcji z których korzystaliśmy do tej pory były m. in. print() oraz len(). Na ich przykładzie możemy zauważyć, że funkcja:\n",
    "- posiada nazwę,\n",
    "- może przyjmować argumenty,\n",
    "- może zwracać dane (wyniki operacji).\n",
    "\n",
    "Składnia funkcji w języku Python jest następująca:"
   ]
  },
  {
   "cell_type": "code",
   "execution_count": null,
   "metadata": {},
   "outputs": [],
   "source": [
    "# def nazwa_funkcji(argumenty):\n",
    "#     <instrukcje do wykonania>\n",
    "#     return dane"
   ]
  },
  {
   "cell_type": "markdown",
   "metadata": {},
   "source": [
    "Funkcja:\n",
    "- funkcja może przyjmować argumenty wybranego typu, jeśli podamy ich nazwy w nawiasie ( … ), ale nie jest to wymagane,\n",
    "- może wykonywać pewne operacje, łącznie z wyświetlaniem komunikatów w konsoli, zapisywaniem plików, tworzeniem wykresów czy wyświetlaniem obrazów,\n",
    "- może zwracać określoną wartość (lub wiele wartości) wybranego typu, przy użyciu instrukcji „return”, ale nie jest to wymagane.\n",
    "\n",
    "Przykład funkcji przyjmującej argumenty „a” i „b” i zwracającej wartość „c”:"
   ]
  },
  {
   "cell_type": "code",
   "execution_count": 1,
   "metadata": {},
   "outputs": [],
   "source": [
    "# def nazwa_funkcji(a, b):\n",
    "#     c = a + b\n",
    "#     return c"
   ]
  },
  {
   "cell_type": "markdown",
   "metadata": {},
   "source": [
    "Argumenty funkcji mogą posiadać początkowo ustalone wartości. Wówczas jeżeli użytkownik nie wprowadzi wartości argumentów do funkcji, funkcja skorzysta z wartości domyślnych."
   ]
  },
  {
   "cell_type": "code",
   "execution_count": 3,
   "metadata": {},
   "outputs": [],
   "source": [
    "# def nazwa_funkcji(a = wartosc_1, b = wartosc_2):\n",
    "#     c = a + b\n",
    "#     return c"
   ]
  },
  {
   "cell_type": "markdown",
   "metadata": {},
   "source": [
    "Funkcja może zwracać więcej niż jedną wartość w miejscu return"
   ]
  },
  {
   "cell_type": "code",
   "execution_count": 4,
   "metadata": {},
   "outputs": [],
   "source": [
    "# def nazwa_funkcji(a = wartosc_1, b = wartosc_2):\n",
    "#     c = a + b\n",
    "#     d = a - b \n",
    "#     return c, d"
   ]
  },
  {
   "cell_type": "markdown",
   "metadata": {},
   "source": [
    "# Korzystanie z dokumentacji i dokumentowanie kodu\n",
    "\n",
    "Język Python daje nam możliwość wygodnego, prostego i inticyjnego korzystania z dokumentacji funkcji i klas:\n",
    "\n",
    "- dla funkcji:\n",
    "<pre>\n",
    "help(nazwa_funkcji)\n",
    "</pre>\n",
    "\n",
    "- dla klas:\n",
    "<pre>\n",
    "help(nazwa_klasy)\n",
    "</pre>\n",
    "\n",
    "Aby samodzielnie utworzyć dokumentację funkcji (lub klasy) należy w linii po jej nazwie (pod nagłówkiem) wprowadzić tekst opisu w postaci komentarza (można korzystać z komentarzy wielowierszowych ograniczając blok tekstu symbolami \"\"\"...\"\"\" lub '''...''').\n",
    "\n",
    "Przykład:\n",
    "\n",
    "<pre>\n",
    "def parzystosc(liczba):\n",
    "    \"\"\"\n",
    "    Ta funkcja sprawdza czy liczba jest parzysta\n",
    "    \"\"\"\n",
    "    if (liczba%2 == 0):\n",
    "        return True\n",
    "    else:\n",
    "        return False\n",
    "</pre>"
   ]
  },
  {
   "cell_type": "code",
   "execution_count": 1,
   "metadata": {},
   "outputs": [],
   "source": [
    "def parzystosc(liczba):\n",
    "    \"\"\"\n",
    "    Ta funkcja sprawdza czy liczba jest parzysta\n",
    "    \"\"\"\n",
    "    if (liczba%2 == 0):\n",
    "        return True\n",
    "    else:\n",
    "        return False"
   ]
  },
  {
   "cell_type": "code",
   "execution_count": 3,
   "metadata": {},
   "outputs": [
    {
     "name": "stdout",
     "output_type": "stream",
     "text": [
      "Help on function parzystosc in module __main__:\n",
      "\n",
      "parzystosc(liczba)\n",
      "    Ta funkcja sprawdza czy liczba jest parzysta\n",
      "\n"
     ]
    }
   ],
   "source": [
    "help(parzystosc)"
   ]
  },
  {
   "cell_type": "markdown",
   "metadata": {},
   "source": [
    "### Zadanie 3.2\n",
    "\n",
    "Napisz funkcję bez argumetu, która wypisze w konsoli komunikat \"Witaj świecie!\""
   ]
  },
  {
   "cell_type": "markdown",
   "metadata": {},
   "source": [
    "### Zadanie 3.3\n",
    "\n",
    "Napisz funkcję, która przyjmie od użytkownika liczbę całkowitą i zwróci informację, czy jest parzysta, czy nie."
   ]
  },
  {
   "cell_type": "markdown",
   "metadata": {},
   "source": [
    "### Zadanie 3.4\n",
    "\n",
    "Napisz funkcję, która przyjmie od użytkownika dwie liczby i zwróci wynik ich dodawania, odejmowania, mnożenia i dzielenia."
   ]
  },
  {
   "cell_type": "markdown",
   "metadata": {},
   "source": [
    "### Przykładowe rozwiązanie:"
   ]
  },
  {
   "cell_type": "code",
   "execution_count": null,
   "metadata": {},
   "outputs": [],
   "source": [
    "def dzialania(a, b):\n",
    "    suma = a+b\n",
    "    roznica = a-b\n",
    "    iloczyn = a*b\n",
    "    dzielenie = a/b\n",
    "    \n",
    "    return suma, roznica, iloczyn, dzielenie"
   ]
  },
  {
   "cell_type": "markdown",
   "metadata": {},
   "source": [
    "### Zadanie 3.5\n",
    "\n",
    "Napisz funkcję, która przyjmie listę liczb i zwróci sumę z tych liczb."
   ]
  },
  {
   "cell_type": "markdown",
   "metadata": {},
   "source": [
    "### Przykładowe rozwiązanie:"
   ]
  },
  {
   "cell_type": "code",
   "execution_count": null,
   "metadata": {},
   "outputs": [],
   "source": [
    "def suma_listy(lista):\n",
    "    \n",
    "    suma = 0\n",
    "    \n",
    "    for item in lista:\n",
    "        suma = suma + item\n",
    "        \n",
    "    return suma"
   ]
  },
  {
   "cell_type": "markdown",
   "metadata": {},
   "source": [
    "### Zadanie 3.6\n",
    "\n",
    "Napisz program z funkcją, która pobierze od użytkownika jego imię oraz liczbę naturalną n, a następnie wyświetli na ekranie podane imię n razy. Jeżeli użytkownik nie poda żadnego imienia ani liczby, niech domyślnie funkcja ustawia wartości „Adam” oraz 7."
   ]
  },
  {
   "cell_type": "markdown",
   "metadata": {},
   "source": [
    "### Zadanie 3.7\n",
    "\n",
    "Związek między temperaturą w skali Celsjusza, a temperaturą w skali Fahrenheita ma postać:\n",
    "- C = (F-32)*(5/9) (przy przeliczaniu skali Fahrenheita na Celsjusza),\n",
    "- F = (C*(9/5)) + 32 (przy przeliczanniu skali Celsjusza na skalę Fahrenheita).\n",
    "Napisz dwie funkcje do przeliczania temperatur między poszczególnymi skalami.\n",
    "\n",
    "Sporządź dla powyższej funkcji dokumentację."
   ]
  },
  {
   "cell_type": "markdown",
   "metadata": {},
   "source": [
    "### Zadanie 3.8\n",
    "\n",
    "Trójmian kwadratowy wyraża się wzorem $y=ax^2 + bx + c$. Utwórz funkcję, która będzie przyjmować jako argumenty współczynniki $a, b, c$ trójmianu kwadratowego, a zwracać będzie miejsca zerowe oraz współrzędne wierzchołka funkcji. Funckja powinna obsługiwać sytucaję braku rozwiązań rzeczywistych. \n",
    "\n",
    "Uzupełnienie matematyczne: Obliczenia opierają się na wyróżniku funkcji kwadratowej, $\\Delta = b^2 - 4ac$. Wówczas kolejne pierwiastki wyrażają się wzorem: $x_{1, 2} = \\frac{- b \\pm \\sqrt{\\Delta}}{2a}$, natomiast współprzędne wierzchołka: $p=\\frac{-b}{2a}$, $q=\\frac{-\\Delta}{4a}$.\n",
    "\n",
    "Sporządź dla powyższej funkcji dokumentację."
   ]
  },
  {
   "cell_type": "markdown",
   "metadata": {},
   "source": [
    "### Zadanie 3.9\n",
    "\n",
    "Napisz funkcję, która jako argument przyjmie listę liczb, a zwróci ich średnią.\n",
    "\n",
    "Sporządź dla powyższej funkcji dokumentację."
   ]
  },
  {
   "cell_type": "markdown",
   "metadata": {},
   "source": [
    "### Zadanie 3.10\n",
    "\n",
    "Napisz funkcję, która jako argument przyjmie listę liczb, a zwróci odchylenie standardowe. Wzór na odchylenie standadrowe: $\\sigma = \\sum_{i=1}^{n} \\sqrt{\\frac{(x_i - \\bar{x})^2}{n}}$."
   ]
  },
  {
   "cell_type": "markdown",
   "metadata": {},
   "source": [
    "### Zadanie 3.11\n",
    "\n",
    "Napisz funkcję, która przyjmie jako argument dwie listy liczb rzeczywistych, a zwróci odpowiadający im współczynnik korelacji Pearsona. Wzór na współczynnik korelacji Pearsona: $r_{xy} = \\frac{\\sum_{i=1}^{n}(x_i - \\bar{x})(y_i - \\bar{y})}{\\sqrt{\\sum_{1}^{n}(x_i - \\bar{x})^2}\\sqrt{\\sum_{i=1}^{n}(y_i - \\bar{y})}}$."
   ]
  },
  {
   "cell_type": "markdown",
   "metadata": {},
   "source": [
    "### Zadanie 3.12\n",
    "\n",
    "Napisz funkcję, która przyjmie jako argument dwie listy liczb rzeczywistych, a zwróci odpowiadające im współczynniki regresji liniowej. Wzory na współczynniki regresji liniowej: $a=\\frac{\\sum_{i=1}^{n} (x_i - \\bar{x})(y_i - \\bar{y})}{\\sum_{i=1}^{n}(x_i - \\bar{x})^2}$, $b=\\bar{y}-a\\bar{x}$."
   ]
  },
  {
   "cell_type": "markdown",
   "metadata": {},
   "source": [
    "### Zadanie 3.13\n",
    "\n",
    "Utwórz program (z wykorzystaniem funkcji) do obliczania pól figur płaskich, który:\n",
    "- pozwoli użytkownikowi wybrać figurę, której pole chce obliczyć,\n",
    "- pobierze z klawiatury odpowiednie dane,\n",
    "- wyświetli właściwy wynik,\n",
    "- pozwoli użytkownikowi podjąć decyzję, czy chce uruchomić program ponownie, czy nie.\n",
    "\n",
    "Program powinien zawierać funkcje do obliczania pól następujących figur: trójkąt, prostokąt, koło, trapez, kwadrat, trójkąt równoboczny.\n"
   ]
  },
  {
   "cell_type": "markdown",
   "metadata": {},
   "source": [
    "### Przykładowe rozwiązanie:"
   ]
  },
  {
   "cell_type": "code",
   "execution_count": null,
   "metadata": {},
   "outputs": [],
   "source": [
    "def kwadrat(a):\n",
    "    return a*a\n",
    "\n",
    "def prostokat(a, b):\n",
    "    return a*b\n",
    "\n",
    "def kolo(r):\n",
    "    return r*r*3.1415\n",
    "\n",
    "decyzja = 't'\n",
    "\n",
    "while (decyzja == 't'):\n",
    "    figura = int(input(\"Pole jakiej figury chcesz wyliczyć? 1 - kwadrat, 2 - prostokąt, 3 - koło? \"))\n",
    "    \n",
    "    if(figura == 1):\n",
    "        a = int(input(\"Podaj bok kwadratu: \"))\n",
    "        print(f\"Pole kwadratu o boku {a} wynosi {kwadrat(a)}\")\n",
    "    elif(figura == 2): \n",
    "        a = int(input(\"Podaj pierwszy bok prostokąta: \"))\n",
    "        b = int(input(\"Podaj drugi bok prostokąta: \"))\n",
    "        print(f\"Pole prostokąta o bokach {a} i {b} wynosi {prostokat(a, b)}\")\n",
    "    elif(figura == 3):\n",
    "        r = int(input(\"Podaj promień koła: \"))\n",
    "        print(f\"Pole koła o promieniu {r} wynosi {kolo(r)}\")\n",
    "    else:\n",
    "        print(\"Nieznana figura\")\n",
    "    \n",
    "    decyzja = input(\"Czy chcesz wykonać program ponownie? t-tak, n-nie: \")"
   ]
  },
  {
   "cell_type": "markdown",
   "metadata": {},
   "source": [
    "### Zadanie 3.14\n",
    "\n",
    "Utwórz program (z wykorzystaniem funkcji) do obliczania objętości brył przestrzennych, który:\n",
    "- pozwoli użytkownikowi wybrać bryłę, której objętość chce obliczyć,\n",
    "- pobierze z klawiatury odpowiednie dane,\n",
    "- wyświetli właściwy wynik,\n",
    "- pozwoli użytkownikowi podjąć decyzję, czy chce uruchomić program ponownie, czy nie.\n",
    "\n",
    "Program powinien zawierać funkcje do obliczania objętości minimum trzech brył - kuli, graniastosłupa, stożka.\n"
   ]
  },
  {
   "cell_type": "markdown",
   "metadata": {},
   "source": [
    "### Zadanie 3.15\n",
    "\n",
    "Korzystając z biblioteki turtle utwórz funkcję, która będzie rysować:\n",
    "- trójkąt\n",
    "- kwadrat\n",
    "- prostokąt\n",
    "- pięciokąt\n",
    "- gwiazdę\n",
    "\n",
    "Argumentami powinna być pozycja obrazka, kolor linii oraz jej grubość i wielkość kształtu."
   ]
  },
  {
   "cell_type": "markdown",
   "metadata": {},
   "source": [
    "### Przykładowe rozwiązanie:"
   ]
  },
  {
   "cell_type": "code",
   "execution_count": 1,
   "metadata": {},
   "outputs": [],
   "source": [
    "def rysuj_kwadrat(x, y, d):\n",
    "    from mobilechelonian import Turtle\n",
    "    colours=[\"red\",\"blue\",\"yellow\",\"brown\",\"black\",\"purple\",\"green\"]\n",
    "    t = Turtle()\n",
    "    t.speed(5)\n",
    "    t.penup()\n",
    "    t.setposition(x,y)\n",
    "    t.pendown()\n",
    "    for i in range(0, 4):\n",
    "        t.pencolor(colours[i])\n",
    "        t.right(90)\n",
    "        t.forward(d) "
   ]
  },
  {
   "cell_type": "code",
   "execution_count": 2,
   "metadata": {},
   "outputs": [
    {
     "data": {
      "application/vnd.jupyter.widget-view+json": {
       "model_id": "8c4903ba4cca46aa8e4e10658faccffd",
       "version_major": 2,
       "version_minor": 0
      },
      "text/plain": [
       "Turtle()"
      ]
     },
     "metadata": {},
     "output_type": "display_data"
    }
   ],
   "source": [
    "rysuj_kwadrat(200, 100, 100)"
   ]
  },
  {
   "cell_type": "markdown",
   "metadata": {},
   "source": [
    "# Funkcje anonimowe (wyrażenia lamda)\n",
    "\n",
    "W języku Python mamy możliwość tworzenia funkcji anonimowych (nazywanych też wyrażeniami lambda), które nie są powiązane z identyfikatorem (czyli w pewnym sensie nie mają nazwy). Służą do tworzenia funkcjonalności, którym nie powinniśmy nadawać nazw i/lub są potrzebne na krótkotrwały użytek.\n",
    "\n",
    "W języku Python wyrażenia lambda mają następującą składnię:\n",
    "\n",
    "lambda <zestaw argumentów>: <wyrażenie zwrotne>\n",
    "\n",
    "Tak utworzone wyrażenie lambda wydaje się bezużyteczne, ponieważ nie widać w nim jak do utworzonego wyrażenia wstawić argumenty. W języku Python istnieje wiele sposobów wstawiania argumentów do wyrażenia lambda. My skupimy się na dwóch:\n",
    "- wywołanie wyrażenia od razu w tworzącej instrukcji: (lambda <zestaw argumentów>: <wyrażenie zwrotne>)(argumenty)\n",
    "- przypisanie wyrażenia lambda do zmiennej: wyrazenie = lambda <zestaw argumentów>: <wyrażenie zwrotne>, wyrazenie(argumenty)\n",
    "\n",
    "Przykład:"
   ]
  },
  {
   "cell_type": "code",
   "execution_count": 18,
   "metadata": {},
   "outputs": [
    {
     "name": "stdout",
     "output_type": "stream",
     "text": [
      "10\n",
      "10\n"
     ]
    }
   ],
   "source": [
    "zm1 = (lambda x, y: x+y)(7, 3)\n",
    "print(zm1)\n",
    "\n",
    "wyrazenie = lambda x, y: x+y\n",
    "zm2 = wyrazenie(7, 3)\n",
    "print(zm2)"
   ]
  },
  {
   "cell_type": "markdown",
   "metadata": {},
   "source": [
    "### Zadanie 3.16\n",
    "\n",
    "Utwórz wyrażenie lambda do potęgowania (wyrażenie przyjmuje dwie liczby - potęgowaną wartość i wykładnik)."
   ]
  },
  {
   "cell_type": "markdown",
   "metadata": {},
   "source": [
    "### Przykładowe rozwiązanie:"
   ]
  },
  {
   "cell_type": "code",
   "execution_count": 2,
   "metadata": {},
   "outputs": [],
   "source": [
    "potega = lambda a, n: a**n\n",
    "wynik = potega(2, 10)\n",
    "print(wynik)"
   ]
  },
  {
   "cell_type": "markdown",
   "metadata": {},
   "source": [
    "### Zadanie 3.17\n",
    "\n",
    "Utwórz wyrażenie lambda do składania dwóch łańcuchów znaków (wyrażenie przyjmuje dwa napisy i zwraca jeden będący sumą argumentów)."
   ]
  },
  {
   "cell_type": "markdown",
   "metadata": {},
   "source": [
    "### Przykładowe rozwiązanie:"
   ]
  },
  {
   "cell_type": "code",
   "execution_count": 4,
   "metadata": {},
   "outputs": [
    {
     "name": "stdout",
     "output_type": "stream",
     "text": [
      "Programujemy w Pythonie\n"
     ]
    }
   ],
   "source": [
    "skladanie = lambda s1, s2: str(s1)+str(s2)\n",
    "wynik = skladanie(\"Programujemy\", \" w Pythonie\")\n",
    "print(wynik)"
   ]
  },
  {
   "cell_type": "markdown",
   "metadata": {},
   "source": [
    "### Zadanie 3.18\n",
    "\n",
    "Utwórz wyrażenie lambda zwiększające argument o liczbę 13."
   ]
  },
  {
   "cell_type": "markdown",
   "metadata": {},
   "source": [
    "### Przykładowe rozwiązanie:"
   ]
  },
  {
   "cell_type": "code",
   "execution_count": 1,
   "metadata": {},
   "outputs": [],
   "source": [
    "zwiekszanie = (lambda x: x + 13)"
   ]
  },
  {
   "cell_type": "code",
   "execution_count": 2,
   "metadata": {},
   "outputs": [
    {
     "data": {
      "text/plain": [
       "14"
      ]
     },
     "execution_count": 2,
     "metadata": {},
     "output_type": "execute_result"
    }
   ],
   "source": [
    "zwiekszanie(1)"
   ]
  },
  {
   "cell_type": "markdown",
   "metadata": {},
   "source": [
    "### Zadanie 3.19\n",
    "\n",
    "Utwórz wyrażenie lambda przyjmujące dwa argumenty (liczby rzeczywiste) i wykonujące na nich kwadrat sumy."
   ]
  },
  {
   "cell_type": "markdown",
   "metadata": {},
   "source": [
    "### Przykładowe rozwiązanie:"
   ]
  },
  {
   "cell_type": "code",
   "execution_count": null,
   "metadata": {},
   "outputs": [],
   "source": [
    "(lambda a, b: (a+b)**2)(2, 3)"
   ]
  },
  {
   "cell_type": "markdown",
   "metadata": {},
   "source": [
    "### Zadanie 3.20\n",
    "\n",
    "Utwórz wyrażenie lambda przyjmujące dwa argumenty (liczby rzeczywiste) i wykonujące na nich kwadrat różnicy."
   ]
  },
  {
   "cell_type": "markdown",
   "metadata": {},
   "source": [
    "### Przykładowe rozwiązanie:"
   ]
  },
  {
   "cell_type": "code",
   "execution_count": null,
   "metadata": {},
   "outputs": [],
   "source": [
    "(lambda a, b: (a-b)**2)(2, 3)"
   ]
  },
  {
   "cell_type": "markdown",
   "metadata": {},
   "source": [
    "# Programowanie obiektowe\n",
    "\n",
    "Do tej pory dane na których pracowaliśmy miały określony typ:\n",
    "- liczby całkowite (int)\n",
    "- liczby rzeczywiste (float)\n",
    "- łańcuchy znaków (str)\n",
    "- itd.\n",
    "\n",
    "Typ determinuje jakie wartości mogą być przechowywane w danej zmiennej oraz jakie opracje można na niej wykonać (podobnie jak w matematyce - zbiory liczbowe były określone przez ich elementy oraz operacje jakie można na chych wykonywać). \n",
    "\n",
    "W praktycze programistycznej okazuje się jednak, że często podstawowe typy danych są niewystarczające i stoimy przed koniecznością tworzenia własnych \"typów\". Tak własne utworzone typy nazywamy klasami, a programowanie wykorzystujące takie podejście - programowaniem obiektowym. \n",
    "\n",
    "Każdy reprezentant (instancja) danej klasy to obiekt. Obiekty są opisywane pewnymi liczbami/wartościami (pola/atrybuty) i można wykonywać na nich konkretne działania (metody).\n",
    "\n",
    "Warto pamiętać, że:\n",
    "- programowanie obiektowe umożliwia tworzenie nowych typów danych,\n",
    "- każdy obiekt można (jego własności) opisać za pomocą liczb i funkcji jakie można na nich wykonać, są to tzw. pola i metody,\n",
    "- obiekty o tych samych własnościach nazywamy klasą.\n",
    "\n",
    "W podejściu obiektowym program stanowi zbiór obiektów, które komunikują się między sobą w celu wykonywania zadań. Takie podejście różni się znacznie od podejścia proceduralnego.\n",
    "\n",
    "Programowanie obiektowe opiera się na następujących paradygmatach:\n",
    "- Abstrakcja\n",
    "- Hermetyzacja\n",
    "- Dziedziczenie\n",
    "- Polimorfizm\n",
    "\n",
    "Najważniejsze pojęcia:\n",
    "- Klasa\n",
    "- Konstruktor\n",
    "- Pola (atrybuty)\n",
    "- Metody\n",
    "- Obiekty\n",
    "\n",
    "Składnia klasy:"
   ]
  },
  {
   "cell_type": "code",
   "execution_count": 19,
   "metadata": {},
   "outputs": [],
   "source": [
    "# class NazwaKlasy:\n",
    "#     <pola>\n",
    "#     ...\n",
    "#     <metody>\n",
    "#     ..."
   ]
  },
  {
   "cell_type": "markdown",
   "metadata": {},
   "source": [
    "Budowa obiektu:\n",
    "- zmienne przechowujące dane dotyczące obiektu to pola\n",
    "- funkcje związane z obiektem to metody\n",
    "\n",
    "Deklarowanie obiektu:"
   ]
  },
  {
   "cell_type": "code",
   "execution_count": 20,
   "metadata": {},
   "outputs": [],
   "source": [
    "# NazwaObiektu = NazwaKlasy(argumenty)"
   ]
  },
  {
   "cell_type": "markdown",
   "metadata": {},
   "source": [
    "Notacja obiektowa opiera się na wykorzystaniu operatora „.”\n",
    "\n",
    "dostęp do pól:\n",
    "nazwaObiektu.nazwaPola\n",
    "\n",
    "\n",
    "nazwaObiektu.nazwaMetody()\n",
    "nazwaObiektu.nazwaMetody(argumenty)"
   ]
  },
  {
   "cell_type": "code",
   "execution_count": null,
   "metadata": {},
   "outputs": [],
   "source": [
    "# nazwaObiektu.nazwaPola"
   ]
  },
  {
   "cell_type": "markdown",
   "metadata": {},
   "source": [
    "dostęp do metod:"
   ]
  },
  {
   "cell_type": "code",
   "execution_count": null,
   "metadata": {},
   "outputs": [],
   "source": [
    "# nazwaObiektu.nazwaMetody()\n",
    "\n",
    "# lub \n",
    "\n",
    "# nazwaObiektu.nazwaMetody(argumenty)"
   ]
  },
  {
   "cell_type": "markdown",
   "metadata": {},
   "source": [
    "Ważne słowa:\n",
    "\n",
    "- self - w obrębie metod self odnosi się do samego obiektu i posiadamy dostęp do pól i metod obiektu. Zasięg zmiennych obejmuje całą klasę.\n",
    "\n",
    "- init - ważna metoda, która umożliwia utworzenie konstruktora klasy. Jej zadaniem jest zainicjowanie nowego obiektu (m. in. najważniejszych lub wszystkich pól)\n",
    "\n",
    "- metody - definiujemy wewnątrz klasy:"
   ]
  },
  {
   "cell_type": "code",
   "execution_count": 21,
   "metadata": {},
   "outputs": [],
   "source": [
    "# class NazwaKlasy:\n",
    "#     def NazwaMetody(self, argumenty)\n",
    "#         cialo_metody"
   ]
  },
  {
   "cell_type": "markdown",
   "metadata": {},
   "source": [
    "Metoda __str__ - można ją wywołać przez wbudowane funkcje str() lub print(). Pozwala wygenerować informacje na temat obiektu."
   ]
  },
  {
   "cell_type": "code",
   "execution_count": 22,
   "metadata": {},
   "outputs": [],
   "source": [
    "# class Vector:\n",
    "#     def __str__(self):\n",
    "#     self.a = x\n",
    "#     self.b = y\n",
    "#     print(self.a, self.b)"
   ]
  },
  {
   "cell_type": "markdown",
   "metadata": {},
   "source": [
    "Konstruktor to metoda przypisująca początkowe wartości do pól nowo tworzonego obiektu. Konstruktor tworzymy za pomocą słowa kluczowego __init__. (zaczyna się i kończy podwójnym podkreśleniem).\n",
    "\n",
    "Przykład:"
   ]
  },
  {
   "cell_type": "code",
   "execution_count": 24,
   "metadata": {},
   "outputs": [],
   "source": [
    "# klasa Vector\n",
    "\n",
    "# class Vector:\n",
    "#     def __init__(self, x, y):\n",
    "#         self.a = x\n",
    "#         self.b = y\n",
    "#         print(„utworzono wektor”)\n",
    "\n",
    "#utworzenie obiektu    \n",
    "# w = Vector(2, 5) "
   ]
  },
  {
   "cell_type": "markdown",
   "metadata": {},
   "source": [
    "### Zadanie 3.21\n",
    "\n",
    "Utwórz klasę Ulamek - klasa powinna zawierać takie pola jak licznik i mianownik, metody zwracające wartość licznika i mianownika oraz metody umożliwiające dodawanie, odejmowanie, dzielenie i mnożenie obiektów klasy Ulamek."
   ]
  },
  {
   "cell_type": "markdown",
   "metadata": {},
   "source": [
    "### Przykładowe rozwiązanie:"
   ]
  },
  {
   "cell_type": "code",
   "execution_count": 5,
   "metadata": {},
   "outputs": [],
   "source": [
    "class Ulamek:\n",
    "    def __init__(self, licznik=0, mianownik=1):\n",
    "        self.licznik = licznik\n",
    "        self.mianownik = mianownik\n",
    "        \n",
    "    def __str__(self):\n",
    "        return f\"{self.licznik}/{self.mianownik}\"\n",
    "    \n",
    "    def dodajUlamek(self, b):\n",
    "        self.licznik = self.licznik*b.mianownik + b.licznik*self.mianownik\n",
    "        self.mianownik = self.mianownik*b.mianownik\n",
    "        \n",
    "    def odejmijUlamek(self, b):\n",
    "        self.licznik = self.licznik*b.mianownik - b.licznik*self.mianownik\n",
    "        self.mianownik = self.mianownik*b.mianownik\n",
    "        \n",
    "    def pomnozPrzezUlamek(self, b):\n",
    "        self.licznik = self.licznik*b.licznik\n",
    "        self.mianownik = self.mianownik*b.mianownik\n",
    "        \n",
    "    def podzielPrzezUlamek(self, b):\n",
    "        self.licznik = self.licznik*b.mianownik\n",
    "        self.mianownik = self.mianownik*b.licznik\n",
    "    \n",
    "    def pomnozPrzezLiczbe(self, x):\n",
    "        self.licznik = self.licznik * x\n",
    "    \n",
    "    def odwroc(self):\n",
    "        kopia_licznik = self.licznik\n",
    "        kopia_mianownik = self.mianownik\n",
    "        self.licznik = kopia_mianownik\n",
    "        self.mianownik = kopia_licznik\n",
    "        \n",
    "    def poteguj(self, n):\n",
    "        self.licznik = int(self.licznik**n)\n",
    "        self.mianownik =int(self.mianownik**n)\n",
    "        \n",
    "    def przeciwnosc(self):\n",
    "        self.licznik = (-1)*self.licznik\n",
    "    \n",
    "    def wyswietl(self):\n",
    "        return (self.licznik, self.mianownik)"
   ]
  },
  {
   "cell_type": "markdown",
   "metadata": {},
   "source": [
    "### Zadanie 3.22\n",
    "\n",
    "Napisz program do obliczania BMI zawodnika. Program powinien zawierać klasę Zawodnik o polach imię, wzrost, waga oraz metodę do obliczania BMI. Utwórz obiekt reprezentujący zawodnika i wywołaj metodę, która obliczy i wyświetli wartość BMI."
   ]
  },
  {
   "cell_type": "markdown",
   "metadata": {},
   "source": [
    "### Przykładowe rozwiązanie:"
   ]
  },
  {
   "cell_type": "code",
   "execution_count": null,
   "metadata": {},
   "outputs": [],
   "source": [
    "class Zawodnik:\n",
    "    def __init__(self, imie, wzrost, waga):\n",
    "        self.imie = imie\n",
    "        self.wzrost = wzrost\n",
    "        self.waga = waga\n",
    "        \n",
    "    def BMI(self):\n",
    "        BMI = self.waga/(self.wzrost*self.wzrost)\n",
    "        return BMI"
   ]
  },
  {
   "cell_type": "markdown",
   "metadata": {},
   "source": [
    "### Zadanie 3.23\n",
    "\n",
    "Utwórz klasę Vector2D do reprezentowania i wykonywania działań na wektorach. Klasa powinna zawierać takie metody jak: \n",
    "- dodawanie (zwiększanie) wekotrów, \n",
    "- odejmowanie (zmniejszanie) wektorów, \n",
    "- skalowanie, \n",
    "- zwracanie modułu, \n",
    "- iloczyn skalarny, \n",
    "- wyświetlanie współrzędnych.\n",
    "\n",
    "Uzupełnienie matematyczne: \n",
    "\n",
    "przez wektor rozumiemy: $\\vec{a} = [a_x, a_y]$\n",
    "\n",
    "Poszczególne działania definiujemy:\n",
    "- dodawanie: $\\vec{a} + \\vec{b} = [a_x + b_x, a_y + b_y]$\n",
    "- odejmowanie: $\\vec{a} - \\vec{b} = [a_x - b_x, a_y - b_y]$\n",
    "- moduł: $|\\vec{a}| = \\sqrt{a_x^2 + a_y^2}$\n",
    "- skalowanie: $k \\cdot \\vec{a} = [k \\cdot a_x, k \\cdot a_y]$\n",
    "- iloczyn skalarny: $\\vec{a} \\cdot \\vec{b} = a_x \\cdot b_x + a_y \\cdot b_y$"
   ]
  },
  {
   "cell_type": "markdown",
   "metadata": {},
   "source": [
    "### Przykładowe rozwiązanie:"
   ]
  },
  {
   "cell_type": "code",
   "execution_count": null,
   "metadata": {},
   "outputs": [],
   "source": [
    "class Vector2D:\n",
    "    \n",
    "    def __init__(self, x, y):\n",
    "        self.x = x\n",
    "        self.y = y\n",
    "        \n",
    "    def display(self):\n",
    "        print(\"x=\"+str(self.x)+\", y=\"+str(self.y))\n",
    "  \n",
    "    def add(self, other):\n",
    "        self.x = self.x + other.x\n",
    "        self.y = self.y + other.y\n",
    "        \n",
    "    def substr(self, other):\n",
    "        self.x = self.x - other.x\n",
    "        self.y = self.y - other.y\n",
    "        \n",
    "    def multByNumber(self, a):\n",
    "        self.x = a*self.x\n",
    "        self.y = a*self.y\n",
    "        \n",
    "    def dotProd(self, other):\n",
    "        return self.x*other.x + self.y*other.y \n",
    "    \n",
    "    def rotate(self, alfa):\n",
    "        alfaDeg = alfa*math.pi/180\n",
    "        sinus = math.sin(alfaDeg)\n",
    "        cosinus = math.cos(alfaDeg)\n",
    "        x = self.x\n",
    "        y = self.y       \n",
    "        self.x = x*cosinus - y*sinus\n",
    "        self.y = x*sinus + y*cosinus\n",
    "        \n",
    "    def modulus(self):\n",
    "        return (self.x**2 + self.y**2)**0.5\n",
    "    \n",
    "    def opposite(self):\n",
    "        self.x = -self.x\n",
    "        self.y = -self.y"
   ]
  },
  {
   "cell_type": "markdown",
   "metadata": {},
   "source": [
    "### Zadanie 3.24\n",
    "\n",
    "Utwórz klasę Prostokat, która będzie reprezentować współrzędne wierzchołków prostokąta oraz będzie umożliwiać wykonywanie na nim następujących operacji:\n",
    "- przesuwanie o wektor 2D (przesunięcie w kierunku x i kierunku y)\n",
    "- przesuwanie do środka układu współrzędnych\n",
    "- skalowanie (w kierunkach x i y)\n",
    "\n",
    "Klasa powinna posiadać konstruktor przyjmujący współrzędne lewego górnego wierzchołka oraz szerokość i wysokość prostokąta."
   ]
  },
  {
   "cell_type": "markdown",
   "metadata": {},
   "source": [
    "### Przykładowe rozwiązanie:"
   ]
  },
  {
   "cell_type": "code",
   "execution_count": 3,
   "metadata": {},
   "outputs": [],
   "source": [
    "import matplotlib.pyplot as plt\n",
    "\n",
    "class Rect:\n",
    "    \n",
    "    def __init__(self, x, y, sx, sy):\n",
    "        \n",
    "        self.sx = sx\n",
    "        self.sy = sy\n",
    "        \n",
    "        self.cx = x + sx/2\n",
    "        self.cy = y + sy/2\n",
    "        \n",
    "        self.w = [[x, y], [x+sx, y], [x, y+sy], [x+sx, y+sy]]\n",
    "        \n",
    "    def __str__(self):\n",
    "        return f\"wierzchnołki: {self.w}, wymiary: {[self.sx, self.sy]}, pozycja środka: {[self.cx, self.cy]}\"\n",
    "    \n",
    "    def translate(self, ax, ay):\n",
    "        for i in range(4):\n",
    "            self.w[i][0] = self.w[i][0] + ax\n",
    "            self.w[i][1] = self.w[i][1] + ay\n",
    "            \n",
    "        self.cx = self.w[0][0] + self.sx/2\n",
    "        self.cy = self.w[0][1] + self.sy/2\n",
    "        \n",
    "    def center(self):\n",
    "        self.translate(-self.cx, -self.cy)\n",
    "        \n",
    "    def scale(self, bx, by):\n",
    "        old_cx = self.cx\n",
    "        old_cy = self.cy\n",
    "        \n",
    "        self.translate(-self.cx, -self.cy)\n",
    "        \n",
    "        for i in range(4):\n",
    "            self.w[i][0] = self.w[i][0]*bx\n",
    "            self.w[i][1] = self.w[i][1]*by\n",
    "            \n",
    "        self.translate(old_cx, old_cy)\n",
    "        \n",
    "    def draw(self, xlim=[-10, 10], ylim=[-10, 10]):\n",
    "        \n",
    "        x1 = self.w[0][0]\n",
    "        x2 = self.w[1][0]\n",
    "        x3 = self.w[2][0]\n",
    "        x4 = self.w[3][0]\n",
    "        \n",
    "        y1 = self.w[0][1]\n",
    "        y2 = self.w[1][1]\n",
    "        y3 = self.w[2][1]\n",
    "        y4 = self.w[3][1]\n",
    "        \n",
    "        plt.plot(xlim, [0, 0], '-k', linewidth = 0.5)\n",
    "        plt.plot([0, 0], ylim, '-k', linewidth = 0.5)\n",
    "        \n",
    "        plt.plot([x1, x2], [y1, y2], '-b')\n",
    "        plt.plot([x2, x4], [y2, y4], '-b')\n",
    "        plt.plot([x4, x3], [y4, y3], '-b')\n",
    "        plt.plot([x3, x1], [y3, y1], '-b')\n",
    "        plt.axis('equal')\n",
    "        \n",
    "        plt.xlim(xlim)\n",
    "        plt.ylim(ylim)\n",
    "        \n",
    "        plt.show()\n",
    "        "
   ]
  },
  {
   "cell_type": "code",
   "execution_count": 99,
   "metadata": {},
   "outputs": [],
   "source": [
    "import matplotlib.pyplot as plt\n",
    "\n",
    "class Rect: \n",
    "    \n",
    "    def __init__(self, x, y, sx, sy):\n",
    "        \n",
    "        self.sx = sx\n",
    "        self.sy = sy\n",
    "        \n",
    "        self.cx = x + sx/2\n",
    "        self.cy = y + sy/2\n",
    "        \n",
    "        self.w = [[x, y], [x+sx, y], [x, y+sy], [x+sx, y+sy]]\n",
    "        \n",
    "    def display(self):\n",
    "        for i in range(4):\n",
    "            print(f\"Współrzedne wierzchołka {i+1}: {self.w[i]}\")\n",
    "        \n",
    "\n",
    "    def translate(self, ax, ay):\n",
    "        \n",
    "        for i in range(4):\n",
    "            self.w[i][0] = self.w[i][0] + ax # x\n",
    "            self.w[i][1] = self.w[i][1] + ay # y\n",
    "            \n",
    "        self.cx = self.w[0][0] + self.sx/2\n",
    "        self.cy = self.w[0][1] + self.sy/2\n",
    "            \n",
    "    def center(self):\n",
    "        self.translate(-self.cx, -self.cy)\n",
    "        \n",
    "    def scale(self, bx, by):\n",
    "        self.translate(-self.cx, -self.cy)\n",
    "        for i in range(4):\n",
    "            self.w[i][0] = self.w[i][0] * (bx) # x\n",
    "            self.w[i][1] = self.w[i][1] * (by) # y\n",
    "        \n",
    "        self.translate(self.cx, self.cy)\n",
    "        \n",
    "    def draw(self, xrange = [-10, 10], yrange = [-10, 10]):\n",
    "        \n",
    "        x1 = self.w[0][0]\n",
    "        x2 = self.w[1][0]\n",
    "        x3 = self.w[2][0]\n",
    "        x4 = self.w[3][0]\n",
    "        \n",
    "        y1 = self.w[0][1]\n",
    "        y2 = self.w[1][1]\n",
    "        y3 = self.w[2][1]\n",
    "        y4 = self.w[3][1]\n",
    "        \n",
    "        plt.plot([xrange[0], xrange[1]], [0, 0], '-k', linewidth=0.5)\n",
    "        plt.plot([0, 0], [yrange[0], yrange[1]], '-k', linewidth=0.5)\n",
    "        \n",
    "        \n",
    "        \n",
    "        plt.plot([x1, x2], [y1, y2], '-b')\n",
    "        plt.plot([x2, x4], [y2, y4], '-b')\n",
    "        plt.plot([x4, x3], [y4, y3], '-b')\n",
    "        plt.plot([x3, x1], [y3, y1], '-b')\n",
    "        plt.xlim(xrange)\n",
    "        plt.ylim(yrange)\n",
    "        plt.show()\n",
    "        \n",
    "    def draw2(self, xlim = [-10, 10], ylim = [-10, 10]):\n",
    "        \n",
    "        x1 = self.w[0][0]\n",
    "        x2 = self.w[1][0]\n",
    "        x4 = self.w[2][0]\n",
    "        x3 = self.w[3][0]\n",
    "        \n",
    "        y1 = self.w[0][1]\n",
    "        y2 = self.w[1][1]\n",
    "        y4 = self.w[2][1]\n",
    "        y3 = self.w[3][1]\n",
    "        \n",
    "        plt.plot([x1, x2, x3, x4, x1], [y1, y2, y3, y4, y1])\n",
    "        plt.axis('equal')\n",
    "        plt.xlim(xlim)\n",
    "        plt.ylim(ylim)\n",
    "        \n",
    "        plt.show()\n",
    "        "
   ]
  },
  {
   "cell_type": "code",
   "execution_count": 100,
   "metadata": {},
   "outputs": [],
   "source": [
    "r = Rect(2, 2, 2, 2)"
   ]
  },
  {
   "cell_type": "code",
   "execution_count": 28,
   "metadata": {},
   "outputs": [],
   "source": [
    "r.translate(-2, -2)"
   ]
  },
  {
   "cell_type": "code",
   "execution_count": 103,
   "metadata": {},
   "outputs": [
    {
     "data": {
      "image/png": "[encoded data removed]",
      "text/plain": [
       "<Figure size 432x288 with 1 Axes>"
      ]
     },
     "metadata": {
      "needs_background": "light"
     },
     "output_type": "display_data"
    }
   ],
   "source": [
    "r.draw()"
   ]
  },
  {
   "cell_type": "code",
   "execution_count": 102,
   "metadata": {
    "scrolled": true
   },
   "outputs": [],
   "source": [
    "r.scale(2, 2)"
   ]
  },
  {
   "cell_type": "code",
   "execution_count": 42,
   "metadata": {},
   "outputs": [
    {
     "data": {
      "text/plain": [
       "[[2, 2], [4, 2], [2, 4], [4, 4]]"
      ]
     },
     "execution_count": 42,
     "metadata": {},
     "output_type": "execute_result"
    }
   ],
   "source": [
    "r.w"
   ]
  },
  {
   "cell_type": "code",
   "execution_count": 48,
   "metadata": {},
   "outputs": [],
   "source": [
    "import matplotlib.pyplot as plt"
   ]
  },
  {
   "cell_type": "code",
   "execution_count": 56,
   "metadata": {},
   "outputs": [
    {
     "data": {
      "image/png": "[encoded data removed]",
      "text/plain": [
       "<Figure size 432x288 with 1 Axes>"
      ]
     },
     "metadata": {
      "needs_background": "light"
     },
     "output_type": "display_data"
    }
   ],
   "source": [
    "x = [r.w[0][0], r.w[1][0], r.w[2][0], r.w[3][0]]\n",
    "y = [r.w[0][1], r.w[1][1], r.w[2][1], r.w[3][1]]\n",
    "plt.scatter(x, y)\n",
    "plt.show()"
   ]
  },
  {
   "cell_type": "markdown",
   "metadata": {},
   "source": [
    "### Zadanie 3.25\n",
    "\n",
    "Utwórz program, który umożliwi dodawanie pracowników w postaci obiektów do listy w zakresie danych: imię, nazwisko, email, telefon. Następnie program wyświetli elementy listy obiektów wprowadzonych do listy. "
   ]
  },
  {
   "cell_type": "markdown",
   "metadata": {},
   "source": [
    "### Przykładowe rozwiązanie:"
   ]
  },
  {
   "cell_type": "code",
   "execution_count": null,
   "metadata": {},
   "outputs": [],
   "source": [
    "class Pracownik:\n",
    "    def __init__(self, imie, nazwisko, email, telefon):\n",
    "        self.imie = imie\n",
    "        self.nazwisko = nazwisko\n",
    "        self.email = email\n",
    "        self.telefon = telefon\n",
    "\n",
    "    def wyswietl(self):\n",
    "        print(f\"imię: {self.imie} nazwisko: {self.nazwisko} email: {self.email} telefon: {self.telefon}\")\n",
    "\n",
    "\n",
    "pracownicy = []\n",
    "\n",
    "while(True):\n",
    "    menu = input(\"D-dodaj, P-pokaż, Z-zmień, U-usuń, K-koniec: \").upper()\n",
    "    if(menu == \"D\"):\n",
    "        imie = input(\"Podaj imię: \")\n",
    "        nazwisko = input(\"Podaj nazwisko: \")\n",
    "        telefon = input(\"Podaj telefon: \")\n",
    "        email = input(\"Podaj email: \")\n",
    "        pracownik = Pracownik(imie, nazwisko, telefon, email)\n",
    "        pracownicy.append(pracownik)\n",
    "\n",
    "    elif(menu == \"P\"):\n",
    "\n",
    "        for item in pracownicy:\n",
    "            item.wyswietl()\n",
    "\n",
    "    elif(menu == \"Z\"):\n",
    "        nazwisko = input(\"Podaj nazwisko do zmiany: \")\n",
    "        nowe_nazwisko = input(\"Podaj nowe nazwisko: \")\n",
    "        for o in pracownicy:\n",
    "            if (o.nazwisko == nazwisko):\n",
    "                o.nazwisko = nowe_nazwisko\n",
    "                break\n",
    "\n",
    "    elif(menu == \"U\"):\n",
    "        nazwisko = input(\"Podaj nazwisko do usunięcia: \")\n",
    "        for o in pracownicy:\n",
    "            if(o.nazwisko == nazwisko):\n",
    "                pracownicy.remove(o)\n",
    "                break\n",
    "\n",
    "    elif(menu == \"K\"):\n",
    "        break\n",
    "\n",
    "    else:\n",
    "        print(\"Nierozpoznana opcja menu\")"
   ]
  },
  {
   "cell_type": "markdown",
   "metadata": {},
   "source": [
    "### Zadanie 3.26\n",
    "\n",
    "Utwórz program do przechowywania listy ocen studentów z egzaminu. Program powinien zawierać klasę Student o polach: imię, nazwisko, oceny; i metodach: dodajOcene, wypiszOceny, obliczSrednia. Program powinien posiadać menu. D-dodaj studenta, U-usuń studenta, O-dodaj ocenę studentowi, W-wypisz oceny studenta, S-średnia studenta."
   ]
  },
  {
   "cell_type": "markdown",
   "metadata": {},
   "source": [
    "### Przykładowe rozwiązanie:"
   ]
  },
  {
   "cell_type": "code",
   "execution_count": null,
   "metadata": {},
   "outputs": [],
   "source": [
    "listaStudentow = []\n",
    "\n",
    "class Student:\n",
    "\n",
    "    def __init__(self, imie, nazwisko):\n",
    "        self.imie = imie\n",
    "        self.nazwisko = nazwisko\n",
    "        self.oceny = []\n",
    "\n",
    "    def dodajOcene(self, ocena):\n",
    "        self.oceny.append(ocena)\n",
    "\n",
    "    def wypiszOceny(self):\n",
    "        for i in self.oceny:\n",
    "            print(i, end = \" \")\n",
    "        print()\n",
    "\n",
    "    def policzSrednia(self):\n",
    "        suma = 0\n",
    "        for s in self.oceny:\n",
    "            suma += s\n",
    "\n",
    "        srednia = suma/len(self.oceny)\n",
    "        print(f\"Średnia to: {srednia}\")\n",
    "\n",
    "    def wyswietlStudenta(self):\n",
    "        print(f\"imię: {self.imie} nazwisko: {self.nazwisko}\")\n",
    "\n",
    "\n",
    "\n",
    "while(True):\n",
    "\n",
    "    menu = input(\"D-dodaj studenta, U-usuń studenta, L-lista studentów, O-dodaj ocene studentowi, W-wypisz oceny studenta, S-średnia studenta, K-koniec: \")\n",
    "\n",
    "    if (menu == \"D\"):\n",
    "        imie = input(\"Podaj imię: \")\n",
    "        nazwisko = input(\"Podaj nazwisko: \")\n",
    "        student = Student(imie, nazwisko)\n",
    "        listaStudentow.append(student)\n",
    "\n",
    "    elif (menu == \"U\"):\n",
    "        nazwisko = input(\"Podaj nazwisko do usunięcia: \")\n",
    "        for o in listaStudentow:\n",
    "            if (o.nazwisko == nazwisko):\n",
    "                listaStudentow.remove(o)\n",
    "                break\n",
    "\n",
    "    elif (menu == \"L\"):\n",
    "\n",
    "        for item in listaStudentow:\n",
    "            item.wyswietlStudenta()\n",
    "\n",
    "    elif (menu == \"O\"):\n",
    "        imie = input(\"Podaj imię: \")\n",
    "        nazwisko = input(\"Podaj nazwisko: \")\n",
    "        ocena = float(input(\"Podaj ocenę: \"))\n",
    "        for o in listaStudentow:\n",
    "            if (o.nazwisko == nazwisko and o.imie == imie):\n",
    "                o.dodajOcene(ocena)\n",
    "                break\n",
    "\n",
    "    elif (menu == \"W\"):\n",
    "        imie = input(\"Podaj imię: \")\n",
    "        nazwisko = input(\"Podaj nazwisko: \")\n",
    "        for o in listaStudentow:\n",
    "            if (o.nazwisko == nazwisko and o.imie == imie):\n",
    "                o.wypiszOceny()\n",
    "                break\n",
    "\n",
    "    elif (menu == \"S\"):\n",
    "        imie = input(\"Podaj imię: \")\n",
    "        nazwisko = input(\"Podaj nazwisko: \")\n",
    "        for o in listaStudentow:\n",
    "            if (o.nazwisko == nazwisko and o.imie == imie):\n",
    "                o.policzSrednia()\n",
    "                break\n",
    "\n",
    "\n",
    "    elif (menu == \"K\"):\n",
    "        break\n",
    "\n",
    "    else:\n",
    "        print(\"Nierozpoznana opcja menu\")"
   ]
  },
  {
   "cell_type": "markdown",
   "metadata": {},
   "source": [
    "### Zadanie 3.27\n",
    "\n",
    "Utwórz klasę Koszyk, która będzie stanowić podstawowy element aplikacji sklepu internetowego. Koszyk powinien posiadać pole zakupy, które będzie przechowywać słownik par produkt-ilość. Klasa powinna zawierać dwie metody: dodajProdukt i odejmijProdukt służące do dodawania i odejmowania produktów w koszyku w zadanej ilości. \n",
    "\n",
    "Przykład działania:\n",
    "<br>\n",
    "user = Koszyk() # tworzenie instancji klasy\n",
    "<br>\n",
    "user.dodajProdukt(\"chleb\", 2) # dodawanie do koszyka produktu chleb - 2 sztuki\n",
    "<br>\n",
    "user.odejmijProdukt(\"chleb\", 1) # odejmowanie z koszyka produktu chleb - 1 sztuka\n",
    "<br>\n",
    "user.zakupy # wyświetlanie zawartości koszyka"
   ]
  },
  {
   "cell_type": "markdown",
   "metadata": {},
   "source": [
    "### Przykładowe rozwiązanie:"
   ]
  },
  {
   "cell_type": "code",
   "execution_count": 7,
   "metadata": {},
   "outputs": [],
   "source": [
    "class Koszyk:\n",
    "\n",
    "    def __init__(self):\n",
    "        self.zakupy = {}\n",
    "\n",
    "    def dodajProdukt(self, produkt, ilosc):\n",
    "\n",
    "        if (produkt in self.zakupy):\n",
    "            ileObecnie = self.zakupy[produkt]\n",
    "            self.zakupy[produkt] = ileObecnie + ilosc\n",
    "\n",
    "        else:\n",
    "            self.zakupy[produkt] = ilosc\n",
    "\n",
    "    def odejmijProdukt(self, produkt, ilosc):\n",
    "\n",
    "        ileObecnie = self.zakupy[produkt]\n",
    "        if(ileObecnie < ilosc):\n",
    "            print(\"Niedozwolona ilość do usunięcia\")\n",
    "        elif(ileObecnie == ilosc):\n",
    "            del self.zakupy[produkt]\n",
    "        elif(ileObecnie > ilosc):\n",
    "            self.zakupy[produkt] = ileObecnie - ilosc"
   ]
  },
  {
   "cell_type": "code",
   "execution_count": 11,
   "metadata": {},
   "outputs": [
    {
     "data": {
      "text/plain": [
       "{'chleb': 2}"
      ]
     },
     "execution_count": 11,
     "metadata": {},
     "output_type": "execute_result"
    }
   ],
   "source": [
    "user = Koszyk()\n",
    "\n",
    "user.dodajProdukt(\"chleb\", 2)\n",
    "\n",
    "user.zakupy"
   ]
  },
  {
   "cell_type": "markdown",
   "metadata": {},
   "source": [
    "### Enkapsulacja\n",
    "\n",
    "Dzięki enkapsulacji:\n",
    "- Szczegóły implementacji są ukryte\n",
    "- Nie można zmienić stanu wewnętrznego obiektu spoza niej\n",
    "- Tylko wewnętrzne metody obiektu mogą zmieniać stan obiektu\n",
    "\n",
    "Pola prywatne - ich nazwa posiada podwójne podkreślenie"
   ]
  },
  {
   "cell_type": "code",
   "execution_count": 27,
   "metadata": {},
   "outputs": [],
   "source": [
    "# class Informacje:\n",
    "#     def __init__(self):\n",
    "#         self.__nazwisko = „Kowalski”\n",
    "# \n",
    "# obiekt = Informacje()\n",
    "\n",
    "# print(obj.__nazwisko) # wywoła błąd"
   ]
  },
  {
   "cell_type": "markdown",
   "metadata": {},
   "source": [
    "Metody również mogą mieć charakter prywatny - nazwy takich metod posiadają dwa podkreślenia z przodu."
   ]
  },
  {
   "cell_type": "code",
   "execution_count": 28,
   "metadata": {},
   "outputs": [],
   "source": [
    "# class Informacje:\n",
    "#     def __drukuj(self):\n",
    "#         print(„Cześć!”)\n",
    "\n",
    "# obiekt = Informacje()\n",
    "# obj.__drukuj() # wywoła błąd"
   ]
  },
  {
   "cell_type": "markdown",
   "metadata": {},
   "source": [
    "Dostęp do prywatnych pól i metod odbywa się za pomocą interfejsu klasy - należy utworzyć metody które pozwolą na korzystanie z prywatnych pól i metod z zewnątrz (tzw. gettery i settery)."
   ]
  },
  {
   "cell_type": "code",
   "execution_count": null,
   "metadata": {},
   "outputs": [],
   "source": [
    "# class Informacje:\n",
    "#     def __init__(self):\n",
    "#         self.nazwisko = \"Kowalski\"\n",
    "#         self.__sekret = \"hasło\"\n",
    "#        \n",
    "#     def __drukuj(self):\n",
    "#         print(\"Hello!\")\n",
    "#        \n",
    "#     def getsekret(self):\n",
    "#         print(self.__sekret)\n",
    "#         \n",
    "#     def setsekret(self, n):\n",
    "#         self.__sekret = n\n",
    "        \n",
    "# obiekt = Informacje()"
   ]
  },
  {
   "cell_type": "markdown",
   "metadata": {},
   "source": [
    "### Polimorfizm\n",
    "\n"
   ]
  },
  {
   "cell_type": "markdown",
   "metadata": {},
   "source": [
    "Polimorfizm - wielopostaciowość (z greckiego). W programowaniu polega na korzystaniu z tych samych i funkcji dla różnych obiektów. \n",
    "\n",
    "Przykład - pies i kot to przedstawiciele dwóch różbych klas, przy czym każda z nich może posiadać metodę \"machajOgonem()\". \n",
    "\n",
    "Często zdarza się, że dla poszczególnych obiektów wykonanie danej metody znaczy coś zupełnie innego. Interpreter na szczęście nie ma z tym problemu. \n",
    "\n",
    "Z przykładami polimorfizmu w Pythonie mieliśmy już do czynienia wielokrotnie. Interpreter sam wiedział jak wykonać daną funkcję. Przykłady: \n",
    "- 2+2 oraz \"2\"+\"2\" (dodawanie liczb całkowitych oraz liter)\n",
    "- korzystanie z funkcji len() (możemy ją zastosować zarówno na listach, napisach, krotkach itd.)\n",
    "- korzystanie z funkcji print() (jako argument możemy wstawić zarówno napis, zmienne, listy itd.)\n",
    "\n",
    "Przykład - polimorficzna funkcja dodawania:"
   ]
  },
  {
   "cell_type": "code",
   "execution_count": 1,
   "metadata": {},
   "outputs": [
    {
     "name": "stdout",
     "output_type": "stream",
     "text": [
      "12\n",
      "7\n"
     ]
    }
   ],
   "source": [
    "def dodaj(x, y, z=0):\n",
    "    return x+y+z\n",
    "\n",
    "print(dodaj(3, 4, 5))\n",
    "print(dodaj(3, 4))"
   ]
  },
  {
   "cell_type": "markdown",
   "metadata": {},
   "source": [
    "Polimorfizm pozwala nam korzystać z różnych obiektów w ten sam sposób.\n",
    "\n",
    "Przykład - wywoływanie tej samej metody w pętli dla różnych obiektów:"
   ]
  },
  {
   "cell_type": "code",
   "execution_count": 6,
   "metadata": {},
   "outputs": [
    {
     "name": "stdout",
     "output_type": "stream",
     "text": [
      "nazwa: Polska\n",
      "Warszawa\n",
      "Polski\n",
      "Kraj już prawie rozwinięty\n",
      "\n",
      "nazwa: Niemcy\n",
      "Berlin\n",
      "Niemiecki\n",
      "Kraj rozwinięty\n",
      "\n",
      "nazwa: Francja\n",
      "Paryż\n",
      "Francuski\n",
      "Kraj rozwinięty\n",
      "\n"
     ]
    }
   ],
   "source": [
    "class Polska():\n",
    "    nazwa = \"Polska\"\n",
    "    \n",
    "    def stolica(self):\n",
    "        print(\"Warszawa\")\n",
    " \n",
    "    def jezyk(self):\n",
    "        print(\"Polski\")\n",
    " \n",
    "    def poziomRozwoju(self):\n",
    "        print(\"Kraj już prawie rozwinięty\")\n",
    "        \n",
    "class Niemcy():\n",
    "    nazwa = \"Niemcy\"\n",
    "    \n",
    "    def stolica(self):\n",
    "        print(\"Berlin\")\n",
    " \n",
    "    def jezyk(self):\n",
    "        print(\"Niemiecki\")\n",
    " \n",
    "    def poziomRozwoju(self):\n",
    "        print(\"Kraj rozwinięty\")\n",
    "\n",
    "class Francja():\n",
    "    nazwa = \"Francja\"\n",
    "    \n",
    "    def stolica(self):\n",
    "        print(\"Paryż\")\n",
    " \n",
    "    def jezyk(self):\n",
    "        print(\"Francuski\")\n",
    " \n",
    "    def poziomRozwoju(self):\n",
    "        print(\"Kraj rozwinięty\")\n",
    "\n",
    "obPl = Polska()\n",
    "obNm = Niemcy()\n",
    "obFr = Francja()\n",
    "\n",
    "kraje = [obPl, obNm, obFr]\n",
    "\n",
    "for kraj in kraje:\n",
    "    print(f\"nazwa: {kraj.nazwa}\")\n",
    "    kraj.stolica()\n",
    "    kraj.jezyk()\n",
    "    kraj.poziomRozwoju()\n",
    "    print(\"\")"
   ]
  },
  {
   "cell_type": "markdown",
   "metadata": {},
   "source": [
    "Polimorfizm pozwala również na definiowanie funkcji, których argumentami mogą być obiekty. \n",
    "\n",
    "Przykład:"
   ]
  },
  {
   "cell_type": "code",
   "execution_count": 8,
   "metadata": {},
   "outputs": [
    {
     "name": "stdout",
     "output_type": "stream",
     "text": [
      "nazwa: Polska\n",
      "Warszawa\n",
      "Polski\n",
      "Kraj już prawie rozwinięty\n",
      "\n",
      "nazwa: Niemcy\n",
      "Berlin\n",
      "Niemiecki\n",
      "Kraj rozwinięty\n",
      "\n",
      "nazwa: Francja\n",
      "Paryż\n",
      "Francuski\n",
      "Kraj rozwinięty\n",
      "\n"
     ]
    }
   ],
   "source": [
    "def funkcja(obiekt):\n",
    "    print(f\"nazwa: {obiekt.nazwa}\")\n",
    "    obiekt.stolica()\n",
    "    obiekt.jezyk()\n",
    "    obiekt.poziomRozwoju()\n",
    "    print(\"\")\n",
    "\n",
    "obPl = Polska()\n",
    "obNm = Niemcy()\n",
    "obFr = Francja()\n",
    "  \n",
    "funkcja(obPl)\n",
    "funkcja(obNm)\n",
    "funkcja(obFr)"
   ]
  },
  {
   "cell_type": "markdown",
   "metadata": {},
   "source": [
    "### Zadanie 3.28\n",
    "Utwórz 3 klasy opisujące figury geometryczne: trójkąt, prostokąt, sześciokat foremny. Każda z klas powinna posiadać atrybut \"wierzcholki\" przechowującą liczbę wierzchołków oraz metody \"wzor_na_pole\" oraz \"wzor_na_obwod\", które wyświetlają wzory na pola i obwody danej figury. Następnie utwórz 3 obiekty (po jednym dla każdej z utworzonych klas) i umieść je w liście. Zademonstruj działanie polimorfirmu, tzn:\n",
    "- wywołaj w pętli na wszystkich obiektach pole \"wierzcholki\" oraz metody \"wzor_na_pole\" i \"wzor_na_obwod\",\n",
    "- wykonaj funkcję, której argumentem będzie obiekt i która będzie wywoływać pole \"wierzcholki\" oraz metody \"wzor_na_pole\" i \"wzor_na_obwod\".\n"
   ]
  },
  {
   "cell_type": "markdown",
   "metadata": {},
   "source": [
    "### Przykładowe rozwiązanie:"
   ]
  },
  {
   "cell_type": "code",
   "execution_count": 109,
   "metadata": {},
   "outputs": [
    {
     "name": "stdout",
     "output_type": "stream",
     "text": [
      "Lista \n",
      "\n",
      "liczba wierzcholkow: 3\n",
      "pole: 1/2 a * h\n",
      "obwód: a+b+c\n",
      "liczba wierzcholkow: 4\n",
      "pole: a * b\n",
      "obwód: 2*a + 2*b\n",
      "liczba wierzcholkow: 6\n",
      "pole: a^2 * sqrt(6.75)\n",
      "obwód: 6 * a\n",
      "\n",
      "Polifunkcja \n",
      "\n",
      "liczba wierzcholkow: 3\n",
      "pole: 1/2 a * h\n",
      "obwód: a+b+c\n",
      "liczba wierzcholkow: 4\n",
      "pole: a * b\n",
      "obwód: 2*a + 2*b\n",
      "liczba wierzcholkow: 6\n",
      "pole: a^2 * sqrt(6.75)\n",
      "obwód: 6 * a\n"
     ]
    }
   ],
   "source": [
    "class Trojkat:\n",
    "    def __init__(self):\n",
    "        self.wierzcholki = 3\n",
    "        \n",
    "    def wzor_na_pole(self):\n",
    "        print(\"pole: 1/2 a * h\")\n",
    "        \n",
    "    def wzor_na_obwod(self):\n",
    "        print(\"obwód: a+b+c\")\n",
    "        \n",
    "class Prostokat:\n",
    "    def __init__(self):\n",
    "        self.wierzcholki = 4\n",
    "        \n",
    "    def wzor_na_pole(self):\n",
    "        print(\"pole: a * b\")\n",
    "        \n",
    "    def wzor_na_obwod(self):\n",
    "        print(\"obwód: 2*a + 2*b\")\n",
    "\n",
    "class SzesciokatForemny:\n",
    "    def __init__(self):\n",
    "        self.wierzcholki = 6\n",
    "        \n",
    "    def wzor_na_pole(self):\n",
    "        print(\"pole: a^2 * sqrt(6.75)\")\n",
    "        \n",
    "    def wzor_na_obwod(self):\n",
    "        print(\"obwód: 6 * a\")\n",
    "        \n",
    "tr = Trojkat()\n",
    "pr = Prostokat()\n",
    "sz = SzesciokatForemny()\n",
    "\n",
    "obiekty = [tr, pr, sz]\n",
    "\n",
    "print(\"Lista \\n\")\n",
    "for item in obiekty:\n",
    "    print(f\"liczba wierzcholkow: {item.wierzcholki}\")\n",
    "    item.wzor_na_pole()\n",
    "    item.wzor_na_obwod()\n",
    "\n",
    "print(\"\\nPolifunkcja \\n\")\n",
    "def polifunkcja(ob):\n",
    "    print(f\"liczba wierzcholkow: {ob.wierzcholki}\")\n",
    "    ob.wzor_na_pole()\n",
    "    ob.wzor_na_obwod()\n",
    "    \n",
    "for item in obiekty:\n",
    "    polifunkcja(item)\n",
    "    "
   ]
  },
  {
   "cell_type": "markdown",
   "metadata": {},
   "source": [
    "### Dziedziczenie\n",
    "\n",
    "Dziedziczenie to mechanizm pozwalający jednej klasie (klasie \"dziecko\", klasa pochodna) przejmować atrybuty i metody drugiej klasy lub klas (klasa \"rodzic\", klasa bazowa). Jest to mechanizm współdzielenia funkcjonalności między klasami. Pozwala m. in. na sprawną rozbudowę funkcjonalności nowych klas. \n",
    "\n",
    "Ponieważ w takiej sytuacji między klasami zachodzi relacja przypominająca relacje rodzinne (i związane z nimi przejmowanie cech, ról, funkcji, stanu posiadania) mechanizm ten jest nazywany właśnie dziedziczeniem.\n",
    "\n",
    "Można powiedzieć, że dziedziczenie umożliwia tworzenie nowej klasy na bazie innej - już istniejącej. Do najważniejszych zalet mechanizmu dziedziczenia można zaliczyć: \n",
    "- oszczędność pracy, \n",
    "- możliwość ponownego wykorzystania wcześniej zbudowanych klas,\n",
    "- możliwość lepszej organizacji całej struktury projektu.  \n",
    "\n",
    "W języku Python istnieje możliwość tworzenia nowych klas na podstawie więcej niż jednej klasy - taki mechanizm nazywamy dziedziczeniem wielokrotnym albo wielodziedziczeniem.\n",
    "\n",
    "Będziemy wykorzystywać dziedziczenie do rozszerzania funkcjonalności wcześniej utworzonych klas.\n",
    "\n",
    "Składnia w języku Python: "
   ]
  },
  {
   "cell_type": "code",
   "execution_count": 1,
   "metadata": {},
   "outputs": [],
   "source": [
    "# class KlasaBazowa:\n",
    "#    <instrukcje>\n",
    "\n",
    "# class KlasaPochodna(KlasaBazowa):\n",
    "#    <instrukcje>   "
   ]
  },
  {
   "cell_type": "markdown",
   "metadata": {},
   "source": [
    "Tworząc nową klasę wykorzystując mechanizm <b>dziedziczenia</b> (oraz <b>polimorfizm</b>) możemy rozszerzyć działanie klasy bazowej poprzez dodawanie nowych metod do klasy pochodnej. Mamy również możliwość, aby przedefiniować działanie dziedziczonych metod (przesłanianie metod). Po wykonaniu przesłonienia metody, możemy nadal odnosić się do metod klasy bazowej wykorzystując instrukcję super(). Instrukcja super() pozwala wywoływać wszystkie metody klasy bazowej - łącznie z jej konstruktorem. Należy jednak pamiętać, że jeżeli w klasie bazowej konstruktor posiada parametry (argumenty), to w klasie potomnej wywołanie kostruktora klasy bazowej wymaga zastosowania instrukcji super().__init__(self, argumenty...) z odpowiednimi argumentami (konstruktora klasy bazowej.)\n",
    "\n",
    "Dziedziczenie nie wpływa na budowę i działanie klasy bazowej."
   ]
  },
  {
   "cell_type": "code",
   "execution_count": 6,
   "metadata": {},
   "outputs": [
    {
     "name": "stdout",
     "output_type": "stream",
     "text": [
      "ko, ko, ko...\n",
      "ćwir, ćwir...\n",
      "Jakiś odgłos\n"
     ]
    }
   ],
   "source": [
    "# Przykład - przesłanianie metod\n",
    "\n",
    "class Ptak:\n",
    "    def spiewaj(self):\n",
    "        print(\"Jakiś odgłos\")\n",
    "\n",
    "class Kura(Ptak):\n",
    "    def spiewaj(self): \n",
    "        print(\"ko, ko, ko...\")\n",
    "\n",
    "class Wrobel(Ptak):\n",
    "    def spiewaj(self): \n",
    "        print(\"ćwir, ćwir...\")\n",
    "    \n",
    "class Sowa(Ptak):\n",
    "    zdolnosc = \"widzenie w ciemności\"\n",
    "    \n",
    "obiektA = Kura()\n",
    "obiektA.spiewaj()\n",
    "\n",
    "obiektB = Wrobel()\n",
    "obiektB.spiewaj()\n",
    "\n",
    "obiektC = Sowa()\n",
    "obiektC.spiewaj()"
   ]
  },
  {
   "cell_type": "markdown",
   "metadata": {},
   "source": [
    "### Zadanie 3.29\n",
    "\n",
    "Utwórz klasę bazową Ssak, po której dziedziczyć będą dwie klasy potomne - pies i krowa. Wszystkie klasy mają posiadać metodę dajGlos. Zastosuj w klasach pochodnych mechanizm przesłaniania."
   ]
  },
  {
   "cell_type": "markdown",
   "metadata": {},
   "source": [
    "### Przykładowe rozwiązanie:"
   ]
  },
  {
   "cell_type": "code",
   "execution_count": 1,
   "metadata": {},
   "outputs": [],
   "source": [
    "class Ssak:\n",
    "    def __init__(self):\n",
    "        self.liczba_konczyn = 4\n",
    "        self.liczba_oczu = 2\n",
    "    \n",
    "    def dajGlos(self):\n",
    "        print(\"jakiś dzwięk\")\n",
    "        \n",
    "class Pies(Ssak):\n",
    "    def dajGlos(self):\n",
    "        print(\"woof woof\")\n",
    "        \n",
    "class Krowa(Ssak):\n",
    "    def dajGlos(self):\n",
    "        print(\"muu\")        \n",
    "    \n",
    "s = Ssak()\n",
    "p = Pies()\n",
    "k = Krowa()"
   ]
  },
  {
   "cell_type": "code",
   "execution_count": 4,
   "metadata": {},
   "outputs": [
    {
     "name": "stdout",
     "output_type": "stream",
     "text": [
      "ko, ko, ko...\n",
      "ćwir, ćwir...\n",
      "Jakiś odgłos\n"
     ]
    }
   ],
   "source": [
    "# Przykład - wykorzystanie instrukcji super()\n",
    "\n",
    "class Ptak:\n",
    "    def spiew(self):\n",
    "        print(\"Jakiś odgłos\")\n",
    "\n",
    "class Kura(Ptak):\n",
    "    def spiew(self): \n",
    "        print(\"ko, ko, ko...\")\n",
    "\n",
    "class Wrobel(Ptak):\n",
    "    def spiew(self): \n",
    "        print(\"ćwir, ćwir...\")\n",
    "        super().spiew()\n",
    "    \n",
    "obiektA = Kura()\n",
    "obiektA.spiew()\n",
    "\n",
    "obiektB = Wrobel()\n",
    "obiektB.spiew()"
   ]
  },
  {
   "cell_type": "markdown",
   "metadata": {},
   "source": [
    "Jeżeli w klasie potomnej utworzymy konstruktor to przesłoni on konstruktor klasy bazowej. Aby temu zapobiec i najpierw skorzystać z konstruktora klasy bazowej możemy skorzystać z instrukcji super()."
   ]
  },
  {
   "cell_type": "code",
   "execution_count": 8,
   "metadata": {},
   "outputs": [
    {
     "name": "stdout",
     "output_type": "stream",
     "text": [
      "Jakiś tekst\n",
      "ko, ko, ko...\n",
      "abcd\n",
      "ćwir, ćwir...\n"
     ]
    }
   ],
   "source": [
    "class Ptak:\n",
    "    def __init__(self, jakies_dane):\n",
    "        print(jakies_dane)\n",
    "    def spiewaj(self):\n",
    "        print(\"Jakiś odgłos\")\n",
    "\n",
    "class Kura(Ptak):\n",
    "    def __init__(self):\n",
    "        super().__init__(\"Jakiś tekst\")\n",
    "    def spiewaj(self): \n",
    "        print(\"ko, ko, ko...\")\n",
    "        \n",
    "class Wrobel(Ptak):\n",
    "    def __init__(self): \n",
    "        super().__init__(\"abcd\")\n",
    "    def spiewaj(self): \n",
    "        print(\"ćwir, ćwir...\")\n",
    "\n",
    "obiektA = Kura()\n",
    "obiektA.spiewaj()\n",
    "obiektB = Wrobel()\n",
    "obiektB.spiewaj()\n",
    "        "
   ]
  },
  {
   "cell_type": "markdown",
   "metadata": {},
   "source": [
    "### Zadanie 3.30\n",
    "\n",
    "Utwórz klasę bazową Ssak, po której dziedziczyć będą dwie klasy potomne - pies i krowa. Klasa bazowa ma posiadać konstruktor, w którym polu ile_konczyn zostanie przyporządkowana wartość 4, a ile_oczu wartość 2. Wszystkie klasy mają wywoływać konstruktor klasy bazowej. Pies ma dodatkowo otrzymać pole ogon z wartością True oraz pole rogi z wartością False, a krowa ma otrzymać pole ogon i pole rogi z wartością True."
   ]
  },
  {
   "cell_type": "markdown",
   "metadata": {},
   "source": [
    "### Przykładowe rozwiązanie:"
   ]
  },
  {
   "cell_type": "code",
   "execution_count": 110,
   "metadata": {},
   "outputs": [],
   "source": [
    "class Ssak:\n",
    "    def __init__(self):\n",
    "        self.liczba_konczyn = 4\n",
    "        self.liczba_oczu = 2\n",
    "        \n",
    "    def dajGlos(self):\n",
    "        print(\"Jakiś ryk...\")\n",
    "        \n",
    "class Pies(Ssak):\n",
    "    def __init__(self):\n",
    "        super().__init__()\n",
    "        self.ogon = True\n",
    "        self.rogi = False\n",
    "        \n",
    "    def dajGlos(self):\n",
    "        print(\"hau, hau...\")\n",
    "    \n",
    "class Krowa(Ssak):\n",
    "    def __init__(self):\n",
    "        super().__init__()\n",
    "        self.ogon = True\n",
    "        self.rogi = True\n",
    "        \n",
    "    def dajGlos(self):\n",
    "        print(\"muuu...\")"
   ]
  },
  {
   "cell_type": "code",
   "execution_count": 111,
   "metadata": {},
   "outputs": [],
   "source": [
    "pies = Pies()\n",
    "krowa = Krowa()"
   ]
  },
  {
   "cell_type": "code",
   "execution_count": 113,
   "metadata": {},
   "outputs": [
    {
     "data": {
      "text/plain": [
       "True"
      ]
     },
     "execution_count": 113,
     "metadata": {},
     "output_type": "execute_result"
    }
   ],
   "source": [
    "pies.ogon"
   ]
  },
  {
   "cell_type": "markdown",
   "metadata": {},
   "source": [
    "### Wielodziedziczenie\n",
    "\n",
    "Klasa może dziedziczyć więcej niż po jednej klasie bazowej (więcej niż po jednym rodzicu). Wówczas klasa pochodna przejmuje wszystkie funkcjonalności obu \"rodziców\". Co jednak w sytuacji, kiedy klasy bazowe mają takie same nazwy atrybutów lub metod? W takim wypadku liczy się kolejność dziedziczenia (pozycja w nawiasie przy definicji klasy potomnej). Istnieje jednak możliwość odniesienia się do metody konkretnego \"rodzica\" poprzez wskazanie nazwy klasy z której dana metoda (lub atrybut) ma być pobrana (nazwa_klasy.nazwa_metody(self)).\n",
    "\n",
    "Wielodziedziczenie wprowadza w programie wiele komplikacji i dodatkowych zależności, dlatego często odradza się korzystania z tego mechanizmu na początkowym etapie nauki programowania. \n"
   ]
  },
  {
   "cell_type": "code",
   "execution_count": 15,
   "metadata": {},
   "outputs": [
    {
     "name": "stdout",
     "output_type": "stream",
     "text": [
      "Jakiś odgłos 1\n",
      "Jakiś odgłos 2\n"
     ]
    }
   ],
   "source": [
    "class Ptak1:\n",
    "    def spiewaj(self):\n",
    "        print(\"Jakiś odgłos 1\")\n",
    "\n",
    "class Ptak2:\n",
    "    def spiewaj(self):\n",
    "        print(\"Jakiś odgłos 2\")\n",
    "\n",
    "        \n",
    "class Kura(Ptak1, Ptak2):\n",
    "    pass\n",
    "    #def spiewaj(self):\n",
    "    #    Ptak2.spiewaj(self)\n",
    "        \n",
    "class Wrobel(Ptak2, Ptak1):\n",
    "    pass\n",
    "    #def spiewaj(self):\n",
    "    #    Ptak2.spiewaj(self)\n",
    "  \n",
    "\n",
    "    \n",
    "obiektA = Kura()\n",
    "obiektA.spiewaj()\n",
    "\n",
    "obiektB = Wrobel()\n",
    "obiektB.spiewaj()\n"
   ]
  },
  {
   "cell_type": "code",
   "execution_count": 14,
   "metadata": {},
   "outputs": [
    {
     "name": "stdout",
     "output_type": "stream",
     "text": [
      "Jakiś odgłos 2\n",
      "Jakiś odgłos 2\n"
     ]
    }
   ],
   "source": [
    "class Ptak1:\n",
    "    def spiewaj(self):\n",
    "        print(\"Jakiś odgłos 1\")\n",
    "\n",
    "class Ptak2:\n",
    "    def spiewaj(self):\n",
    "        print(\"Jakiś odgłos 2\")\n",
    "        \n",
    "class Kura(Ptak1, Ptak2):\n",
    "    def spiewaj(self):\n",
    "        Ptak2.spiewaj(self)\n",
    "        \n",
    "class Wrobel(Ptak2, Ptak1):\n",
    "    def spiewaj(self):\n",
    "        super().spiewaj()\n",
    "    \n",
    "obiektA = Kura()\n",
    "obiektA.spiewaj()\n",
    "\n",
    "obiektB = Wrobel()\n",
    "obiektB.spiewaj()"
   ]
  },
  {
   "cell_type": "markdown",
   "metadata": {},
   "source": [
    "### Zadanie 3.31\n",
    "\n",
    "Zbuduj dowolne dwie klasy bazowe, a następnie dwie dziedziczące po nich klasy potomne. Niech klasy bazowe posiadają po jednej, tak samo nazwanej metodzie (np. przedstawSie która będzie drukować w konsoli dowolny tekst). Sprawdź:\n",
    "- w jaki sposób przebiega dziedziczenie, w zależności od kolejności odwołania do klas bazowych\n",
    "- w jaki sposób działa instrukcja super()\n",
    "- w jaki sposób wymusić odwołanie do konkretnej metody konkretnej klasy bazowej (podpowiedź - należy wykorzystać nazwę klasy bazowej i operator \".\")."
   ]
  },
  {
   "cell_type": "markdown",
   "metadata": {},
   "source": [
    "### Zadanie 3.32\n",
    "\n",
    "Wykorzystując mechanizm dziedziczenia napisz program, który będzie zawierać:\n",
    "- bazową klasę Produkt z konstruktorem i polami: nazwa, cena\n",
    "- klasę SystemOperacyjny rozszerzającą klasę Produkt z konstruktorem i polami: dystrybucja, wersja\n",
    "- klasę Szkolenie rozszerzającą klasę SystemOperacyjny zawierającą konstruktor i pole: liczbaSpotkan"
   ]
  },
  {
   "cell_type": "markdown",
   "metadata": {},
   "source": [
    "### Przykładowe rozwiązanie:"
   ]
  },
  {
   "cell_type": "code",
   "execution_count": 114,
   "metadata": {},
   "outputs": [
    {
     "name": "stdout",
     "output_type": "stream",
     "text": [
      "Linux 100 Ubuntu 16 4\n"
     ]
    }
   ],
   "source": [
    "'''class Produkt:\n",
    "    def __init__(self, nazwa, cena):\n",
    "        self.nazwa = nazwa\n",
    "        self.cena = cena\n",
    "\n",
    "class Oprogramowanie(Produkt):\n",
    "    def __init__(self, nazwa, cena, jezyk, system):\n",
    "        super.__init__(nazwa, cena)\n",
    "        self.jezyk = jezyk\n",
    "        self.system = system\n",
    "\n",
    "class Szkolenia(Oprogramowanie):\n",
    "    def __init__(self, nazwa, cena, jezyk, system, termin):\n",
    "        super.__init__(nazwa, cena, jezyk, system)\n",
    "        self.termin = termin'''\n",
    "\n",
    "\n",
    "class Produkt:\n",
    "    def __init__(self, nazwa, cena):\n",
    "        self.nazwa = nazwa\n",
    "        self.cena = cena\n",
    "\n",
    "class SystemOperacyjny(Produkt):\n",
    "    def __init__(self, nazwa, cena, dystrybucja, wersja):\n",
    "        super().__init__(nazwa, cena)\n",
    "        self.dystrybucja = dystrybucja\n",
    "        self.wersja = wersja\n",
    "\n",
    "\n",
    "class Szkolenie(SystemOperacyjny):\n",
    "    def __init__(self, nazwa, cena, dystrybucja, wersja, liczba_spotkan):\n",
    "        super().__init__(nazwa, cena, jezyk, system)\n",
    "        self.liczba_spotkan = liczba_spotkan\n",
    "\n",
    "    def __str__(self):\n",
    "        return f\"{self.nazwa} {self.cena} {self.dystrybucja} {self.wersja} {self.liczba_spotkan}\"\n",
    "\n",
    "k1 = Szkolenia(\"Linux\", 100, \"Ubuntu\", 16, 4)\n",
    "print(k1)"
   ]
  },
  {
   "cell_type": "markdown",
   "metadata": {},
   "source": [
    "### Wzorzec MVC \n",
    "\n",
    "Wzorzec MVC: Model-View-Controler zakłada budowę programu, w której trzy warstwy (model, widok, kontroler) są reprezentowane przez trzy różne i oddzielone od siebie klasy."
   ]
  },
  {
   "cell_type": "markdown",
   "metadata": {},
   "source": [
    "### Zadanie 3.33\n",
    "Utwórz program do zarządzania przedsiębiorstwem."
   ]
  },
  {
   "cell_type": "markdown",
   "metadata": {},
   "source": [
    "### Przykładowe rozwiązanie:"
   ]
  },
  {
   "cell_type": "code",
   "execution_count": 3,
   "metadata": {},
   "outputs": [
    {
     "name": "stdout",
     "output_type": "stream",
     "text": [
      "Witaj w firmie HOBBAJT\n",
      "D-dodaj pracownika, P-pokaż pracowników, U-usuń pracownika, Z-zmień kontrakt, K-koniec programu: k\n"
     ]
    }
   ],
   "source": [
    "class Pracownik:\n",
    "    def __init__(self, imie, nazwisko, kontrakt=\"staż\", pensja=1000):\n",
    "        self.__imie = imie\n",
    "        self.__nazwisko = nazwisko\n",
    "        self.__kontrakt = kontrakt\n",
    "        self.__pensja = pensja\n",
    "\n",
    "    def getImie(self):\n",
    "        return self.__imie\n",
    "\n",
    "    def getNazwisko(self):\n",
    "        return self.__nazwisko\n",
    "\n",
    "    def getKontrakt(self):\n",
    "        return self.__kontrakt\n",
    "\n",
    "    def getPensja(self):\n",
    "        return self.__pensja\n",
    "\n",
    "    def setImie(self, imie):\n",
    "        self.__imie = imie\n",
    "\n",
    "    def setNazwisko(self, nazwisko):\n",
    "        self.__nazwisko = nazwisko\n",
    "\n",
    "    def setKontrakt(self, kontrakt):\n",
    "        self.__kontrakt = kontrakt\n",
    "\n",
    "    def setPensja(self, pensja):\n",
    "        self.__pensja = pensja\n",
    "\n",
    "    def __str__(self):\n",
    "        return f\"Imię: {self.getImie()} Nazwisko: {self.getNazwisko()} Kontrakt: {self.getKontrakt()} Pensja: {self.getPensja()}\"\n",
    "\n",
    "class PracownikController:\n",
    "\n",
    "    def __init__(self):\n",
    "        self.listaPracownikow = []\n",
    "\n",
    "    def dodajPracownika(self, imie, nazwisko, etat, pensja):\n",
    "        pracownik = Pracownik(imie, nazwisko, etat, pensja)\n",
    "        self.listaPracownikow.append(pracownik)\n",
    "\n",
    "\n",
    "    def pokazPracownikow(self):\n",
    "        for item in self.listaPracownikow:\n",
    "            print(item)\n",
    "\n",
    "    def usunPracownika(self, nazwisko):\n",
    "        znaleziono = False\n",
    "        for i in self.listaPracownikow:\n",
    "            if(i.getNazwisko() == nazwisko):\n",
    "                self.listaPracownikow.remove(i)\n",
    "                print(\"Pomyślnie usunięto !\")\n",
    "                znaleziono = True\n",
    "                break\n",
    "        if(znaleziono == False):\n",
    "            print(\"Pracownik nie został znaleziony\")\n",
    "\n",
    "\n",
    "    def zmienKontrakt(self, nazwisko, pensja):\n",
    "        znaleziono = False\n",
    "        for i in self.listaPracownikow:\n",
    "            if (i.getNazwisko() == nazwisko):\n",
    "                self.listaPracownikow.remove(i)\n",
    "                print(\"Pomyślnie usunięto !\")\n",
    "                znaleziono = True\n",
    "                break\n",
    "        if (znaleziono == False):\n",
    "            print(\"Pracownik nie został znaleziony\")\n",
    "\n",
    "class Firma(PracownikController):\n",
    "\n",
    "    def __init__(self, nazwaFirmy):\n",
    "        super().__init__()\n",
    "        self.nazwaFirmy = nazwaFirmy\n",
    "        self.menu()\n",
    "\n",
    "    def menu(self):\n",
    "\n",
    "        while(True):\n",
    "            print(f\"Witaj w firmie {self.nazwaFirmy}\")\n",
    "            menu = input(\"D-dodaj pracownika, P-pokaż pracowników, U-usuń pracownika, Z-zmień kontrakt, K-koniec programu: \").upper()\n",
    "\n",
    "            if(menu == \"D\"):\n",
    "                imie = input(\"Podaj imię: \")\n",
    "                nazwisko = input(\"Podaj nazwisko: \")\n",
    "                etat = input(\"Kogo dodajemy? E-etat/S-stażysta: \").upper()\n",
    "                if(etat == \"E\"):\n",
    "                    pensja = input(\"Podaj wysokość wynagrodzenia: \")\n",
    "                elif(etat == \"S\"):\n",
    "                    self.dodajPracownika(imie, nazwisko, etat, 1000)\n",
    "\n",
    "            elif(menu == \"P\"):\n",
    "                self.pokazPracownikow()\n",
    "\n",
    "\n",
    "            elif (menu == \"U\"):\n",
    "                nazwisko = input(\"Podaj nazwisko do usunięcia: \")\n",
    "                self.usunPracownika(nazwisko)\n",
    "\n",
    "            elif (menu == \"Z\"):\n",
    "                pass\n",
    "\n",
    "            elif (menu == \"K\"):\n",
    "                break\n",
    "\n",
    "firma = Firma(\"HOBBAJT\")"
   ]
  },
  {
   "cell_type": "markdown",
   "metadata": {},
   "source": [
    "### Zadanie 3.34\n",
    "\n",
    "Utwórz model gry RPG, w której na podstawie klasy bazowej Bohater utworzone zostaną 4 klasy potomne (np. Barbarzynca, Czarodziejka, Zlodziej, Rycerz). Klasa bazowa powinna posiadać takie atrybuty jak: sila, inteligencja, zwinnosc, punty_zycia, punkty_ataku oraz metody: przedstaw_sie(), atakuj(), uciekaj(), rozmawiaj(). Zaproponuj po dwa atrybuty i dwie metody właściwe dla danych klas postaci. Wykorzystaj znane Ci mechanizmy programowania obiektowego (enkapsulacja, polimorfizm, dziedziczenie). "
   ]
  },
  {
   "cell_type": "markdown",
   "metadata": {},
   "source": [
    "### Processing i processing-py\n",
    "\n",
    "Processing to środowisko do tzw. programowania kreatywnego. Nurt programowania kreatywnego polega na ekspresji/prezentacji twórczego pomysłu za pomocą kodu komputerowego. Jest w szczególności wykorzystywane przez artystów i edukatorów. DOmyślnie Processing korzysta z języka Java, ale możliwe jest również korzystanie z innych języków (JS, Python, R). Z projekt Processing można bliżej się zapoznać na stronie: https://processing.org\n",
    "\n",
    "W przypadku Pythona istnieje możliwość instalacji biblioteki processing-py która umożliwia tworzenie projektów Processing wprost z poziomu skryptu Python. Przeanalizujmy poniższe przykłady korzystania z pakietu processing-py (ze strony pakietu: https://pypi.org/project/processing-py/):"
   ]
  },
  {
   "cell_type": "markdown",
   "metadata": {},
   "source": [
    "#### Instalacja"
   ]
  },
  {
   "cell_type": "code",
   "execution_count": null,
   "metadata": {},
   "outputs": [],
   "source": [
    "# instalacja\n",
    "# pip install processing-py --upgrade"
   ]
  },
  {
   "cell_type": "markdown",
   "metadata": {},
   "source": [
    "#### Uruchamianie"
   ]
  },
  {
   "cell_type": "code",
   "execution_count": 115,
   "metadata": {},
   "outputs": [
    {
     "name": "stdout",
     "output_type": "stream",
     "text": [
      "Downloading Processing.py & Java Runtime Environment 8u202 ... (~120MB)\n",
      "Extracting file ...\n"
     ]
    },
    {
     "name": "stderr",
     "output_type": "stream",
     "text": [
      "Starting App...\n",
      ">> [Jython] Created!\n",
      "\n"
     ]
    }
   ],
   "source": [
    "#Uruchamianie\n",
    "\n",
    "from processing_py import *\n",
    "\n",
    "app = App(600,400) \n",
    "app.background(255,0,0) \n",
    "app.redraw() \n",
    "\n",
    "#app.exit() # close the window"
   ]
  },
  {
   "cell_type": "code",
   "execution_count": 116,
   "metadata": {},
   "outputs": [],
   "source": [
    "app.exit()"
   ]
  },
  {
   "cell_type": "markdown",
   "metadata": {},
   "source": [
    "#### Rysowanie kształtów"
   ]
  },
  {
   "cell_type": "code",
   "execution_count": null,
   "metadata": {},
   "outputs": [],
   "source": [
    "# Rysowanie kształtów\n",
    "\n",
    "from processing_py import *\n",
    "\n",
    "app = App(600,400) # create window: width, height\n",
    "app.background(0,0,0) # set background:  red, green, blue\n",
    "app.fill(255,255,0) # set color for objects: red, green, blue\n",
    "app.rect(100,100,200,100) # draw a rectangle: x0, y0, size_x, size_y\n",
    "app.fill(0,0,255) # set color for objects: red, green, blue\n",
    "app.ellipse(300,200,50,50) # draw a circle: center_x, center_y, size_x, size_y\n",
    "app.redraw() # refresh the window"
   ]
  },
  {
   "cell_type": "markdown",
   "metadata": {},
   "source": [
    "#### Tworzenie animacji"
   ]
  },
  {
   "cell_type": "code",
   "execution_count": null,
   "metadata": {},
   "outputs": [],
   "source": [
    "# Tworzenie animacji:\n",
    "\n",
    "from processing_py import *\n",
    "app = App(600,400) # create window: width, height\n",
    "\n",
    "while(True):\n",
    "   app.background(0,0,0) # set background:  red, green, blue\n",
    "   app.fill(255,255,0) # set color for objects: red, green, blue\n",
    "   app.ellipse(app.mouseX,app.mouseY,50,50) # draw a circle: center_x, center_y, size_x, size_y\n",
    "   app.redraw() # refresh the window"
   ]
  },
  {
   "cell_type": "markdown",
   "metadata": {},
   "source": [
    "### Zadanie 3.35\n",
    "\n",
    "Korzystając z mechanizmów dziedziczenia i polimorfizmu oraz z biblioteki processing-py utwórz:\n",
    "- klasę bazową \"punkt\" (klasa posiada dwa pola odpowiadające pozycji oraz metodę do wyświetlenia punktu),\n",
    "- klasę \"koło\" rozszerzającą klasę punkt, która dodatkowo będzie posiadać atrybut \"promień\" oraz stosowną metodę do wyświetlania figury na ekranie,\n",
    "- klasę \"elipsa\" rozszerzającą klasę punkt, która dodatkowo będzie posiadać atrybuty \"szerokosc\" i \"wysokosc\" oraz stosowną metodę do wyświetlania figury na ekranie,\n",
    "- klasę \"kwadrat\" rozszerzającą klasę punkt, kóra będzie posiadać atrybut \"szerokosc\" oraz stosowną metodę do wyświetlania figury na ekranie,\n",
    "- klasę \"prostokąt\" rozszerzającą klasę punkt, kóra będzie posiadać atrybut \"szerokosc\" i \"wysokosc\" oraz stosowną metodę do wyświetlania figury na ekranie.\n"
   ]
  },
  {
   "cell_type": "markdown",
   "metadata": {},
   "source": [
    "<hr>\n",
    "\n",
    "### Licencja:\n",
    "\n",
    "- Teksty i ilustracje niniejszych materiałów są objęte licencją CC BY-NC-ND 4.0: https://creativecommons.org/licenses/by-nc-nd/4.0/deed.pl\n",
    "- Kody źródłowe zawarte w niniejszych materiałach są objęte licencją MIT: https://opensource.org/licenses/mit-license.php\n",
    "\n",
    "### License:\n",
    "\n",
    "- The text and illustrations of this material are licensed under CC BY-NC-ND 4.0: https://creativecommons.org/licenses/by-nc-nd/4.0/deed.en\n",
    "- Source codes included in these materials are licensed under the MIT license: https://opensource.org/licenses/mit-license.php"
   ]
  }
 ],
 "metadata": {
  "kernelspec": {
   "display_name": "Python 3",
   "language": "python",
   "name": "python3"
  },
  "language_info": {
   "codemirror_mode": {
    "name": "ipython",
    "version": 3
   },
   "file_extension": ".py",
   "mimetype": "text/x-python",
   "name": "python",
   "nbconvert_exporter": "python",
   "pygments_lexer": "ipython3",
   "version": "3.8.5"
  }
 },
 "nbformat": 4,
 "nbformat_minor": 4
}
