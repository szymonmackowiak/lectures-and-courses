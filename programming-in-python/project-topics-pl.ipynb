{
 "cells": [
  {
   "cell_type": "markdown",
   "metadata": {},
   "source": [
    "# Baza klientów\n",
    "\n",
    "Napisz program do organizacji bazy klientów. W programie użytkownik podaje imię, nazwisko i numer telefonu klienta. Dane są zapisywane do listy. Program powinien posiadać menu D-odaj, P-okaż, K-oniec."
   ]
  },
  {
   "cell_type": "markdown",
   "metadata": {},
   "source": [
    "# Kółko i krzyżyk\n",
    "Napisz grę w kółko i krzyżyk człowieka z komputerem. W grze obowiązują klasyczne zasady. Układ planszy 3x3."
   ]
  },
  {
   "cell_type": "markdown",
   "metadata": {},
   "source": [
    "# Program do nauki słówek języka obcego\n",
    "\n",
    "Minimalne wymagania zaliczeniowe:\n",
    "\n",
    "Utwórz program do nauki obcych słówek. Program ma posiadać system zarządzania kontami użytkownika (każdy użytkownik ma swoje konto chronione hasłem, na którym przechowywane są jego postępy). Program powinien posiadać interfejs tekstowy, w którym użytkownik wskazuje plik ze słówkami do nauki. Następnie program importuje dane i wprowadza je do słownika. W kolejnym etapie program przepytuje użytkownika z wiedzy zawartej w pliku ze słówkami. Program powinien wyliczać za ile dni użytkownik powinien powtórzyć naukę - jeśli odpowiedział dobrze - za 7 dni, jeśli źle - za 0 dni. Program tworzy nowy plik, który będzie zawierać informacje na temat daty ostatniej sesji nauki, id przerobionych słówek oraz za ile dni należy odbyć powtórkę. Program dodatkowo ma importować log z poprzedniej sesji aby odpytywać użytkownika z zaplanowanej powtórki. W ramach projektu należy wykorzystać wszystkie poznane mechanizmy programowania. \n",
    "\n",
    "Dodatkowe funkcjonalności programu zaawansowane mechanizmy (funkcje, klasy) oraz opis/dokumentacja zwiększają ocenę za realizację projektu."
   ]
  },
  {
   "cell_type": "markdown",
   "metadata": {},
   "source": [
    "# Kalkulator algebraiczny\n",
    "Minimalne wymagania zaliczeniowe: \n",
    "\n",
    "Utwórz klasę AlgebraLiniowa do wykonywania działań i obliczeń na wektorach 2D, wektorach 3D oraz na macierzach. Wykorzystaj całą wiedzę jaką posiadasz na temat wektorów na płaszczyźnie, wektorów w przestrzeni oraz na temat macierzy. Zdefiniuj wszystkie znane Ci operacje bez korzystania ze specjalistycznych pakietów Pythona (np. pakietu numpy). Następnie utwórz program z interfejsem konsolowym (CLI) do wykonywania obliczeń na obiektach algebraicznych. \n",
    "\n",
    "Dodatkowe funkcjonalności programu zaawansowane mechanizmy (funkcje, klasy) oraz opis/dokumentacja zwiększają ocenę za realizację projektu."
   ]
  },
  {
   "cell_type": "markdown",
   "metadata": {},
   "source": [
    "# Kalkulator statystyczny\n",
    "Minimalne wymagania zaliczeniowe:\n",
    "\n",
    "Utwórz klasę Statystyka do wykonywania działań i obliczeń statystycznych. Wykorzystaj całą wiedzę jaką posiadasz na temat statystyki (średnia arytmetyczna, geometryczna, mediana, moda, odchylenie standardowe, współczynnik korelacji, współczynnik i regresji liniowej). Zdefiniuj w swojej bibliotece wszystkie znane Ci operacje, nie korzystając ze specjalistycznych pakietów Pythona (np. numpy). Następnie utwórz program z interfejsem konsolowym (CLI) do wykonywania obliczeń statystycznych. \n",
    "\n",
    "Dodatkowe funkcjonalności programu zaawansowane mechanizmy (funkcje, klasy) oraz opis/dokumentacja zwiększają ocenę za realizację projektu."
   ]
  },
  {
   "cell_type": "markdown",
   "metadata": {},
   "source": [
    "# Gra RPG\n",
    "Minimalne wymagania zaliczeniowe: \n",
    "\n",
    "Utwórz model gry RPG, w której na podstawie klasy bazowej Bohater utworzone zostaną 4 klasy potomne (np. Barbarzynca, Czarodziejka, Zlodziej, Rycerz). Klasa bazowa powinna posiadać takie atrybuty jak: sila, inteligencja, zwinnosc, punty_zycia, punkty_ataku oraz metody: przedstaw_sie(), atakuj(), uciekaj(), rozmawiaj(). Zaproponuj po dwa atrybuty i dwie metody właściwe dla danych klas postaci. Wykorzystaj znane Ci mechanizmy programowania obiektowego (enkapsulacja, polimorfizm, dziedziczenie). Następnie spróbuj zaprojektować grę z interfejsem konsolowym CLI wykorzystującą zbudowaną klasę. Gra powinna posiadać system obsługi użytkowników (nazwa i hasło).\n",
    "\n",
    "Dodatkowe funkcjonalności programu zaawansowane mechanizmy (funkcje, klasy) oraz opis/dokumentacja zwiększają ocenę za realizację projektu."
   ]
  },
  {
   "cell_type": "markdown",
   "metadata": {},
   "source": [
    "# Analiza danych dotyczących ofiar Titanica\n",
    "Minimalne wymagania zaliczeniowe: \n",
    "\n",
    "Zapoznaj się z danymi dotyczącymi ofiar katastrofy Titanica (które można pobrać z serwisu Kaggle: https://www.kaggle.com/c/titanic/data). W oparciu o artykuł zawarty na stronie: https://stackabuse.com/pandas-library-for-data-visualization-in-python/ wykonaj analizę pliku z danymi. Przedstaw dane w postaci tabeli, sporządź histogram wieku ofiar, odpowiedz na pytanie - co mogło mieć wpływ na przeżycie pasażerów (płeć, wiek, status społeczny na podstawie klasy biletu). Następnie utwórz program z interfejsem konsolowym (CLI) do eksploracji wczytanego pliku w danymi (program powinien posiadać instrukcje do wyświetlania wybranych charakterystyk i wartości opisujących wskazany zbiór danych. \n",
    "\n",
    "Dodatkowe funkcjonalności programu zaawansowane mechanizmy (funkcje, klasy) oraz opis/dokumentacja zwiększają ocenę za realizację projektu."
   ]
  },
  {
   "cell_type": "markdown",
   "metadata": {},
   "source": [
    "# Big Data w ekonomii\n",
    "Sporządź notatkę pod tytułem: \"Big Data - przegląd najważniejszych instrukcji i wybranych przykładów\". W notatce opisz krótko i wymieniń najważniejsze instrukcje oraz przedstaw przykłady zastosowań:\n",
    "\n",
    "- programu powłoki Bash\n",
    "\n",
    "- pakietu analizy danych Pandas\n",
    "\n",
    "- pakietu PySpark."
   ]
  },
  {
   "cell_type": "markdown",
   "metadata": {},
   "source": [
    "# Python w analizie ekonomicznej - poziom zaawansowany\n",
    "Minimalne wymagania zaliczeniowe:\n",
    "\n",
    "Korzystając z wybranego frameworku (Django, FLask, FastAPI) proszę utworzyć projekt prostej aplikacji sieciowej wykonującej zadania kalkulatora. \n",
    "\n",
    "- program przyjmuje od użytkownika dane z wykorzystaniem metody GET protokołu http,\n",
    "\n",
    "- program umożliwia następujące operacje: dodawanie, odejmowanie, mnożenie, dzielenie, potęgowanie, pierwiastkowanie, \n",
    "\n",
    "- program posiada prostą stronę startową (kod HTML) która posiada opis korzystania z aplikacji oraz kilka przykładowych adresów, jakie można wywołać w pasku adresu przeglądarki internetowej,\n",
    "\n",
    "- projekt składa się z izolowanego środowiska (do zbudowania za pomocą pakietu venv), z pliku main.py pozwalającego na uruchomienie dowolnego serwera i aplikacji oraz z pliku requirements.txt, który zawiera wszelkie dodatkowe pakiety, które należy zainstalować przed uruchomieniem aplikacji. \n",
    "\n",
    "Wszelkie dodatkowe rozszerzenia projektu (dodatkowe operacje, rozbudowany interfejs, wykorzystanie dodatkowych metod protokołu http, opis/dokumentacja) będą podnosić końcową ocenę projektu."
   ]
  },
  {
   "cell_type": "markdown",
   "metadata": {},
   "source": [
    "<hr>\n",
    "\n",
    "### Licencja:\n",
    "\n",
    "- Teksty i ilustracje niniejszych materiałów są objęte licencją CC BY-NC-ND 4.0: https://creativecommons.org/licenses/by-nc-nd/4.0/deed.pl\n",
    "- Kody źródłowe zawarte w niniejszych materiałach są objęte licencją MIT: https://opensource.org/licenses/mit-license.php\n",
    "\n",
    "### License:\n",
    "\n",
    "- The text and illustrations of this material are licensed under CC BY-NC-ND 4.0: https://creativecommons.org/licenses/by-nc-nd/4.0/deed.en\n",
    "- Source codes included in these materials are licensed under the MIT license: https://opensource.org/licenses/mit-license.php"
   ]
  }
 ],
 "metadata": {
  "kernelspec": {
   "display_name": "\"Python/Mu (mu_venv-38-20211029-213049)\"",
   "language": "python",
   "name": "mu_venv-38-20211029-213049"
  },
  "language_info": {
   "codemirror_mode": {
    "name": "ipython",
    "version": 3
   },
   "file_extension": ".py",
   "mimetype": "text/x-python",
   "name": "python",
   "nbconvert_exporter": "python",
   "pygments_lexer": "ipython3",
   "version": "3.8.11"
  }
 },
 "nbformat": 4,
 "nbformat_minor": 5
}
