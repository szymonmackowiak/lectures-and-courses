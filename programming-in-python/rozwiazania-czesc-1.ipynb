{
 "cells": [
  {
   "cell_type": "markdown",
   "metadata": {},
   "source": [
    "# Typy danych\n",
    "\n",
    "Poniższe zadania można realizować po pomyślnej instalacji i uruchomieniu środowiska Pythona (Interpreter + Edytor). \n",
    "\n",
    "Zaczniemy od wykorzystania Interpretera języka Python w charakterze kalkulatora. Do najważniejszych operacji arytmetycznych możemy zaliczyć: \n",
    "\n",
    "- dodawanie +\n",
    "- odejmowanie -\n",
    "- mnożenie *\n",
    "- potęgowanie **\n",
    "- dzielenie /\n",
    "- dzielenie całkowite //\n",
    "- reszta z dzielenia (dzielenie modulo) %\n",
    "\n",
    "    \n",
    "Każdy obiekt stanowiący składnik bądź wynik operacji matematycznej posiada konkretny typ (liczba całkowita - int, zmiennoprzecinkowa - float, itd.). Typ obiektu możemy ustalić korzystając z instrukcji type()."
   ]
  },
  {
   "cell_type": "markdown",
   "metadata": {},
   "source": [
    "### Zadanie 1.1\n",
    "\n",
    "W linii Interpretera wykonaj poniższe działania. Jakie działania zostały wykonane? Za każdym razem sprawdź typ danych poszczególnych składników i wyników.\n",
    "\n",
    "\n",
    "- 1 + 2\n",
    "- 1 + 4.5\n",
    "- -1 + 2.5\n",
    "- 100 – 45\n",
    "- -1.1 + 5\n",
    "- 4 * 3\n",
    "- 2.5 * 1.5\n",
    "- 3 / 2\n",
    "- 4 / 2\n",
    "- 3 // 2\n",
    "- -3 // 2\n",
    "- 11 % 2\n",
    "- 2 ** 2\n",
    "- 2 ** 10\n",
    "- 1 ** 10\n",
    "- 8 ** (1/3)\n",
    "- 6 + 6 * 6\n",
    "- (6 + 6) * 6\n"
   ]
  },
  {
   "cell_type": "markdown",
   "metadata": {},
   "source": [
    "# Wyświetlanie tekstu w konsoli\n",
    "\n",
    "- Do wyświetlania komunikatów w konsoli służy polecenie print()\n",
    "przykład: print(„jakiś tekst”).\n",
    "\n",
    "- Znak nowej linii można podmienić np. na znak spacji za pomocą polecenia print(„jakiś tekst”, end=””).\n",
    "\n",
    "- Aby wyświetlić kilka fragmentów tekstu, można użyć konstrukcji print(„słowo_1”, „słowo2”, „słowo3”)"
   ]
  },
  {
   "cell_type": "markdown",
   "metadata": {},
   "source": [
    "### Zadanie 1.2\n",
    "\n",
    "Wyświetl na ekranie napis „Witaj Świecie!”"
   ]
  },
  {
   "cell_type": "markdown",
   "metadata": {},
   "source": [
    "### Przykładowe rozwiązanie"
   ]
  },
  {
   "cell_type": "code",
   "execution_count": 1,
   "metadata": {},
   "outputs": [
    {
     "name": "stdout",
     "output_type": "stream",
     "text": [
      "Witaj Świecie!\n"
     ]
    }
   ],
   "source": [
    "print(\"Witaj Świecie!\")"
   ]
  },
  {
   "cell_type": "markdown",
   "metadata": {},
   "source": [
    "# Komentarze\n",
    "\n",
    "Komentarz to fragment kodu, który nie będzie wykonywany przez interpreter lub kompilator. Komentarze dzielimy na jednowierszowe i wielowierszowe (blokowe). \n",
    "\n",
    "Komentarze jednowierszowe tworzymy w Pythonie za pomocą znaku #. Komentarz jednowierszowy obowiązuje w obrębie linii, w której postawiono znak komentarza. \n",
    "\n",
    "Przykład: #tak wygląda komentarz jednowierszowy\n",
    "\n",
    "Komentarz blokowy w języku Python zaczyna się i kończy znakami ”””…””” lub '''...'''\n",
    "\n",
    "Przykład: \n",
    "\n",
    "”””Tak <br>\n",
    "wygląda <br>\n",
    "komentarz <br>\n",
    "wielowierszowy”””"
   ]
  },
  {
   "cell_type": "markdown",
   "metadata": {},
   "source": [
    "### Zadanie 1.3\n",
    "\n",
    "Utwórz komentarz:\n",
    "\n",
    "- jednowierszowy\n",
    "- wielowierszowy\n"
   ]
  },
  {
   "cell_type": "markdown",
   "metadata": {},
   "source": [
    "### Przykładowe rozwiązanie:"
   ]
  },
  {
   "cell_type": "code",
   "execution_count": 2,
   "metadata": {},
   "outputs": [
    {
     "name": "stdout",
     "output_type": "stream",
     "text": [
      "Witaj Świecie - oto druga linia programu!\n",
      "Witaj Świecie - oto czwarta linia programu!\n"
     ]
    }
   ],
   "source": [
    "# print(\"Witaj Świecie - oto pierwsza linia programu!\")\n",
    "\n",
    "print(\"Witaj Świecie - oto druga linia programu!\")\n",
    "\n",
    "\"\"\"print(\"Witaj Świecie - oto trzecia linia programu!\")\"\"\"\n",
    "\n",
    "print(\"Witaj Świecie - oto czwarta linia programu!\")\n",
    "\n",
    "\n"
   ]
  },
  {
   "cell_type": "markdown",
   "metadata": {},
   "source": [
    "# Operatory\n",
    "\n",
    "W zadaniu 1.1 otarliśmy się o temat operatorów. W języku Python operatory dzielimy na:\n",
    "\n",
    "- arytmetyczne (np. +, -, *, /, **, =, %)\n",
    "- logiczne (np. ==, >, <, >=, <=, and, or, !=)\n",
    "                                   \n",
    "Warto zwrócić uwagę na operator przypisania „=” oraz operator porównania „==”."
   ]
  },
  {
   "cell_type": "markdown",
   "metadata": {},
   "source": [
    "### Zadanie 1.4\n",
    "\n",
    "Korzystając z operatora przypisania \"=\" utwórz zmienną \"a\" i sprawdź działanie poniższych instrukcji. \n",
    "\n",
    "- a=5\n",
    "- a+1\n",
    "- a=10\n",
    "- a+1\n",
    "\n",
    "Jak rozumieć instrukcję a+1?"
   ]
  },
  {
   "cell_type": "markdown",
   "metadata": {},
   "source": [
    "### Przykładowe rozwiązanie:"
   ]
  },
  {
   "cell_type": "code",
   "execution_count": 17,
   "metadata": {},
   "outputs": [
    {
     "name": "stdout",
     "output_type": "stream",
     "text": [
      "5\n",
      "6\n",
      "10\n",
      "11\n"
     ]
    }
   ],
   "source": [
    "a=5\n",
    "print(a)\n",
    "print(a+1)\n",
    "a=10\n",
    "print(a)\n",
    "print(a+1)"
   ]
  },
  {
   "cell_type": "markdown",
   "metadata": {},
   "source": [
    "### Zadanie 1.5\n",
    "\n",
    "Za pomocą polecenia type() sprawdź typ następujących obiektów:\n",
    "\n",
    "- 5\n",
    "- 6.5\n",
    "- 5.0\n",
    "- „5”\n",
    "\n",
    "Dlaczego w pierwszym, trzecim i ostatnim przypadku dostajemy różne typy?"
   ]
  },
  {
   "cell_type": "markdown",
   "metadata": {},
   "source": [
    "### Przykładowe rozwiązanie"
   ]
  },
  {
   "cell_type": "code",
   "execution_count": 1,
   "metadata": {},
   "outputs": [
    {
     "name": "stdout",
     "output_type": "stream",
     "text": [
      "<class 'int'>\n",
      "<class 'float'>\n",
      "<class 'float'>\n",
      "<class 'str'>\n"
     ]
    }
   ],
   "source": [
    "print(type(5))\n",
    "print(type(6.5))\n",
    "print(type(5.0))\n",
    "print(type(\"5\"))\n",
    "\n",
    "# Kropka powoduje, że liczba przyjmuje typ float. \n",
    "# Cudzysłów powoduje, że liczba w środku jest traktowana jak tekst"
   ]
  },
  {
   "cell_type": "markdown",
   "metadata": {},
   "source": [
    "# Rzutowanie \n",
    "\n",
    "Rzutowanie to inaczej konwersja typu danych. <br>\n",
    "Przebieg rzutowania: obiekt przechowujący pewne dane wprowadzamy jako argument do instrukcji rzutującej (np. int(), float(), str(), itd.)"
   ]
  },
  {
   "cell_type": "markdown",
   "metadata": {},
   "source": [
    "### Zadanie 1.6\n",
    "Sprawdź i wyjaśnij działanie następujących instrukcji wprowadzając ich wyniki do zmiennych i sprawdzajać ich typ:\n",
    "<ul>\n",
    "<li>int(6.5)</li>\n",
    "<li>int(3.0)</li>\n",
    "<li>float(3)</li>\n",
    "<li>float(\"3\")</li>\n",
    "</ul>"
   ]
  },
  {
   "cell_type": "markdown",
   "metadata": {},
   "source": [
    "### Przykładowe rozwiązanie"
   ]
  },
  {
   "cell_type": "code",
   "execution_count": 22,
   "metadata": {},
   "outputs": [
    {
     "name": "stdout",
     "output_type": "stream",
     "text": [
      "6\n",
      "<class 'int'>\n",
      "3\n",
      "<class 'int'>\n",
      "3.0\n",
      "<class 'float'>\n",
      "3.0\n",
      "<class 'float'>\n"
     ]
    }
   ],
   "source": [
    "zm1 = int(6.5)\n",
    "print(zm1)\n",
    "print(type(zm1))\n",
    "\n",
    "zm2 = int(3.0)\n",
    "print(zm2)\n",
    "print(type(zm2))\n",
    "\n",
    "zm3 = float(3)\n",
    "print(zm3)\n",
    "print(type(zm3))\n",
    "\n",
    "zm4 = float(\"3\")\n",
    "print(zm4)\n",
    "print(type(zm4))"
   ]
  },
  {
   "cell_type": "markdown",
   "metadata": {},
   "source": [
    "# Tworzenie zmiennych\n",
    "\n",
    "Za Wikipedią (https://pl.wikipedia.org/wiki/Zmienna_(informatyka)):\n",
    "\n",
    "„Zmienna - konstrukcja programistyczna posiadająca trzy podstawowe atrybuty: symboliczną nazwę, miejsce przechowywania i wartość; pozwalająca w kodzie źródłowym odwoływać się przy pomocy nazwy do wartości lub miejsca przechowywania. \n",
    "Nazwa służy do identyfikowania zmiennej w związku z tym często nazywana jest identyfikatorem. Miejsce przechowywania przeważnie znajduje się w pamięci komputera i określane jest przez adres i długość danych. Wartość to zawartość miejsca przechowywania. Zmienna zazwyczaj posiada również czwarty atrybut: typ, określający rodzaj danych przechowywanych w zmiennej i co za tym idzie sposób reprezentacji wartości w miejscu przechowywania.”\n",
    "\n",
    "W Pythonie zmienne tworzymy korzystając z operatora przypisania =.\n",
    "\n",
    "- Uproszczona definicja - zmienna to nazwa (słowo), która wskazuje na jakąś wartość (dane).\n",
    "- Korzystanie ze zmiennych pozwala na przechowywanie danych w pamięci komputera i tworzenie rozbudowanych programów. \n",
    "- Python posiada kilka wbudowanych typów danych dedykowanych m. in. do przechowywania liczb całkowitych, rzeczywistych, danych tekstowych itp.\n",
    "- W języku Python nie trzeba podawać jakiego typu dane będą wskazywane przez zmienną. Typ jest dobrany automatycznie. Mówimy, że Python jest językiem typowanym dynamicznie.\n",
    "    \n",
    "Zasady tworzenia zmiennych:\n",
    "\n",
    "- Nazwa zmiennej może być dowolnie długa (w granicach rozsądku).\n",
    "- Nazwy zmiennych nie mogą zawierać spacji (muszą stanowić jedno słowo).\n",
    "- Może zawierać litery i liczby, ale nie może zaczynać się od liczby.\n",
    "- Można korzystać z małych i wielkich liter jednak zaleca się, aby nazwy zmiennych składały się wyłącznie z małych liter.\n",
    "- Dla nazw złożonych można korzystać ze znaku podkreślenia (system snake_case), systemu camelCase (od małej litery) lub PascalCase (od dużej litery).\n",
    "- Python rozróżnia małe i wielkie litery, dlatego takie same nazwy zapisane małymi i wielkimi literami będą rozumiane jako różne zmienne.\n",
    "\n",
    "Przykład:\n",
    " \n",
    "- imie = „Szymon”\n",
    "- Imie = „Szymon”\n",
    "- IMIE = „Szymon”\n",
    "    \n",
    "Powyższe nazwy Interpreter będzie rozumieć jako różne zmienne.\n",
    "    \n",
    "- Zmienna nie może być słowem kluczowym (nazwą zastrzeżoną) języka programowania.\n",
    "- Przykłady nazw zastrzeżonych: if, elif, else, and, del, for, is, raise, assert,  from, lambda, return, breal, global, not, try, class, except, or, while, continue, del, exec, import, pass, yeld, finally, ln, print.\n",
    "    \n",
    "Deklaracja i inicjalizacja\n",
    "\n",
    "- W języku Python tworząc zmienną nie musimy podawać typu danych na jakie będzie wskazywać.\n",
    "- Deklaracja zmiennej polega na podaniu jej nazwy oraz przypisaniu do niej wartości (tzw. inicjalizacja). W języku Python zazwyczaj deklaracja i inicjalizacja zachodzą równocześnie.\n",
    "\n",
    "Typy liczbowe - pośród wbudowanych typów Pythona, na obecnym etapie (nauki Pythona) szczególnie ważne będą dla dwa typy liczbowe:\n",
    "\n",
    "- liczby całkowite (int)\n",
    "- liczby rzeczywiste/zmiennoprzecinkowe (float).\n",
    "\n",
    "Typy tekstowe typ tekstowy String jest inicjowany za pomocą pojedynczego lub podwójnego cudzysłowu. Jeżeli w tekście chcemy zamieścić apostrofy należy korzystać z symbolu cudzysłowu. \n"
   ]
  },
  {
   "cell_type": "markdown",
   "metadata": {},
   "source": [
    "### Zadanie 1.7\n",
    "\n",
    "Utwórz zmienne do przechowania zestawu danych, a następnie sprawdź ich typ: 200, Data Science, !, 3.14."
   ]
  },
  {
   "cell_type": "markdown",
   "metadata": {},
   "source": [
    "### Przykładowe rozwiązanie"
   ]
  },
  {
   "cell_type": "code",
   "execution_count": 25,
   "metadata": {},
   "outputs": [
    {
     "name": "stdout",
     "output_type": "stream",
     "text": [
      "<class 'int'>\n",
      "<class 'str'>\n",
      "<class 'str'>\n",
      "<class 'float'>\n"
     ]
    }
   ],
   "source": [
    "zm1 = 200\n",
    "print(type(zm1))\n",
    "\n",
    "zm2 = \"Data Science\"\n",
    "print(type(zm2))\n",
    "\n",
    "zm3 = \"!\"\n",
    "print(type(zm3))\n",
    "\n",
    "zm4 = 3.14\n",
    "print(type(zm4))"
   ]
  },
  {
   "cell_type": "markdown",
   "metadata": {},
   "source": [
    "# Wyświetlanie zawartości zmiennych na ekranie\n",
    "\n",
    "Poznana wcześniej instrukcja print() może wyświetlać dane zapisane w zmiennych.  \n",
    "Dane można łączyć w obrębie instrukcji print za pomocą przecinków. Instrukcja print() może przyjąć dowolną liczbę parametrów.\n",
    "<br>\n",
    "<br>\n",
    "Przykład \n",
    "print(zmienna1, zmienna2)"
   ]
  },
  {
   "cell_type": "markdown",
   "metadata": {},
   "source": [
    "# f-string\n",
    "\n",
    "Python umożliwia tworzenie formatowanych łańcuchów tektowych (Stringów) których zawartość jest zależy od zmiennych, które wchodzą w jego skład. Przed tego typu łańcuchem tekstowym wstawiamy literę f, natomiast zmienne do łańcucha wstawiamy w klamrach.\n",
    "\n",
    "Przykład: <br>\n",
    "zm1 = \"próbny tekst\" <br>\n",
    "print(f\"To jest {zm1}\")"
   ]
  },
  {
   "cell_type": "markdown",
   "metadata": {},
   "source": [
    "### Zadanie 1.8\n",
    "\n",
    "Napisz program, w którym do zmiennej imie przypiszesz swoje imię, a do zmiennej dzien przypiszesz aktualny dzień miesiąca, natomiast wynikiem działania programu będzie wyświetlenie komunikatu: \n",
    "„Witaj {Twoje imię} dzisiaj jest {aktualny dzień} dzień tego miesiąca!”.\n",
    "Wykonaj to zadanie na dwa sposoby - wprowadzając do instrukcji print kilka argumentów rozdzielonych przecinkami oraz za pomocą konstrukcji f-string."
   ]
  },
  {
   "cell_type": "markdown",
   "metadata": {},
   "source": [
    "### Przykładowe rozwiązanie:"
   ]
  },
  {
   "cell_type": "code",
   "execution_count": 29,
   "metadata": {},
   "outputs": [
    {
     "name": "stdout",
     "output_type": "stream",
     "text": [
      "Witaj Szymon dzisiaj jest 14 dzień tego miesiąca!\n",
      "Witaj Szymon dzisiaj jest 14 dzień tego miesiąca!\n"
     ]
    }
   ],
   "source": [
    "imie = \"Szymon\"\n",
    "dzien = \"14\"\n",
    "\n",
    "print(\"Witaj\", imie, \"dzisiaj jest\", dzien, \"dzień tego miesiąca!\")\n",
    "print(f\"Witaj {imie} dzisiaj jest {dzien} dzień tego miesiąca!\")"
   ]
  },
  {
   "cell_type": "markdown",
   "metadata": {},
   "source": [
    "# Konkatenacja łańcuchów \n",
    "\n",
    "Konkatenacja oznacza łączenie łańcuchów w nowy łańcuch. W języku Python służy do tego operator + (pod warunkiem, że argumentami tego działania są łańcuchy znaków - typ String). "
   ]
  },
  {
   "cell_type": "markdown",
   "metadata": {},
   "source": [
    "### Zadanie 1.9\n",
    "\n",
    "Korzystając z konkatenacji wykonaj program, który korzystając z poniższych zmiennych wyświetli komunikat: „W tym kursie poznajemy podstawy programowania.”\n",
    "\n",
    "- zm1 = „podstawy”\n",
    "- zm2 = „kursie”\n",
    "- zm3 = „programowania”\n",
    "\n",
    "Wykonaj alternatywnie to zadanie korzystając z tzw. f-stringów.\n"
   ]
  },
  {
   "cell_type": "markdown",
   "metadata": {},
   "source": [
    "### Przykładowe rozwiązanie:"
   ]
  },
  {
   "cell_type": "code",
   "execution_count": 32,
   "metadata": {},
   "outputs": [
    {
     "name": "stdout",
     "output_type": "stream",
     "text": [
      "W tym kursie poznajemy podstawy programowania.\n",
      "W tym kursie poznajemy podstawy programowania.\n"
     ]
    }
   ],
   "source": [
    "zm1 = \"podstawy\"\n",
    "zm2 = \"kursie\"\n",
    "zm3 = \"programowania\"\n",
    "\n",
    "print(\"W tym \" + zm2 + \" poznajemy \" + zm1 + \" \" + zm3 + \".\")\n",
    "print(f\"W tym {zm2} poznajemy {zm1} {zm3}.\")"
   ]
  },
  {
   "cell_type": "markdown",
   "metadata": {},
   "source": [
    "# Działania na ułamkach\n",
    "\n",
    "Możliwości wykorzystania Interpretera Python nie ograniczają się do podstawowych operacji arytmetycznych. Z powodzeniem możemy wykonywać bardziej zaawansowane działania, ale musimy dołączyć do naszego programu odpowiednie biblioteki (możemy je traktować jako kolekcje nowych instrukcji, z których będziemy mogli korzystać w naszych programach). Importować biblioteki można na różne sposoby (poruszymy je dokładnie omawiając ten temat w kolejnych lekcjach). W tej chwili skorzystamy z polecenia:<br>\n",
    "from fractions import Fraction <br>\n",
    "Aby utworzyć nowy ułamek należy skorzystać z instrukcji:\n",
    "Fraction(licznik, mianownik). "
   ]
  },
  {
   "cell_type": "markdown",
   "metadata": {},
   "source": [
    "### Zadanie 1.10\n",
    "\n",
    "Korzystając z biblioteki fractions utworzyć zmienne przechowujące ułamki, przypisać do nich dane i wykonać na nich działania wymienione poniżej:\n",
    "\n",
    "- 1/2 + 1/3\n",
    "- 2/5 * 3/16\n",
    "- 5/4 - 1/3\n",
    "- 11/12 / 2/3\n",
    "\n",
    "Sprawdzić typ zmiennych przechowujących ułamki."
   ]
  },
  {
   "cell_type": "markdown",
   "metadata": {},
   "source": [
    "### Przykładowe rozwiązanie:"
   ]
  },
  {
   "cell_type": "code",
   "execution_count": 37,
   "metadata": {},
   "outputs": [
    {
     "name": "stdout",
     "output_type": "stream",
     "text": [
      "1/2 + 1/3 = 5/6\n",
      "Typy zmiennych: zm1: <class 'fractions.Fraction'>, zm2: <class 'fractions.Fraction'>\n",
      "\n",
      "2/5 * 3/16 = 3/40\n",
      "Typy zmiennych: zm1: <class 'fractions.Fraction'>, zm2: <class 'fractions.Fraction'>\n",
      "\n",
      "5/4 - 1/3 = 11/12\n",
      "Typy zmiennych: zm1: <class 'fractions.Fraction'>, zm2: <class 'fractions.Fraction'>\n",
      "\n",
      "11/12 / 2/3 = 11/8\n",
      "Typy zmiennych: zm1: <class 'fractions.Fraction'>, zm2: <class 'fractions.Fraction'>\n"
     ]
    }
   ],
   "source": [
    "from fractions import Fraction\n",
    "\n",
    "zm1 = Fraction(1, 2)\n",
    "zm2 = Fraction(1, 3)\n",
    "\n",
    "print(f\"{zm1} + {zm2} = {zm1+zm2}\")\n",
    "print(f\"Typy zmiennych: zm1: {type(zm1)}, zm2: {type(zm2)}\")\n",
    "\n",
    "zm1 = Fraction(2, 5)\n",
    "zm2 = Fraction(3, 16)\n",
    "\n",
    "print(\"\")\n",
    "print(f\"{zm1} * {zm2} = {zm1*zm2}\")\n",
    "print(f\"Typy zmiennych: zm1: {type(zm1)}, zm2: {type(zm2)}\")\n",
    "\n",
    "zm1 = Fraction(5, 4)\n",
    "zm2 = Fraction(1, 3)\n",
    "\n",
    "print(\"\")\n",
    "print(f\"{zm1} - {zm2} = {zm1-zm2}\")\n",
    "print(f\"Typy zmiennych: zm1: {type(zm1)}, zm2: {type(zm2)}\")\n",
    "\n",
    "zm1 = Fraction(11, 12)\n",
    "zm2 = Fraction(2, 3)\n",
    "\n",
    "print(\"\")\n",
    "print(f\"{zm1} / {zm2} = {zm1/zm2}\")\n",
    "print(f\"Typy zmiennych: zm1: {type(zm1)}, zm2: {type(zm2)}\")"
   ]
  },
  {
   "cell_type": "markdown",
   "metadata": {},
   "source": [
    "# Działania na liczbach zespolonych\n",
    "\n",
    "Aby przypisać do zmiennej liczbę zespoloną, wystarczy skorzystać z konstrukcji\n",
    "zmienna = liczba_1 + liczba_2 j\n",
    "<br><br>\n",
    "Po utworzeniu liczby zespolonej, uzyskujemy możliwość wykonania na niej dodatkowych działań takich jak:\n",
    "\n",
    "- wyznaczanie części rzeczywistej - zmienna.real \n",
    "- wyznaczanie części urojonej - zmienna.imag \n",
    "- wyznaczanie sprzężenia - zmienna.conjugate() \n",
    "- wyznaczanie modułu - abs(zmienna) \n"
   ]
  },
  {
   "cell_type": "markdown",
   "metadata": {},
   "source": [
    "### Zadanie 1.11\n",
    "\n",
    "Utwórz dwie liczby zespolone. Sprawdź ich typ. Dla każdej z nich oblicz część rzeczywistą, urojoną, sprzężenie oraz moduł. Sprawdź czy moduł policzony za pomocą instrukcji abs(zmienna) daje ten sam wynik co moduł wyznaczony z definicji (wymagana znajomość pojęcia modułu liczb zespolonych)."
   ]
  },
  {
   "cell_type": "markdown",
   "metadata": {},
   "source": [
    "### Przykładowe rozwiązanie:"
   ]
  },
  {
   "cell_type": "code",
   "execution_count": 38,
   "metadata": {},
   "outputs": [
    {
     "name": "stdout",
     "output_type": "stream",
     "text": [
      "zm1 = (2+3j)\n",
      "zm2 = (5-7j)\n",
      "typ zm1: <class 'complex'>\n",
      "typ zm2: <class 'complex'>\n",
      "real zm1, zm2 = 2.0 5.0\n",
      "imag zm1, zm2 = 3.0 -7.0\n",
      "conj zm1, zm2 = (2-3j) (5+7j)\n",
      "mods zm1, zm2= 3.605551275463989 8.602325267042627\n",
      "mt1, mt2 = 3.605551275463989 8.602325267042627\n"
     ]
    }
   ],
   "source": [
    "zm1 = 2+3j\n",
    "zm2 = 5-7j\n",
    "print(\"zm1 =\", zm1)\n",
    "print(\"zm2 =\", zm2)\n",
    "\n",
    "print(\"typ zm1:\", type(zm1))\n",
    "print(\"typ zm2:\", type(zm2))\n",
    "\n",
    "print(\"real zm1, zm2 =\", zm1.real, zm2.real)\n",
    "print(\"imag zm1, zm2 =\", zm1.imag, zm2.imag)\n",
    "print(\"conj zm1, zm2 =\", zm1.conjugate(), zm2.conjugate())\n",
    "print(\"mods zm1, zm2=\", abs(zm1), abs(zm2))\n",
    "\n",
    "mt1 = (zm1.real**2 + zm1.imag**2)**0.5\n",
    "mt2 = (zm2.real**2 + zm2.imag**2)**0.5\n",
    "\n",
    "print(\"mt1, mt2 =\", mt1, mt2)"
   ]
  },
  {
   "cell_type": "markdown",
   "metadata": {},
   "source": [
    "# Wprowadzanie danych\n",
    "\n",
    "- Dane z klawiatury wprowadzamy za pomocą polecenia input().\n",
    "- Wynik polecenia input() można przypisać wprost do zmiennej, np.\n",
    "zmienna = input().\n",
    "- Argumentem polecenia input może być komunikat wyświetlony na ekranie\n",
    "input(\"Jakiś komunikat\").\n",
    "- Dane pobrane z klawiatury mają domyślnie typ String - jeżeli chcemy wykonywać na nich działania, konieczna może być konwersja typu!\n"
   ]
  },
  {
   "cell_type": "markdown",
   "metadata": {},
   "source": [
    "### Zadanie 1.12\n",
    "Wykonaj program, który pobierze od użytkownika dwie liczy, a następnie wyświetli wynik ich dodawania, odejmowania, mnożenia i dzielenia."
   ]
  },
  {
   "cell_type": "markdown",
   "metadata": {},
   "source": [
    "### Przykładowe rozwiązanie:"
   ]
  },
  {
   "cell_type": "code",
   "execution_count": 39,
   "metadata": {},
   "outputs": [
    {
     "name": "stdout",
     "output_type": "stream",
     "text": [
      "Witaj w programie wykonującym działania +, -, *, /\n",
      "Podaj pierwszą wartość: 1\n",
      "Podaj drugą wartość wartość: 2\n",
      "1.0 + 2.0 = 3.0\n",
      "1.0 - 2.0 = -1.0\n",
      "1.0 * 2.0 = 2.0\n",
      "1.0 / 2.0 = 0.5\n"
     ]
    }
   ],
   "source": [
    "print(\"Witaj w programie wykonującym działania +, -, *, /\")\n",
    "zm1 = float(input(\"Podaj pierwszą wartość: \"))\n",
    "zm2 = float(input(\"Podaj drugą wartość wartość: \"))\n",
    "\n",
    "print(f\"{zm1} + {zm2} = {zm1+zm2}\")\n",
    "print(f\"{zm1} - {zm2} = {zm1-zm2}\")\n",
    "print(f\"{zm1} * {zm2} = {zm1*zm2}\")\n",
    "print(f\"{zm1} / {zm2} = {zm1/zm2}\")"
   ]
  },
  {
   "cell_type": "markdown",
   "metadata": {},
   "source": [
    "### Zadanie 1.13\n",
    "\n",
    "Wykonaj program, który będzie pobierać długości boków prostokąta, a następnie obliczać jego pole i obwód."
   ]
  },
  {
   "cell_type": "markdown",
   "metadata": {},
   "source": [
    "### Przykładowe rozwiązanie:"
   ]
  },
  {
   "cell_type": "code",
   "execution_count": 40,
   "metadata": {},
   "outputs": [
    {
     "name": "stdout",
     "output_type": "stream",
     "text": [
      "Witaj w programie obliczającym obwód i pole prostokąta!\n",
      "Podaj długość pierwszego boku: 3\n",
      "Podaj długość drugiego boku: 4\n",
      "\n",
      "Obwód prostokąta wynosi: 14.0, a jego pole: 12.0\n"
     ]
    }
   ],
   "source": [
    "print(\"Witaj w programie obliczającym obwód i pole prostokąta!\")\n",
    "a = input(\"Podaj długość pierwszego boku: \")\n",
    "b = input(\"Podaj długość drugiego boku: \")\n",
    "\n",
    "obwod = 2*float(a)+2*float(b)\n",
    "pole = float(a)*float(b)\n",
    "\n",
    "print(\"\")\n",
    "\n",
    "print(f\"Obwód prostokąta wynosi: {obwod}, a jego pole: {pole}\") "
   ]
  },
  {
   "cell_type": "markdown",
   "metadata": {},
   "source": [
    "### Zadanie 1.14\n",
    "\n",
    "Wykonaj program który będzie pobierać promień koła, a następnie obliczać jego obwód i pole."
   ]
  },
  {
   "cell_type": "markdown",
   "metadata": {},
   "source": [
    "### Przykładowe rozwiązanie:"
   ]
  },
  {
   "cell_type": "code",
   "execution_count": 4,
   "metadata": {},
   "outputs": [
    {
     "name": "stdout",
     "output_type": "stream",
     "text": [
      "Witaj w programie superkoło! \n",
      "\n",
      "Podaj promień koła: 6\n",
      "\n",
      "Obwód wynosi 37.7 pole wynosi 113.1\n"
     ]
    }
   ],
   "source": [
    "from math import pi\n",
    "\n",
    "print(\"Witaj w programie superkoło! \\n\")\n",
    "r = float(input(\"Podaj promień koła: \"))\n",
    "print(\"\")\n",
    "\n",
    "obwod = round(2*r*pi, 2)\n",
    "pole = round(pi*r**2, 2)\n",
    "\n",
    "print(f\"Obwód wynosi {obwod} pole wynosi {pole}\")"
   ]
  },
  {
   "cell_type": "markdown",
   "metadata": {},
   "source": [
    "### Zadanie 1.15\n",
    "\n",
    "Napisz program, który będzie pobierać od użytkownika drogę pokonaną przez samochód oraz średnie spalanie (w litrach na 100 km) i będzie wyświetlać wiadomość o przewidywanym zużyciu paliwa oraz o szacowanych kosztach podróży (cena paliwa 6 zł/l)."
   ]
  },
  {
   "cell_type": "markdown",
   "metadata": {},
   "source": [
    "### Przykładowe rozwiązanie:"
   ]
  },
  {
   "cell_type": "code",
   "execution_count": 3,
   "metadata": {},
   "outputs": [
    {
     "name": "stdout",
     "output_type": "stream",
     "text": [
      "Witaj w programie KALKULATOR PODRÓŻY! \n",
      "\n",
      "Podaj drogę jaką chcesz pokonań [km]: 89\n",
      "Podaj spalanie benzyny swojego pojazdu [l/100 km]: 7\n",
      "\n",
      "Twoja podróż pochłonie 6.23 litrów paliwa i będzie Cię kosztować 37.38 zł.\n"
     ]
    }
   ],
   "source": [
    "print(\"Witaj w programie KALKULATOR PODRÓŻY! \\n\")\n",
    "droga = float(input(\"Podaj drogę jaką chcesz pokonań [km]: \"))\n",
    "spalanie = float(input(\"Podaj spalanie benzyny swojego pojazdu [l/100 km]: \"))\n",
    "zuzycie = (droga/100)*spalanie\n",
    "cenaPaliwa = 6\n",
    "kosztPodrozy = zuzycie*cenaPaliwa\n",
    "print(f\"\\nTwoja podróż pochłonie {zuzycie} litrów paliwa \\\n",
    "i będzie Cię kosztować {kosztPodrozy} zł.\")"
   ]
  },
  {
   "cell_type": "markdown",
   "metadata": {},
   "source": [
    "### Zadanie 1.16\n",
    "\n",
    "Napisz program, który będzie pobierać od użytkownika drogę i czas, a następnie obliczy i wyświetli na ekranie wartość średniej prędkości."
   ]
  },
  {
   "cell_type": "markdown",
   "metadata": {},
   "source": [
    "### Przykładowe rozwiązanie:"
   ]
  },
  {
   "cell_type": "code",
   "execution_count": 9,
   "metadata": {},
   "outputs": [
    {
     "name": "stdout",
     "output_type": "stream",
     "text": [
      "Witaj w programie PRĘDKOŚĆ ŚREDNIA! \n",
      "\n",
      "Podaj pokonaną drogę [km]: 100\n",
      "Podaj czas pokonywania drogi [h]: 2\n",
      "\n",
      "Średnia prędkość wynosi: 50.0 [km/h]\n"
     ]
    }
   ],
   "source": [
    "print(\"Witaj w programie PRĘDKOŚĆ ŚREDNIA! \\n\")\n",
    "droga = float(input(\"Podaj pokonaną drogę [km]: \"))\n",
    "czas = float(input(\"Podaj czas pokonywania drogi [h]: \"))\n",
    "predkosc = round(droga/czas, 2)\n",
    "print(f\"\\nŚrednia prędkość wynosi: {predkosc} [km/h]\")"
   ]
  },
  {
   "cell_type": "markdown",
   "metadata": {},
   "source": [
    "### Zadanie 1.17\n",
    "\n",
    "Napisz program, który przyjmie prędkość w [km/h] i zamieni jednostki na [m/s]. "
   ]
  },
  {
   "cell_type": "markdown",
   "metadata": {},
   "source": [
    "### Przykładowe rozwiązanie:"
   ]
  },
  {
   "cell_type": "code",
   "execution_count": 19,
   "metadata": {},
   "outputs": [
    {
     "name": "stdout",
     "output_type": "stream",
     "text": [
      "Witaj w kalkulatorze jednostek!\n",
      "\n",
      "Podaj prędkość w [km/h]: 36\n",
      "Prędkość 36.0 [km/h] to 10.0 [m/s]\n"
     ]
    }
   ],
   "source": [
    "print(\"Witaj w kalkulatorze jednostek!\\n\")\n",
    "\n",
    "kmh = float(input(\"Podaj prędkość w [km/h]: \"))\n",
    "ms = 1000*kmh/3600\n",
    "\n",
    "print(f\"Prędkość {kmh} [km/h] to {ms} [m/s]\")"
   ]
  },
  {
   "cell_type": "markdown",
   "metadata": {},
   "source": [
    "### Zadanie 1.18\n",
    "\n",
    "Wydajność linii produkującej pewne elementy wynosi 4 sztuki na minutę. Wartość jednego elementu wynosi 2.5 zł. Napisz program, który przyjmie od użytkownika czas w godzinach i zwróci informację ile sztuk w tym czasie wyprodukuje linia produkcyjna oraz wyliczy wartość wyprodukowanej partii."
   ]
  },
  {
   "cell_type": "markdown",
   "metadata": {},
   "source": [
    "### Przykładowe rozwiązanie:"
   ]
  },
  {
   "cell_type": "code",
   "execution_count": 2,
   "metadata": {},
   "outputs": [
    {
     "name": "stdout",
     "output_type": "stream",
     "text": [
      "Witaj w kalkulatorze produkcji!\n",
      "\n",
      "Podaj czas produkcji [h]: 10\n",
      "\n",
      "W czasie 10.0 [h] wyprodukowane zostanie 2400.0 elementów, których wartość wyniesie 6000.0 zł.\n"
     ]
    }
   ],
   "source": [
    "print(\"Witaj w kalkulatorze produkcji!\\n\")\n",
    "czas = float(input(\"Podaj czas produkcji [h]: \"))\n",
    "\n",
    "wydajnosc = 4\n",
    "cena = 2.5\n",
    "liczba = wydajnosc*(czas*60)\n",
    "wartosc = liczba*cena\n",
    "\n",
    "print(f\"\\nW czasie {czas} [h] wyprodukowane zostanie \\\n",
    "{liczba} elementów, których wartość wyniesie {wartosc} zł.\")\n"
   ]
  },
  {
   "cell_type": "markdown",
   "metadata": {},
   "source": [
    "### Zadanie 1.19\n",
    "\n",
    "Napisz program, który będzie pobierać od użytkownika wymiary trzech krawędzi prostopadłościanu, a następnie obliczy i wyświetli na ekranie jego objętość i całkowite pole powierzchni bocznej.\n"
   ]
  },
  {
   "cell_type": "markdown",
   "metadata": {},
   "source": [
    "### Przykładowe rozwiązanie:"
   ]
  },
  {
   "cell_type": "code",
   "execution_count": 12,
   "metadata": {},
   "outputs": [
    {
     "name": "stdout",
     "output_type": "stream",
     "text": [
      "Witaj w programie HYPERCUBE!\n",
      "\n",
      "Podaj wymiar pierwszej krawędzi: 2\n",
      "Podaj wymiar drugiej krawędzi: 3\n",
      "Podaj wymiar trzeciej krawędzi: 4\n",
      "\n",
      "Objętość prostopadłościanu o krawędziach a=2.0, b=3.0, c=4.0 wynosi V=24.0.\n"
     ]
    }
   ],
   "source": [
    "print(\"Witaj w programie HYPERCUBE!\\n\")\n",
    "a = float(input(\"Podaj wymiar pierwszej krawędzi: \"))\n",
    "b = float(input(\"Podaj wymiar drugiej krawędzi: \"))\n",
    "c = float(input(\"Podaj wymiar trzeciej krawędzi: \"))\n",
    "\n",
    "objetosc = a*b*c\n",
    "pole_boczne = 2*a*b + 2*a*c + 2*b*c\n",
    "\n",
    "print(f\"\\nObjętość prostopadłościanu o krawędziach \\\n",
    "a={a}, b={b}, c={c} wynosi V={objetosc}, a pole boczne Pb={pole_boczne}.\")"
   ]
  },
  {
   "cell_type": "markdown",
   "metadata": {},
   "source": [
    "### Zadanie 1.20\n",
    "\n",
    "Napisz program, który pobierze od użytkownika ilość zakupionych towarów (masło [szt.], chleb [szt.], jabłko [kg]) i dokona podliczenia całego zamówienia w oparciu o ustalony cennik (masło: 7.5 zł/szt., chleb: 7.2 zł/szt., jabłka: 3.15 zł/kg)."
   ]
  },
  {
   "cell_type": "markdown",
   "metadata": {},
   "source": [
    "### Przykładowe rozwiązanie:"
   ]
  },
  {
   "cell_type": "code",
   "execution_count": 17,
   "metadata": {},
   "outputs": [
    {
     "name": "stdout",
     "output_type": "stream",
     "text": [
      "Witaj w swoim ulubionym sklepie!\n",
      "\n",
      "Ile sztuk masła chcesz kupić? 2\n",
      "Ile sztuk chleba chcesz kupić? 2\n",
      "Ile kilogramów jabłek chcesz kupić? 2\n",
      "\n",
      "Zamówiłeś 2.0 sztuk masła, 2.0 sztuk chleba, 2.0 kg jabłek. Należność do zapłaty wynosi 35.7 zł.\n"
     ]
    }
   ],
   "source": [
    "print(\"Witaj w swoim ulubionym sklepie!\\n\")\n",
    "ileMasla = float(input(\"Ile sztuk masła chcesz kupić? \"))\n",
    "ileChlebow = float(input(\"Ile sztuk chleba chcesz kupić? \"))\n",
    "ileJablek = float(input(\"Ile kilogramów jabłek chcesz kupić? \"))\n",
    "\n",
    "cenaMasla = 7.5\n",
    "cenaChleba = 7.2\n",
    "cenaJablek = 3.15\n",
    "\n",
    "naleznosc = round(ileMasla*cenaMasla + \\\n",
    "                  ileChlebow*cenaChleba + \\\n",
    "                  ileJablek*cenaJablek, 2)\n",
    "\n",
    "print(f\"\\nZamówiłeś {ileMasla} sztuk masła, \\\n",
    "{ileChlebow} sztuk chleba, {ileJablek} kg jabłek. \\\n",
    "Należność do zapłaty wynosi {naleznosc} zł.\")"
   ]
  },
  {
   "cell_type": "markdown",
   "metadata": {},
   "source": [
    "<hr>\n",
    "\n",
    "### Licencja:\n",
    "\n",
    "- Teksty i ilustracje niniejszych materiałów są objęte licencją CC BY-NC-ND 4.0: https://creativecommons.org/licenses/by-nc-nd/4.0/deed.pl\n",
    "- Kody źródłowe zawarte w niniejszych materiałach są objęte licencją MIT: https://opensource.org/licenses/mit-license.php\n",
    "\n",
    "### License:\n",
    "\n",
    "- The text and illustrations of this material are licensed under CC BY-NC-ND 4.0: https://creativecommons.org/licenses/by-nc-nd/4.0/deed.en\n",
    "- Source codes included in these materials are licensed under the MIT license: https://opensource.org/licenses/mit-license.php"
   ]
  }
 ],
 "metadata": {
  "kernelspec": {
   "display_name": "Python 3",
   "language": "python",
   "name": "python3"
  },
  "language_info": {
   "codemirror_mode": {
    "name": "ipython",
    "version": 3
   },
   "file_extension": ".py",
   "mimetype": "text/x-python",
   "name": "python",
   "nbconvert_exporter": "python",
   "pygments_lexer": "ipython3",
   "version": "3.8.5"
  }
 },
 "nbformat": 4,
 "nbformat_minor": 4
}
