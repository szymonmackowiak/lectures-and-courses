{
 "cells": [
  {
   "cell_type": "markdown",
   "metadata": {},
   "source": [
    "# Pakiety i moduły"
   ]
  },
  {
   "cell_type": "code",
   "execution_count": 2,
   "metadata": {},
   "outputs": [
    {
     "name": "stdout",
     "output_type": "stream",
     "text": [
      "The Zen of Python, by Tim Peters\n",
      "\n",
      "Beautiful is better than ugly.\n",
      "Explicit is better than implicit.\n",
      "Simple is better than complex.\n",
      "Complex is better than complicated.\n",
      "Flat is better than nested.\n",
      "Sparse is better than dense.\n",
      "Readability counts.\n",
      "Special cases aren't special enough to break the rules.\n",
      "Although practicality beats purity.\n",
      "Errors should never pass silently.\n",
      "Unless explicitly silenced.\n",
      "In the face of ambiguity, refuse the temptation to guess.\n",
      "There should be one-- and preferably only one --obvious way to do it.\n",
      "Although that way may not be obvious at first unless you're Dutch.\n",
      "Now is better than never.\n",
      "Although never is often better than *right* now.\n",
      "If the implementation is hard to explain, it's a bad idea.\n",
      "If the implementation is easy to explain, it may be a good idea.\n",
      "Namespaces are one honking great idea -- let's do more of those!\n"
     ]
    }
   ],
   "source": [
    "import this"
   ]
  },
  {
   "cell_type": "markdown",
   "metadata": {},
   "source": [
    "### Wyszukiwanie lokalizacji interpretera\n",
    "\n",
    "Korzystając z języków skryptowych (takich jak Python) niejednokrotnie będziemy musieli skorzystać z programu powłoki (terminal, konsola). W systemie Windows będzie to cmd, w systemie Linux - bash, w systemie macOS - zsh. Jeżeli interpreter Pythona jest poprawnie zainstalowany w systemie operacyjnym, możemy sprawdzić jego wersję korzystając z polecenia powłoki: python -V. Jeżeli polecenie python -V zwróci wersję Pythona, to znaczy, że ścieżka do programu interpretera jest dołączona do zmiennej środowiskowej Path. W takim wypadku możemy sprawdzić gdzie znajduje się instalacja interpretera z poziomu Pythona za pomocą instrukcji: "
   ]
  },
  {
   "cell_type": "markdown",
   "metadata": {},
   "source": [
    "<pre>import sys\n",
    "locate_python = sys.exec_prefix\n",
    "print(locate_python)</pre>"
   ]
  },
  {
   "cell_type": "markdown",
   "metadata": {},
   "source": [
    "Interpreter wskaże ścieżkę do aktualnie uruchomionej instancji Pythona (jeżeli interpreter został uruchomiony w środowisku izolowanym, polecenie sys.exec_prefix wskaże miejsce w którym znajduje się środowisko izolowane).\n",
    "\n",
    "Instrukcje interpretera można wykonywać również z linii poleceń powłoki, korzystając ze składni:\n",
    "- w Windows: python -c \"import nazwa_modulu; instrukcje\" \n",
    "- w macOS: python3 -c \"import nazwa_modulu; instrukcje\"\n",
    "\n",
    "Warto pamiętać, że wykonując dowolne polecenie w powłoce systemu, możemy zapoznać się z jego składnią i opcjonalnymi argumentami korzystając z polecenia: komenda -h, lub --help. Wyświetlą one dokument \"pomocy\"."
   ]
  },
  {
   "cell_type": "markdown",
   "metadata": {},
   "source": [
    "### Sprawdzanie ścieżki do aktualnego katalogu roboczego\n",
    "\n",
    "Aby sprawdzić ścieżkę do aktualnego katalogu roboczego (Current Working Directory) możemy skorzystać z modułu os:"
   ]
  },
  {
   "cell_type": "markdown",
   "metadata": {},
   "source": [
    "<pre>import os\n",
    "cwd = os.getcwd()\n",
    "print(cwd)</pre>"
   ]
  },
  {
   "cell_type": "markdown",
   "metadata": {},
   "source": [
    "Aby zmienić aktualną lokalizację katalogu roboczego, możemy skorzystać z polecenia z modułu os: os.chdir(sciezka). Należy pamiętać, że w przypadku pracy z systemem operacyjnym możemy natrafić okoliczności, w ramach których niemożliwa będzie zmiana ścieżki katalogu roboczego (katalog wskazywany przez ścieżkę nie istnieje, nie posiadamy uprawnień do pracy w katalogu wskazywanym przez ścieżkę, ścieżka wzkazuje na obiekt, który nie jest katalogiem). Obsługa wymienionych sytuacji jest możliwa dzięki zdefiniowanym wyjątkom Pythona:\n",
    "- katalog pod wskazaną nie istnieje: FileNotFoundError\n",
    "- obiekt pod wskazaną ścieżką nie jest katalogiem: NotADirectoryError\n",
    "- brak uprawnień: PermissionError\n",
    "Poniższy przykład prezentuje sposób zmiany lokalizacji aktualnego katalogu roboczego:"
   ]
  },
  {
   "cell_type": "markdown",
   "metadata": {},
   "source": [
    "<pre>import os\n",
    "\n",
    "path = '/projekt/app'\n",
    "\n",
    "try:\n",
    "    os.chdir(path)\n",
    "    print(f\"Aktualny katalog roboczy: {os.getcwd()}\")\n",
    "except FileNotFoundError:\n",
    "    print(f\"Katalog: {path} nie istnieje\")\n",
    "except NotADirectoryError:\n",
    "    print(f\"{path} nie jest katalogiem\")\n",
    "except PermissionError:\n",
    "    print(f\"Nie masz uprawnień do zmian w {path}\")</pre>"
   ]
  },
  {
   "cell_type": "markdown",
   "metadata": {},
   "source": [
    "### Ścieżki w Pythonie\n",
    "\n",
    "Przez ścieżkę rozumiemy łańcuch znaków, który reprezentuje lokalizację danego zasobu w drzewie katalogów systemu. W zależności od systemu operacyjnego (Windows, macOS, Linux) ścieżki te mają różną strukturę oraz korzystają z różnych symboli (np. do rozdzielania ścieżek w systemach macOS i Linux służy symbol \"/\", tymczasem w systemach Windows jest to \"\\\"). Aby skrypty w Pythonie były niezależne od systemu, na którym zostaną uruchomione, korzystamy z biblioteki pathlib, a w szczególności z jej klasy Path. Jeżeli ścieżkę umieścimy w konstruktorze klasy Path() zostatnie utworzony obiekt ścieżki. Co ciekawe, do tak powstałego obiektu możemy dostawiać kolejne elementy ścieżki za pomocą ukośników i łańcuchów znaków, a dopóki skrajny lewy element instrukcji będzie obiektem typu ścieżki - wynik całej linii będzie obiektem typu ścieżki. \n",
    "\n",
    "Przykład:\n",
    "<pre>\n",
    "from pathlib import Path\n",
    "\n",
    "print(Path('app'))\n",
    "print(type(Path('app')))\n",
    "\n",
    "print(Path('app')/'dir')\n",
    "print(type(Path('app')/'dir'))\n",
    "\n",
    "print(Path('app', 'dir'))\n",
    "print(type(Path('app', 'dir')))\n",
    "</pre>\n",
    "\n",
    "Klasa Path umośliwia również na oczytanie lokalizacji bieżącego katalogu roboczego (cwd) oraz na jago zmianę. \n",
    "\n",
    "Przykład:\n",
    "<pre>\n",
    "from pathlib import Path\n",
    "import os\n",
    "\n",
    "print(Path.cwd())\n",
    "os.chdir('/Users')\n",
    "print(Path.cwd())\n",
    "\n",
    "</pre>"
   ]
  },
  {
   "cell_type": "markdown",
   "metadata": {},
   "source": [
    "### Instalacja i lokalizacja pakietów i modułów\n",
    "\n",
    "Instalacja bibliotek - biblioteki instalujemy za pomocą managerów pakietów. Najczęściej za pomocą mamagerów:\n",
    "- pip\n",
    "- conda\n",
    "\n",
    "Powyższe managery uruchamiamy z poziomu wiersza poleceń powłoki, za pomocą komend:\n",
    "\n",
    "Windows:\n",
    "- py -m pip install nazwa_pakietu \n",
    "- conda install nazwa_pakietu\n",
    "\n",
    "macOS:\n",
    "- pip install nazwa_pakietu \n",
    "- conda install nazwa_pakietu\n",
    "\n",
    "Manager pakietów pip:\n",
    "Maganer pip jest podstawowym instalatorem pakietów w Pythonie. Pozwala na instalację pakietów z repozytorium Python Package Index oraz z innych repozytoriów. Więcej na temat pip i PyPI (instalacja, szczegóły techniczne) można znaleźć pod adresem https://pypi.org/project/pip/. Dokumentację pip można znaleźć pod adresem: https://pip.pypa.io/en/stable/cli/pip_install/.\n",
    "\n",
    "Ze szczegółami obsługi managera pip można zapoznać się pod adresem: https://pip.pypa.io/en/stable/cli/\n",
    "W szczególności warto zwrócić uwagę na najczęściej wykorzystywane polecenia:\n",
    "- wyświetlanie pomocy managera pip: <pre>pip -h</pre> lub <pre>pip --help</pre>\n",
    "- wyświetlanie listy zainstalowanych pakietów: <pre>pip list</pre>\n",
    "- instalacja pakietu: <pre>pip install nazwa_pakietu</pre>\n",
    "- deinstalacja pakietu: <pre>pip uninstall nazwa_pakietu</pre>\n",
    "- instalacja listy pakietów z pliku tekstowego: <pre>pip install -r lista_pakietow.txt</pre>\n",
    "- aktualizacja managera pip: <pre>pip install --upgrade pip</pre>\n",
    "\n",
    "Pakiet a moduł:\n",
    "- moduł - w praktyce oznacza plik z rozszerzeniem .py, który zawiera/wystawia zmienne, funkcje, klasy itd.\n",
    "- pakiet - folder z modułami\n",
    "\n",
    "Aby znaleźć ścieżkę, w której znajduje się pakiet lub moduł można skorzystać z instrukcji z poziomu interpretera:\n",
    "- dla pakietów: korzystając z pola nazwa_pakietu.__path__\n",
    "- dla konkretnego modułu: korzystając z pola nazwa_pakietu__file__\n",
    "\n",
    "lub z poziomu linii poleceń powłoki:\n",
    "- pip show nazwa_pakietu\n",
    "\n",
    "Moduły i pakiety, które doinstalowujemy za pomocą managera pip najczęściej są instalowane w katalogu site-packages.\n",
    "\n",
    "Kiedy importujemy biblioteki, interpreter Pythona najpierw sprawdza, czy dany zasób znajduje się w katalogu projektu. Jeżeli nie, wówczas przeszukuje katalog bibliotek zainstalowanych w środowisku interpretera. W związku z tym tworzone przez nas moduły lub pakiety możemy umieszczać w:\n",
    "- katalogu projektu\n",
    "- katalogu lib/PythonXX.XX/site-packages"
   ]
  },
  {
   "cell_type": "markdown",
   "metadata": {},
   "source": [
    "### Zadanie 4.1 \n",
    "Utwórz moduł statystyka zawierający następujące funkcje:\n",
    "- suma (funkcja zwracająca sumę z listy)\n",
    "- srednia (funkcja zwracająca średnią z listy)\n",
    "- min (funkcja zwracająca wartość minimalną z listy)\n",
    "- max (funkcja zwracająca wartość maksymalną z listy)\n",
    "\n",
    "Następnie zapisz plik pod dwiema nazwami:\n",
    "- stats_local.py, który umieścisz w aktualnym katalogu roboczym\n",
    "- stats_global.py, który umieścisz w katalogu site-packages (najpierw trzeba znaleźć jego położenie)\n",
    "\n",
    "Utwórz program, w którym zaimportujesz oba moduły i zaprezentujesz ich działanie."
   ]
  },
  {
   "cell_type": "markdown",
   "metadata": {},
   "source": [
    "### Przykładowe rozwiązanie:"
   ]
  },
  {
   "cell_type": "code",
   "execution_count": null,
   "metadata": {},
   "outputs": [],
   "source": [
    "def suma(lista):\n",
    "    suma = 0\n",
    "    for i in lista:\n",
    "        suma = suma+i\n",
    "    return suma\n",
    "\n",
    "def srednia(lista):\n",
    "    wynik = suma(lista)/len(lista)\n",
    "    return wynik\n",
    "\n",
    "def max_value(lista):\n",
    "    wynik = max(lista)\n",
    "    return wynik\n",
    "\n",
    "def min_value(lista):\n",
    "    wynik = min(lista)\n",
    "    return wynik"
   ]
  },
  {
   "cell_type": "markdown",
   "metadata": {},
   "source": [
    "# Środowisko izolowane\n",
    "\n",
    "Tworząc projekt w Pythonie możemy natknąć się na problem związany z wersjami bibliotek lib środowiska. Przykładowo - na jednym komputerze projekt działa, na drugim nie ze względu na różnice w wersjach bibliotek i środowiska. W związku z tym dobrym pomysłem jest dołączenie do skryptu środowiska, w którym projekt będzie działać poprawnie. Takie środowisko nazywamy środowiskiem izolowanym, a najpopularniejszymni rozwiązaniami dla Pythona są:\n",
    "- Veritual Env (venv)\n",
    "- Conda Create\n",
    "\n",
    "### Virtual Env\n",
    "\n",
    "MacOS:\n",
    "1. instalacja: <pre>pip3 -m install venv</pre> lub <pre>pip3 install virtualenv</pre>\n",
    "2. Tworzenie środowiska: <pre>python3 -m venv nazwa_srodowiska</pre>\n",
    "3. Aktywacja środowiska: <pre>source nazwa_srodowiska/bin/activate</pre>\n",
    "4. Dezaktywacja środowiska: <pre>deactivate</pre>\n",
    "\n",
    "Windows:\n",
    "1. instalacja: <pre>pip -m install virtualenv</pre> lub <pre>pip install venv</pre>\n",
    "2. Tworzenie środowiska: <pre>python -m venv nazwa_srodowiska</pre>\n",
    "3. Aktywacja środowiska: <pre>.\\nazwa_srodowiska\\Scripts\\activate</pre>\n",
    "4. Dezaktywacja środowiska: <pre>deactivate</pre>\n",
    "\n",
    "### Conda Create\n",
    "\n",
    "Alternatywnym sposobem tworzenia środowiska izolowanego jest skorzystanie z polecenia conda create. Warunkiem koniecznym jest posiadanie managera conda.\n",
    "\n",
    "Windows/macOS\n",
    "1. Tworzenie środowiska: <pre>conda create -n nazwa_srodowiska python=wersja_pythona</pre>\n",
    "2. Aktywacja środowiska: <pre>conda activate nazwa_srodowiska</pre>\n",
    "3. Dezaktywacja środowiska: <pre>deactivate</pre>"
   ]
  },
  {
   "cell_type": "markdown",
   "metadata": {},
   "source": [
    "### Zadanie 4.2\n",
    "\n",
    "Utwórz katalog projektu, w którym założysz środowisko izolowane, a następie aktywuj je i zainstaluj w nim (za pomocą maganera pakietów pip) wybrane biblioteki (np. numpy, jupyter, matplotlib, pandas). Następnie utwórz skrypt Pythona i zademonstruj (za pomocą polecenia sys.exec_prefix) w jakim środowisku pracuje. "
   ]
  },
  {
   "cell_type": "markdown",
   "metadata": {},
   "source": [
    "# Zaawansowane edytory kodu\n",
    "\n",
    "Tworzenie kodu programu nieuchronnie wiąże się z popełnianiem błędów. Z kolei - kiedy tworzymy większy projekt lub aplikację, w jej skład zaczyna wchodzić więcej niż jeden plik. Nasza aplikacja dodatkowo może odnosić się lub korzystać z zasobów komputera, na której jest uruchamiana i wymaga od nas częstej pracy w programie powłoki systemowej (bash, cmd, zsh). W takiej sytuacji coraz większe znaczenie przy wytwarzaniu oprogramowania ma środowisko programistyczne. Na obecnym etapie nauki najważniejszymi cechami/funkcjonalnościami środowiska są:\n",
    "- uzupełnianie składni (wpisując nazwy instrukcji z przestrzeni nazw, po naciśnięciu klawisza tab uzupełniana jest wprowadzana instrukcja lub pojawia się lista dostępnych instrukcji)\n",
    "- linter (aplikacja analizująca cały nasz kod i wskazująca potencjalne błędy)\n",
    "- połączenie z powłoką systemową\n",
    "- podgląd zasobów w katalogu projektu\n",
    "\n",
    "Do takich środowisk należą:\n",
    "- Spyder: https://www.spyder-ide.org\n",
    "- PyCharm: https://www.jetbrains.com/pycharm/\n",
    "- Visual Studio Code: https://code.visualstudio.com"
   ]
  },
  {
   "cell_type": "markdown",
   "metadata": {},
   "source": [
    "# Operacje na plikach\n",
    "\n",
    "Pliki służą do trwałego przechowywania danych. W trakcie działania programu możemy otwierać i odczytywać lub zapisywać informacje w plikach tekstowych korzystająć m. in. z funkcji open(\"nazwa_pliku.txt\", \"tryb\").\n",
    "\n",
    "Aby przeprowadzić odczyt pliku tworzymy zmienną, do której przypisujemy wynik działania fukcji open(). Poniżej przegląd najważniejszych instrukcji:\n",
    "\n",
    "- plik = open(\"plik.txt\", \"r\") - otwarcie pliku\n",
    "- plik.close() - zamknięcie pliku\n",
    "- linia = plik.readline() - odczytywanie pojedynczo linii zapisanych w pliku\n",
    "- linie = plik.readlines() - odczytanie wszystkich linii zapisanych w pliku\n",
    "- plik.write(\"Wiadomość testowa\\n\") - zapis do pliku zwykłej wiadomości.\n",
    "- plik.writelines(linie) - zapis do pliku listy \n",
    "\n",
    "### Tryby dostępu do pliku tekstowego\n",
    "\n",
    "Instrukcja open() posiada kilka trybów dostępu do pliku. Dla przypomnienia, aby dokonać odczytu zawartości pliku, warto wynik działania funckji open() przypisać do zmiennej. Funkcja open() ma składnię: <br>\n",
    "\n",
    "plik = open(\"nazwa_plik.rozszerzenie\", \"tryb\") - otwarcie pliku\n",
    "\n",
    "Poniżej opis najważniejszych trybów funkcji open():\n",
    "- „r” - tryb odczytu danych. Jeśli plik nie istnieje, zostaje zasygnalizowany błąd.\n",
    "- „w” - tryb zapisu danych. Wybrany plik zostaje nadpisany nowymi danymi. Jeśli plik nie istnieje, zostanie utworzony.\n",
    "- „a” - tryb zapisu danych. Do wybranego pliku zostają dopisane nowe dane. Jeśli plik nie istnieje, zostanie utworzony."
   ]
  },
  {
   "cell_type": "markdown",
   "metadata": {},
   "source": [
    "### Zadanie 4.3\n",
    "\n",
    "Stwórz plik tekstowy z kilkoma wierszami danych, a następnie napisz program, który wypisze zawartość utworzonego pliku do konsoli."
   ]
  },
  {
   "cell_type": "markdown",
   "metadata": {},
   "source": [
    "### Przykładowe rozwiązanie:"
   ]
  },
  {
   "cell_type": "code",
   "execution_count": 23,
   "metadata": {},
   "outputs": [
    {
     "name": "stdout",
     "output_type": "stream",
     "text": [
      "1\n",
      "\n",
      "2\n",
      "\n",
      "3\n",
      "\n",
      "5\n",
      "\n",
      "4\n",
      "\n",
      "3\n",
      "\n",
      "2\n",
      "\n",
      "2\n"
     ]
    }
   ],
   "source": [
    "plik = open(\"przykladowy_plik.txt\", \"r\")\n",
    "dane = plik.readlines()\n",
    "for i in dane:\n",
    "    print(i)\n",
    "plik.close()"
   ]
  },
  {
   "cell_type": "markdown",
   "metadata": {},
   "source": [
    "### Zadanie 4.4\n",
    "\n",
    "Napisz program, który tworzy plik i wpisuje liczby od 0-10, każdą w następnej linii, następnie zamyka i otwiera ponownie plik i dopisuje litery alfabetu, każdą następną w nowej linii."
   ]
  },
  {
   "cell_type": "markdown",
   "metadata": {},
   "source": [
    "### Przykładowe rozwiązanie:"
   ]
  },
  {
   "cell_type": "code",
   "execution_count": 26,
   "metadata": {},
   "outputs": [],
   "source": [
    "import string\n",
    "\n",
    "alfabet = string.ascii_uppercase\n",
    "\n",
    "dane = []\n",
    "\n",
    "for i in range(11):\n",
    "    dane.append(i)\n",
    "    \n",
    "plik = open(\"dane.txt\", \"w\")\n",
    "for i in range(0, len(dane)):\n",
    "    plik.write(str(dane[i]) + \"\\n\")\n",
    "\n",
    "plik.close()\n",
    "\n",
    "alfabet = \"abcdefghijklkmn\"\n",
    "\n",
    "plik = open(\"dane.txt\", \"a\")\n",
    "for i in range(0, len(alfabet)):\n",
    "    plik.write(alfabet[i] + \"\\n\")\n",
    "plik.close()"
   ]
  },
  {
   "cell_type": "markdown",
   "metadata": {},
   "source": [
    "### Zadanie 4.5\n",
    "\n",
    "Napisz program, który umożliwia zapisywanie do pliku .txt danych takich jak: imię, nazwisko, stanowisko i wynagrodzenie. Użytkownik ma mieć możliwość dodawania, usuwania i wypisywania listy osób. Usuwanie pozycji powinno działać po podaniu samego nazwiska osoby. Program powinien posiadać interaktywne menu: D-dodaj, U-usuń, W-wypisz i Q-wyjście.\n",
    "Podpowiedź: Utwórz funkcje: dodaj, usuń, pokaż zawartość pliku\n"
   ]
  },
  {
   "cell_type": "markdown",
   "metadata": {},
   "source": [
    "### Przykładowe rozwiązanie:"
   ]
  },
  {
   "cell_type": "code",
   "execution_count": 29,
   "metadata": {},
   "outputs": [
    {
     "name": "stdout",
     "output_type": "stream",
     "text": [
      "D-dodaj, U-usuń, P-pokaż, K-koniec: k\n",
      "Koniec programu\n"
     ]
    }
   ],
   "source": [
    "def dodaj(imie, nazwisko, stanowisko, wynagrodzenie):\n",
    "    plik = open(\"dane_firmy.txt\", \"a\")\n",
    "    plik.write(f\"{imie};{nazwisko};{stanowisko};{wynagrodzenie}\\n\")\n",
    "    plik.close()\n",
    "    \n",
    "def usun(nazwisko):\n",
    "    plik = open(\"dane_firmy.txt\", \"r\")\n",
    "    bufor = []\n",
    "    for i in plik:\n",
    "        row = i.strip()\n",
    "        tab = row.split(\";\")\n",
    "        if(tab[1]!=nazwisko):\n",
    "            bufor.append(i)\n",
    "    plik.close()\n",
    "    \n",
    "    plik = open(\"dane_firmy.txt\", \"w\")\n",
    "    for i in range(len(bufor)):\n",
    "        plik.write(bufor[i])\n",
    "    plik.close()\n",
    "    \n",
    "    \n",
    "def pokaz():\n",
    "    plik = open(\"dane_firmy.txt\", \"r\")\n",
    "    lista = plik.readlines()\n",
    "    for i in lista:\n",
    "        daneList = i.split(\";\")\n",
    "        print(f\"Imię: {daneList[0]}, Nazwisko: {daneList[1]}, Stanowisko: {daneList[2]}, Wynagrodzenie: {daneList[3]}\")\n",
    "    plik.close()\n",
    "    \n",
    "while(True):\n",
    "    menu = input(\"D-dodaj, U-usuń, P-pokaż, K-koniec: \").upper()\n",
    "    if(menu == \"D\"):\n",
    "        imie = input(\"Podaj imię: \")\n",
    "        nazwisko = input(\"Podaj nazwisko: \")\n",
    "        stanowisko = input(\"Podaj stanowisko: \")\n",
    "        wynagrodzenie = float(input(\"Podaj wynagrodzenie: \"))\n",
    "        dodaj(imie, nazwisko, stanowisko, wynagrodzenie)\n",
    "    elif(menu == \"U\"):\n",
    "        nazwisko = input(\"Podaj nazwisko: \")\n",
    "        usun(nazwisko)\n",
    "    elif(menu == \"P\"):\n",
    "        pokaz()\n",
    "    elif(menu == \"K\"):\n",
    "        print(\"Koniec programu\")\n",
    "        break\n",
    "    else:\n",
    "        print(\"Nierozpoznana opcja menu\")\n",
    "        \n",
    "        \n",
    "#----------------------        \n",
    "def dodaj(imie, nazwisko, stanowisko, wynagrodzenie):\n",
    "    plik = open(\"dane_firmy.txt\", \"a\")\n",
    "    plik.write(f\"{imie};{nazwisko};{stanowisko};{wynagrodzenie}\\n\")\n",
    "    plik.close()\n",
    "    \n",
    "def pokaz():\n",
    "    plik = open(\"dane_firmy.txt\", \"r\")\n",
    "    linie = plik.readlines()\n",
    "    for item in linie:\n",
    "        fragmenty = item.split(\";\")\n",
    "        print(f\"Imię: {fragmenty[0]}, Nazwisko: {fragmenty[1]}, \\\n",
    "        Stanowisko: {fragmenty[2]}, Wynagrodzenie: {fragmenty[3]}\")\n",
    "    plik.close()\n",
    "\n",
    "def usun(nazwisko):\n",
    "    plik = open(\"dane_firmy.txt\", \"r\")\n",
    "    linie = plik.readlines()\n",
    "    bufor = []\n",
    "    for item in linie:\n",
    "        fragmenty = item.split(\";\")\n",
    "        if (fragmenty[1]!=nazwisko):\n",
    "            bufor.append(item)\n",
    "    plik.close()\n",
    "    \n",
    "    plik = open(\"dane_firmy.txt\", \"w\")\n",
    "    for item in bufor:\n",
    "        plik.write(item)\n",
    "    plik.close()\n",
    "    \n",
    "while(True):\n",
    "    menu = input(\"D-dodaj, U-usuń, P-pokaż, Q-koniec\").upper()\n",
    "    if(menu == \"D\"):\n",
    "        imie = input(\"Podaj imię: \")\n",
    "        nazwisko = input(\"Podaj nazwisko: \")\n",
    "        stanowisko = input(\"Podaj stanowisko: \")\n",
    "        wynagrodzenie = input(\"Podaj wynagrodzenie: \")\n",
    "        dodaj(imie, nazwisko, stanowisko, wynagrodzenie)\n",
    "    elif(menu == \"U\"):\n",
    "        nazwisko = input(\"Podaj nazwisko\")\n",
    "        usun(nazwisko)\n",
    "    elif(menu == \"P\"):\n",
    "        pokaz()\n",
    "    elif(menu == \"Q\"):\n",
    "        print(\"Koniec programu\")\n",
    "        break\n",
    "    else:\n",
    "        print(\"Nieznana opcja menu\")"
   ]
  },
  {
   "cell_type": "markdown",
   "metadata": {},
   "source": [
    "### Zadanie 4.6\n",
    "\n",
    "Napisz program, który pobierze od użytkownika nazwę pliku z danymi, wczyta plik o wskazanej nazwie i wypisze jego zawartość w konsoli. Przed wyświetleniem pliku, program pyta użytkownika, czy jego dane posiadają nagłówek oraz jaki symbol stanowi separator danych. Jeżeli dane posiadają nagłówek - zadbaj, aby również został wyświetlony. Program ma informować użytkownika ile wierszy zawiera plik z danymi oraz przyjmować od użytkownika zakres wierszy, które chce przejrzeć. Następnie użytkownik podejmuje decyzję, czy chce powtórzyć działanie programu, czy zakończyć pracę z programem."
   ]
  },
  {
   "cell_type": "markdown",
   "metadata": {},
   "source": [
    "### Zadanie 4.7\n",
    "Korzystając ze znanych Ci zagadnień (struktury danych, listy, łańcuchy znaków, konkatenacja łańcuchów znaków, f-stringi, pętle, funkcje, klasy, generatory liczb losowych, wczytywanie plików z danymi) zaproponuj program do generowania danych kadrowych przedsiębiorstwa. Pojedyńcza encja danych powinna zawierać następujące dane: \n",
    "- numer porządkowy\n",
    "- nazwisko\n",
    "- imię\n",
    "- płeć\n",
    "- stanowisko\n",
    "- data zatrudnienia\n",
    "- wynagrodzenie\n",
    "- niewykorzystane dni urlopu\n",
    "\n",
    "Aby maksymalnie zbliżyć dane do rzeczywistości, skorzystaj z bazy danych dotyczących nazwisk i imion wystepujących w Polsce. Znajdziesz je na stronach:\n",
    "- baza imion: https://dane.gov.pl/pl/dataset/1501,lista-imion-wystepujacych-w-rejestrze-pesel\n",
    "- baza nazwisk: https://dane.gov.pl/pl/dataset/568,nazwiska-wystepujace-w-rejestrze-pesel\n",
    "\n",
    "Program powinien wczytać dane dot. imion i nazwisk i na tej podstawie generować dane osobowe. Wygenerowane dane zapisz do pliku w postaci wyrażeń rozdzielonych średnikami i nazwij go dane_kadrowe.csv. Plik powinien zawierać min. 1000 rekordów."
   ]
  },
  {
   "cell_type": "markdown",
   "metadata": {},
   "source": [
    "### Przykładowe rozwiązanie:"
   ]
  },
  {
   "cell_type": "code",
   "execution_count": 74,
   "metadata": {
    "scrolled": true
   },
   "outputs": [],
   "source": [
    "from datetime import datetime\n",
    "from random import randint, randrange\n",
    "\n",
    "class Pracownik:\n",
    "    def __init__(self, ID, plec, nazwisko, imie, stanowisko, data_zatrudnienia, wynagrodzenie, dni_urlopu):\n",
    "        self.ID = ID\n",
    "        self.plec = plec\n",
    "        self.nazwisko = nazwisko\n",
    "        self.imie = imie\n",
    "        self.stanowisko = stanowisko\n",
    "        self.data_zatrudnienia = data_zatrudnienia\n",
    "        self.wynagrodzenie = wynagrodzenie\n",
    "        self.dni_urlopu = dni_urlopu\n",
    "    \n",
    "    def drukuj(self):\n",
    "        return f\"{self.ID};{self.nazwisko};{self.imie};{self.plec};{self.stanowisko};{self.data_zatrudnienia};{self.wynagrodzenie};{self.dni_urlopu}\\n\"\n",
    "\n",
    "def lista_danych(nazwa_pliku, separator):\n",
    "    plik = open(nazwa_pliku, \"r\")\n",
    "    linie = plik.readlines()\n",
    "    wynik = []\n",
    "    zakres = int(0.75*len(linie))\n",
    "    for i in range(1, zakres):\n",
    "        wynik.append(linie[i].strip().split(separator)[0])\n",
    "    plik.close()\n",
    "    return wynik\n",
    "\n",
    "lista_nazwisk_meskich = lista_danych(\"nazwiska_meskie.csv\", \",\")\n",
    "lista_nazwisk_zenskich = lista_danych(\"nazwiska_zenskie.csv\", \",\")\n",
    "lista_imion_meskich = lista_danych(\"imiona_meskie.csv\", \",\")\n",
    "lista_imion_zenskich = lista_danych(\"imiona_zenskie.csv\", \",\")\n",
    "\n",
    "stanowiska_m = [\"księgowy\", \"kadrowy\", \"kucharz\", \"sprzątacz\", \"dyrektor\", \"nauczyciel\"]\n",
    "stanowiska_z = [\"księgowa\", \"kadrowa\", \"kucharka\", \"sprzątaczka\", \"dyrektorka\", \"nauczycielka\"]\n",
    "\n",
    "lista_plci = [\"M\", \"K\"]\n",
    "\n",
    "dane = []\n",
    "\n",
    "for i in range(1000):\n",
    "    plec = lista_plci[randint(0,1)]\n",
    "    \n",
    "    if (plec == \"M\"):\n",
    "        nazwisko = lista_nazwisk_meskich[randint(0, len(lista_nazwisk_meskich)-1)]\n",
    "        imie = lista_imion_meskich[randint(0, len(lista_imion_meskich)-1)]\n",
    "        stanowisko = stanowiska_m[randint(0, len(stanowiska_m)-1)]\n",
    "    \n",
    "    elif (plec == \"K\"):\n",
    "        nazwisko = lista_nazwisk_zenskich[randint(0, len(lista_nazwisk_zenskich)-1)]\n",
    "        imie = lista_imion_zenskich[randint(0, len(lista_imion_zenskich)-1)]\n",
    "        stanowisko = stanowiska_z[randint(0, len(stanowiska_z)-1)]\n",
    "        \n",
    "    wynagrodzenie = randrange(3200, 6400, 200)\n",
    "    data = datetime(randint(1950, 2020), randint(1, 12), 1).strftime(\"%Y-%m-%d\")\n",
    "    urlop = randint(0, 52)\n",
    "    ID = i+1\n",
    "    \n",
    "    pracownik = Pracownik(ID, plec, nazwisko, imie, stanowisko, data, wynagrodzenie, urlop)\n",
    "    dane.append(pracownik.drukuj())\n",
    "\n",
    "plik = open(\"dane_firmy.csv\", \"w\")\n",
    "plik.write(\"ID;Nazwisko;Imię;Płeć;Stanowisko;Data zatrudnienia;Wynagrodzenie;Dni urlopu\\n\")\n",
    "for item in dane:\n",
    "    plik.write(item)\n",
    "plik.close()"
   ]
  },
  {
   "cell_type": "code",
   "execution_count": 80,
   "metadata": {},
   "outputs": [
    {
     "name": "stdout",
     "output_type": "stream",
     "text": [
      "Podaj nazwę pliku do odczytu: dane_firmy.csv\n",
      "Od którego wiersza wczytać dane? (Jeśli dane mają nagłówek wpisz 1): 1\n",
      "Plik posiada 999 wierszy. Podaj zakres wyświetlania.\n",
      "Wiersz początkowy: 300\n",
      "Wiersz końcowy: 320\n",
      "301;RACHOWSKI;LAXMI;M;dyrektor;1954-04-01;5800;21\n",
      "302;JAŚNIACH;FAMKE;K;księgowa;1952-04-01;6000;29\n",
      "303;KOWALESKA;KARMELINA;K;nauczycielka;1994-05-01;6200;44\n",
      "304;TSIMASHKOU;PETRE;M;sprzątacz;1953-06-01;5200;24\n",
      "305;KIK;FACUNDO;M;kucharz;1971-05-01;4800;9\n",
      "306;SZEPTAK;ZDZISŁAW    KAZIMIERZ;M;dyrektor;1971-10-01;3600;30\n",
      "307;DOENING;ROSELY;K;księgowa;1978-04-01;5000;11\n",
      "308;SŁUSZNIK;THANH TUYEN;M;dyrektor;1967-08-01;5600;34\n",
      "309;SWIERSZCZEWSKA;INASS;K;kucharka;1964-05-01;5400;10\n",
      "310;MAKOMASKI;DORYAN;M;kucharz;1975-12-01;3400;11\n",
      "311;NIZOŁĘCKA;HE;K;kucharka;1962-02-01;3200;26\n",
      "312;DOBI;DEVRAJ;M;sprzątacz;1968-05-01;4200;31\n",
      "313;DAROCH;HARNIK;M;nauczyciel;1994-08-01;5200;17\n",
      "314;CZWIKLIŃSKI;REINHART;M;sprzątacz;1966-11-01;5600;41\n",
      "315;MARYNCZAK;KATALIN;K;nauczycielka;2010-05-01;4200;25\n",
      "316;CIEPIEUCH;ERIND;M;kadrowy;1966-02-01;5200;33\n",
      "317;BARBULAT;THE MINH;M;kucharz;1979-06-01;5600;28\n",
      "318;STOGOWSKI;THI KIM DUNG;K;kadrowa;1991-08-01;4400;26\n",
      "319;AKIS;ŻAK;M;dyrektor;1982-09-01;5000;4\n",
      "320;SKOURAS;ARIF;M;dyrektor;1971-05-01;5400;49\n",
      "Czy chcesz powtórzyć działanie programu? t-tak, n-nie: n\n"
     ]
    }
   ],
   "source": [
    "def wczytaj_plik(nazwa_pliku, top):\n",
    "    plik = open(nazwa_pliku, \"r\")\n",
    "    linie = plik.readlines()\n",
    "    wynik = []\n",
    "    zakres = len(linie)\n",
    "    for i in range(top, zakres):\n",
    "        wynik.append(linie[i].strip())\n",
    "    plik.close()\n",
    "    return wynik\n",
    "\n",
    "decyzja = \"T\"\n",
    "\n",
    "while(decyzja == \"T\"):\n",
    "    nazwa_pliku = input(\"Podaj nazwę pliku do odczytu: \")\n",
    "    top = input(\"Od którego wiersza wczytać dane? (Jeśli dane mają nagłówek wpisz 1): \")\n",
    "\n",
    "    dane = wczytaj_plik(\"dane_firmy.csv\", 1)\n",
    "\n",
    "    print(f\"Plik posiada {len(dane)} wierszy. Podaj zakres wyświetlania.\")\n",
    "\n",
    "    start = int(input(\"Wiersz początkowy: \"))\n",
    "    end = int(input(\"Wiersz końcowy: \"))\n",
    "\n",
    "    for i in range(start, end):\n",
    "        print(f\"{dane[i]}\")\n",
    "    \n",
    "    decyzja = input(\"Czy chcesz powtórzyć działanie programu? t-tak, n-nie: \").upper()\n",
    "    \n"
   ]
  },
  {
   "cell_type": "code",
   "execution_count": 77,
   "metadata": {},
   "outputs": [],
   "source": [
    "dane = wczytaj_plik(\"dane_firmy.csv\", 1)"
   ]
  },
  {
   "cell_type": "code",
   "execution_count": 79,
   "metadata": {},
   "outputs": [
    {
     "data": {
      "text/plain": [
       "'1;PORWOLL;NOREEN;K;dyrektorka;1968-07-01;3600;9'"
      ]
     },
     "execution_count": 79,
     "metadata": {},
     "output_type": "execute_result"
    }
   ],
   "source": [
    "dane[0]"
   ]
  },
  {
   "cell_type": "code",
   "execution_count": 6,
   "metadata": {},
   "outputs": [
    {
     "name": "stdout",
     "output_type": "stream",
     "text": [
      "Nazwisko: Maćkowowicz, Imię: Weronika, Płeć: k, Stanowisko: administrator infrastruktury sprzętowej, Data zatrudnienia: 2020-6-9, Wynagrodzenie: 9100, Urlop do wykorzystania: 0\n"
     ]
    }
   ],
   "source": [
    "from random import randint\n",
    "\n",
    "class Pracownik:\n",
    "    def __init__(self):\n",
    "        plec = [\"m\", \"k\"]\n",
    "        imiona_meskie = [\"Adam\", \"Błażej\", \"Cezary\", \"Daniel\", \"Ernest\", \"Feliks\", \"Grzegorz\", \"Henryk\", \"Ignacy\", \"Jan\", \"Karol\", \"Leon\", \"Maciej\", \"Sławomir\", \"Szymon\"]\n",
    "        imiona_zenskie = [\"Anna\", \"Beata\", \"Cecylia\", \"Dominika\", \"Eliza\", \"Gabriela\", \"Hanna\", \"Iwona\", \"Joanna\", \"Karolina\", \"Adrianna\", \"Lucyna\", \"Malwina\", \"Weronika\", \"Katarzyna\"]\n",
    "        korpusy_nazwisk = [\"Maćkow\", \"Now\", \"Kowal\", \"Witk\", \"Niewiadom\", \"Podlew\", \"Kramar\", \"Gryl\", \"Bryl\", \"Rogal\", \"Teodor\", \"Wasil\", \"Czochral\", \"Lulkiew\", \"Kolon\", \"Góral\", \"Pigłow\", \"Wojciech\", \"Matus\"]\n",
    "        koncowki_nazwisk_meskie = [\"iak\", \"ik\", \"ski\", \"owicz\"]\n",
    "        koncowki_nazwisk_zenskie = [\"iak\", \"ik\", \"ska\", \"owicz\"]\n",
    "        stanowiska = [\"inżynier procesu\", \"inżynier produkcji\", \"inżynier oprogramowania\", \"specjalista HR\", \"administrator sieciowy\", \"administrator infrastruktury sprzętowej\", \"inspektor ochrony BHP\", \"główny księgowy\"]\n",
    "        self.plec = plec[randint(0, len(plec)-1)]\n",
    "        if self.plec == \"m\":\n",
    "            self.imie = imiona_meskie[randint(0, len(imiona_meskie)-1)]\n",
    "            self.nazwisko = korpusy_nazwisk[randint(0, len(korpusy_nazwisk)-1)] + koncowki_nazwisk_meskie[randint(0, len(koncowki_nazwisk_meskie)-1)]\n",
    "        elif self.plec == \"k\":\n",
    "            self.imie = imiona_zenskie[randint(0, len(imiona_zenskie)-1)]\n",
    "            self.nazwisko = korpusy_nazwisk[randint(0, len(korpusy_nazwisk)-1)] + koncowki_nazwisk_zenskie[randint(0, len(koncowki_nazwisk_zenskie)-1)]\n",
    "        self.data_zatrudnienia = str(randint(2010, 2022))+\"-\"+str(randint(1, 12))+\"-\"+str(randint(1, 15))\n",
    "        self.stanowisko = stanowiska[randint(0, len(stanowiska)-1)] \n",
    "        self.wynagrodzenie = 100*randint(35, 150)   \n",
    "        self.urlop = randint(0, 35)\n",
    "        \n",
    "    def __str__(self):\n",
    "        return f\"Nazwisko: {self.nazwisko}, Imię: {self.imie}, Płeć: {self.plec}, Stanowisko: {self.stanowisko}, Data zatrudnienia: {self.data_zatrudnienia}, Wynagrodzenie: {self.wynagrodzenie}, Urlop do wykorzystania: {self.urlop}\"\n",
    "        \n",
    "ob = Pracownik()\n",
    "print(ob)\n",
    "\n",
    "plik = open(\"dane_kadrowe_przedsiebiorstwa.txt\", \"w\", encoding='windows-1250')\n",
    "\n",
    "plik.write(f\"Lp.;Nazwisko;Imię;Płeć;Stanowisko;Data Zatrudnienia;Wynagrodzenie;Urlop do wykorzystania\\n\")\n",
    "\n",
    "liczba_pracownikow = 1000\n",
    "usterki = []\n",
    "\n",
    "for i in range(3):\n",
    "    usterki.append(randint(0, liczba_pracownikow-1))\n",
    "usterki.sort()\n",
    "\n",
    "\n",
    "for i in range(liczba_pracownikow):\n",
    "    p = Pracownik()\n",
    "    if(i==usterki[0]):\n",
    "        p.plec=\"NULL\"\n",
    "    if(i==usterki[1]):\n",
    "        p.data_zatrudnienia=\"NULL\"\n",
    "    if(i==usterki[2]):\n",
    "        p.urlop=\"NULL\"\n",
    "        \n",
    "    plik.write(f\"{i+1};{p.imie};{p.nazwisko};{p.plec};{p.stanowisko};{p.data_zatrudnienia};{p.wynagrodzenie};{p.urlop}\\n\")\n",
    "plik.close()"
   ]
  },
  {
   "cell_type": "markdown",
   "metadata": {},
   "source": [
    "### Zadanie 4.8\n",
    "Korzystając ze znanych Ci zagadnień (struktury danych, listy, łańcuchy znaków, konkatenacja łańcuchów znaków, f-stringi, pętle, funkcje, klasy, generatory liczb losowych) zaproponuj program do generowania sztucznych danych dot. cen nieruchomości (mieszkań) w Warszawie. Pojedyncza encja danych powinna zawierać:\n",
    "- numer porządkowy nieruchomości\n",
    "- adres\n",
    "- kod pocztowy\n",
    "- liczbę pokoi\n",
    "- numer piętra\n",
    "- powierzchnię w metrach kwadratowych\n",
    "- cenę\n",
    "\n",
    "Dane dot. adresów w mieście Warszawa możesz pobrać korzystając ze strony:\n",
    "https://dane.gov.pl/pl/dataset/469/resource/27518,adresy-mst-warszawy-format-csv-adres-uniwersalny/table?page=1&per_page=20&q=&sort=\n",
    "\n",
    "Załóż, że cena nieruchomości zależy tylko od jej powierzchni zgodnie z uproszczonym równaniem: $cena = cena_{m^2} \\cdot powierzchnia \\pm odchylenie$. Odchylenie to pewna losowa liczba. Wygenerowane dane zapisz do pliku z rozszerzeniem csv. Plik powinien zawierać conajmniej 1000 rekordów."
   ]
  },
  {
   "cell_type": "markdown",
   "metadata": {},
   "source": [
    "### Zadanie 4.9\n",
    "Korzystając z bibliotek math oraz numpy utwórz plik zawierający tablice trygonometryczną. Plik powinien zawierać następujące dane:\n",
    "- numer rekordu\n",
    "- wartość kąta w stopniach\n",
    "- odpowiadającą wartość kąta w radianach\n",
    "- wartość funkcji sinus\n",
    "- wartość funkcji cosinus\n",
    "- wartość funckji tangens\n",
    "- wartość funkcji cotangens\n",
    "\n",
    "Dane należy wygenerować dla kolenych kątów w stopniach, co pół stopnia, w zakresie od 0 do 360 stopni. \n"
   ]
  },
  {
   "cell_type": "markdown",
   "metadata": {},
   "source": [
    "### Zadanie 4.10\n",
    "Załóż, że średni wzrost kobiet w Polsce wynosi 165 cm, a średni wzrost mężczyzn to 175 cm. Załóż również, że średnia waga kobiety to 55 kg, a mężczyzny to 70 kg. W oparciu o powyższe założenia, oraz korzystając z generatorów liczb losowych (skorzystaj z tzw. rozkładu normalnego Gaussa) wynegeruj dane dotyczące wzrostu i wagi dla 1000 osób (zarówno kobiet i mężczyzn). Jeden rekord powinien zawierać następujące dane:\n",
    "- numer porządkowy\n",
    "- płeć\n",
    "- wzrost\n",
    "- wagę\n",
    "\n",
    "Dane zapisz do pliku z rozszerzeniem csv."
   ]
  },
  {
   "cell_type": "markdown",
   "metadata": {},
   "source": [
    "### Zadanie 4.11\n",
    "Maksymalne tętno człowieka można oszacować korzystając z przybliżonego wyrażenia: $HR_{max} = 208 - (0.7 \\cdot A)$\n",
    "gdzie: \n",
    "- $HR_{max}$ - maksymalne tętno w uderzeniach na minutę\n",
    "- $A$ - wiek w latach\n",
    "\n",
    "(na podstawie: http://www.shapesense.com/fitness-exercise/calculators/heart-rate-based-calorie-burn-calculator.shtml)\n",
    "\n",
    "Na podstawie powyższego równania wygeneruj dane wartości maksymalnego tętna w zależności od wieku. Pojedyńczy rekord powinien zawierać:\n",
    "- numer porządkowy\n",
    "- wiek\n",
    "- tętno maksymalne\n",
    "\n",
    "Dane zapisz do pliku z rozszerzeniem csv."
   ]
  },
  {
   "cell_type": "markdown",
   "metadata": {},
   "source": [
    "### Zadanie 4.12\n",
    "Aby określić ilość spalonych kalorii (czyli wydzielone ciepło) w trakcie wysiłku fizycznego, można skorzystać z następujących, przybliżonych równań, które w sytuacji, kiedy pułap tlenowy (V02 max) nie jest znany:\n",
    " - dla kobiet: Q = ((-20.4022 + (0.4472 x HR) - (0.1263 x W) + (0.074 x A))/4.184) x 60 x T\n",
    " - dla mężczyzn: Q = ((-55.0969 + (0.6309 x HR) + (0.1988 x W) + (0.2017 x A))/4.184) x 60 x T\n",
    "\n",
    "gdzie:\n",
    "HR - tętno (w uderzeniach na minutę)\n",
    "W = waga (w kilogramach)\n",
    "A = wiek (w latach)\n",
    "T = czas ćwiczeń (w godzinach)\n",
    "(na podstawie: http://www.shapesense.com/fitness-exercise/calculators/heart-rate-based-calorie-burn-calculator.shtml)\n",
    "\n",
    "Na podstawie powyższych danych wygeneruj plik z danymi dotyczącymi spalonych kalorii przez próbę 1000 osób. Jeden rekord powinien zawierać następujące dane:\n",
    "- numer porządkowy\n",
    "- płeć\n",
    "- wiek\n",
    "- wagę\n",
    "- czas ćwiczeń w godzinach\n",
    "- średnie tętno\n",
    "- ilość wydzielonego ciepła\n",
    "\n",
    "Dane zapisz do pliku z rozszerzeniem csv."
   ]
  },
  {
   "cell_type": "markdown",
   "metadata": {},
   "source": [
    "### Zadanie 4.13\n",
    "\n",
    "Decyzję o tym, czy kierowca samochodu terenowego może jechać w terenie szybko czy wolno można podjąć (w uproszczonym wariancie) na podstawie nachylenia i wyboistości terenu. Załóżmy, że wyboistość, nachylenie oraz niepewność decyzji reprezentujemy w postaci liczb w przedziale od 0 do 1 (takie liczby możemy generować korzystając z funkcji random() z modułu random). Załózmy również, że decyzja kierowcy może być opisana uproszczonym równaniem: $decyzja = round(nachylenie \\cdot wyboistosc + 0.1 \\cdot niepewnosc + 0.25)$ Dodatkowo przyjmijmy, że jeżeli nachylenie lub wyboistość będą większe niż 0.75, to $decyzja = 1$. W takim przypadku wartość decyzji równa 0 oznacza jazdę szybką, a wartość równa 1 oznacza jazdę wolną. \n",
    "\n",
    "W oparciu o powyższe założenia, wygeneruj dane dotyczące decyzji kierowcy samochodu terenowego. Pojedyńczy rekord powinien zawierać dane:\n",
    "- numer porządkowy (liczba całkowita)\n",
    "- nachylenie (liczba rzeczywista w przedziale 0-1, gdzie 0 to teren płaski, a 1 to stromy)\n",
    "- wyboistosc (liczba rzeczywista w przedziale 0-1, gdzie 0 to teren gładki, a 1 to bardzo nierówny)\n",
    "- niepewnosc (liczba rzeczywista w przedziale 0-1)\n",
    "- decyzja (liczba całkowita - 0 lub 1, gdzie 0 to jazda szybka, a 1 to jazda wolna)\n",
    "\n",
    "Dane zapisz do pliku z rozszerzeniem csv."
   ]
  },
  {
   "cell_type": "markdown",
   "metadata": {},
   "source": [
    "### Przykładowe rozwiązanie"
   ]
  },
  {
   "cell_type": "code",
   "execution_count": 7,
   "metadata": {},
   "outputs": [],
   "source": [
    "n_points = 100\n",
    "\n",
    "random.seed(42)\n",
    "grade = [random.random() for ii in range(0,n_points)]\n",
    "bumpy = [random.random() for ii in range(0,n_points)]\n",
    "error = [random.random() for ii in range(0,n_points)]\n",
    "y = [round(grade[ii]*bumpy[ii]+0.1*error[ii]+0.25) for ii in range(0,n_points)]\n",
    "for ii in range(0, len(y)):\n",
    "    if grade[ii]>0.8 or bumpy[ii]>0.8:\n",
    "        y[ii] = 1.0"
   ]
  },
  {
   "cell_type": "markdown",
   "metadata": {},
   "source": [
    "# Zapis złożonych struktur danych\n",
    "\n",
    "Aby przechowywać bardziej złożone informacje w Pythonie używany jest moduł „pickle”. Proces ten jest nazywany również marynowaniem.\n",
    "\n",
    "Marynować można: liczby, łańcuchy znaków, krotki, listy, słowniki, zbiory i obiekty.\n",
    "<pre>\n",
    "import pickle # dodanie modułu do projektu\n",
    "</pre>\n",
    "Tryby dostępu do plików ze złożonymi strukturami\n",
    "\n",
    "- plik = open(\"dane.dat\", \"wb\") - otwarcie pliku.\n",
    "- „rb” - tryb odczytu danych z pliku binarnego. Jeśli plik nie istnieje, zostaje zasygnalizowany błąd.\n",
    "- „wb” - tryb zapisu danych do pliku binarnego. Wybrany plik zostaje nadpisany nowymi danymi. Jeśli plik nie istnieje, zostanie utworzony.\n",
    "- „ab” - tryb zapisu danych do pliku binarnego. Do wybranego pliku zostają dopisane nowe dane. Jeśli plik nie istnieje, zostanie utworzony.\n",
    "\n",
    "Zapisywanie i odczytywanie danych w pliku\n",
    "\n",
    "- pickle.dump(lista, plik) - do otwartego pliku „plik” zostaje dopisana struktura listy „lista”.\n",
    "- obiekt = pickle.load(plik) - z otwartego pliku „plik” zostaje odczytana struktura obiektu i przypisana do obiektu „obiekt”.\n",
    "\n",
    "Metody dump i load mogą być wykonywanie wielokrotnie, przy użyciu różnych typów danych!"
   ]
  },
  {
   "cell_type": "code",
   "execution_count": 86,
   "metadata": {},
   "outputs": [],
   "source": [
    "import pickle\n",
    "\n",
    "class Kontakt:\n",
    "    def __init__(self, imie, nazwisko, komunikatory):\n",
    "        self.imie = imie\n",
    "        self.nazwisko = nazwisko\n",
    "        self.komunikatory = komunikatory\n",
    "\n",
    "ob1 = Kontakt(\"Adam\", \"Nowak\", {\"skype\": \"adam\", \"tweeter\": \"@an\"})\n",
    "ob2 = Kontakt(\"Filip\", \"Zalewski\", {\"skype\": \"fil\", \"tweeter\": \"@fil\"})\n",
    "ob3 = Kontakt(\"Anna\", \"Barańska\", {\"skype\": \"an\", \"tweeter\": \"@baranska\"})\n",
    "\n",
    "lista = [ob1, ob2, ob3]\n",
    "\n",
    "plik = open(\"obiekty.dat\", \"wb\") \n",
    "pickle.dump(lista, plik)\n",
    "plik.close()\n",
    "    "
   ]
  },
  {
   "cell_type": "code",
   "execution_count": 87,
   "metadata": {},
   "outputs": [],
   "source": [
    "plik = open(\"obiekty.dat\", \"rb\") \n",
    "obiekt = pickle.load(plik)"
   ]
  },
  {
   "cell_type": "code",
   "execution_count": 90,
   "metadata": {},
   "outputs": [
    {
     "data": {
      "text/plain": [
       "{'skype': 'adam', 'tweeter': '@an'}"
      ]
     },
     "execution_count": 90,
     "metadata": {},
     "output_type": "execute_result"
    }
   ],
   "source": [
    "obiekt[0].komunikatory"
   ]
  },
  {
   "cell_type": "markdown",
   "metadata": {},
   "source": [
    "### Zadanie 4.14\n",
    "\n",
    "Napisz program do organizowania kontaktów w bazie, która zawiera informacje w postaci: imię, nazwisko i nick w komunikatorze sieciowym (użytkownić może posiadać ich kilka, każdy stanowi parę komunikator - nick). Dane przechowywane są w obiektach, a potem marynowane i zapisane w pliku .dat. Program powinien posiadać interaktywny interfejs w postaci tekstowego menu (CLI). Najpierw użytkownik wybiera, czy chce wprowadzać dane, czy przeglądać dane w bazie. Część do wprowadzania danych powinna mieć menu: W - wyświetlanie, DK - dodaj kontakt, UK - usuń kontakt, DT - dodaj komunikator, UT - usuń komunikator, Q - wyjście i zapis. Część umożliwiająca przegląd danych tylko wyświetla zawartość pliku .dat, a następnie przechodzi do pytania, czy użytkownik życzy sobie powtórzyć wykonanie całego programu."
   ]
  },
  {
   "cell_type": "markdown",
   "metadata": {},
   "source": [
    "### Zadanie 4.15\n",
    "Napisz program generujący bestiariusz - bazę legendarnych stworzeń z wybranego uniwersum (mitologia, powieść fantasy, wybrana gra komputerowa). Każda postać powinna posiadać atrybyty: nazwa (tekst), zdolnosci (lista), ekwipunek (lista). Dane przechowywane są w obiektach, a potem marynowane i zapisane w pliku .dat. Program powinien posiadać interaktywny interfejs w postaci tekstowego menu (CLI). Najpierw użytkownik wybiera, czy chce wprowadzać bazę, czy przeglądać bazę. Część do wprowadzania danych powinna mieć menu: W - wyświetlanie, DP - dodaj postać, UP - usuń postać, Q - wyjście i zapis. Część umożliwiająca przegląd danych tylko wyświetla zawartość pliku .dat, a następnie przechodzi do pytania, czy użytkownik życzy sobie powtórzyć wykonanie całego programu."
   ]
  }
 ],
 "metadata": {
  "kernelspec": {
   "display_name": "Python 3",
   "language": "python",
   "name": "python3"
  },
  "language_info": {
   "codemirror_mode": {
    "name": "ipython",
    "version": 3
   },
   "file_extension": ".py",
   "mimetype": "text/x-python",
   "name": "python",
   "nbconvert_exporter": "python",
   "pygments_lexer": "ipython3",
   "version": "3.8.5"
  }
 },
 "nbformat": 4,
 "nbformat_minor": 5
}
